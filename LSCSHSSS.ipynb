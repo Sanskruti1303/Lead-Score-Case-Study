{
 "cells": [
  {
   "cell_type": "markdown",
   "id": "f2b43b0c-75ab-48cd-9090-956f4f3931b2",
   "metadata": {},
   "source": [
    "# Problem Statement"
   ]
  },
  {
   "cell_type": "markdown",
   "id": "a5f6bd11-0a12-481e-9d7d-c4518f0a0451",
   "metadata": {},
   "source": [
    "An education company named X Education sells online courses to industry professionals. \n",
    "On any given day, many professionals who are interested in the courses land on their website and browse for courses.\n",
    "The company markets its courses on several websites and search engines like Google. Once these people land on the website, they might browse the courses or fill up a form for the course or watch some videos.\n",
    "When these people fill up a form providing their email address or phone number, they are classified to be a lead. Moreover, the company also gets Lead_data through past referrals. Once these Lead_data are acquired, employees from the sales team start making calls, writing emails, etc. Through this process, some of the Lead_data get converted while most do not. The typical lead conversion rate at X education is around 30%.\n",
    "There are a lot of Lead_data generated in the initial stage (top) but only a few of them come out as paying customers from the bottom. In the middle stage, you need to nurture the potential Lead_data well (i.e. educating the Lead_data about the product, constantly communicating etc. ) in order to get a higher lead conversion. X Education has appointed you to help them select the most promising Lead_data, i.e. the Lead_data that are most likely to convert into paying customers. The company requires you to build a model wherein you need to assign a lead score to each of the Lead_data such that the customers with higher lead score have a higher conversion chance and the customers with lower lead score have a lower conversion chance. The CEO, in particular, has given a ballpark of the target lead conversion rate to be around 80%."
   ]
  },
  {
   "cell_type": "markdown",
   "id": "ea3e3d98-964e-47a3-b8e0-fa4f6ffae285",
   "metadata": {},
   "source": [
    "**Goals of the Case Study** <br>\n",
    "To build a logistic regression model to assign lead score between 0 to 100 to each of the Lead_data which can be used by the company to target potential Lead_data. A higher score would mean that the lead is hot, i.e, is most likely to convert whereas a lower score would mean that the lead is cold and will not get converted."
   ]
  },
  {
   "cell_type": "markdown",
   "id": "9fef3d73-f883-4939-a622-836192d07936",
   "metadata": {},
   "source": [
    "## To Read and Understand the Data"
   ]
  },
  {
   "cell_type": "code",
   "execution_count": 1,
   "id": "bd3d8552-6e32-48d5-9606-b960734757b5",
   "metadata": {},
   "outputs": [],
   "source": [
    "import pandas as pd\n",
    "import numpy as np\n",
    "import seaborn as sns\n",
    "import matplotlib.pyplot as plt\n",
    "\n",
    "import statsmodels.api as sm\n",
    "from statsmodels.stats.outliers_influence import variance_inflation_factor\n",
    "\n",
    "import sklearn\n",
    "from sklearn.preprocessing import MinMaxScaler\n",
    "from sklearn.preprocessing import StandardScaler\n",
    "from sklearn.model_selection import train_test_split\n",
    "from sklearn.linear_model import LogisticRegression\n",
    "from sklearn.feature_selection import RFE\n",
    "from sklearn.metrics import confusion_matrix\n",
    "from sklearn.metrics import roc_curve\n",
    "from sklearn.metrics import roc_auc_score\n",
    "from sklearn.metrics import accuracy_score, classification_report\n",
    "from sklearn.metrics import precision_score, recall_score\n",
    "from sklearn.metrics import precision_recall_curve\n",
    "from sklearn.multiclass import OneVsRestClassifier, OneVsOneClassifier\n",
    "from sklearn.svm import SVC\n",
    "\n",
    "import warnings\n",
    "warnings.filterwarnings('ignore')\n",
    "\n",
    "%matplotlib inline\n",
    "\n",
    "pd.set_option('display.max_rows', 100)\n",
    "pd.set_option('display.max_columns', 100)"
   ]
  },
  {
   "cell_type": "code",
   "execution_count": 2,
   "id": "94cd19b4-0f3d-4e6e-96c3-3363901a560f",
   "metadata": {},
   "outputs": [
    {
     "data": {
      "text/html": [
       "<div>\n",
       "<style scoped>\n",
       "    .dataframe tbody tr th:only-of-type {\n",
       "        vertical-align: middle;\n",
       "    }\n",
       "\n",
       "    .dataframe tbody tr th {\n",
       "        vertical-align: top;\n",
       "    }\n",
       "\n",
       "    .dataframe thead th {\n",
       "        text-align: right;\n",
       "    }\n",
       "</style>\n",
       "<table border=\"1\" class=\"dataframe\">\n",
       "  <thead>\n",
       "    <tr style=\"text-align: right;\">\n",
       "      <th></th>\n",
       "      <th>Prospect ID</th>\n",
       "      <th>Lead Number</th>\n",
       "      <th>Lead Origin</th>\n",
       "      <th>Lead Source</th>\n",
       "      <th>Do Not Email</th>\n",
       "      <th>Do Not Call</th>\n",
       "      <th>Converted</th>\n",
       "      <th>TotalVisits</th>\n",
       "      <th>Total Time Spent on Website</th>\n",
       "      <th>Page Views Per Visit</th>\n",
       "      <th>Last Activity</th>\n",
       "      <th>Country</th>\n",
       "      <th>Specialization</th>\n",
       "      <th>How did you hear about X Education</th>\n",
       "      <th>What is your current occupation</th>\n",
       "      <th>What matters most to you in choosing a course</th>\n",
       "      <th>Search</th>\n",
       "      <th>Magazine</th>\n",
       "      <th>Newspaper Article</th>\n",
       "      <th>X Education Forums</th>\n",
       "      <th>Newspaper</th>\n",
       "      <th>Digital Advertisement</th>\n",
       "      <th>Through Recommendations</th>\n",
       "      <th>Receive More Updates About Our Courses</th>\n",
       "      <th>Tags</th>\n",
       "      <th>Lead Quality</th>\n",
       "      <th>Update me on Supply Chain Content</th>\n",
       "      <th>Get updates on DM Content</th>\n",
       "      <th>Lead Profile</th>\n",
       "      <th>City</th>\n",
       "      <th>Asymmetrique Activity Index</th>\n",
       "      <th>Asymmetrique Profile Index</th>\n",
       "      <th>Asymmetrique Activity Score</th>\n",
       "      <th>Asymmetrique Profile Score</th>\n",
       "      <th>I agree to pay the amount through cheque</th>\n",
       "      <th>A free copy of Mastering The Interview</th>\n",
       "      <th>Last Notable Activity</th>\n",
       "    </tr>\n",
       "  </thead>\n",
       "  <tbody>\n",
       "    <tr>\n",
       "      <th>0</th>\n",
       "      <td>7927b2df-8bba-4d29-b9a2-b6e0beafe620</td>\n",
       "      <td>660737</td>\n",
       "      <td>API</td>\n",
       "      <td>Olark Chat</td>\n",
       "      <td>No</td>\n",
       "      <td>No</td>\n",
       "      <td>0</td>\n",
       "      <td>0.0</td>\n",
       "      <td>0</td>\n",
       "      <td>0.0</td>\n",
       "      <td>Page Visited on Website</td>\n",
       "      <td>NaN</td>\n",
       "      <td>Select</td>\n",
       "      <td>Select</td>\n",
       "      <td>Unemployed</td>\n",
       "      <td>Better Career Prospects</td>\n",
       "      <td>No</td>\n",
       "      <td>No</td>\n",
       "      <td>No</td>\n",
       "      <td>No</td>\n",
       "      <td>No</td>\n",
       "      <td>No</td>\n",
       "      <td>No</td>\n",
       "      <td>No</td>\n",
       "      <td>Interested in other courses</td>\n",
       "      <td>Low in Relevance</td>\n",
       "      <td>No</td>\n",
       "      <td>No</td>\n",
       "      <td>Select</td>\n",
       "      <td>Select</td>\n",
       "      <td>02.Medium</td>\n",
       "      <td>02.Medium</td>\n",
       "      <td>15.0</td>\n",
       "      <td>15.0</td>\n",
       "      <td>No</td>\n",
       "      <td>No</td>\n",
       "      <td>Modified</td>\n",
       "    </tr>\n",
       "    <tr>\n",
       "      <th>1</th>\n",
       "      <td>2a272436-5132-4136-86fa-dcc88c88f482</td>\n",
       "      <td>660728</td>\n",
       "      <td>API</td>\n",
       "      <td>Organic Search</td>\n",
       "      <td>No</td>\n",
       "      <td>No</td>\n",
       "      <td>0</td>\n",
       "      <td>5.0</td>\n",
       "      <td>674</td>\n",
       "      <td>2.5</td>\n",
       "      <td>Email Opened</td>\n",
       "      <td>India</td>\n",
       "      <td>Select</td>\n",
       "      <td>Select</td>\n",
       "      <td>Unemployed</td>\n",
       "      <td>Better Career Prospects</td>\n",
       "      <td>No</td>\n",
       "      <td>No</td>\n",
       "      <td>No</td>\n",
       "      <td>No</td>\n",
       "      <td>No</td>\n",
       "      <td>No</td>\n",
       "      <td>No</td>\n",
       "      <td>No</td>\n",
       "      <td>Ringing</td>\n",
       "      <td>NaN</td>\n",
       "      <td>No</td>\n",
       "      <td>No</td>\n",
       "      <td>Select</td>\n",
       "      <td>Select</td>\n",
       "      <td>02.Medium</td>\n",
       "      <td>02.Medium</td>\n",
       "      <td>15.0</td>\n",
       "      <td>15.0</td>\n",
       "      <td>No</td>\n",
       "      <td>No</td>\n",
       "      <td>Email Opened</td>\n",
       "    </tr>\n",
       "    <tr>\n",
       "      <th>2</th>\n",
       "      <td>8cc8c611-a219-4f35-ad23-fdfd2656bd8a</td>\n",
       "      <td>660727</td>\n",
       "      <td>Landing Page Submission</td>\n",
       "      <td>Direct Traffic</td>\n",
       "      <td>No</td>\n",
       "      <td>No</td>\n",
       "      <td>1</td>\n",
       "      <td>2.0</td>\n",
       "      <td>1532</td>\n",
       "      <td>2.0</td>\n",
       "      <td>Email Opened</td>\n",
       "      <td>India</td>\n",
       "      <td>Business Administration</td>\n",
       "      <td>Select</td>\n",
       "      <td>Student</td>\n",
       "      <td>Better Career Prospects</td>\n",
       "      <td>No</td>\n",
       "      <td>No</td>\n",
       "      <td>No</td>\n",
       "      <td>No</td>\n",
       "      <td>No</td>\n",
       "      <td>No</td>\n",
       "      <td>No</td>\n",
       "      <td>No</td>\n",
       "      <td>Will revert after reading the email</td>\n",
       "      <td>Might be</td>\n",
       "      <td>No</td>\n",
       "      <td>No</td>\n",
       "      <td>Potential Lead</td>\n",
       "      <td>Mumbai</td>\n",
       "      <td>02.Medium</td>\n",
       "      <td>01.High</td>\n",
       "      <td>14.0</td>\n",
       "      <td>20.0</td>\n",
       "      <td>No</td>\n",
       "      <td>Yes</td>\n",
       "      <td>Email Opened</td>\n",
       "    </tr>\n",
       "    <tr>\n",
       "      <th>3</th>\n",
       "      <td>0cc2df48-7cf4-4e39-9de9-19797f9b38cc</td>\n",
       "      <td>660719</td>\n",
       "      <td>Landing Page Submission</td>\n",
       "      <td>Direct Traffic</td>\n",
       "      <td>No</td>\n",
       "      <td>No</td>\n",
       "      <td>0</td>\n",
       "      <td>1.0</td>\n",
       "      <td>305</td>\n",
       "      <td>1.0</td>\n",
       "      <td>Unreachable</td>\n",
       "      <td>India</td>\n",
       "      <td>Media and Advertising</td>\n",
       "      <td>Word Of Mouth</td>\n",
       "      <td>Unemployed</td>\n",
       "      <td>Better Career Prospects</td>\n",
       "      <td>No</td>\n",
       "      <td>No</td>\n",
       "      <td>No</td>\n",
       "      <td>No</td>\n",
       "      <td>No</td>\n",
       "      <td>No</td>\n",
       "      <td>No</td>\n",
       "      <td>No</td>\n",
       "      <td>Ringing</td>\n",
       "      <td>Not Sure</td>\n",
       "      <td>No</td>\n",
       "      <td>No</td>\n",
       "      <td>Select</td>\n",
       "      <td>Mumbai</td>\n",
       "      <td>02.Medium</td>\n",
       "      <td>01.High</td>\n",
       "      <td>13.0</td>\n",
       "      <td>17.0</td>\n",
       "      <td>No</td>\n",
       "      <td>No</td>\n",
       "      <td>Modified</td>\n",
       "    </tr>\n",
       "    <tr>\n",
       "      <th>4</th>\n",
       "      <td>3256f628-e534-4826-9d63-4a8b88782852</td>\n",
       "      <td>660681</td>\n",
       "      <td>Landing Page Submission</td>\n",
       "      <td>Google</td>\n",
       "      <td>No</td>\n",
       "      <td>No</td>\n",
       "      <td>1</td>\n",
       "      <td>2.0</td>\n",
       "      <td>1428</td>\n",
       "      <td>1.0</td>\n",
       "      <td>Converted to Lead</td>\n",
       "      <td>India</td>\n",
       "      <td>Select</td>\n",
       "      <td>Other</td>\n",
       "      <td>Unemployed</td>\n",
       "      <td>Better Career Prospects</td>\n",
       "      <td>No</td>\n",
       "      <td>No</td>\n",
       "      <td>No</td>\n",
       "      <td>No</td>\n",
       "      <td>No</td>\n",
       "      <td>No</td>\n",
       "      <td>No</td>\n",
       "      <td>No</td>\n",
       "      <td>Will revert after reading the email</td>\n",
       "      <td>Might be</td>\n",
       "      <td>No</td>\n",
       "      <td>No</td>\n",
       "      <td>Select</td>\n",
       "      <td>Mumbai</td>\n",
       "      <td>02.Medium</td>\n",
       "      <td>01.High</td>\n",
       "      <td>15.0</td>\n",
       "      <td>18.0</td>\n",
       "      <td>No</td>\n",
       "      <td>No</td>\n",
       "      <td>Modified</td>\n",
       "    </tr>\n",
       "  </tbody>\n",
       "</table>\n",
       "</div>"
      ],
      "text/plain": [
       "                            Prospect ID  Lead Number              Lead Origin  \\\n",
       "0  7927b2df-8bba-4d29-b9a2-b6e0beafe620       660737                      API   \n",
       "1  2a272436-5132-4136-86fa-dcc88c88f482       660728                      API   \n",
       "2  8cc8c611-a219-4f35-ad23-fdfd2656bd8a       660727  Landing Page Submission   \n",
       "3  0cc2df48-7cf4-4e39-9de9-19797f9b38cc       660719  Landing Page Submission   \n",
       "4  3256f628-e534-4826-9d63-4a8b88782852       660681  Landing Page Submission   \n",
       "\n",
       "      Lead Source Do Not Email Do Not Call  Converted  TotalVisits  \\\n",
       "0      Olark Chat           No          No          0          0.0   \n",
       "1  Organic Search           No          No          0          5.0   \n",
       "2  Direct Traffic           No          No          1          2.0   \n",
       "3  Direct Traffic           No          No          0          1.0   \n",
       "4          Google           No          No          1          2.0   \n",
       "\n",
       "   Total Time Spent on Website  Page Views Per Visit            Last Activity  \\\n",
       "0                            0                   0.0  Page Visited on Website   \n",
       "1                          674                   2.5             Email Opened   \n",
       "2                         1532                   2.0             Email Opened   \n",
       "3                          305                   1.0              Unreachable   \n",
       "4                         1428                   1.0        Converted to Lead   \n",
       "\n",
       "  Country           Specialization How did you hear about X Education  \\\n",
       "0     NaN                   Select                             Select   \n",
       "1   India                   Select                             Select   \n",
       "2   India  Business Administration                             Select   \n",
       "3   India    Media and Advertising                      Word Of Mouth   \n",
       "4   India                   Select                              Other   \n",
       "\n",
       "  What is your current occupation  \\\n",
       "0                      Unemployed   \n",
       "1                      Unemployed   \n",
       "2                         Student   \n",
       "3                      Unemployed   \n",
       "4                      Unemployed   \n",
       "\n",
       "  What matters most to you in choosing a course Search Magazine  \\\n",
       "0                       Better Career Prospects     No       No   \n",
       "1                       Better Career Prospects     No       No   \n",
       "2                       Better Career Prospects     No       No   \n",
       "3                       Better Career Prospects     No       No   \n",
       "4                       Better Career Prospects     No       No   \n",
       "\n",
       "  Newspaper Article X Education Forums Newspaper Digital Advertisement  \\\n",
       "0                No                 No        No                    No   \n",
       "1                No                 No        No                    No   \n",
       "2                No                 No        No                    No   \n",
       "3                No                 No        No                    No   \n",
       "4                No                 No        No                    No   \n",
       "\n",
       "  Through Recommendations Receive More Updates About Our Courses  \\\n",
       "0                      No                                     No   \n",
       "1                      No                                     No   \n",
       "2                      No                                     No   \n",
       "3                      No                                     No   \n",
       "4                      No                                     No   \n",
       "\n",
       "                                  Tags      Lead Quality  \\\n",
       "0          Interested in other courses  Low in Relevance   \n",
       "1                              Ringing               NaN   \n",
       "2  Will revert after reading the email          Might be   \n",
       "3                              Ringing          Not Sure   \n",
       "4  Will revert after reading the email          Might be   \n",
       "\n",
       "  Update me on Supply Chain Content Get updates on DM Content    Lead Profile  \\\n",
       "0                                No                        No          Select   \n",
       "1                                No                        No          Select   \n",
       "2                                No                        No  Potential Lead   \n",
       "3                                No                        No          Select   \n",
       "4                                No                        No          Select   \n",
       "\n",
       "     City Asymmetrique Activity Index Asymmetrique Profile Index  \\\n",
       "0  Select                   02.Medium                  02.Medium   \n",
       "1  Select                   02.Medium                  02.Medium   \n",
       "2  Mumbai                   02.Medium                    01.High   \n",
       "3  Mumbai                   02.Medium                    01.High   \n",
       "4  Mumbai                   02.Medium                    01.High   \n",
       "\n",
       "   Asymmetrique Activity Score  Asymmetrique Profile Score  \\\n",
       "0                         15.0                        15.0   \n",
       "1                         15.0                        15.0   \n",
       "2                         14.0                        20.0   \n",
       "3                         13.0                        17.0   \n",
       "4                         15.0                        18.0   \n",
       "\n",
       "  I agree to pay the amount through cheque  \\\n",
       "0                                       No   \n",
       "1                                       No   \n",
       "2                                       No   \n",
       "3                                       No   \n",
       "4                                       No   \n",
       "\n",
       "  A free copy of Mastering The Interview Last Notable Activity  \n",
       "0                                     No              Modified  \n",
       "1                                     No          Email Opened  \n",
       "2                                    Yes          Email Opened  \n",
       "3                                     No              Modified  \n",
       "4                                     No              Modified  "
      ]
     },
     "execution_count": 2,
     "metadata": {},
     "output_type": "execute_result"
    }
   ],
   "source": [
    "Lead_data = pd.read_csv('Leads.csv')\n",
    "Lead_data.head()"
   ]
  },
  {
   "cell_type": "markdown",
   "id": "0b8a193e-bea3-4a46-9be5-c456d2e8a6bb",
   "metadata": {},
   "source": [
    "## Data Quality Checks"
   ]
  },
  {
   "cell_type": "code",
   "execution_count": 3,
   "id": "f9b119b3-a87b-42ed-aab1-71f3eff26cee",
   "metadata": {},
   "outputs": [
    {
     "name": "stdout",
     "output_type": "stream",
     "text": [
      "<class 'pandas.core.frame.DataFrame'>\n",
      "RangeIndex: 9240 entries, 0 to 9239\n",
      "Data columns (total 37 columns):\n",
      " #   Column                                         Non-Null Count  Dtype  \n",
      "---  ------                                         --------------  -----  \n",
      " 0   Prospect ID                                    9240 non-null   object \n",
      " 1   Lead Number                                    9240 non-null   int64  \n",
      " 2   Lead Origin                                    9240 non-null   object \n",
      " 3   Lead Source                                    9204 non-null   object \n",
      " 4   Do Not Email                                   9240 non-null   object \n",
      " 5   Do Not Call                                    9240 non-null   object \n",
      " 6   Converted                                      9240 non-null   int64  \n",
      " 7   TotalVisits                                    9103 non-null   float64\n",
      " 8   Total Time Spent on Website                    9240 non-null   int64  \n",
      " 9   Page Views Per Visit                           9103 non-null   float64\n",
      " 10  Last Activity                                  9137 non-null   object \n",
      " 11  Country                                        6779 non-null   object \n",
      " 12  Specialization                                 7802 non-null   object \n",
      " 13  How did you hear about X Education             7033 non-null   object \n",
      " 14  What is your current occupation                6550 non-null   object \n",
      " 15  What matters most to you in choosing a course  6531 non-null   object \n",
      " 16  Search                                         9240 non-null   object \n",
      " 17  Magazine                                       9240 non-null   object \n",
      " 18  Newspaper Article                              9240 non-null   object \n",
      " 19  X Education Forums                             9240 non-null   object \n",
      " 20  Newspaper                                      9240 non-null   object \n",
      " 21  Digital Advertisement                          9240 non-null   object \n",
      " 22  Through Recommendations                        9240 non-null   object \n",
      " 23  Receive More Updates About Our Courses         9240 non-null   object \n",
      " 24  Tags                                           5887 non-null   object \n",
      " 25  Lead Quality                                   4473 non-null   object \n",
      " 26  Update me on Supply Chain Content              9240 non-null   object \n",
      " 27  Get updates on DM Content                      9240 non-null   object \n",
      " 28  Lead Profile                                   6531 non-null   object \n",
      " 29  City                                           7820 non-null   object \n",
      " 30  Asymmetrique Activity Index                    5022 non-null   object \n",
      " 31  Asymmetrique Profile Index                     5022 non-null   object \n",
      " 32  Asymmetrique Activity Score                    5022 non-null   float64\n",
      " 33  Asymmetrique Profile Score                     5022 non-null   float64\n",
      " 34  I agree to pay the amount through cheque       9240 non-null   object \n",
      " 35  A free copy of Mastering The Interview         9240 non-null   object \n",
      " 36  Last Notable Activity                          9240 non-null   object \n",
      "dtypes: float64(4), int64(3), object(30)\n",
      "memory usage: 2.6+ MB\n"
     ]
    }
   ],
   "source": [
    "Lead_data.info()"
   ]
  },
  {
   "cell_type": "code",
   "execution_count": 4,
   "id": "41d5c348-e88a-4995-9d09-c725f5c71fb7",
   "metadata": {},
   "outputs": [
    {
     "data": {
      "text/plain": [
       "(9240, 37)"
      ]
     },
     "execution_count": 4,
     "metadata": {},
     "output_type": "execute_result"
    }
   ],
   "source": [
    "Lead_data.shape"
   ]
  },
  {
   "cell_type": "code",
   "execution_count": 5,
   "id": "e5ba2fda-ef01-445b-a27c-93d2d0022fc9",
   "metadata": {},
   "outputs": [
    {
     "data": {
      "text/plain": [
       "0"
      ]
     },
     "execution_count": 5,
     "metadata": {},
     "output_type": "execute_result"
    }
   ],
   "source": [
    "sum(Lead_data.duplicated(subset='Prospect ID'))"
   ]
  },
  {
   "cell_type": "markdown",
   "id": "cbb6c00c-0618-42ef-b82c-0abf4b9b9d8f",
   "metadata": {},
   "source": [
    "**Inference - Shows no duplicates**"
   ]
  },
  {
   "cell_type": "markdown",
   "id": "5542f26f-dbe9-41e6-b90d-32998b8a1c63",
   "metadata": {},
   "source": [
    "## Data Cleaning"
   ]
  },
  {
   "cell_type": "code",
   "execution_count": 6,
   "id": "9268b83e-45c8-44d8-8f29-95024db7d900",
   "metadata": {},
   "outputs": [
    {
     "data": {
      "text/html": [
       "<div>\n",
       "<style scoped>\n",
       "    .dataframe tbody tr th:only-of-type {\n",
       "        vertical-align: middle;\n",
       "    }\n",
       "\n",
       "    .dataframe tbody tr th {\n",
       "        vertical-align: top;\n",
       "    }\n",
       "\n",
       "    .dataframe thead th {\n",
       "        text-align: right;\n",
       "    }\n",
       "</style>\n",
       "<table border=\"1\" class=\"dataframe\">\n",
       "  <thead>\n",
       "    <tr style=\"text-align: right;\">\n",
       "      <th></th>\n",
       "      <th>Lead Number</th>\n",
       "      <th>Converted</th>\n",
       "      <th>TotalVisits</th>\n",
       "      <th>Total Time Spent on Website</th>\n",
       "      <th>Page Views Per Visit</th>\n",
       "      <th>Asymmetrique Activity Score</th>\n",
       "      <th>Asymmetrique Profile Score</th>\n",
       "    </tr>\n",
       "  </thead>\n",
       "  <tbody>\n",
       "    <tr>\n",
       "      <th>count</th>\n",
       "      <td>9240.000000</td>\n",
       "      <td>9240.000000</td>\n",
       "      <td>9103.000000</td>\n",
       "      <td>9240.000000</td>\n",
       "      <td>9103.000000</td>\n",
       "      <td>5022.000000</td>\n",
       "      <td>5022.000000</td>\n",
       "    </tr>\n",
       "    <tr>\n",
       "      <th>mean</th>\n",
       "      <td>617188.435606</td>\n",
       "      <td>0.385390</td>\n",
       "      <td>3.445238</td>\n",
       "      <td>487.698268</td>\n",
       "      <td>2.362820</td>\n",
       "      <td>14.306252</td>\n",
       "      <td>16.344883</td>\n",
       "    </tr>\n",
       "    <tr>\n",
       "      <th>std</th>\n",
       "      <td>23405.995698</td>\n",
       "      <td>0.486714</td>\n",
       "      <td>4.854853</td>\n",
       "      <td>548.021466</td>\n",
       "      <td>2.161418</td>\n",
       "      <td>1.386694</td>\n",
       "      <td>1.811395</td>\n",
       "    </tr>\n",
       "    <tr>\n",
       "      <th>min</th>\n",
       "      <td>579533.000000</td>\n",
       "      <td>0.000000</td>\n",
       "      <td>0.000000</td>\n",
       "      <td>0.000000</td>\n",
       "      <td>0.000000</td>\n",
       "      <td>7.000000</td>\n",
       "      <td>11.000000</td>\n",
       "    </tr>\n",
       "    <tr>\n",
       "      <th>25%</th>\n",
       "      <td>596484.500000</td>\n",
       "      <td>0.000000</td>\n",
       "      <td>1.000000</td>\n",
       "      <td>12.000000</td>\n",
       "      <td>1.000000</td>\n",
       "      <td>14.000000</td>\n",
       "      <td>15.000000</td>\n",
       "    </tr>\n",
       "    <tr>\n",
       "      <th>50%</th>\n",
       "      <td>615479.000000</td>\n",
       "      <td>0.000000</td>\n",
       "      <td>3.000000</td>\n",
       "      <td>248.000000</td>\n",
       "      <td>2.000000</td>\n",
       "      <td>14.000000</td>\n",
       "      <td>16.000000</td>\n",
       "    </tr>\n",
       "    <tr>\n",
       "      <th>75%</th>\n",
       "      <td>637387.250000</td>\n",
       "      <td>1.000000</td>\n",
       "      <td>5.000000</td>\n",
       "      <td>936.000000</td>\n",
       "      <td>3.000000</td>\n",
       "      <td>15.000000</td>\n",
       "      <td>18.000000</td>\n",
       "    </tr>\n",
       "    <tr>\n",
       "      <th>max</th>\n",
       "      <td>660737.000000</td>\n",
       "      <td>1.000000</td>\n",
       "      <td>251.000000</td>\n",
       "      <td>2272.000000</td>\n",
       "      <td>55.000000</td>\n",
       "      <td>18.000000</td>\n",
       "      <td>20.000000</td>\n",
       "    </tr>\n",
       "  </tbody>\n",
       "</table>\n",
       "</div>"
      ],
      "text/plain": [
       "         Lead Number    Converted  TotalVisits  Total Time Spent on Website  \\\n",
       "count    9240.000000  9240.000000  9103.000000                  9240.000000   \n",
       "mean   617188.435606     0.385390     3.445238                   487.698268   \n",
       "std     23405.995698     0.486714     4.854853                   548.021466   \n",
       "min    579533.000000     0.000000     0.000000                     0.000000   \n",
       "25%    596484.500000     0.000000     1.000000                    12.000000   \n",
       "50%    615479.000000     0.000000     3.000000                   248.000000   \n",
       "75%    637387.250000     1.000000     5.000000                   936.000000   \n",
       "max    660737.000000     1.000000   251.000000                  2272.000000   \n",
       "\n",
       "       Page Views Per Visit  Asymmetrique Activity Score  \\\n",
       "count           9103.000000                  5022.000000   \n",
       "mean               2.362820                    14.306252   \n",
       "std                2.161418                     1.386694   \n",
       "min                0.000000                     7.000000   \n",
       "25%                1.000000                    14.000000   \n",
       "50%                2.000000                    14.000000   \n",
       "75%                3.000000                    15.000000   \n",
       "max               55.000000                    18.000000   \n",
       "\n",
       "       Asymmetrique Profile Score  \n",
       "count                 5022.000000  \n",
       "mean                    16.344883  \n",
       "std                      1.811395  \n",
       "min                     11.000000  \n",
       "25%                     15.000000  \n",
       "50%                     16.000000  \n",
       "75%                     18.000000  \n",
       "max                     20.000000  "
      ]
     },
     "execution_count": 6,
     "metadata": {},
     "output_type": "execute_result"
    }
   ],
   "source": [
    "Lead_data.describe()"
   ]
  },
  {
   "cell_type": "code",
   "execution_count": 7,
   "id": "0f8ca3d0-525a-487e-b6da-6f0f81446c1e",
   "metadata": {},
   "outputs": [],
   "source": [
    "# Converting 'Select' values to NaN.\n",
    "Lead_data = Lead_data.replace('Select', np.nan)"
   ]
  },
  {
   "cell_type": "code",
   "execution_count": 8,
   "id": "ee783358-6372-4f62-8036-59fa8375358f",
   "metadata": {},
   "outputs": [
    {
     "data": {
      "text/plain": [
       "How did you hear about X Education               78.46\n",
       "Lead Profile                                     74.19\n",
       "Lead Quality                                     51.59\n",
       "Asymmetrique Profile Score                       45.65\n",
       "Asymmetrique Activity Score                      45.65\n",
       "Asymmetrique Activity Index                      45.65\n",
       "Asymmetrique Profile Index                       45.65\n",
       "City                                             39.71\n",
       "Specialization                                   36.58\n",
       "Tags                                             36.29\n",
       "What matters most to you in choosing a course    29.32\n",
       "What is your current occupation                  29.11\n",
       "Country                                          26.63\n",
       "Page Views Per Visit                              1.48\n",
       "TotalVisits                                       1.48\n",
       "Last Activity                                     1.11\n",
       "Lead Source                                       0.39\n",
       "Receive More Updates About Our Courses            0.00\n",
       "I agree to pay the amount through cheque          0.00\n",
       "Get updates on DM Content                         0.00\n",
       "Update me on Supply Chain Content                 0.00\n",
       "A free copy of Mastering The Interview            0.00\n",
       "Prospect ID                                       0.00\n",
       "Newspaper Article                                 0.00\n",
       "Through Recommendations                           0.00\n",
       "Digital Advertisement                             0.00\n",
       "Newspaper                                         0.00\n",
       "X Education Forums                                0.00\n",
       "Lead Number                                       0.00\n",
       "Magazine                                          0.00\n",
       "Search                                            0.00\n",
       "Total Time Spent on Website                       0.00\n",
       "Converted                                         0.00\n",
       "Do Not Call                                       0.00\n",
       "Do Not Email                                      0.00\n",
       "Lead Origin                                       0.00\n",
       "Last Notable Activity                             0.00\n",
       "dtype: float64"
      ]
     },
     "execution_count": 8,
     "metadata": {},
     "output_type": "execute_result"
    }
   ],
   "source": [
    "### Null Check\n",
    "round((100*Lead_data.isnull().sum()/Lead_data.shape[0]),2).sort_values(ascending=False)"
   ]
  },
  {
   "cell_type": "code",
   "execution_count": 9,
   "id": "1d2d48c3-b3bd-4c93-ad3b-b8277f57db07",
   "metadata": {},
   "outputs": [
    {
     "data": {
      "text/plain": [
       "Index(['How did you hear about X Education', 'Lead Quality', 'Lead Profile',\n",
       "       'Asymmetrique Activity Index', 'Asymmetrique Profile Index',\n",
       "       'Asymmetrique Activity Score', 'Asymmetrique Profile Score'],\n",
       "      dtype='object')"
      ]
     },
     "execution_count": 9,
     "metadata": {},
     "output_type": "execute_result"
    }
   ],
   "source": [
    "## Finding columns which are having more than 40% null values\n",
    "dropcol=Lead_data.loc[:,list(round((100*Lead_data.isnull().sum()/Lead_data.shape[0]),2)>40)].columns\n",
    "dropcol"
   ]
  },
  {
   "cell_type": "code",
   "execution_count": 10,
   "id": "9283a615-2db6-4980-ada2-eee652a1018f",
   "metadata": {},
   "outputs": [],
   "source": [
    "## Dropping columns that have more than 40% null values\n",
    "Lead_data=Lead_data.drop(dropcol,axis=1)"
   ]
  },
  {
   "cell_type": "code",
   "execution_count": 11,
   "id": "575a775c-1471-452a-8d72-b72c9ab94f41",
   "metadata": {},
   "outputs": [
    {
     "data": {
      "text/plain": [
       "City                                             39.71\n",
       "Specialization                                   36.58\n",
       "Tags                                             36.29\n",
       "What matters most to you in choosing a course    29.32\n",
       "What is your current occupation                  29.11\n",
       "Country                                          26.63\n",
       "Page Views Per Visit                              1.48\n",
       "TotalVisits                                       1.48\n",
       "Last Activity                                     1.11\n",
       "Lead Source                                       0.39\n",
       "Through Recommendations                           0.00\n",
       "Receive More Updates About Our Courses            0.00\n",
       "Prospect ID                                       0.00\n",
       "Newspaper                                         0.00\n",
       "Update me on Supply Chain Content                 0.00\n",
       "Get updates on DM Content                         0.00\n",
       "I agree to pay the amount through cheque          0.00\n",
       "A free copy of Mastering The Interview            0.00\n",
       "Digital Advertisement                             0.00\n",
       "Search                                            0.00\n",
       "X Education Forums                                0.00\n",
       "Newspaper Article                                 0.00\n",
       "Magazine                                          0.00\n",
       "Lead Number                                       0.00\n",
       "Total Time Spent on Website                       0.00\n",
       "Converted                                         0.00\n",
       "Do Not Call                                       0.00\n",
       "Do Not Email                                      0.00\n",
       "Lead Origin                                       0.00\n",
       "Last Notable Activity                             0.00\n",
       "dtype: float64"
      ]
     },
     "execution_count": 11,
     "metadata": {},
     "output_type": "execute_result"
    }
   ],
   "source": [
    "#checking null values percentage\n",
    "round((100*Lead_data.isnull().sum()/Lead_data.shape[0]),2).sort_values(ascending=False)"
   ]
  },
  {
   "cell_type": "code",
   "execution_count": 12,
   "id": "214c5d29-2d1b-4e47-a72c-b6c5f803abf0",
   "metadata": {},
   "outputs": [
    {
     "ename": "ValueError",
     "evalue": "could not convert string to float: 'Mumbai'",
     "output_type": "error",
     "traceback": [
      "\u001b[1;31m---------------------------------------------------------------------------\u001b[0m",
      "\u001b[1;31mValueError\u001b[0m                                Traceback (most recent call last)",
      "Cell \u001b[1;32mIn[12], line 2\u001b[0m\n\u001b[0;32m      1\u001b[0m \u001b[38;5;66;03m## Checking City\u001b[39;00m\n\u001b[1;32m----> 2\u001b[0m sns\u001b[38;5;241m.\u001b[39mcountplot(Lead_data\u001b[38;5;241m.\u001b[39mCity)\n\u001b[0;32m      3\u001b[0m plt\u001b[38;5;241m.\u001b[39mxticks(rotation \u001b[38;5;241m=\u001b[39m \u001b[38;5;241m90\u001b[39m)\n\u001b[0;32m      4\u001b[0m plt\u001b[38;5;241m.\u001b[39mshow()\n",
      "File \u001b[1;32m~\\anaconda3\\Lib\\site-packages\\seaborn\\categorical.py:2943\u001b[0m, in \u001b[0;36mcountplot\u001b[1;34m(data, x, y, hue, order, hue_order, orient, color, palette, saturation, width, dodge, ax, **kwargs)\u001b[0m\n\u001b[0;32m   2940\u001b[0m \u001b[38;5;28;01melif\u001b[39;00m x \u001b[38;5;129;01mis\u001b[39;00m \u001b[38;5;129;01mnot\u001b[39;00m \u001b[38;5;28;01mNone\u001b[39;00m \u001b[38;5;129;01mand\u001b[39;00m y \u001b[38;5;129;01mis\u001b[39;00m \u001b[38;5;129;01mnot\u001b[39;00m \u001b[38;5;28;01mNone\u001b[39;00m:\n\u001b[0;32m   2941\u001b[0m     \u001b[38;5;28;01mraise\u001b[39;00m \u001b[38;5;167;01mValueError\u001b[39;00m(\u001b[38;5;124m\"\u001b[39m\u001b[38;5;124mCannot pass values for both `x` and `y`\u001b[39m\u001b[38;5;124m\"\u001b[39m)\n\u001b[1;32m-> 2943\u001b[0m plotter \u001b[38;5;241m=\u001b[39m _CountPlotter(\n\u001b[0;32m   2944\u001b[0m     x, y, hue, data, order, hue_order,\n\u001b[0;32m   2945\u001b[0m     estimator, errorbar, n_boot, units, seed,\n\u001b[0;32m   2946\u001b[0m     orient, color, palette, saturation,\n\u001b[0;32m   2947\u001b[0m     width, errcolor, errwidth, capsize, dodge\n\u001b[0;32m   2948\u001b[0m )\n\u001b[0;32m   2950\u001b[0m plotter\u001b[38;5;241m.\u001b[39mvalue_label \u001b[38;5;241m=\u001b[39m \u001b[38;5;124m\"\u001b[39m\u001b[38;5;124mcount\u001b[39m\u001b[38;5;124m\"\u001b[39m\n\u001b[0;32m   2952\u001b[0m \u001b[38;5;28;01mif\u001b[39;00m ax \u001b[38;5;129;01mis\u001b[39;00m \u001b[38;5;28;01mNone\u001b[39;00m:\n",
      "File \u001b[1;32m~\\anaconda3\\Lib\\site-packages\\seaborn\\categorical.py:1530\u001b[0m, in \u001b[0;36m_BarPlotter.__init__\u001b[1;34m(self, x, y, hue, data, order, hue_order, estimator, errorbar, n_boot, units, seed, orient, color, palette, saturation, width, errcolor, errwidth, capsize, dodge)\u001b[0m\n\u001b[0;32m   1525\u001b[0m \u001b[38;5;28;01mdef\u001b[39;00m \u001b[38;5;21m__init__\u001b[39m(\u001b[38;5;28mself\u001b[39m, x, y, hue, data, order, hue_order,\n\u001b[0;32m   1526\u001b[0m              estimator, errorbar, n_boot, units, seed,\n\u001b[0;32m   1527\u001b[0m              orient, color, palette, saturation, width,\n\u001b[0;32m   1528\u001b[0m              errcolor, errwidth, capsize, dodge):\n\u001b[0;32m   1529\u001b[0m \u001b[38;5;250m    \u001b[39m\u001b[38;5;124;03m\"\"\"Initialize the plotter.\"\"\"\u001b[39;00m\n\u001b[1;32m-> 1530\u001b[0m     \u001b[38;5;28mself\u001b[39m\u001b[38;5;241m.\u001b[39mestablish_variables(x, y, hue, data, orient,\n\u001b[0;32m   1531\u001b[0m                              order, hue_order, units)\n\u001b[0;32m   1532\u001b[0m     \u001b[38;5;28mself\u001b[39m\u001b[38;5;241m.\u001b[39mestablish_colors(color, palette, saturation)\n\u001b[0;32m   1533\u001b[0m     \u001b[38;5;28mself\u001b[39m\u001b[38;5;241m.\u001b[39mestimate_statistic(estimator, errorbar, n_boot, seed)\n",
      "File \u001b[1;32m~\\anaconda3\\Lib\\site-packages\\seaborn\\categorical.py:516\u001b[0m, in \u001b[0;36m_CategoricalPlotter.establish_variables\u001b[1;34m(self, x, y, hue, data, orient, order, hue_order, units)\u001b[0m\n\u001b[0;32m    513\u001b[0m     plot_data \u001b[38;5;241m=\u001b[39m data\n\u001b[0;32m    515\u001b[0m \u001b[38;5;66;03m# Convert to a list of arrays, the common representation\u001b[39;00m\n\u001b[1;32m--> 516\u001b[0m plot_data \u001b[38;5;241m=\u001b[39m [np\u001b[38;5;241m.\u001b[39masarray(d, \u001b[38;5;28mfloat\u001b[39m) \u001b[38;5;28;01mfor\u001b[39;00m d \u001b[38;5;129;01min\u001b[39;00m plot_data]\n\u001b[0;32m    518\u001b[0m \u001b[38;5;66;03m# The group names will just be numeric indices\u001b[39;00m\n\u001b[0;32m    519\u001b[0m group_names \u001b[38;5;241m=\u001b[39m \u001b[38;5;28mlist\u001b[39m(\u001b[38;5;28mrange\u001b[39m(\u001b[38;5;28mlen\u001b[39m(plot_data)))\n",
      "File \u001b[1;32m~\\anaconda3\\Lib\\site-packages\\seaborn\\categorical.py:516\u001b[0m, in \u001b[0;36m<listcomp>\u001b[1;34m(.0)\u001b[0m\n\u001b[0;32m    513\u001b[0m     plot_data \u001b[38;5;241m=\u001b[39m data\n\u001b[0;32m    515\u001b[0m \u001b[38;5;66;03m# Convert to a list of arrays, the common representation\u001b[39;00m\n\u001b[1;32m--> 516\u001b[0m plot_data \u001b[38;5;241m=\u001b[39m [np\u001b[38;5;241m.\u001b[39masarray(d, \u001b[38;5;28mfloat\u001b[39m) \u001b[38;5;28;01mfor\u001b[39;00m d \u001b[38;5;129;01min\u001b[39;00m plot_data]\n\u001b[0;32m    518\u001b[0m \u001b[38;5;66;03m# The group names will just be numeric indices\u001b[39;00m\n\u001b[0;32m    519\u001b[0m group_names \u001b[38;5;241m=\u001b[39m \u001b[38;5;28mlist\u001b[39m(\u001b[38;5;28mrange\u001b[39m(\u001b[38;5;28mlen\u001b[39m(plot_data)))\n",
      "File \u001b[1;32m~\\anaconda3\\Lib\\site-packages\\pandas\\core\\series.py:953\u001b[0m, in \u001b[0;36mSeries.__array__\u001b[1;34m(self, dtype)\u001b[0m\n\u001b[0;32m    906\u001b[0m \u001b[38;5;250m\u001b[39m\u001b[38;5;124;03m\"\"\"\u001b[39;00m\n\u001b[0;32m    907\u001b[0m \u001b[38;5;124;03mReturn the values as a NumPy array.\u001b[39;00m\n\u001b[0;32m    908\u001b[0m \n\u001b[1;32m   (...)\u001b[0m\n\u001b[0;32m    950\u001b[0m \u001b[38;5;124;03m      dtype='datetime64[ns]')\u001b[39;00m\n\u001b[0;32m    951\u001b[0m \u001b[38;5;124;03m\"\"\"\u001b[39;00m\n\u001b[0;32m    952\u001b[0m values \u001b[38;5;241m=\u001b[39m \u001b[38;5;28mself\u001b[39m\u001b[38;5;241m.\u001b[39m_values\n\u001b[1;32m--> 953\u001b[0m arr \u001b[38;5;241m=\u001b[39m np\u001b[38;5;241m.\u001b[39masarray(values, dtype\u001b[38;5;241m=\u001b[39mdtype)\n\u001b[0;32m    954\u001b[0m \u001b[38;5;28;01mif\u001b[39;00m using_copy_on_write() \u001b[38;5;129;01mand\u001b[39;00m astype_is_view(values\u001b[38;5;241m.\u001b[39mdtype, arr\u001b[38;5;241m.\u001b[39mdtype):\n\u001b[0;32m    955\u001b[0m     arr \u001b[38;5;241m=\u001b[39m arr\u001b[38;5;241m.\u001b[39mview()\n",
      "\u001b[1;31mValueError\u001b[0m: could not convert string to float: 'Mumbai'"
     ]
    }
   ],
   "source": [
    "## Checking City\n",
    "sns.countplot(Lead_data.City)\n",
    "plt.xticks(rotation = 90)\n",
    "plt.show()"
   ]
  },
  {
   "cell_type": "code",
   "execution_count": null,
   "id": "ca460007-24d4-427a-ae86-78c411a3fad9",
   "metadata": {},
   "outputs": [],
   "source": [
    "# Imputing Null with 'Others'\n",
    "Lead_data['City'] = Lead_data['City'].replace(np.nan, 'Others')\n",
    "\n",
    "# Merging Cities which are low in numbers to 'Others'\n",
    "Lead_data['City'] = Lead_data['City'].replace(['Tier II Cities','Other Metro Cities','Other Cities of Maharashtra','Other Cities'], 'Others')"
   ]
  },
  {
   "cell_type": "code",
   "execution_count": null,
   "id": "7747257e-977c-4364-bd18-b3e08b15b771",
   "metadata": {},
   "outputs": [],
   "source": [
    "Lead_data['City'].value_counts()"
   ]
  },
  {
   "cell_type": "code",
   "execution_count": 13,
   "id": "68a64abf-cd30-474a-ba08-faa8e33fc6f4",
   "metadata": {},
   "outputs": [
    {
     "ename": "ValueError",
     "evalue": "could not convert string to float: 'Business Administration'",
     "output_type": "error",
     "traceback": [
      "\u001b[1;31m---------------------------------------------------------------------------\u001b[0m",
      "\u001b[1;31mValueError\u001b[0m                                Traceback (most recent call last)",
      "Cell \u001b[1;32mIn[13], line 2\u001b[0m\n\u001b[0;32m      1\u001b[0m \u001b[38;5;66;03m## Checking Specialization\u001b[39;00m\n\u001b[1;32m----> 2\u001b[0m sns\u001b[38;5;241m.\u001b[39mcountplot(Lead_data\u001b[38;5;241m.\u001b[39mSpecialization)\n\u001b[0;32m      3\u001b[0m plt\u001b[38;5;241m.\u001b[39mxticks(rotation \u001b[38;5;241m=\u001b[39m \u001b[38;5;241m90\u001b[39m)\n\u001b[0;32m      4\u001b[0m plt\u001b[38;5;241m.\u001b[39mshow()\n",
      "File \u001b[1;32m~\\anaconda3\\Lib\\site-packages\\seaborn\\categorical.py:2943\u001b[0m, in \u001b[0;36mcountplot\u001b[1;34m(data, x, y, hue, order, hue_order, orient, color, palette, saturation, width, dodge, ax, **kwargs)\u001b[0m\n\u001b[0;32m   2940\u001b[0m \u001b[38;5;28;01melif\u001b[39;00m x \u001b[38;5;129;01mis\u001b[39;00m \u001b[38;5;129;01mnot\u001b[39;00m \u001b[38;5;28;01mNone\u001b[39;00m \u001b[38;5;129;01mand\u001b[39;00m y \u001b[38;5;129;01mis\u001b[39;00m \u001b[38;5;129;01mnot\u001b[39;00m \u001b[38;5;28;01mNone\u001b[39;00m:\n\u001b[0;32m   2941\u001b[0m     \u001b[38;5;28;01mraise\u001b[39;00m \u001b[38;5;167;01mValueError\u001b[39;00m(\u001b[38;5;124m\"\u001b[39m\u001b[38;5;124mCannot pass values for both `x` and `y`\u001b[39m\u001b[38;5;124m\"\u001b[39m)\n\u001b[1;32m-> 2943\u001b[0m plotter \u001b[38;5;241m=\u001b[39m _CountPlotter(\n\u001b[0;32m   2944\u001b[0m     x, y, hue, data, order, hue_order,\n\u001b[0;32m   2945\u001b[0m     estimator, errorbar, n_boot, units, seed,\n\u001b[0;32m   2946\u001b[0m     orient, color, palette, saturation,\n\u001b[0;32m   2947\u001b[0m     width, errcolor, errwidth, capsize, dodge\n\u001b[0;32m   2948\u001b[0m )\n\u001b[0;32m   2950\u001b[0m plotter\u001b[38;5;241m.\u001b[39mvalue_label \u001b[38;5;241m=\u001b[39m \u001b[38;5;124m\"\u001b[39m\u001b[38;5;124mcount\u001b[39m\u001b[38;5;124m\"\u001b[39m\n\u001b[0;32m   2952\u001b[0m \u001b[38;5;28;01mif\u001b[39;00m ax \u001b[38;5;129;01mis\u001b[39;00m \u001b[38;5;28;01mNone\u001b[39;00m:\n",
      "File \u001b[1;32m~\\anaconda3\\Lib\\site-packages\\seaborn\\categorical.py:1530\u001b[0m, in \u001b[0;36m_BarPlotter.__init__\u001b[1;34m(self, x, y, hue, data, order, hue_order, estimator, errorbar, n_boot, units, seed, orient, color, palette, saturation, width, errcolor, errwidth, capsize, dodge)\u001b[0m\n\u001b[0;32m   1525\u001b[0m \u001b[38;5;28;01mdef\u001b[39;00m \u001b[38;5;21m__init__\u001b[39m(\u001b[38;5;28mself\u001b[39m, x, y, hue, data, order, hue_order,\n\u001b[0;32m   1526\u001b[0m              estimator, errorbar, n_boot, units, seed,\n\u001b[0;32m   1527\u001b[0m              orient, color, palette, saturation, width,\n\u001b[0;32m   1528\u001b[0m              errcolor, errwidth, capsize, dodge):\n\u001b[0;32m   1529\u001b[0m \u001b[38;5;250m    \u001b[39m\u001b[38;5;124;03m\"\"\"Initialize the plotter.\"\"\"\u001b[39;00m\n\u001b[1;32m-> 1530\u001b[0m     \u001b[38;5;28mself\u001b[39m\u001b[38;5;241m.\u001b[39mestablish_variables(x, y, hue, data, orient,\n\u001b[0;32m   1531\u001b[0m                              order, hue_order, units)\n\u001b[0;32m   1532\u001b[0m     \u001b[38;5;28mself\u001b[39m\u001b[38;5;241m.\u001b[39mestablish_colors(color, palette, saturation)\n\u001b[0;32m   1533\u001b[0m     \u001b[38;5;28mself\u001b[39m\u001b[38;5;241m.\u001b[39mestimate_statistic(estimator, errorbar, n_boot, seed)\n",
      "File \u001b[1;32m~\\anaconda3\\Lib\\site-packages\\seaborn\\categorical.py:516\u001b[0m, in \u001b[0;36m_CategoricalPlotter.establish_variables\u001b[1;34m(self, x, y, hue, data, orient, order, hue_order, units)\u001b[0m\n\u001b[0;32m    513\u001b[0m     plot_data \u001b[38;5;241m=\u001b[39m data\n\u001b[0;32m    515\u001b[0m \u001b[38;5;66;03m# Convert to a list of arrays, the common representation\u001b[39;00m\n\u001b[1;32m--> 516\u001b[0m plot_data \u001b[38;5;241m=\u001b[39m [np\u001b[38;5;241m.\u001b[39masarray(d, \u001b[38;5;28mfloat\u001b[39m) \u001b[38;5;28;01mfor\u001b[39;00m d \u001b[38;5;129;01min\u001b[39;00m plot_data]\n\u001b[0;32m    518\u001b[0m \u001b[38;5;66;03m# The group names will just be numeric indices\u001b[39;00m\n\u001b[0;32m    519\u001b[0m group_names \u001b[38;5;241m=\u001b[39m \u001b[38;5;28mlist\u001b[39m(\u001b[38;5;28mrange\u001b[39m(\u001b[38;5;28mlen\u001b[39m(plot_data)))\n",
      "File \u001b[1;32m~\\anaconda3\\Lib\\site-packages\\seaborn\\categorical.py:516\u001b[0m, in \u001b[0;36m<listcomp>\u001b[1;34m(.0)\u001b[0m\n\u001b[0;32m    513\u001b[0m     plot_data \u001b[38;5;241m=\u001b[39m data\n\u001b[0;32m    515\u001b[0m \u001b[38;5;66;03m# Convert to a list of arrays, the common representation\u001b[39;00m\n\u001b[1;32m--> 516\u001b[0m plot_data \u001b[38;5;241m=\u001b[39m [np\u001b[38;5;241m.\u001b[39masarray(d, \u001b[38;5;28mfloat\u001b[39m) \u001b[38;5;28;01mfor\u001b[39;00m d \u001b[38;5;129;01min\u001b[39;00m plot_data]\n\u001b[0;32m    518\u001b[0m \u001b[38;5;66;03m# The group names will just be numeric indices\u001b[39;00m\n\u001b[0;32m    519\u001b[0m group_names \u001b[38;5;241m=\u001b[39m \u001b[38;5;28mlist\u001b[39m(\u001b[38;5;28mrange\u001b[39m(\u001b[38;5;28mlen\u001b[39m(plot_data)))\n",
      "File \u001b[1;32m~\\anaconda3\\Lib\\site-packages\\pandas\\core\\series.py:953\u001b[0m, in \u001b[0;36mSeries.__array__\u001b[1;34m(self, dtype)\u001b[0m\n\u001b[0;32m    906\u001b[0m \u001b[38;5;250m\u001b[39m\u001b[38;5;124;03m\"\"\"\u001b[39;00m\n\u001b[0;32m    907\u001b[0m \u001b[38;5;124;03mReturn the values as a NumPy array.\u001b[39;00m\n\u001b[0;32m    908\u001b[0m \n\u001b[1;32m   (...)\u001b[0m\n\u001b[0;32m    950\u001b[0m \u001b[38;5;124;03m      dtype='datetime64[ns]')\u001b[39;00m\n\u001b[0;32m    951\u001b[0m \u001b[38;5;124;03m\"\"\"\u001b[39;00m\n\u001b[0;32m    952\u001b[0m values \u001b[38;5;241m=\u001b[39m \u001b[38;5;28mself\u001b[39m\u001b[38;5;241m.\u001b[39m_values\n\u001b[1;32m--> 953\u001b[0m arr \u001b[38;5;241m=\u001b[39m np\u001b[38;5;241m.\u001b[39masarray(values, dtype\u001b[38;5;241m=\u001b[39mdtype)\n\u001b[0;32m    954\u001b[0m \u001b[38;5;28;01mif\u001b[39;00m using_copy_on_write() \u001b[38;5;129;01mand\u001b[39;00m astype_is_view(values\u001b[38;5;241m.\u001b[39mdtype, arr\u001b[38;5;241m.\u001b[39mdtype):\n\u001b[0;32m    955\u001b[0m     arr \u001b[38;5;241m=\u001b[39m arr\u001b[38;5;241m.\u001b[39mview()\n",
      "\u001b[1;31mValueError\u001b[0m: could not convert string to float: 'Business Administration'"
     ]
    }
   ],
   "source": [
    "## Checking Specialization\n",
    "sns.countplot(Lead_data.Specialization)\n",
    "plt.xticks(rotation = 90)\n",
    "plt.show()"
   ]
  },
  {
   "cell_type": "code",
   "execution_count": 14,
   "id": "de5478c7-3ecf-4efe-8039-4a9b848c7cf3",
   "metadata": {},
   "outputs": [
    {
     "data": {
      "text/plain": [
       "Specialization\n",
       "Finance Management                   976\n",
       "Human Resource Management            848\n",
       "Marketing Management                 838\n",
       "Operations Management                503\n",
       "Business Administration              403\n",
       "IT Projects Management               366\n",
       "Supply Chain Management              349\n",
       "Banking, Investment And Insurance    338\n",
       "Travel and Tourism                   203\n",
       "Media and Advertising                203\n",
       "International Business               178\n",
       "Healthcare Management                159\n",
       "Hospitality Management               114\n",
       "E-COMMERCE                           112\n",
       "Retail Management                    100\n",
       "Rural and Agribusiness                73\n",
       "E-Business                            57\n",
       "Services Excellence                   40\n",
       "Name: count, dtype: int64"
      ]
     },
     "execution_count": 14,
     "metadata": {},
     "output_type": "execute_result"
    }
   ],
   "source": [
    "Lead_data.Specialization.value_counts()"
   ]
  },
  {
   "cell_type": "code",
   "execution_count": 15,
   "id": "2e1e34e1-1f39-4467-9a4b-75f824e63a32",
   "metadata": {},
   "outputs": [],
   "source": [
    "# Imputing Null with 'Others'\n",
    "Lead_data['Specialization'] = Lead_data['Specialization'].replace(np.nan, 'Others')\n",
    "\n",
    "# Merging Specialization which are low in numbers to 'Others'\n",
    "Lead_data['Specialization'] = Lead_data['Specialization'].replace(['Rural and Agribusiness','E-Business','Services Excellence'], 'Others')"
   ]
  },
  {
   "cell_type": "code",
   "execution_count": 16,
   "id": "1a61a9de-0ba6-459a-a3ca-9e68176dd06e",
   "metadata": {},
   "outputs": [
    {
     "data": {
      "text/plain": [
       "Specialization\n",
       "Others                               3550\n",
       "Finance Management                    976\n",
       "Human Resource Management             848\n",
       "Marketing Management                  838\n",
       "Operations Management                 503\n",
       "Business Administration               403\n",
       "IT Projects Management                366\n",
       "Supply Chain Management               349\n",
       "Banking, Investment And Insurance     338\n",
       "Media and Advertising                 203\n",
       "Travel and Tourism                    203\n",
       "International Business                178\n",
       "Healthcare Management                 159\n",
       "Hospitality Management                114\n",
       "E-COMMERCE                            112\n",
       "Retail Management                     100\n",
       "Name: count, dtype: int64"
      ]
     },
     "execution_count": 16,
     "metadata": {},
     "output_type": "execute_result"
    }
   ],
   "source": [
    "Lead_data.Specialization.value_counts()"
   ]
  },
  {
   "cell_type": "code",
   "execution_count": 17,
   "id": "9582a24a-6567-4d3b-b043-6ebb2127c5d1",
   "metadata": {},
   "outputs": [
    {
     "ename": "ValueError",
     "evalue": "could not convert string to float: 'Interested in other courses'",
     "output_type": "error",
     "traceback": [
      "\u001b[1;31m---------------------------------------------------------------------------\u001b[0m",
      "\u001b[1;31mValueError\u001b[0m                                Traceback (most recent call last)",
      "Cell \u001b[1;32mIn[17], line 2\u001b[0m\n\u001b[0;32m      1\u001b[0m \u001b[38;5;66;03m## Checking Tags\u001b[39;00m\n\u001b[1;32m----> 2\u001b[0m sns\u001b[38;5;241m.\u001b[39mcountplot(Lead_data\u001b[38;5;241m.\u001b[39mTags)\n\u001b[0;32m      3\u001b[0m plt\u001b[38;5;241m.\u001b[39mxticks(rotation \u001b[38;5;241m=\u001b[39m \u001b[38;5;241m90\u001b[39m)\n\u001b[0;32m      4\u001b[0m plt\u001b[38;5;241m.\u001b[39mshow()\n",
      "File \u001b[1;32m~\\anaconda3\\Lib\\site-packages\\seaborn\\categorical.py:2943\u001b[0m, in \u001b[0;36mcountplot\u001b[1;34m(data, x, y, hue, order, hue_order, orient, color, palette, saturation, width, dodge, ax, **kwargs)\u001b[0m\n\u001b[0;32m   2940\u001b[0m \u001b[38;5;28;01melif\u001b[39;00m x \u001b[38;5;129;01mis\u001b[39;00m \u001b[38;5;129;01mnot\u001b[39;00m \u001b[38;5;28;01mNone\u001b[39;00m \u001b[38;5;129;01mand\u001b[39;00m y \u001b[38;5;129;01mis\u001b[39;00m \u001b[38;5;129;01mnot\u001b[39;00m \u001b[38;5;28;01mNone\u001b[39;00m:\n\u001b[0;32m   2941\u001b[0m     \u001b[38;5;28;01mraise\u001b[39;00m \u001b[38;5;167;01mValueError\u001b[39;00m(\u001b[38;5;124m\"\u001b[39m\u001b[38;5;124mCannot pass values for both `x` and `y`\u001b[39m\u001b[38;5;124m\"\u001b[39m)\n\u001b[1;32m-> 2943\u001b[0m plotter \u001b[38;5;241m=\u001b[39m _CountPlotter(\n\u001b[0;32m   2944\u001b[0m     x, y, hue, data, order, hue_order,\n\u001b[0;32m   2945\u001b[0m     estimator, errorbar, n_boot, units, seed,\n\u001b[0;32m   2946\u001b[0m     orient, color, palette, saturation,\n\u001b[0;32m   2947\u001b[0m     width, errcolor, errwidth, capsize, dodge\n\u001b[0;32m   2948\u001b[0m )\n\u001b[0;32m   2950\u001b[0m plotter\u001b[38;5;241m.\u001b[39mvalue_label \u001b[38;5;241m=\u001b[39m \u001b[38;5;124m\"\u001b[39m\u001b[38;5;124mcount\u001b[39m\u001b[38;5;124m\"\u001b[39m\n\u001b[0;32m   2952\u001b[0m \u001b[38;5;28;01mif\u001b[39;00m ax \u001b[38;5;129;01mis\u001b[39;00m \u001b[38;5;28;01mNone\u001b[39;00m:\n",
      "File \u001b[1;32m~\\anaconda3\\Lib\\site-packages\\seaborn\\categorical.py:1530\u001b[0m, in \u001b[0;36m_BarPlotter.__init__\u001b[1;34m(self, x, y, hue, data, order, hue_order, estimator, errorbar, n_boot, units, seed, orient, color, palette, saturation, width, errcolor, errwidth, capsize, dodge)\u001b[0m\n\u001b[0;32m   1525\u001b[0m \u001b[38;5;28;01mdef\u001b[39;00m \u001b[38;5;21m__init__\u001b[39m(\u001b[38;5;28mself\u001b[39m, x, y, hue, data, order, hue_order,\n\u001b[0;32m   1526\u001b[0m              estimator, errorbar, n_boot, units, seed,\n\u001b[0;32m   1527\u001b[0m              orient, color, palette, saturation, width,\n\u001b[0;32m   1528\u001b[0m              errcolor, errwidth, capsize, dodge):\n\u001b[0;32m   1529\u001b[0m \u001b[38;5;250m    \u001b[39m\u001b[38;5;124;03m\"\"\"Initialize the plotter.\"\"\"\u001b[39;00m\n\u001b[1;32m-> 1530\u001b[0m     \u001b[38;5;28mself\u001b[39m\u001b[38;5;241m.\u001b[39mestablish_variables(x, y, hue, data, orient,\n\u001b[0;32m   1531\u001b[0m                              order, hue_order, units)\n\u001b[0;32m   1532\u001b[0m     \u001b[38;5;28mself\u001b[39m\u001b[38;5;241m.\u001b[39mestablish_colors(color, palette, saturation)\n\u001b[0;32m   1533\u001b[0m     \u001b[38;5;28mself\u001b[39m\u001b[38;5;241m.\u001b[39mestimate_statistic(estimator, errorbar, n_boot, seed)\n",
      "File \u001b[1;32m~\\anaconda3\\Lib\\site-packages\\seaborn\\categorical.py:516\u001b[0m, in \u001b[0;36m_CategoricalPlotter.establish_variables\u001b[1;34m(self, x, y, hue, data, orient, order, hue_order, units)\u001b[0m\n\u001b[0;32m    513\u001b[0m     plot_data \u001b[38;5;241m=\u001b[39m data\n\u001b[0;32m    515\u001b[0m \u001b[38;5;66;03m# Convert to a list of arrays, the common representation\u001b[39;00m\n\u001b[1;32m--> 516\u001b[0m plot_data \u001b[38;5;241m=\u001b[39m [np\u001b[38;5;241m.\u001b[39masarray(d, \u001b[38;5;28mfloat\u001b[39m) \u001b[38;5;28;01mfor\u001b[39;00m d \u001b[38;5;129;01min\u001b[39;00m plot_data]\n\u001b[0;32m    518\u001b[0m \u001b[38;5;66;03m# The group names will just be numeric indices\u001b[39;00m\n\u001b[0;32m    519\u001b[0m group_names \u001b[38;5;241m=\u001b[39m \u001b[38;5;28mlist\u001b[39m(\u001b[38;5;28mrange\u001b[39m(\u001b[38;5;28mlen\u001b[39m(plot_data)))\n",
      "File \u001b[1;32m~\\anaconda3\\Lib\\site-packages\\seaborn\\categorical.py:516\u001b[0m, in \u001b[0;36m<listcomp>\u001b[1;34m(.0)\u001b[0m\n\u001b[0;32m    513\u001b[0m     plot_data \u001b[38;5;241m=\u001b[39m data\n\u001b[0;32m    515\u001b[0m \u001b[38;5;66;03m# Convert to a list of arrays, the common representation\u001b[39;00m\n\u001b[1;32m--> 516\u001b[0m plot_data \u001b[38;5;241m=\u001b[39m [np\u001b[38;5;241m.\u001b[39masarray(d, \u001b[38;5;28mfloat\u001b[39m) \u001b[38;5;28;01mfor\u001b[39;00m d \u001b[38;5;129;01min\u001b[39;00m plot_data]\n\u001b[0;32m    518\u001b[0m \u001b[38;5;66;03m# The group names will just be numeric indices\u001b[39;00m\n\u001b[0;32m    519\u001b[0m group_names \u001b[38;5;241m=\u001b[39m \u001b[38;5;28mlist\u001b[39m(\u001b[38;5;28mrange\u001b[39m(\u001b[38;5;28mlen\u001b[39m(plot_data)))\n",
      "File \u001b[1;32m~\\anaconda3\\Lib\\site-packages\\pandas\\core\\series.py:953\u001b[0m, in \u001b[0;36mSeries.__array__\u001b[1;34m(self, dtype)\u001b[0m\n\u001b[0;32m    906\u001b[0m \u001b[38;5;250m\u001b[39m\u001b[38;5;124;03m\"\"\"\u001b[39;00m\n\u001b[0;32m    907\u001b[0m \u001b[38;5;124;03mReturn the values as a NumPy array.\u001b[39;00m\n\u001b[0;32m    908\u001b[0m \n\u001b[1;32m   (...)\u001b[0m\n\u001b[0;32m    950\u001b[0m \u001b[38;5;124;03m      dtype='datetime64[ns]')\u001b[39;00m\n\u001b[0;32m    951\u001b[0m \u001b[38;5;124;03m\"\"\"\u001b[39;00m\n\u001b[0;32m    952\u001b[0m values \u001b[38;5;241m=\u001b[39m \u001b[38;5;28mself\u001b[39m\u001b[38;5;241m.\u001b[39m_values\n\u001b[1;32m--> 953\u001b[0m arr \u001b[38;5;241m=\u001b[39m np\u001b[38;5;241m.\u001b[39masarray(values, dtype\u001b[38;5;241m=\u001b[39mdtype)\n\u001b[0;32m    954\u001b[0m \u001b[38;5;28;01mif\u001b[39;00m using_copy_on_write() \u001b[38;5;129;01mand\u001b[39;00m astype_is_view(values\u001b[38;5;241m.\u001b[39mdtype, arr\u001b[38;5;241m.\u001b[39mdtype):\n\u001b[0;32m    955\u001b[0m     arr \u001b[38;5;241m=\u001b[39m arr\u001b[38;5;241m.\u001b[39mview()\n",
      "\u001b[1;31mValueError\u001b[0m: could not convert string to float: 'Interested in other courses'"
     ]
    }
   ],
   "source": [
    "## Checking Tags\n",
    "sns.countplot(Lead_data.Tags)\n",
    "plt.xticks(rotation = 90)\n",
    "plt.show()"
   ]
  },
  {
   "cell_type": "code",
   "execution_count": 18,
   "id": "d3efaa36-5469-46c7-9551-97ed4dd977b3",
   "metadata": {},
   "outputs": [
    {
     "data": {
      "text/plain": [
       "Tags\n",
       "Will revert after reading the email                  2072\n",
       "Ringing                                              1203\n",
       "Interested in other courses                           513\n",
       "Already a student                                     465\n",
       "Closed by Horizzon                                    358\n",
       "switched off                                          240\n",
       "Busy                                                  186\n",
       "Lost to EINS                                          175\n",
       "Not doing further education                           145\n",
       "Interested  in full time MBA                          117\n",
       "Graduation in progress                                111\n",
       "invalid number                                         83\n",
       "Diploma holder (Not Eligible)                          63\n",
       "wrong number given                                     47\n",
       "opp hangup                                             33\n",
       "number not provided                                    27\n",
       "in touch with EINS                                     12\n",
       "Lost to Others                                          7\n",
       "Still Thinking                                          6\n",
       "Want to take admission but has financial problems       6\n",
       "In confusion whether part time or DLP                   5\n",
       "Interested in Next batch                                5\n",
       "Lateral student                                         3\n",
       "Shall take in the next coming month                     2\n",
       "University not recognized                               2\n",
       "Recognition issue (DEC approval)                        1\n",
       "Name: count, dtype: int64"
      ]
     },
     "execution_count": 18,
     "metadata": {},
     "output_type": "execute_result"
    }
   ],
   "source": [
    "Lead_data.Tags.value_counts()"
   ]
  },
  {
   "cell_type": "code",
   "execution_count": 19,
   "id": "2a9becba-4a7e-4c6c-a312-ac13e19d547f",
   "metadata": {},
   "outputs": [
    {
     "data": {
      "text/plain": [
       "Tags\n",
       "Others                                 4987\n",
       "Will revert after reading the email    2072\n",
       "Ringing                                1203\n",
       "Interested in other courses             513\n",
       "Already a student                       465\n",
       "Name: count, dtype: int64"
      ]
     },
     "execution_count": 19,
     "metadata": {},
     "output_type": "execute_result"
    }
   ],
   "source": [
    "# Imputing Null with Others\n",
    "Lead_data['Tags'] = Lead_data['Tags'].replace(np.nan, 'Others')\n",
    "\n",
    "# Merging low frequency items to Others (each category should have minimum 5% of total data)\n",
    "Lead_data['Tags'] = Lead_data['Tags'].replace(['switched off', 'Busy', 'Lost to EINS', 'Not doing further education', 'Interested  in full time MBA',\n",
    "                                     'Graduation in progress', 'invalid number', 'Diploma holder (Not Eligible)', 'wrong number given', 'opp hangup',\n",
    "                                     'number not provided', 'in touch with EINS', 'Lost to Others', 'Want to take admission but has financial problems',\n",
    "                                     'Still Thinking', 'Interested in Next batch', 'In confusion whether part time or DLP', 'Lateral student',\n",
    "                                     'Shall take in the next coming month', 'University not recognized', 'Recognition issue (DEC approval)','Closed by Horizzon'\n",
    "                                     ], 'Others')\n",
    "\n",
    "Lead_data.Tags.value_counts()"
   ]
  },
  {
   "cell_type": "code",
   "execution_count": 20,
   "id": "beb3c341-a690-407a-81ef-f3cad4f51504",
   "metadata": {},
   "outputs": [
    {
     "ename": "ValueError",
     "evalue": "could not convert string to float: 'Better Career Prospects'",
     "output_type": "error",
     "traceback": [
      "\u001b[1;31m---------------------------------------------------------------------------\u001b[0m",
      "\u001b[1;31mValueError\u001b[0m                                Traceback (most recent call last)",
      "Cell \u001b[1;32mIn[20], line 2\u001b[0m\n\u001b[0;32m      1\u001b[0m \u001b[38;5;66;03m## Checking What matters most to you in choosing a course\u001b[39;00m\n\u001b[1;32m----> 2\u001b[0m sns\u001b[38;5;241m.\u001b[39mcountplot(Lead_data[\u001b[38;5;124m'\u001b[39m\u001b[38;5;124mWhat matters most to you in choosing a course\u001b[39m\u001b[38;5;124m'\u001b[39m])\n\u001b[0;32m      3\u001b[0m plt\u001b[38;5;241m.\u001b[39mxticks(rotation \u001b[38;5;241m=\u001b[39m \u001b[38;5;241m90\u001b[39m)\n\u001b[0;32m      4\u001b[0m plt\u001b[38;5;241m.\u001b[39mshow()\n",
      "File \u001b[1;32m~\\anaconda3\\Lib\\site-packages\\seaborn\\categorical.py:2943\u001b[0m, in \u001b[0;36mcountplot\u001b[1;34m(data, x, y, hue, order, hue_order, orient, color, palette, saturation, width, dodge, ax, **kwargs)\u001b[0m\n\u001b[0;32m   2940\u001b[0m \u001b[38;5;28;01melif\u001b[39;00m x \u001b[38;5;129;01mis\u001b[39;00m \u001b[38;5;129;01mnot\u001b[39;00m \u001b[38;5;28;01mNone\u001b[39;00m \u001b[38;5;129;01mand\u001b[39;00m y \u001b[38;5;129;01mis\u001b[39;00m \u001b[38;5;129;01mnot\u001b[39;00m \u001b[38;5;28;01mNone\u001b[39;00m:\n\u001b[0;32m   2941\u001b[0m     \u001b[38;5;28;01mraise\u001b[39;00m \u001b[38;5;167;01mValueError\u001b[39;00m(\u001b[38;5;124m\"\u001b[39m\u001b[38;5;124mCannot pass values for both `x` and `y`\u001b[39m\u001b[38;5;124m\"\u001b[39m)\n\u001b[1;32m-> 2943\u001b[0m plotter \u001b[38;5;241m=\u001b[39m _CountPlotter(\n\u001b[0;32m   2944\u001b[0m     x, y, hue, data, order, hue_order,\n\u001b[0;32m   2945\u001b[0m     estimator, errorbar, n_boot, units, seed,\n\u001b[0;32m   2946\u001b[0m     orient, color, palette, saturation,\n\u001b[0;32m   2947\u001b[0m     width, errcolor, errwidth, capsize, dodge\n\u001b[0;32m   2948\u001b[0m )\n\u001b[0;32m   2950\u001b[0m plotter\u001b[38;5;241m.\u001b[39mvalue_label \u001b[38;5;241m=\u001b[39m \u001b[38;5;124m\"\u001b[39m\u001b[38;5;124mcount\u001b[39m\u001b[38;5;124m\"\u001b[39m\n\u001b[0;32m   2952\u001b[0m \u001b[38;5;28;01mif\u001b[39;00m ax \u001b[38;5;129;01mis\u001b[39;00m \u001b[38;5;28;01mNone\u001b[39;00m:\n",
      "File \u001b[1;32m~\\anaconda3\\Lib\\site-packages\\seaborn\\categorical.py:1530\u001b[0m, in \u001b[0;36m_BarPlotter.__init__\u001b[1;34m(self, x, y, hue, data, order, hue_order, estimator, errorbar, n_boot, units, seed, orient, color, palette, saturation, width, errcolor, errwidth, capsize, dodge)\u001b[0m\n\u001b[0;32m   1525\u001b[0m \u001b[38;5;28;01mdef\u001b[39;00m \u001b[38;5;21m__init__\u001b[39m(\u001b[38;5;28mself\u001b[39m, x, y, hue, data, order, hue_order,\n\u001b[0;32m   1526\u001b[0m              estimator, errorbar, n_boot, units, seed,\n\u001b[0;32m   1527\u001b[0m              orient, color, palette, saturation, width,\n\u001b[0;32m   1528\u001b[0m              errcolor, errwidth, capsize, dodge):\n\u001b[0;32m   1529\u001b[0m \u001b[38;5;250m    \u001b[39m\u001b[38;5;124;03m\"\"\"Initialize the plotter.\"\"\"\u001b[39;00m\n\u001b[1;32m-> 1530\u001b[0m     \u001b[38;5;28mself\u001b[39m\u001b[38;5;241m.\u001b[39mestablish_variables(x, y, hue, data, orient,\n\u001b[0;32m   1531\u001b[0m                              order, hue_order, units)\n\u001b[0;32m   1532\u001b[0m     \u001b[38;5;28mself\u001b[39m\u001b[38;5;241m.\u001b[39mestablish_colors(color, palette, saturation)\n\u001b[0;32m   1533\u001b[0m     \u001b[38;5;28mself\u001b[39m\u001b[38;5;241m.\u001b[39mestimate_statistic(estimator, errorbar, n_boot, seed)\n",
      "File \u001b[1;32m~\\anaconda3\\Lib\\site-packages\\seaborn\\categorical.py:516\u001b[0m, in \u001b[0;36m_CategoricalPlotter.establish_variables\u001b[1;34m(self, x, y, hue, data, orient, order, hue_order, units)\u001b[0m\n\u001b[0;32m    513\u001b[0m     plot_data \u001b[38;5;241m=\u001b[39m data\n\u001b[0;32m    515\u001b[0m \u001b[38;5;66;03m# Convert to a list of arrays, the common representation\u001b[39;00m\n\u001b[1;32m--> 516\u001b[0m plot_data \u001b[38;5;241m=\u001b[39m [np\u001b[38;5;241m.\u001b[39masarray(d, \u001b[38;5;28mfloat\u001b[39m) \u001b[38;5;28;01mfor\u001b[39;00m d \u001b[38;5;129;01min\u001b[39;00m plot_data]\n\u001b[0;32m    518\u001b[0m \u001b[38;5;66;03m# The group names will just be numeric indices\u001b[39;00m\n\u001b[0;32m    519\u001b[0m group_names \u001b[38;5;241m=\u001b[39m \u001b[38;5;28mlist\u001b[39m(\u001b[38;5;28mrange\u001b[39m(\u001b[38;5;28mlen\u001b[39m(plot_data)))\n",
      "File \u001b[1;32m~\\anaconda3\\Lib\\site-packages\\seaborn\\categorical.py:516\u001b[0m, in \u001b[0;36m<listcomp>\u001b[1;34m(.0)\u001b[0m\n\u001b[0;32m    513\u001b[0m     plot_data \u001b[38;5;241m=\u001b[39m data\n\u001b[0;32m    515\u001b[0m \u001b[38;5;66;03m# Convert to a list of arrays, the common representation\u001b[39;00m\n\u001b[1;32m--> 516\u001b[0m plot_data \u001b[38;5;241m=\u001b[39m [np\u001b[38;5;241m.\u001b[39masarray(d, \u001b[38;5;28mfloat\u001b[39m) \u001b[38;5;28;01mfor\u001b[39;00m d \u001b[38;5;129;01min\u001b[39;00m plot_data]\n\u001b[0;32m    518\u001b[0m \u001b[38;5;66;03m# The group names will just be numeric indices\u001b[39;00m\n\u001b[0;32m    519\u001b[0m group_names \u001b[38;5;241m=\u001b[39m \u001b[38;5;28mlist\u001b[39m(\u001b[38;5;28mrange\u001b[39m(\u001b[38;5;28mlen\u001b[39m(plot_data)))\n",
      "File \u001b[1;32m~\\anaconda3\\Lib\\site-packages\\pandas\\core\\series.py:953\u001b[0m, in \u001b[0;36mSeries.__array__\u001b[1;34m(self, dtype)\u001b[0m\n\u001b[0;32m    906\u001b[0m \u001b[38;5;250m\u001b[39m\u001b[38;5;124;03m\"\"\"\u001b[39;00m\n\u001b[0;32m    907\u001b[0m \u001b[38;5;124;03mReturn the values as a NumPy array.\u001b[39;00m\n\u001b[0;32m    908\u001b[0m \n\u001b[1;32m   (...)\u001b[0m\n\u001b[0;32m    950\u001b[0m \u001b[38;5;124;03m      dtype='datetime64[ns]')\u001b[39;00m\n\u001b[0;32m    951\u001b[0m \u001b[38;5;124;03m\"\"\"\u001b[39;00m\n\u001b[0;32m    952\u001b[0m values \u001b[38;5;241m=\u001b[39m \u001b[38;5;28mself\u001b[39m\u001b[38;5;241m.\u001b[39m_values\n\u001b[1;32m--> 953\u001b[0m arr \u001b[38;5;241m=\u001b[39m np\u001b[38;5;241m.\u001b[39masarray(values, dtype\u001b[38;5;241m=\u001b[39mdtype)\n\u001b[0;32m    954\u001b[0m \u001b[38;5;28;01mif\u001b[39;00m using_copy_on_write() \u001b[38;5;129;01mand\u001b[39;00m astype_is_view(values\u001b[38;5;241m.\u001b[39mdtype, arr\u001b[38;5;241m.\u001b[39mdtype):\n\u001b[0;32m    955\u001b[0m     arr \u001b[38;5;241m=\u001b[39m arr\u001b[38;5;241m.\u001b[39mview()\n",
      "\u001b[1;31mValueError\u001b[0m: could not convert string to float: 'Better Career Prospects'"
     ]
    }
   ],
   "source": [
    "## Checking What matters most to you in choosing a course\n",
    "sns.countplot(Lead_data['What matters most to you in choosing a course'])\n",
    "plt.xticks(rotation = 90)\n",
    "plt.show()"
   ]
  },
  {
   "cell_type": "code",
   "execution_count": 21,
   "id": "bead8a72-3777-4383-b61f-64452154daac",
   "metadata": {},
   "outputs": [
    {
     "data": {
      "text/plain": [
       "What matters most to you in choosing a course\n",
       "Better Career Prospects      6528\n",
       "Flexibility & Convenience       2\n",
       "Other                           1\n",
       "Name: count, dtype: int64"
      ]
     },
     "execution_count": 21,
     "metadata": {},
     "output_type": "execute_result"
    }
   ],
   "source": [
    "Lead_data['What matters most to you in choosing a course'].value_counts()"
   ]
  },
  {
   "cell_type": "code",
   "execution_count": 22,
   "id": "85a0443b-1c1a-4dad-a780-d46640d3eeec",
   "metadata": {},
   "outputs": [],
   "source": [
    "## drop 'What matters most to you in choosing a course' as it is highly skewed\n",
    "Lead_data=Lead_data.drop('What matters most to you in choosing a course',axis=1)"
   ]
  },
  {
   "cell_type": "code",
   "execution_count": 23,
   "id": "93fdb8b6-d9c5-4848-bae1-414222d38cd2",
   "metadata": {},
   "outputs": [
    {
     "ename": "ValueError",
     "evalue": "could not convert string to float: 'Unemployed'",
     "output_type": "error",
     "traceback": [
      "\u001b[1;31m---------------------------------------------------------------------------\u001b[0m",
      "\u001b[1;31mValueError\u001b[0m                                Traceback (most recent call last)",
      "Cell \u001b[1;32mIn[23], line 2\u001b[0m\n\u001b[0;32m      1\u001b[0m \u001b[38;5;66;03m## Checking What is your current occupation\u001b[39;00m\n\u001b[1;32m----> 2\u001b[0m sns\u001b[38;5;241m.\u001b[39mcountplot(Lead_data[\u001b[38;5;124m'\u001b[39m\u001b[38;5;124mWhat is your current occupation\u001b[39m\u001b[38;5;124m'\u001b[39m])\n\u001b[0;32m      3\u001b[0m plt\u001b[38;5;241m.\u001b[39mxticks(rotation \u001b[38;5;241m=\u001b[39m \u001b[38;5;241m90\u001b[39m)\n\u001b[0;32m      4\u001b[0m plt\u001b[38;5;241m.\u001b[39mshow()\n",
      "File \u001b[1;32m~\\anaconda3\\Lib\\site-packages\\seaborn\\categorical.py:2943\u001b[0m, in \u001b[0;36mcountplot\u001b[1;34m(data, x, y, hue, order, hue_order, orient, color, palette, saturation, width, dodge, ax, **kwargs)\u001b[0m\n\u001b[0;32m   2940\u001b[0m \u001b[38;5;28;01melif\u001b[39;00m x \u001b[38;5;129;01mis\u001b[39;00m \u001b[38;5;129;01mnot\u001b[39;00m \u001b[38;5;28;01mNone\u001b[39;00m \u001b[38;5;129;01mand\u001b[39;00m y \u001b[38;5;129;01mis\u001b[39;00m \u001b[38;5;129;01mnot\u001b[39;00m \u001b[38;5;28;01mNone\u001b[39;00m:\n\u001b[0;32m   2941\u001b[0m     \u001b[38;5;28;01mraise\u001b[39;00m \u001b[38;5;167;01mValueError\u001b[39;00m(\u001b[38;5;124m\"\u001b[39m\u001b[38;5;124mCannot pass values for both `x` and `y`\u001b[39m\u001b[38;5;124m\"\u001b[39m)\n\u001b[1;32m-> 2943\u001b[0m plotter \u001b[38;5;241m=\u001b[39m _CountPlotter(\n\u001b[0;32m   2944\u001b[0m     x, y, hue, data, order, hue_order,\n\u001b[0;32m   2945\u001b[0m     estimator, errorbar, n_boot, units, seed,\n\u001b[0;32m   2946\u001b[0m     orient, color, palette, saturation,\n\u001b[0;32m   2947\u001b[0m     width, errcolor, errwidth, capsize, dodge\n\u001b[0;32m   2948\u001b[0m )\n\u001b[0;32m   2950\u001b[0m plotter\u001b[38;5;241m.\u001b[39mvalue_label \u001b[38;5;241m=\u001b[39m \u001b[38;5;124m\"\u001b[39m\u001b[38;5;124mcount\u001b[39m\u001b[38;5;124m\"\u001b[39m\n\u001b[0;32m   2952\u001b[0m \u001b[38;5;28;01mif\u001b[39;00m ax \u001b[38;5;129;01mis\u001b[39;00m \u001b[38;5;28;01mNone\u001b[39;00m:\n",
      "File \u001b[1;32m~\\anaconda3\\Lib\\site-packages\\seaborn\\categorical.py:1530\u001b[0m, in \u001b[0;36m_BarPlotter.__init__\u001b[1;34m(self, x, y, hue, data, order, hue_order, estimator, errorbar, n_boot, units, seed, orient, color, palette, saturation, width, errcolor, errwidth, capsize, dodge)\u001b[0m\n\u001b[0;32m   1525\u001b[0m \u001b[38;5;28;01mdef\u001b[39;00m \u001b[38;5;21m__init__\u001b[39m(\u001b[38;5;28mself\u001b[39m, x, y, hue, data, order, hue_order,\n\u001b[0;32m   1526\u001b[0m              estimator, errorbar, n_boot, units, seed,\n\u001b[0;32m   1527\u001b[0m              orient, color, palette, saturation, width,\n\u001b[0;32m   1528\u001b[0m              errcolor, errwidth, capsize, dodge):\n\u001b[0;32m   1529\u001b[0m \u001b[38;5;250m    \u001b[39m\u001b[38;5;124;03m\"\"\"Initialize the plotter.\"\"\"\u001b[39;00m\n\u001b[1;32m-> 1530\u001b[0m     \u001b[38;5;28mself\u001b[39m\u001b[38;5;241m.\u001b[39mestablish_variables(x, y, hue, data, orient,\n\u001b[0;32m   1531\u001b[0m                              order, hue_order, units)\n\u001b[0;32m   1532\u001b[0m     \u001b[38;5;28mself\u001b[39m\u001b[38;5;241m.\u001b[39mestablish_colors(color, palette, saturation)\n\u001b[0;32m   1533\u001b[0m     \u001b[38;5;28mself\u001b[39m\u001b[38;5;241m.\u001b[39mestimate_statistic(estimator, errorbar, n_boot, seed)\n",
      "File \u001b[1;32m~\\anaconda3\\Lib\\site-packages\\seaborn\\categorical.py:516\u001b[0m, in \u001b[0;36m_CategoricalPlotter.establish_variables\u001b[1;34m(self, x, y, hue, data, orient, order, hue_order, units)\u001b[0m\n\u001b[0;32m    513\u001b[0m     plot_data \u001b[38;5;241m=\u001b[39m data\n\u001b[0;32m    515\u001b[0m \u001b[38;5;66;03m# Convert to a list of arrays, the common representation\u001b[39;00m\n\u001b[1;32m--> 516\u001b[0m plot_data \u001b[38;5;241m=\u001b[39m [np\u001b[38;5;241m.\u001b[39masarray(d, \u001b[38;5;28mfloat\u001b[39m) \u001b[38;5;28;01mfor\u001b[39;00m d \u001b[38;5;129;01min\u001b[39;00m plot_data]\n\u001b[0;32m    518\u001b[0m \u001b[38;5;66;03m# The group names will just be numeric indices\u001b[39;00m\n\u001b[0;32m    519\u001b[0m group_names \u001b[38;5;241m=\u001b[39m \u001b[38;5;28mlist\u001b[39m(\u001b[38;5;28mrange\u001b[39m(\u001b[38;5;28mlen\u001b[39m(plot_data)))\n",
      "File \u001b[1;32m~\\anaconda3\\Lib\\site-packages\\seaborn\\categorical.py:516\u001b[0m, in \u001b[0;36m<listcomp>\u001b[1;34m(.0)\u001b[0m\n\u001b[0;32m    513\u001b[0m     plot_data \u001b[38;5;241m=\u001b[39m data\n\u001b[0;32m    515\u001b[0m \u001b[38;5;66;03m# Convert to a list of arrays, the common representation\u001b[39;00m\n\u001b[1;32m--> 516\u001b[0m plot_data \u001b[38;5;241m=\u001b[39m [np\u001b[38;5;241m.\u001b[39masarray(d, \u001b[38;5;28mfloat\u001b[39m) \u001b[38;5;28;01mfor\u001b[39;00m d \u001b[38;5;129;01min\u001b[39;00m plot_data]\n\u001b[0;32m    518\u001b[0m \u001b[38;5;66;03m# The group names will just be numeric indices\u001b[39;00m\n\u001b[0;32m    519\u001b[0m group_names \u001b[38;5;241m=\u001b[39m \u001b[38;5;28mlist\u001b[39m(\u001b[38;5;28mrange\u001b[39m(\u001b[38;5;28mlen\u001b[39m(plot_data)))\n",
      "File \u001b[1;32m~\\anaconda3\\Lib\\site-packages\\pandas\\core\\series.py:953\u001b[0m, in \u001b[0;36mSeries.__array__\u001b[1;34m(self, dtype)\u001b[0m\n\u001b[0;32m    906\u001b[0m \u001b[38;5;250m\u001b[39m\u001b[38;5;124;03m\"\"\"\u001b[39;00m\n\u001b[0;32m    907\u001b[0m \u001b[38;5;124;03mReturn the values as a NumPy array.\u001b[39;00m\n\u001b[0;32m    908\u001b[0m \n\u001b[1;32m   (...)\u001b[0m\n\u001b[0;32m    950\u001b[0m \u001b[38;5;124;03m      dtype='datetime64[ns]')\u001b[39;00m\n\u001b[0;32m    951\u001b[0m \u001b[38;5;124;03m\"\"\"\u001b[39;00m\n\u001b[0;32m    952\u001b[0m values \u001b[38;5;241m=\u001b[39m \u001b[38;5;28mself\u001b[39m\u001b[38;5;241m.\u001b[39m_values\n\u001b[1;32m--> 953\u001b[0m arr \u001b[38;5;241m=\u001b[39m np\u001b[38;5;241m.\u001b[39masarray(values, dtype\u001b[38;5;241m=\u001b[39mdtype)\n\u001b[0;32m    954\u001b[0m \u001b[38;5;28;01mif\u001b[39;00m using_copy_on_write() \u001b[38;5;129;01mand\u001b[39;00m astype_is_view(values\u001b[38;5;241m.\u001b[39mdtype, arr\u001b[38;5;241m.\u001b[39mdtype):\n\u001b[0;32m    955\u001b[0m     arr \u001b[38;5;241m=\u001b[39m arr\u001b[38;5;241m.\u001b[39mview()\n",
      "\u001b[1;31mValueError\u001b[0m: could not convert string to float: 'Unemployed'"
     ]
    }
   ],
   "source": [
    "## Checking What is your current occupation\n",
    "sns.countplot(Lead_data['What is your current occupation'])\n",
    "plt.xticks(rotation = 90)\n",
    "plt.show()"
   ]
  },
  {
   "cell_type": "code",
   "execution_count": 24,
   "id": "4bd908ad-831a-44f4-b97d-caca0e2d5756",
   "metadata": {},
   "outputs": [
    {
     "data": {
      "text/plain": [
       "What is your current occupation\n",
       "Unemployed              5600\n",
       "Working Professional     706\n",
       "Student                  210\n",
       "Other                     16\n",
       "Housewife                 10\n",
       "Businessman                8\n",
       "Name: count, dtype: int64"
      ]
     },
     "execution_count": 24,
     "metadata": {},
     "output_type": "execute_result"
    }
   ],
   "source": [
    "Lead_data['What is your current occupation'].value_counts()"
   ]
  },
  {
   "cell_type": "code",
   "execution_count": 25,
   "id": "5f3f471b-abcd-47cb-82a9-867c91d81e3d",
   "metadata": {},
   "outputs": [],
   "source": [
    "# Imputing Null with Others\n",
    "Lead_data['What is your current occupation'] = Lead_data['What is your current occupation'].replace(np.nan, 'Other')"
   ]
  },
  {
   "cell_type": "code",
   "execution_count": 26,
   "id": "54878f28-819f-4fd2-8f15-9193cea9a4af",
   "metadata": {},
   "outputs": [
    {
     "data": {
      "text/plain": [
       "What is your current occupation\n",
       "Unemployed              5600\n",
       "Other                   2706\n",
       "Working Professional     706\n",
       "Student                  210\n",
       "Housewife                 10\n",
       "Businessman                8\n",
       "Name: count, dtype: int64"
      ]
     },
     "execution_count": 26,
     "metadata": {},
     "output_type": "execute_result"
    }
   ],
   "source": [
    "Lead_data['What is your current occupation'].value_counts()"
   ]
  },
  {
   "cell_type": "code",
   "execution_count": 27,
   "id": "e5a2fc68-ab41-45bf-a062-0af261d9527a",
   "metadata": {},
   "outputs": [
    {
     "ename": "ValueError",
     "evalue": "could not convert string to float: 'India'",
     "output_type": "error",
     "traceback": [
      "\u001b[1;31m---------------------------------------------------------------------------\u001b[0m",
      "\u001b[1;31mValueError\u001b[0m                                Traceback (most recent call last)",
      "Cell \u001b[1;32mIn[27], line 2\u001b[0m\n\u001b[0;32m      1\u001b[0m \u001b[38;5;66;03m## Checking Country\u001b[39;00m\n\u001b[1;32m----> 2\u001b[0m sns\u001b[38;5;241m.\u001b[39mcountplot(Lead_data[\u001b[38;5;124m'\u001b[39m\u001b[38;5;124mCountry\u001b[39m\u001b[38;5;124m'\u001b[39m])\n\u001b[0;32m      3\u001b[0m plt\u001b[38;5;241m.\u001b[39mxticks(rotation \u001b[38;5;241m=\u001b[39m \u001b[38;5;241m90\u001b[39m)\n\u001b[0;32m      4\u001b[0m plt\u001b[38;5;241m.\u001b[39mshow()\n",
      "File \u001b[1;32m~\\anaconda3\\Lib\\site-packages\\seaborn\\categorical.py:2943\u001b[0m, in \u001b[0;36mcountplot\u001b[1;34m(data, x, y, hue, order, hue_order, orient, color, palette, saturation, width, dodge, ax, **kwargs)\u001b[0m\n\u001b[0;32m   2940\u001b[0m \u001b[38;5;28;01melif\u001b[39;00m x \u001b[38;5;129;01mis\u001b[39;00m \u001b[38;5;129;01mnot\u001b[39;00m \u001b[38;5;28;01mNone\u001b[39;00m \u001b[38;5;129;01mand\u001b[39;00m y \u001b[38;5;129;01mis\u001b[39;00m \u001b[38;5;129;01mnot\u001b[39;00m \u001b[38;5;28;01mNone\u001b[39;00m:\n\u001b[0;32m   2941\u001b[0m     \u001b[38;5;28;01mraise\u001b[39;00m \u001b[38;5;167;01mValueError\u001b[39;00m(\u001b[38;5;124m\"\u001b[39m\u001b[38;5;124mCannot pass values for both `x` and `y`\u001b[39m\u001b[38;5;124m\"\u001b[39m)\n\u001b[1;32m-> 2943\u001b[0m plotter \u001b[38;5;241m=\u001b[39m _CountPlotter(\n\u001b[0;32m   2944\u001b[0m     x, y, hue, data, order, hue_order,\n\u001b[0;32m   2945\u001b[0m     estimator, errorbar, n_boot, units, seed,\n\u001b[0;32m   2946\u001b[0m     orient, color, palette, saturation,\n\u001b[0;32m   2947\u001b[0m     width, errcolor, errwidth, capsize, dodge\n\u001b[0;32m   2948\u001b[0m )\n\u001b[0;32m   2950\u001b[0m plotter\u001b[38;5;241m.\u001b[39mvalue_label \u001b[38;5;241m=\u001b[39m \u001b[38;5;124m\"\u001b[39m\u001b[38;5;124mcount\u001b[39m\u001b[38;5;124m\"\u001b[39m\n\u001b[0;32m   2952\u001b[0m \u001b[38;5;28;01mif\u001b[39;00m ax \u001b[38;5;129;01mis\u001b[39;00m \u001b[38;5;28;01mNone\u001b[39;00m:\n",
      "File \u001b[1;32m~\\anaconda3\\Lib\\site-packages\\seaborn\\categorical.py:1530\u001b[0m, in \u001b[0;36m_BarPlotter.__init__\u001b[1;34m(self, x, y, hue, data, order, hue_order, estimator, errorbar, n_boot, units, seed, orient, color, palette, saturation, width, errcolor, errwidth, capsize, dodge)\u001b[0m\n\u001b[0;32m   1525\u001b[0m \u001b[38;5;28;01mdef\u001b[39;00m \u001b[38;5;21m__init__\u001b[39m(\u001b[38;5;28mself\u001b[39m, x, y, hue, data, order, hue_order,\n\u001b[0;32m   1526\u001b[0m              estimator, errorbar, n_boot, units, seed,\n\u001b[0;32m   1527\u001b[0m              orient, color, palette, saturation, width,\n\u001b[0;32m   1528\u001b[0m              errcolor, errwidth, capsize, dodge):\n\u001b[0;32m   1529\u001b[0m \u001b[38;5;250m    \u001b[39m\u001b[38;5;124;03m\"\"\"Initialize the plotter.\"\"\"\u001b[39;00m\n\u001b[1;32m-> 1530\u001b[0m     \u001b[38;5;28mself\u001b[39m\u001b[38;5;241m.\u001b[39mestablish_variables(x, y, hue, data, orient,\n\u001b[0;32m   1531\u001b[0m                              order, hue_order, units)\n\u001b[0;32m   1532\u001b[0m     \u001b[38;5;28mself\u001b[39m\u001b[38;5;241m.\u001b[39mestablish_colors(color, palette, saturation)\n\u001b[0;32m   1533\u001b[0m     \u001b[38;5;28mself\u001b[39m\u001b[38;5;241m.\u001b[39mestimate_statistic(estimator, errorbar, n_boot, seed)\n",
      "File \u001b[1;32m~\\anaconda3\\Lib\\site-packages\\seaborn\\categorical.py:516\u001b[0m, in \u001b[0;36m_CategoricalPlotter.establish_variables\u001b[1;34m(self, x, y, hue, data, orient, order, hue_order, units)\u001b[0m\n\u001b[0;32m    513\u001b[0m     plot_data \u001b[38;5;241m=\u001b[39m data\n\u001b[0;32m    515\u001b[0m \u001b[38;5;66;03m# Convert to a list of arrays, the common representation\u001b[39;00m\n\u001b[1;32m--> 516\u001b[0m plot_data \u001b[38;5;241m=\u001b[39m [np\u001b[38;5;241m.\u001b[39masarray(d, \u001b[38;5;28mfloat\u001b[39m) \u001b[38;5;28;01mfor\u001b[39;00m d \u001b[38;5;129;01min\u001b[39;00m plot_data]\n\u001b[0;32m    518\u001b[0m \u001b[38;5;66;03m# The group names will just be numeric indices\u001b[39;00m\n\u001b[0;32m    519\u001b[0m group_names \u001b[38;5;241m=\u001b[39m \u001b[38;5;28mlist\u001b[39m(\u001b[38;5;28mrange\u001b[39m(\u001b[38;5;28mlen\u001b[39m(plot_data)))\n",
      "File \u001b[1;32m~\\anaconda3\\Lib\\site-packages\\seaborn\\categorical.py:516\u001b[0m, in \u001b[0;36m<listcomp>\u001b[1;34m(.0)\u001b[0m\n\u001b[0;32m    513\u001b[0m     plot_data \u001b[38;5;241m=\u001b[39m data\n\u001b[0;32m    515\u001b[0m \u001b[38;5;66;03m# Convert to a list of arrays, the common representation\u001b[39;00m\n\u001b[1;32m--> 516\u001b[0m plot_data \u001b[38;5;241m=\u001b[39m [np\u001b[38;5;241m.\u001b[39masarray(d, \u001b[38;5;28mfloat\u001b[39m) \u001b[38;5;28;01mfor\u001b[39;00m d \u001b[38;5;129;01min\u001b[39;00m plot_data]\n\u001b[0;32m    518\u001b[0m \u001b[38;5;66;03m# The group names will just be numeric indices\u001b[39;00m\n\u001b[0;32m    519\u001b[0m group_names \u001b[38;5;241m=\u001b[39m \u001b[38;5;28mlist\u001b[39m(\u001b[38;5;28mrange\u001b[39m(\u001b[38;5;28mlen\u001b[39m(plot_data)))\n",
      "File \u001b[1;32m~\\anaconda3\\Lib\\site-packages\\pandas\\core\\series.py:953\u001b[0m, in \u001b[0;36mSeries.__array__\u001b[1;34m(self, dtype)\u001b[0m\n\u001b[0;32m    906\u001b[0m \u001b[38;5;250m\u001b[39m\u001b[38;5;124;03m\"\"\"\u001b[39;00m\n\u001b[0;32m    907\u001b[0m \u001b[38;5;124;03mReturn the values as a NumPy array.\u001b[39;00m\n\u001b[0;32m    908\u001b[0m \n\u001b[1;32m   (...)\u001b[0m\n\u001b[0;32m    950\u001b[0m \u001b[38;5;124;03m      dtype='datetime64[ns]')\u001b[39;00m\n\u001b[0;32m    951\u001b[0m \u001b[38;5;124;03m\"\"\"\u001b[39;00m\n\u001b[0;32m    952\u001b[0m values \u001b[38;5;241m=\u001b[39m \u001b[38;5;28mself\u001b[39m\u001b[38;5;241m.\u001b[39m_values\n\u001b[1;32m--> 953\u001b[0m arr \u001b[38;5;241m=\u001b[39m np\u001b[38;5;241m.\u001b[39masarray(values, dtype\u001b[38;5;241m=\u001b[39mdtype)\n\u001b[0;32m    954\u001b[0m \u001b[38;5;28;01mif\u001b[39;00m using_copy_on_write() \u001b[38;5;129;01mand\u001b[39;00m astype_is_view(values\u001b[38;5;241m.\u001b[39mdtype, arr\u001b[38;5;241m.\u001b[39mdtype):\n\u001b[0;32m    955\u001b[0m     arr \u001b[38;5;241m=\u001b[39m arr\u001b[38;5;241m.\u001b[39mview()\n",
      "\u001b[1;31mValueError\u001b[0m: could not convert string to float: 'India'"
     ]
    }
   ],
   "source": [
    "## Checking Country\n",
    "sns.countplot(Lead_data['Country'])\n",
    "plt.xticks(rotation = 90)\n",
    "plt.show()"
   ]
  },
  {
   "cell_type": "code",
   "execution_count": 28,
   "id": "d7d383ba-d464-47ff-b4d1-fc1634d28c70",
   "metadata": {},
   "outputs": [
    {
     "data": {
      "text/plain": [
       "Country\n",
       "India                   6492\n",
       "United States             69\n",
       "United Arab Emirates      53\n",
       "Singapore                 24\n",
       "Saudi Arabia              21\n",
       "United Kingdom            15\n",
       "Australia                 13\n",
       "Qatar                     10\n",
       "Hong Kong                  7\n",
       "Bahrain                    7\n",
       "Oman                       6\n",
       "France                     6\n",
       "unknown                    5\n",
       "South Africa               4\n",
       "Nigeria                    4\n",
       "Germany                    4\n",
       "Kuwait                     4\n",
       "Canada                     4\n",
       "Sweden                     3\n",
       "China                      2\n",
       "Asia/Pacific Region        2\n",
       "Uganda                     2\n",
       "Bangladesh                 2\n",
       "Italy                      2\n",
       "Belgium                    2\n",
       "Netherlands                2\n",
       "Ghana                      2\n",
       "Philippines                2\n",
       "Russia                     1\n",
       "Switzerland                1\n",
       "Vietnam                    1\n",
       "Denmark                    1\n",
       "Tanzania                   1\n",
       "Liberia                    1\n",
       "Malaysia                   1\n",
       "Kenya                      1\n",
       "Sri Lanka                  1\n",
       "Indonesia                  1\n",
       "Name: count, dtype: int64"
      ]
     },
     "execution_count": 28,
     "metadata": {},
     "output_type": "execute_result"
    }
   ],
   "source": [
    "Lead_data['Country'].value_counts()"
   ]
  },
  {
   "cell_type": "code",
   "execution_count": 29,
   "id": "5a868fea-90d4-4731-8b98-7fb7ba192d0d",
   "metadata": {},
   "outputs": [],
   "source": [
    "## drop 'Country' as it is highly skewed\n",
    "Lead_data=Lead_data.drop('Country',axis=1)"
   ]
  },
  {
   "cell_type": "code",
   "execution_count": 30,
   "id": "6a4f23f7-9e1e-4bc9-b040-27f28d65ed0e",
   "metadata": {},
   "outputs": [
    {
     "data": {
      "text/plain": [
       "Last Activity\n",
       "Email Opened                    3437\n",
       "SMS Sent                        2745\n",
       "Olark Chat Conversation          973\n",
       "Page Visited on Website          640\n",
       "Converted to Lead                428\n",
       "Email Bounced                    326\n",
       "Email Link Clicked               267\n",
       "Form Submitted on Website        116\n",
       "Unreachable                       93\n",
       "Unsubscribed                      61\n",
       "Had a Phone Conversation          30\n",
       "Approached upfront                 9\n",
       "View in browser link Clicked       6\n",
       "Email Received                     2\n",
       "Email Marked Spam                  2\n",
       "Visited Booth in Tradeshow         1\n",
       "Resubscribed to emails             1\n",
       "Name: count, dtype: int64"
      ]
     },
     "execution_count": 30,
     "metadata": {},
     "output_type": "execute_result"
    }
   ],
   "source": [
    "## Checking Last Activity\n",
    "Lead_data['Last Activity'].value_counts()"
   ]
  },
  {
   "cell_type": "code",
   "execution_count": 31,
   "id": "ea9a8ced-faf0-4765-b495-c6760f5d8853",
   "metadata": {},
   "outputs": [],
   "source": [
    "# Imputing Null with Others\n",
    "Lead_data['Last Activity'] = Lead_data['Last Activity'].replace(np.nan, 'Others')\n",
    "\n",
    "# Merging low frequency items to Others\n",
    "Lead_data['Last Activity'] = Lead_data['Last Activity'].replace(['Unreachable','Unsubscribed','Had a Phone Conversation','Approached upfront',\n",
    "                                                   'View in browser link Clicked','Email Received','Email Marked Spam','Resubscribed to emails',\n",
    "                                                  'Visited Booth in Tradeshow'], 'Others')"
   ]
  },
  {
   "cell_type": "code",
   "execution_count": 32,
   "id": "1459a556-78ff-44e5-a949-d31787de6a98",
   "metadata": {},
   "outputs": [
    {
     "data": {
      "text/plain": [
       "Last Activity\n",
       "Email Opened                 3437\n",
       "SMS Sent                     2745\n",
       "Olark Chat Conversation       973\n",
       "Page Visited on Website       640\n",
       "Converted to Lead             428\n",
       "Email Bounced                 326\n",
       "Others                        308\n",
       "Email Link Clicked            267\n",
       "Form Submitted on Website     116\n",
       "Name: count, dtype: int64"
      ]
     },
     "execution_count": 32,
     "metadata": {},
     "output_type": "execute_result"
    }
   ],
   "source": [
    "## Checking Last Activity\n",
    "Lead_data['Last Activity'].value_counts()"
   ]
  },
  {
   "cell_type": "code",
   "execution_count": 33,
   "id": "95288a0b-73cf-42d0-bf24-7bb8a8ca1dfa",
   "metadata": {},
   "outputs": [
    {
     "data": {
      "text/plain": [
       "Lead Source\n",
       "Google               2868\n",
       "Direct Traffic       2543\n",
       "Olark Chat           1755\n",
       "Organic Search       1154\n",
       "Reference             534\n",
       "Welingak Website      142\n",
       "Referral Sites        125\n",
       "Facebook               55\n",
       "bing                    6\n",
       "google                  5\n",
       "Click2call              4\n",
       "Press_Release           2\n",
       "Social Media            2\n",
       "Live Chat               2\n",
       "youtubechannel          1\n",
       "testone                 1\n",
       "Pay per Click Ads       1\n",
       "welearnblog_Home        1\n",
       "WeLearn                 1\n",
       "blog                    1\n",
       "NC_EDM                  1\n",
       "Name: count, dtype: int64"
      ]
     },
     "execution_count": 33,
     "metadata": {},
     "output_type": "execute_result"
    }
   ],
   "source": [
    "# Checking unique value counts of Lead Source \n",
    "\n",
    "Lead_data['Lead Source'].value_counts()"
   ]
  },
  {
   "cell_type": "code",
   "execution_count": 34,
   "id": "e33019b3-5122-43fd-a317-cc7e3b684703",
   "metadata": {},
   "outputs": [],
   "source": [
    "# Merging 2 Google into one category\n",
    "Lead_data['Lead Source'] = Lead_data['Lead Source'].replace('google', 'Google')\n",
    "\n",
    "\n",
    "# Imputing Null with Others\n",
    "Lead_data['Lead Source'] = Lead_data['Lead Source'].replace(np.nan, 'Others')\n",
    "\n",
    "# Merging low frequency items to Others\n",
    "Lead_data['Lead Source'] = Lead_data['Lead Source'].replace(['bing', 'Click2call', 'Press_Release',\n",
    "                                                   'youtubechannel', 'welearnblog_Home',\n",
    "                                                   'WeLearn', 'blog', 'Pay per Click Ads',\n",
    "                                                   'testone', 'NC_EDM', 'Live Chat', 'Facebook', 'Social Media'], 'Others')"
   ]
  },
  {
   "cell_type": "code",
   "execution_count": 35,
   "id": "a44645ec-368e-41bd-886d-9af1de9751d5",
   "metadata": {},
   "outputs": [
    {
     "data": {
      "text/plain": [
       "Lead Source\n",
       "Google              2873\n",
       "Direct Traffic      2543\n",
       "Olark Chat          1755\n",
       "Organic Search      1154\n",
       "Reference            534\n",
       "Welingak Website     142\n",
       "Referral Sites       125\n",
       "Others               114\n",
       "Name: count, dtype: int64"
      ]
     },
     "execution_count": 35,
     "metadata": {},
     "output_type": "execute_result"
    }
   ],
   "source": [
    "# Checking unique value counts \n",
    "Lead_data['Lead Source'].value_counts()"
   ]
  },
  {
   "cell_type": "code",
   "execution_count": 36,
   "id": "6062686a-05d9-406f-b00a-d5ce3e7db464",
   "metadata": {},
   "outputs": [
    {
     "data": {
      "text/plain": [
       "Last Notable Activity\n",
       "Modified                        3407\n",
       "Email Opened                    2827\n",
       "SMS Sent                        2172\n",
       "Page Visited on Website          318\n",
       "Olark Chat Conversation          183\n",
       "Email Link Clicked               173\n",
       "Email Bounced                     60\n",
       "Unsubscribed                      47\n",
       "Unreachable                       32\n",
       "Had a Phone Conversation          14\n",
       "Email Marked Spam                  2\n",
       "Approached upfront                 1\n",
       "Resubscribed to emails             1\n",
       "View in browser link Clicked       1\n",
       "Form Submitted on Website          1\n",
       "Email Received                     1\n",
       "Name: count, dtype: int64"
      ]
     },
     "execution_count": 36,
     "metadata": {},
     "output_type": "execute_result"
    }
   ],
   "source": [
    "## Checking Last Notable Activity\n",
    "Lead_data['Last Notable Activity'].value_counts()"
   ]
  },
  {
   "cell_type": "code",
   "execution_count": 37,
   "id": "dbcbedfc-4517-4d7d-b459-96314a481a97",
   "metadata": {},
   "outputs": [],
   "source": [
    "# Merging low frequency items to Others\n",
    "Lead_data['Last Notable Activity'] = Lead_data['Last Notable Activity'].replace(['Email Bounced', 'Unsubscribed', 'Unreachable', \n",
    "                                                                         'Had a Phone Conversation', 'Email Marked Spam', \n",
    "                                                                         'Resubscribed to emails', 'Approached upfront', \n",
    "                                                                         'Email Received', 'Form Submitted on Website', \n",
    "                                                                         'View in browser link Clicked'], 'Others')"
   ]
  },
  {
   "cell_type": "code",
   "execution_count": 38,
   "id": "5b409679-fe75-4535-99c0-00c4daa01837",
   "metadata": {},
   "outputs": [
    {
     "data": {
      "text/plain": [
       "count    9103.000000\n",
       "mean        3.445238\n",
       "std         4.854853\n",
       "min         0.000000\n",
       "25%         1.000000\n",
       "50%         3.000000\n",
       "75%         5.000000\n",
       "max       251.000000\n",
       "Name: TotalVisits, dtype: float64"
      ]
     },
     "execution_count": 38,
     "metadata": {},
     "output_type": "execute_result"
    }
   ],
   "source": [
    "# Checking TotalVisits\n",
    "Lead_data.TotalVisits.describe()"
   ]
  },
  {
   "cell_type": "code",
   "execution_count": 39,
   "id": "990862bc-7864-4700-85cc-edbee222e2b1",
   "metadata": {},
   "outputs": [],
   "source": [
    "# Impute TotalVisits with the median\n",
    "TotalVisits_med = Lead_data.TotalVisits.median()\n",
    "Lead_data.TotalVisits.fillna(TotalVisits_med, inplace=True)"
   ]
  },
  {
   "cell_type": "code",
   "execution_count": 40,
   "id": "474b4c72-bdde-4a8b-a7dc-96b652430948",
   "metadata": {},
   "outputs": [
    {
     "data": {
      "text/plain": [
       "count    9103.000000\n",
       "mean        2.362820\n",
       "std         2.161418\n",
       "min         0.000000\n",
       "25%         1.000000\n",
       "50%         2.000000\n",
       "75%         3.000000\n",
       "max        55.000000\n",
       "Name: Page Views Per Visit, dtype: float64"
      ]
     },
     "execution_count": 40,
     "metadata": {},
     "output_type": "execute_result"
    }
   ],
   "source": [
    "# Checking Page Views Per Visit\n",
    "Lead_data['Page Views Per Visit'].describe()"
   ]
  },
  {
   "cell_type": "code",
   "execution_count": 41,
   "id": "b3d0475c-5299-406b-8592-370066011043",
   "metadata": {},
   "outputs": [],
   "source": [
    "# Impute Page Views Per Visit with the median\n",
    "pvpv_med = Lead_data['Page Views Per Visit'].median()\n",
    "Lead_data['Page Views Per Visit'].fillna(pvpv_med, inplace=True)"
   ]
  },
  {
   "cell_type": "code",
   "execution_count": 42,
   "id": "e5881ea9-c1f5-4a85-bf4a-69d2954258b8",
   "metadata": {},
   "outputs": [
    {
     "data": {
      "text/plain": [
       "City                                        39.71\n",
       "Prospect ID                                  0.00\n",
       "Lead Number                                  0.00\n",
       "A free copy of Mastering The Interview       0.00\n",
       "I agree to pay the amount through cheque     0.00\n",
       "Get updates on DM Content                    0.00\n",
       "Update me on Supply Chain Content            0.00\n",
       "Tags                                         0.00\n",
       "Receive More Updates About Our Courses       0.00\n",
       "Through Recommendations                      0.00\n",
       "Digital Advertisement                        0.00\n",
       "Newspaper                                    0.00\n",
       "X Education Forums                           0.00\n",
       "Newspaper Article                            0.00\n",
       "Magazine                                     0.00\n",
       "Search                                       0.00\n",
       "What is your current occupation              0.00\n",
       "Specialization                               0.00\n",
       "Last Activity                                0.00\n",
       "Page Views Per Visit                         0.00\n",
       "Total Time Spent on Website                  0.00\n",
       "TotalVisits                                  0.00\n",
       "Converted                                    0.00\n",
       "Do Not Call                                  0.00\n",
       "Do Not Email                                 0.00\n",
       "Lead Source                                  0.00\n",
       "Lead Origin                                  0.00\n",
       "Last Notable Activity                        0.00\n",
       "dtype: float64"
      ]
     },
     "execution_count": 42,
     "metadata": {},
     "output_type": "execute_result"
    }
   ],
   "source": [
    "round((100*Lead_data.isnull().sum()/Lead_data.shape[0]),2).sort_values(ascending=False)"
   ]
  },
  {
   "cell_type": "code",
   "execution_count": 43,
   "id": "648b98a2-c2a0-4f07-9370-b7718b9f2777",
   "metadata": {},
   "outputs": [
    {
     "name": "stdout",
     "output_type": "stream",
     "text": [
      "Prospect ID\n",
      "000104b9-23e4-4ddc-8caa-8629fe8ad7f4    1\n",
      "a7a319ea-b6ae-4c6b-afc5-183b933d10b5    1\n",
      "aa27a0af-eeab-4007-a770-fa8a93fa53c8    1\n",
      "aa30ebb2-8476-41ce-9258-37cc025110d3    1\n",
      "aa405742-17ac-4c65-b19e-ab91c241cc53    1\n",
      "                                       ..\n",
      "539eb309-df36-4a89-ac58-6d3651393910    1\n",
      "539ffa32-1be7-4fe1-b04c-faf1bab763cf    1\n",
      "53aabd84-5dcc-4299-bbe3-62f3764b07b1    1\n",
      "53ac14bd-2bb2-4315-a21c-94562d1b6b2d    1\n",
      "fffb0e5e-9f92-4017-9f42-781a69da4154    1\n",
      "Name: count, Length: 9240, dtype: int64\n",
      "###################################################\n",
      "Lead Origin\n",
      "Landing Page Submission    4886\n",
      "API                        3580\n",
      "Lead Add Form               718\n",
      "Lead Import                  55\n",
      "Quick Add Form                1\n",
      "Name: count, dtype: int64\n",
      "###################################################\n",
      "Lead Source\n",
      "Google              2873\n",
      "Direct Traffic      2543\n",
      "Olark Chat          1755\n",
      "Organic Search      1154\n",
      "Reference            534\n",
      "Welingak Website     142\n",
      "Referral Sites       125\n",
      "Others               114\n",
      "Name: count, dtype: int64\n",
      "###################################################\n",
      "Do Not Email\n",
      "No     8506\n",
      "Yes     734\n",
      "Name: count, dtype: int64\n",
      "###################################################\n",
      "Do Not Call\n",
      "No     9238\n",
      "Yes       2\n",
      "Name: count, dtype: int64\n",
      "###################################################\n",
      "Last Activity\n",
      "Email Opened                 3437\n",
      "SMS Sent                     2745\n",
      "Olark Chat Conversation       973\n",
      "Page Visited on Website       640\n",
      "Converted to Lead             428\n",
      "Email Bounced                 326\n",
      "Others                        308\n",
      "Email Link Clicked            267\n",
      "Form Submitted on Website     116\n",
      "Name: count, dtype: int64\n",
      "###################################################\n",
      "Specialization\n",
      "Others                               3550\n",
      "Finance Management                    976\n",
      "Human Resource Management             848\n",
      "Marketing Management                  838\n",
      "Operations Management                 503\n",
      "Business Administration               403\n",
      "IT Projects Management                366\n",
      "Supply Chain Management               349\n",
      "Banking, Investment And Insurance     338\n",
      "Media and Advertising                 203\n",
      "Travel and Tourism                    203\n",
      "International Business                178\n",
      "Healthcare Management                 159\n",
      "Hospitality Management                114\n",
      "E-COMMERCE                            112\n",
      "Retail Management                     100\n",
      "Name: count, dtype: int64\n",
      "###################################################\n",
      "What is your current occupation\n",
      "Unemployed              5600\n",
      "Other                   2706\n",
      "Working Professional     706\n",
      "Student                  210\n",
      "Housewife                 10\n",
      "Businessman                8\n",
      "Name: count, dtype: int64\n",
      "###################################################\n",
      "Search\n",
      "No     9226\n",
      "Yes      14\n",
      "Name: count, dtype: int64\n",
      "###################################################\n",
      "Magazine\n",
      "No    9240\n",
      "Name: count, dtype: int64\n",
      "###################################################\n",
      "Newspaper Article\n",
      "No     9238\n",
      "Yes       2\n",
      "Name: count, dtype: int64\n",
      "###################################################\n",
      "X Education Forums\n",
      "No     9239\n",
      "Yes       1\n",
      "Name: count, dtype: int64\n",
      "###################################################\n",
      "Newspaper\n",
      "No     9239\n",
      "Yes       1\n",
      "Name: count, dtype: int64\n",
      "###################################################\n",
      "Digital Advertisement\n",
      "No     9236\n",
      "Yes       4\n",
      "Name: count, dtype: int64\n",
      "###################################################\n",
      "Through Recommendations\n",
      "No     9233\n",
      "Yes       7\n",
      "Name: count, dtype: int64\n",
      "###################################################\n",
      "Receive More Updates About Our Courses\n",
      "No    9240\n",
      "Name: count, dtype: int64\n",
      "###################################################\n",
      "Tags\n",
      "Others                                 4987\n",
      "Will revert after reading the email    2072\n",
      "Ringing                                1203\n",
      "Interested in other courses             513\n",
      "Already a student                       465\n",
      "Name: count, dtype: int64\n",
      "###################################################\n",
      "Update me on Supply Chain Content\n",
      "No    9240\n",
      "Name: count, dtype: int64\n",
      "###################################################\n",
      "Get updates on DM Content\n",
      "No    9240\n",
      "Name: count, dtype: int64\n",
      "###################################################\n",
      "City\n",
      "Mumbai                         3222\n",
      "Thane & Outskirts               752\n",
      "Other Cities                    686\n",
      "Other Cities of Maharashtra     457\n",
      "Other Metro Cities              380\n",
      "Tier II Cities                   74\n",
      "Name: count, dtype: int64\n",
      "###################################################\n",
      "I agree to pay the amount through cheque\n",
      "No    9240\n",
      "Name: count, dtype: int64\n",
      "###################################################\n",
      "A free copy of Mastering The Interview\n",
      "No     6352\n",
      "Yes    2888\n",
      "Name: count, dtype: int64\n",
      "###################################################\n",
      "Last Notable Activity\n",
      "Modified                   3407\n",
      "Email Opened               2827\n",
      "SMS Sent                   2172\n",
      "Page Visited on Website     318\n",
      "Olark Chat Conversation     183\n",
      "Email Link Clicked          173\n",
      "Others                      160\n",
      "Name: count, dtype: int64\n",
      "###################################################\n"
     ]
    }
   ],
   "source": [
    "Lead_data_cat = Lead_data.loc[:, Lead_data.dtypes == 'object']\n",
    "for i in Lead_data_cat:\n",
    "    print(Lead_data[i].astype('category').value_counts())\n",
    "    print('###################################################')"
   ]
  },
  {
   "cell_type": "markdown",
   "id": "14b8c1af-4745-4795-975d-e27d6693fa33",
   "metadata": {},
   "source": [
    "The columns below can be dropped  because of high skewness\n",
    "Do Not Call,Do Not Email,Search,Newspaper Article,X Education Forums,Newspaper,Digital Advertisement,Through Recommendations\n",
    "The columns below can be dropped because they have unique values\n",
    "Magazine,Receive More Updates About Our Courses,Update me on Supply Chain Content,Get updates on DM Content,I agree to pay the amount through cheque"
   ]
  },
  {
   "cell_type": "code",
   "execution_count": 44,
   "id": "7b04908f-a3ff-4784-b7e3-810d674b67c3",
   "metadata": {},
   "outputs": [],
   "source": [
    "dropcol_cols = ['Do Not Call', 'Do Not Email', 'Search', 'Newspaper Article', 'X Education Forums', 'Newspaper', 'Digital Advertisement', \n",
    "                'Through Recommendations', 'Magazine', 'Receive More Updates About Our Courses', 'Update me on Supply Chain Content', \n",
    "                'Get updates on DM Content', 'I agree to pay the amount through cheque']\n",
    "Lead_data.drop(dropcol_cols, axis=1, inplace=True)"
   ]
  },
  {
   "cell_type": "code",
   "execution_count": 45,
   "id": "ea23579c-d016-4594-af99-a7ed3a4f9acc",
   "metadata": {},
   "outputs": [
    {
     "data": {
      "text/plain": [
       "(9240, 15)"
      ]
     },
     "execution_count": 45,
     "metadata": {},
     "output_type": "execute_result"
    }
   ],
   "source": [
    "Lead_data.shape"
   ]
  },
  {
   "cell_type": "code",
   "execution_count": 46,
   "id": "27bd45d3-8b48-46f4-9a96-18d94acde83f",
   "metadata": {},
   "outputs": [
    {
     "name": "stdout",
     "output_type": "stream",
     "text": [
      "<class 'pandas.core.frame.DataFrame'>\n",
      "RangeIndex: 9240 entries, 0 to 9239\n",
      "Data columns (total 15 columns):\n",
      " #   Column                                  Non-Null Count  Dtype  \n",
      "---  ------                                  --------------  -----  \n",
      " 0   Prospect ID                             9240 non-null   object \n",
      " 1   Lead Number                             9240 non-null   int64  \n",
      " 2   Lead Origin                             9240 non-null   object \n",
      " 3   Lead Source                             9240 non-null   object \n",
      " 4   Converted                               9240 non-null   int64  \n",
      " 5   TotalVisits                             9240 non-null   float64\n",
      " 6   Total Time Spent on Website             9240 non-null   int64  \n",
      " 7   Page Views Per Visit                    9240 non-null   float64\n",
      " 8   Last Activity                           9240 non-null   object \n",
      " 9   Specialization                          9240 non-null   object \n",
      " 10  What is your current occupation         9240 non-null   object \n",
      " 11  Tags                                    9240 non-null   object \n",
      " 12  City                                    5571 non-null   object \n",
      " 13  A free copy of Mastering The Interview  9240 non-null   object \n",
      " 14  Last Notable Activity                   9240 non-null   object \n",
      "dtypes: float64(2), int64(3), object(10)\n",
      "memory usage: 1.1+ MB\n"
     ]
    }
   ],
   "source": [
    "Lead_data.info()"
   ]
  },
  {
   "cell_type": "code",
   "execution_count": 47,
   "id": "f55fb665-e197-4b20-ace9-21722e4b6414",
   "metadata": {},
   "outputs": [],
   "source": [
    "## Creating a copy of the dataset excluding unique identifiers:\n",
    "Lead_data_excl = Lead_data.drop(['Prospect ID', 'Lead Number'], axis=1)"
   ]
  },
  {
   "cell_type": "markdown",
   "id": "607d5f8b-fa79-4e05-8a55-56dd0f440314",
   "metadata": {},
   "source": [
    "## EDA\n",
    "**Uni-variate/BI-Variate Analysis**"
   ]
  },
  {
   "cell_type": "code",
   "execution_count": 48,
   "id": "e2cb479d-e57d-4165-a731-602901624f43",
   "metadata": {},
   "outputs": [
    {
     "data": {
      "image/png": "[encoded data removed]",
      "text/plain": [
       "<Figure size 640x480 with 1 Axes>"
      ]
     },
     "metadata": {},
     "output_type": "display_data"
    }
   ],
   "source": [
    "## Percentage of Convered data\n",
    "ax=sns.barplot(x='Converted', y='Converted', data=Lead_data_excl, estimator=lambda x: len(x) / len(Lead_data_excl) * 100)\n",
    "for p in ax.patches:\n",
    "        ax.annotate('{:.2f}%'.format(p.get_height()), (p.get_x()+0.3, p.get_height()))\n",
    "plt.title('Target Variable Ratio')\n",
    "plt.xlabel('0=No 1=Yes')\n",
    "plt.xticks(rotation=0)\n",
    "plt.ylabel('% of Conversion')\n",
    "plt.show()"
   ]
  },
  {
   "cell_type": "code",
   "execution_count": 49,
   "id": "b63ebdd5-3656-4157-8414-9f351745c3f8",
   "metadata": {},
   "outputs": [
    {
     "ename": "AttributeError",
     "evalue": "'numpy.int64' object has no attribute 'startswith'",
     "output_type": "error",
     "traceback": [
      "\u001b[1;31m---------------------------------------------------------------------------\u001b[0m",
      "\u001b[1;31mAttributeError\u001b[0m                            Traceback (most recent call last)",
      "Cell \u001b[1;32mIn[49], line 2\u001b[0m\n\u001b[0;32m      1\u001b[0m \u001b[38;5;66;03m## Lead Origin \u001b[39;00m\n\u001b[1;32m----> 2\u001b[0m sns\u001b[38;5;241m.\u001b[39mcountplot(x \u001b[38;5;241m=\u001b[39m \u001b[38;5;124m\"\u001b[39m\u001b[38;5;124mLead Origin\u001b[39m\u001b[38;5;124m\"\u001b[39m, hue \u001b[38;5;241m=\u001b[39m \u001b[38;5;124m\"\u001b[39m\u001b[38;5;124mConverted\u001b[39m\u001b[38;5;124m\"\u001b[39m, data \u001b[38;5;241m=\u001b[39m Lead_data_excl)\n\u001b[0;32m      3\u001b[0m plt\u001b[38;5;241m.\u001b[39mxticks(rotation \u001b[38;5;241m=\u001b[39m \u001b[38;5;241m90\u001b[39m)\n\u001b[0;32m      4\u001b[0m plt\u001b[38;5;241m.\u001b[39mshow()\n",
      "File \u001b[1;32m~\\anaconda3\\Lib\\site-packages\\seaborn\\categorical.py:2955\u001b[0m, in \u001b[0;36mcountplot\u001b[1;34m(data, x, y, hue, order, hue_order, orient, color, palette, saturation, width, dodge, ax, **kwargs)\u001b[0m\n\u001b[0;32m   2952\u001b[0m \u001b[38;5;28;01mif\u001b[39;00m ax \u001b[38;5;129;01mis\u001b[39;00m \u001b[38;5;28;01mNone\u001b[39;00m:\n\u001b[0;32m   2953\u001b[0m     ax \u001b[38;5;241m=\u001b[39m plt\u001b[38;5;241m.\u001b[39mgca()\n\u001b[1;32m-> 2955\u001b[0m plotter\u001b[38;5;241m.\u001b[39mplot(ax, kwargs)\n\u001b[0;32m   2956\u001b[0m \u001b[38;5;28;01mreturn\u001b[39;00m ax\n",
      "File \u001b[1;32m~\\anaconda3\\Lib\\site-packages\\seaborn\\categorical.py:1587\u001b[0m, in \u001b[0;36m_BarPlotter.plot\u001b[1;34m(self, ax, bar_kws)\u001b[0m\n\u001b[0;32m   1585\u001b[0m \u001b[38;5;250m\u001b[39m\u001b[38;5;124;03m\"\"\"Make the plot.\"\"\"\u001b[39;00m\n\u001b[0;32m   1586\u001b[0m \u001b[38;5;28mself\u001b[39m\u001b[38;5;241m.\u001b[39mdraw_bars(ax, bar_kws)\n\u001b[1;32m-> 1587\u001b[0m \u001b[38;5;28mself\u001b[39m\u001b[38;5;241m.\u001b[39mannotate_axes(ax)\n\u001b[0;32m   1588\u001b[0m \u001b[38;5;28;01mif\u001b[39;00m \u001b[38;5;28mself\u001b[39m\u001b[38;5;241m.\u001b[39morient \u001b[38;5;241m==\u001b[39m \u001b[38;5;124m\"\u001b[39m\u001b[38;5;124mh\u001b[39m\u001b[38;5;124m\"\u001b[39m:\n\u001b[0;32m   1589\u001b[0m     ax\u001b[38;5;241m.\u001b[39minvert_yaxis()\n",
      "File \u001b[1;32m~\\anaconda3\\Lib\\site-packages\\seaborn\\categorical.py:767\u001b[0m, in \u001b[0;36m_CategoricalPlotter.annotate_axes\u001b[1;34m(self, ax)\u001b[0m\n\u001b[0;32m    764\u001b[0m     ax\u001b[38;5;241m.\u001b[39mset_ylim(\u001b[38;5;241m-\u001b[39m\u001b[38;5;241m.5\u001b[39m, \u001b[38;5;28mlen\u001b[39m(\u001b[38;5;28mself\u001b[39m\u001b[38;5;241m.\u001b[39mplot_data) \u001b[38;5;241m-\u001b[39m \u001b[38;5;241m.5\u001b[39m, auto\u001b[38;5;241m=\u001b[39m\u001b[38;5;28;01mNone\u001b[39;00m)\n\u001b[0;32m    766\u001b[0m \u001b[38;5;28;01mif\u001b[39;00m \u001b[38;5;28mself\u001b[39m\u001b[38;5;241m.\u001b[39mhue_names \u001b[38;5;129;01mis\u001b[39;00m \u001b[38;5;129;01mnot\u001b[39;00m \u001b[38;5;28;01mNone\u001b[39;00m:\n\u001b[1;32m--> 767\u001b[0m     ax\u001b[38;5;241m.\u001b[39mlegend(loc\u001b[38;5;241m=\u001b[39m\u001b[38;5;124m\"\u001b[39m\u001b[38;5;124mbest\u001b[39m\u001b[38;5;124m\"\u001b[39m, title\u001b[38;5;241m=\u001b[39m\u001b[38;5;28mself\u001b[39m\u001b[38;5;241m.\u001b[39mhue_title)\n",
      "File \u001b[1;32m~\\anaconda3\\Lib\\site-packages\\matplotlib\\axes\\_axes.py:322\u001b[0m, in \u001b[0;36mAxes.legend\u001b[1;34m(self, *args, **kwargs)\u001b[0m\n\u001b[0;32m    204\u001b[0m \u001b[38;5;129m@_docstring\u001b[39m\u001b[38;5;241m.\u001b[39mdedent_interpd\n\u001b[0;32m    205\u001b[0m \u001b[38;5;28;01mdef\u001b[39;00m \u001b[38;5;21mlegend\u001b[39m(\u001b[38;5;28mself\u001b[39m, \u001b[38;5;241m*\u001b[39margs, \u001b[38;5;241m*\u001b[39m\u001b[38;5;241m*\u001b[39mkwargs):\n\u001b[0;32m    206\u001b[0m \u001b[38;5;250m    \u001b[39m\u001b[38;5;124;03m\"\"\"\u001b[39;00m\n\u001b[0;32m    207\u001b[0m \u001b[38;5;124;03m    Place a legend on the Axes.\u001b[39;00m\n\u001b[0;32m    208\u001b[0m \n\u001b[1;32m   (...)\u001b[0m\n\u001b[0;32m    320\u001b[0m \u001b[38;5;124;03m    .. plot:: gallery/text_labels_and_annotations/legend.py\u001b[39;00m\n\u001b[0;32m    321\u001b[0m \u001b[38;5;124;03m    \"\"\"\u001b[39;00m\n\u001b[1;32m--> 322\u001b[0m     handles, labels, kwargs \u001b[38;5;241m=\u001b[39m mlegend\u001b[38;5;241m.\u001b[39m_parse_legend_args([\u001b[38;5;28mself\u001b[39m], \u001b[38;5;241m*\u001b[39margs, \u001b[38;5;241m*\u001b[39m\u001b[38;5;241m*\u001b[39mkwargs)\n\u001b[0;32m    323\u001b[0m     \u001b[38;5;28mself\u001b[39m\u001b[38;5;241m.\u001b[39mlegend_ \u001b[38;5;241m=\u001b[39m mlegend\u001b[38;5;241m.\u001b[39mLegend(\u001b[38;5;28mself\u001b[39m, handles, labels, \u001b[38;5;241m*\u001b[39m\u001b[38;5;241m*\u001b[39mkwargs)\n\u001b[0;32m    324\u001b[0m     \u001b[38;5;28mself\u001b[39m\u001b[38;5;241m.\u001b[39mlegend_\u001b[38;5;241m.\u001b[39m_remove_method \u001b[38;5;241m=\u001b[39m \u001b[38;5;28mself\u001b[39m\u001b[38;5;241m.\u001b[39m_remove_legend\n",
      "File \u001b[1;32m~\\anaconda3\\Lib\\site-packages\\matplotlib\\legend.py:1361\u001b[0m, in \u001b[0;36m_parse_legend_args\u001b[1;34m(axs, handles, labels, *args, **kwargs)\u001b[0m\n\u001b[0;32m   1357\u001b[0m     handles \u001b[38;5;241m=\u001b[39m [handle \u001b[38;5;28;01mfor\u001b[39;00m handle, label\n\u001b[0;32m   1358\u001b[0m                \u001b[38;5;129;01min\u001b[39;00m \u001b[38;5;28mzip\u001b[39m(_get_legend_handles(axs, handlers), labels)]\n\u001b[0;32m   1360\u001b[0m \u001b[38;5;28;01melif\u001b[39;00m \u001b[38;5;28mlen\u001b[39m(args) \u001b[38;5;241m==\u001b[39m \u001b[38;5;241m0\u001b[39m:  \u001b[38;5;66;03m# 0 args: automatically detect labels and handles.\u001b[39;00m\n\u001b[1;32m-> 1361\u001b[0m     handles, labels \u001b[38;5;241m=\u001b[39m _get_legend_handles_labels(axs, handlers)\n\u001b[0;32m   1362\u001b[0m     \u001b[38;5;28;01mif\u001b[39;00m \u001b[38;5;129;01mnot\u001b[39;00m handles:\n\u001b[0;32m   1363\u001b[0m         log\u001b[38;5;241m.\u001b[39mwarning(\n\u001b[0;32m   1364\u001b[0m             \u001b[38;5;124m\"\u001b[39m\u001b[38;5;124mNo artists with labels found to put in legend.  Note that \u001b[39m\u001b[38;5;124m\"\u001b[39m\n\u001b[0;32m   1365\u001b[0m             \u001b[38;5;124m\"\u001b[39m\u001b[38;5;124martists whose label start with an underscore are ignored \u001b[39m\u001b[38;5;124m\"\u001b[39m\n\u001b[0;32m   1366\u001b[0m             \u001b[38;5;124m\"\u001b[39m\u001b[38;5;124mwhen legend() is called with no argument.\u001b[39m\u001b[38;5;124m\"\u001b[39m)\n",
      "File \u001b[1;32m~\\anaconda3\\Lib\\site-packages\\matplotlib\\legend.py:1291\u001b[0m, in \u001b[0;36m_get_legend_handles_labels\u001b[1;34m(axs, legend_handler_map)\u001b[0m\n\u001b[0;32m   1289\u001b[0m \u001b[38;5;28;01mfor\u001b[39;00m handle \u001b[38;5;129;01min\u001b[39;00m _get_legend_handles(axs, legend_handler_map):\n\u001b[0;32m   1290\u001b[0m     label \u001b[38;5;241m=\u001b[39m handle\u001b[38;5;241m.\u001b[39mget_label()\n\u001b[1;32m-> 1291\u001b[0m     \u001b[38;5;28;01mif\u001b[39;00m label \u001b[38;5;129;01mand\u001b[39;00m \u001b[38;5;129;01mnot\u001b[39;00m label\u001b[38;5;241m.\u001b[39mstartswith(\u001b[38;5;124m'\u001b[39m\u001b[38;5;124m_\u001b[39m\u001b[38;5;124m'\u001b[39m):\n\u001b[0;32m   1292\u001b[0m         handles\u001b[38;5;241m.\u001b[39mappend(handle)\n\u001b[0;32m   1293\u001b[0m         labels\u001b[38;5;241m.\u001b[39mappend(label)\n",
      "\u001b[1;31mAttributeError\u001b[0m: 'numpy.int64' object has no attribute 'startswith'"
     ]
    },
    {
     "data": {
      "image/png": "[encoded data removed]",
      "text/plain": [
       "<Figure size 640x480 with 1 Axes>"
      ]
     },
     "metadata": {},
     "output_type": "display_data"
    }
   ],
   "source": [
    "## Lead Origin \n",
    "sns.countplot(x = \"Lead Origin\", hue = \"Converted\", data = Lead_data_excl)\n",
    "plt.xticks(rotation = 90)\n",
    "plt.show()\n"
   ]
  },
  {
   "cell_type": "markdown",
   "id": "3c771eb5-1e38-4942-abbd-794368c6651f",
   "metadata": {},
   "source": [
    "Inference:\n",
    "\n",
    "API and Landing Page Submission have around 35-40% conversion rate but count originated is of a considerable amount.\n",
    "Lead Add Form has more than 90% conversion rate but count is not very high.\n",
    "Lead Import and Quick Add From are very less in count."
   ]
  },
  {
   "cell_type": "code",
   "execution_count": null,
   "id": "663f21e6-d9df-4354-9383-3e8e06b9f11d",
   "metadata": {},
   "outputs": [],
   "source": [
    "## Lead Source\n",
    "sns.countplot(x = \"Lead Source\", hue = \"Converted\", data = Lead_data_excl)\n",
    "plt.xticks(rotation = 90)\n",
    "plt.show()"
   ]
  },
  {
   "cell_type": "markdown",
   "id": "e842a80e-42d7-4d2b-a831-982e12f5e52a",
   "metadata": {},
   "source": [
    "**Inference:**\n",
    "\n",
    "Direct Traffic and Google are generating high number of Lead_data; should be focused for their conversion\n",
    "Welingak and Reference are having more conversion rate hence should be focused to generate more Lead_data\n",
    "Lead_data from Olark Chat and Organic Search should be focused for conversion"
   ]
  },
  {
   "cell_type": "code",
   "execution_count": null,
   "id": "b4f47ade-84b9-424b-8efb-1f992d244248",
   "metadata": {},
   "outputs": [],
   "source": [
    "## Last Activity\n",
    "sns.countplot(x = \"Last Activity\", hue = \"Converted\", data = Lead_data_excl)\n",
    "plt.xticks(rotation = 90)\n",
    "plt.show()"
   ]
  },
  {
   "cell_type": "markdown",
   "id": "7deeabc9-d37c-497c-ac44-adf7d845e5e4",
   "metadata": {},
   "source": [
    "Inference:\n",
    "\n",
    "Most of the Lead_data have Email Opened and SMS Sent. More focus should be on Lead_data opening email. And conersion rate for SMS sent is very high and hence they should be targeted for lead conversion"
   ]
  },
  {
   "cell_type": "code",
   "execution_count": 50,
   "id": "3b9c49fa-1aad-4661-a020-268a2d86a8d5",
   "metadata": {},
   "outputs": [
    {
     "ename": "AttributeError",
     "evalue": "'numpy.int64' object has no attribute 'startswith'",
     "output_type": "error",
     "traceback": [
      "\u001b[1;31m---------------------------------------------------------------------------\u001b[0m",
      "\u001b[1;31mAttributeError\u001b[0m                            Traceback (most recent call last)",
      "Cell \u001b[1;32mIn[50], line 2\u001b[0m\n\u001b[0;32m      1\u001b[0m \u001b[38;5;66;03m## Specialization\u001b[39;00m\n\u001b[1;32m----> 2\u001b[0m sns\u001b[38;5;241m.\u001b[39mcountplot(x \u001b[38;5;241m=\u001b[39m \u001b[38;5;124m\"\u001b[39m\u001b[38;5;124mSpecialization\u001b[39m\u001b[38;5;124m\"\u001b[39m, hue \u001b[38;5;241m=\u001b[39m \u001b[38;5;124m\"\u001b[39m\u001b[38;5;124mConverted\u001b[39m\u001b[38;5;124m\"\u001b[39m, data \u001b[38;5;241m=\u001b[39m Lead_data_excl)\n\u001b[0;32m      3\u001b[0m plt\u001b[38;5;241m.\u001b[39mxticks(rotation \u001b[38;5;241m=\u001b[39m \u001b[38;5;241m90\u001b[39m)\n\u001b[0;32m      4\u001b[0m plt\u001b[38;5;241m.\u001b[39mshow()\n",
      "File \u001b[1;32m~\\anaconda3\\Lib\\site-packages\\seaborn\\categorical.py:2955\u001b[0m, in \u001b[0;36mcountplot\u001b[1;34m(data, x, y, hue, order, hue_order, orient, color, palette, saturation, width, dodge, ax, **kwargs)\u001b[0m\n\u001b[0;32m   2952\u001b[0m \u001b[38;5;28;01mif\u001b[39;00m ax \u001b[38;5;129;01mis\u001b[39;00m \u001b[38;5;28;01mNone\u001b[39;00m:\n\u001b[0;32m   2953\u001b[0m     ax \u001b[38;5;241m=\u001b[39m plt\u001b[38;5;241m.\u001b[39mgca()\n\u001b[1;32m-> 2955\u001b[0m plotter\u001b[38;5;241m.\u001b[39mplot(ax, kwargs)\n\u001b[0;32m   2956\u001b[0m \u001b[38;5;28;01mreturn\u001b[39;00m ax\n",
      "File \u001b[1;32m~\\anaconda3\\Lib\\site-packages\\seaborn\\categorical.py:1587\u001b[0m, in \u001b[0;36m_BarPlotter.plot\u001b[1;34m(self, ax, bar_kws)\u001b[0m\n\u001b[0;32m   1585\u001b[0m \u001b[38;5;250m\u001b[39m\u001b[38;5;124;03m\"\"\"Make the plot.\"\"\"\u001b[39;00m\n\u001b[0;32m   1586\u001b[0m \u001b[38;5;28mself\u001b[39m\u001b[38;5;241m.\u001b[39mdraw_bars(ax, bar_kws)\n\u001b[1;32m-> 1587\u001b[0m \u001b[38;5;28mself\u001b[39m\u001b[38;5;241m.\u001b[39mannotate_axes(ax)\n\u001b[0;32m   1588\u001b[0m \u001b[38;5;28;01mif\u001b[39;00m \u001b[38;5;28mself\u001b[39m\u001b[38;5;241m.\u001b[39morient \u001b[38;5;241m==\u001b[39m \u001b[38;5;124m\"\u001b[39m\u001b[38;5;124mh\u001b[39m\u001b[38;5;124m\"\u001b[39m:\n\u001b[0;32m   1589\u001b[0m     ax\u001b[38;5;241m.\u001b[39minvert_yaxis()\n",
      "File \u001b[1;32m~\\anaconda3\\Lib\\site-packages\\seaborn\\categorical.py:767\u001b[0m, in \u001b[0;36m_CategoricalPlotter.annotate_axes\u001b[1;34m(self, ax)\u001b[0m\n\u001b[0;32m    764\u001b[0m     ax\u001b[38;5;241m.\u001b[39mset_ylim(\u001b[38;5;241m-\u001b[39m\u001b[38;5;241m.5\u001b[39m, \u001b[38;5;28mlen\u001b[39m(\u001b[38;5;28mself\u001b[39m\u001b[38;5;241m.\u001b[39mplot_data) \u001b[38;5;241m-\u001b[39m \u001b[38;5;241m.5\u001b[39m, auto\u001b[38;5;241m=\u001b[39m\u001b[38;5;28;01mNone\u001b[39;00m)\n\u001b[0;32m    766\u001b[0m \u001b[38;5;28;01mif\u001b[39;00m \u001b[38;5;28mself\u001b[39m\u001b[38;5;241m.\u001b[39mhue_names \u001b[38;5;129;01mis\u001b[39;00m \u001b[38;5;129;01mnot\u001b[39;00m \u001b[38;5;28;01mNone\u001b[39;00m:\n\u001b[1;32m--> 767\u001b[0m     ax\u001b[38;5;241m.\u001b[39mlegend(loc\u001b[38;5;241m=\u001b[39m\u001b[38;5;124m\"\u001b[39m\u001b[38;5;124mbest\u001b[39m\u001b[38;5;124m\"\u001b[39m, title\u001b[38;5;241m=\u001b[39m\u001b[38;5;28mself\u001b[39m\u001b[38;5;241m.\u001b[39mhue_title)\n",
      "File \u001b[1;32m~\\anaconda3\\Lib\\site-packages\\matplotlib\\axes\\_axes.py:322\u001b[0m, in \u001b[0;36mAxes.legend\u001b[1;34m(self, *args, **kwargs)\u001b[0m\n\u001b[0;32m    204\u001b[0m \u001b[38;5;129m@_docstring\u001b[39m\u001b[38;5;241m.\u001b[39mdedent_interpd\n\u001b[0;32m    205\u001b[0m \u001b[38;5;28;01mdef\u001b[39;00m \u001b[38;5;21mlegend\u001b[39m(\u001b[38;5;28mself\u001b[39m, \u001b[38;5;241m*\u001b[39margs, \u001b[38;5;241m*\u001b[39m\u001b[38;5;241m*\u001b[39mkwargs):\n\u001b[0;32m    206\u001b[0m \u001b[38;5;250m    \u001b[39m\u001b[38;5;124;03m\"\"\"\u001b[39;00m\n\u001b[0;32m    207\u001b[0m \u001b[38;5;124;03m    Place a legend on the Axes.\u001b[39;00m\n\u001b[0;32m    208\u001b[0m \n\u001b[1;32m   (...)\u001b[0m\n\u001b[0;32m    320\u001b[0m \u001b[38;5;124;03m    .. plot:: gallery/text_labels_and_annotations/legend.py\u001b[39;00m\n\u001b[0;32m    321\u001b[0m \u001b[38;5;124;03m    \"\"\"\u001b[39;00m\n\u001b[1;32m--> 322\u001b[0m     handles, labels, kwargs \u001b[38;5;241m=\u001b[39m mlegend\u001b[38;5;241m.\u001b[39m_parse_legend_args([\u001b[38;5;28mself\u001b[39m], \u001b[38;5;241m*\u001b[39margs, \u001b[38;5;241m*\u001b[39m\u001b[38;5;241m*\u001b[39mkwargs)\n\u001b[0;32m    323\u001b[0m     \u001b[38;5;28mself\u001b[39m\u001b[38;5;241m.\u001b[39mlegend_ \u001b[38;5;241m=\u001b[39m mlegend\u001b[38;5;241m.\u001b[39mLegend(\u001b[38;5;28mself\u001b[39m, handles, labels, \u001b[38;5;241m*\u001b[39m\u001b[38;5;241m*\u001b[39mkwargs)\n\u001b[0;32m    324\u001b[0m     \u001b[38;5;28mself\u001b[39m\u001b[38;5;241m.\u001b[39mlegend_\u001b[38;5;241m.\u001b[39m_remove_method \u001b[38;5;241m=\u001b[39m \u001b[38;5;28mself\u001b[39m\u001b[38;5;241m.\u001b[39m_remove_legend\n",
      "File \u001b[1;32m~\\anaconda3\\Lib\\site-packages\\matplotlib\\legend.py:1361\u001b[0m, in \u001b[0;36m_parse_legend_args\u001b[1;34m(axs, handles, labels, *args, **kwargs)\u001b[0m\n\u001b[0;32m   1357\u001b[0m     handles \u001b[38;5;241m=\u001b[39m [handle \u001b[38;5;28;01mfor\u001b[39;00m handle, label\n\u001b[0;32m   1358\u001b[0m                \u001b[38;5;129;01min\u001b[39;00m \u001b[38;5;28mzip\u001b[39m(_get_legend_handles(axs, handlers), labels)]\n\u001b[0;32m   1360\u001b[0m \u001b[38;5;28;01melif\u001b[39;00m \u001b[38;5;28mlen\u001b[39m(args) \u001b[38;5;241m==\u001b[39m \u001b[38;5;241m0\u001b[39m:  \u001b[38;5;66;03m# 0 args: automatically detect labels and handles.\u001b[39;00m\n\u001b[1;32m-> 1361\u001b[0m     handles, labels \u001b[38;5;241m=\u001b[39m _get_legend_handles_labels(axs, handlers)\n\u001b[0;32m   1362\u001b[0m     \u001b[38;5;28;01mif\u001b[39;00m \u001b[38;5;129;01mnot\u001b[39;00m handles:\n\u001b[0;32m   1363\u001b[0m         log\u001b[38;5;241m.\u001b[39mwarning(\n\u001b[0;32m   1364\u001b[0m             \u001b[38;5;124m\"\u001b[39m\u001b[38;5;124mNo artists with labels found to put in legend.  Note that \u001b[39m\u001b[38;5;124m\"\u001b[39m\n\u001b[0;32m   1365\u001b[0m             \u001b[38;5;124m\"\u001b[39m\u001b[38;5;124martists whose label start with an underscore are ignored \u001b[39m\u001b[38;5;124m\"\u001b[39m\n\u001b[0;32m   1366\u001b[0m             \u001b[38;5;124m\"\u001b[39m\u001b[38;5;124mwhen legend() is called with no argument.\u001b[39m\u001b[38;5;124m\"\u001b[39m)\n",
      "File \u001b[1;32m~\\anaconda3\\Lib\\site-packages\\matplotlib\\legend.py:1291\u001b[0m, in \u001b[0;36m_get_legend_handles_labels\u001b[1;34m(axs, legend_handler_map)\u001b[0m\n\u001b[0;32m   1289\u001b[0m \u001b[38;5;28;01mfor\u001b[39;00m handle \u001b[38;5;129;01min\u001b[39;00m _get_legend_handles(axs, legend_handler_map):\n\u001b[0;32m   1290\u001b[0m     label \u001b[38;5;241m=\u001b[39m handle\u001b[38;5;241m.\u001b[39mget_label()\n\u001b[1;32m-> 1291\u001b[0m     \u001b[38;5;28;01mif\u001b[39;00m label \u001b[38;5;129;01mand\u001b[39;00m \u001b[38;5;129;01mnot\u001b[39;00m label\u001b[38;5;241m.\u001b[39mstartswith(\u001b[38;5;124m'\u001b[39m\u001b[38;5;124m_\u001b[39m\u001b[38;5;124m'\u001b[39m):\n\u001b[0;32m   1292\u001b[0m         handles\u001b[38;5;241m.\u001b[39mappend(handle)\n\u001b[0;32m   1293\u001b[0m         labels\u001b[38;5;241m.\u001b[39mappend(label)\n",
      "\u001b[1;31mAttributeError\u001b[0m: 'numpy.int64' object has no attribute 'startswith'"
     ]
    },
    {
     "data": {
      "image/png": "[encoded data removed]",
      "text/plain": [
       "<Figure size 640x480 with 1 Axes>"
      ]
     },
     "metadata": {},
     "output_type": "display_data"
    }
   ],
   "source": [
    "## Specialization\n",
    "sns.countplot(x = \"Specialization\", hue = \"Converted\", data = Lead_data_excl)\n",
    "plt.xticks(rotation = 90)\n",
    "plt.show()"
   ]
  },
  {
   "cell_type": "markdown",
   "id": "b719b8d4-7155-4226-9900-ec0ba2dbaeaa",
   "metadata": {},
   "source": [
    "Inference:\n",
    "\n",
    "The focus should be on those various specializations with less Lead_data but high conversion rate.Most of the Lead_data are from 'Others' specialization but the conversion rate is poor"
   ]
  },
  {
   "cell_type": "code",
   "execution_count": 51,
   "id": "9a97a828-5212-4d69-bafb-12c76c2468d5",
   "metadata": {},
   "outputs": [
    {
     "ename": "AttributeError",
     "evalue": "'numpy.int64' object has no attribute 'startswith'",
     "output_type": "error",
     "traceback": [
      "\u001b[1;31m---------------------------------------------------------------------------\u001b[0m",
      "\u001b[1;31mAttributeError\u001b[0m                            Traceback (most recent call last)",
      "Cell \u001b[1;32mIn[51], line 2\u001b[0m\n\u001b[0;32m      1\u001b[0m \u001b[38;5;66;03m## What is your current occupation\u001b[39;00m\n\u001b[1;32m----> 2\u001b[0m sns\u001b[38;5;241m.\u001b[39mcountplot(x \u001b[38;5;241m=\u001b[39m \u001b[38;5;124m\"\u001b[39m\u001b[38;5;124mWhat is your current occupation\u001b[39m\u001b[38;5;124m\"\u001b[39m, hue \u001b[38;5;241m=\u001b[39m \u001b[38;5;124m\"\u001b[39m\u001b[38;5;124mConverted\u001b[39m\u001b[38;5;124m\"\u001b[39m, data \u001b[38;5;241m=\u001b[39m Lead_data_excl)\n\u001b[0;32m      3\u001b[0m plt\u001b[38;5;241m.\u001b[39mxticks(rotation \u001b[38;5;241m=\u001b[39m \u001b[38;5;241m90\u001b[39m)\n\u001b[0;32m      4\u001b[0m plt\u001b[38;5;241m.\u001b[39mshow()\n",
      "File \u001b[1;32m~\\anaconda3\\Lib\\site-packages\\seaborn\\categorical.py:2955\u001b[0m, in \u001b[0;36mcountplot\u001b[1;34m(data, x, y, hue, order, hue_order, orient, color, palette, saturation, width, dodge, ax, **kwargs)\u001b[0m\n\u001b[0;32m   2952\u001b[0m \u001b[38;5;28;01mif\u001b[39;00m ax \u001b[38;5;129;01mis\u001b[39;00m \u001b[38;5;28;01mNone\u001b[39;00m:\n\u001b[0;32m   2953\u001b[0m     ax \u001b[38;5;241m=\u001b[39m plt\u001b[38;5;241m.\u001b[39mgca()\n\u001b[1;32m-> 2955\u001b[0m plotter\u001b[38;5;241m.\u001b[39mplot(ax, kwargs)\n\u001b[0;32m   2956\u001b[0m \u001b[38;5;28;01mreturn\u001b[39;00m ax\n",
      "File \u001b[1;32m~\\anaconda3\\Lib\\site-packages\\seaborn\\categorical.py:1587\u001b[0m, in \u001b[0;36m_BarPlotter.plot\u001b[1;34m(self, ax, bar_kws)\u001b[0m\n\u001b[0;32m   1585\u001b[0m \u001b[38;5;250m\u001b[39m\u001b[38;5;124;03m\"\"\"Make the plot.\"\"\"\u001b[39;00m\n\u001b[0;32m   1586\u001b[0m \u001b[38;5;28mself\u001b[39m\u001b[38;5;241m.\u001b[39mdraw_bars(ax, bar_kws)\n\u001b[1;32m-> 1587\u001b[0m \u001b[38;5;28mself\u001b[39m\u001b[38;5;241m.\u001b[39mannotate_axes(ax)\n\u001b[0;32m   1588\u001b[0m \u001b[38;5;28;01mif\u001b[39;00m \u001b[38;5;28mself\u001b[39m\u001b[38;5;241m.\u001b[39morient \u001b[38;5;241m==\u001b[39m \u001b[38;5;124m\"\u001b[39m\u001b[38;5;124mh\u001b[39m\u001b[38;5;124m\"\u001b[39m:\n\u001b[0;32m   1589\u001b[0m     ax\u001b[38;5;241m.\u001b[39minvert_yaxis()\n",
      "File \u001b[1;32m~\\anaconda3\\Lib\\site-packages\\seaborn\\categorical.py:767\u001b[0m, in \u001b[0;36m_CategoricalPlotter.annotate_axes\u001b[1;34m(self, ax)\u001b[0m\n\u001b[0;32m    764\u001b[0m     ax\u001b[38;5;241m.\u001b[39mset_ylim(\u001b[38;5;241m-\u001b[39m\u001b[38;5;241m.5\u001b[39m, \u001b[38;5;28mlen\u001b[39m(\u001b[38;5;28mself\u001b[39m\u001b[38;5;241m.\u001b[39mplot_data) \u001b[38;5;241m-\u001b[39m \u001b[38;5;241m.5\u001b[39m, auto\u001b[38;5;241m=\u001b[39m\u001b[38;5;28;01mNone\u001b[39;00m)\n\u001b[0;32m    766\u001b[0m \u001b[38;5;28;01mif\u001b[39;00m \u001b[38;5;28mself\u001b[39m\u001b[38;5;241m.\u001b[39mhue_names \u001b[38;5;129;01mis\u001b[39;00m \u001b[38;5;129;01mnot\u001b[39;00m \u001b[38;5;28;01mNone\u001b[39;00m:\n\u001b[1;32m--> 767\u001b[0m     ax\u001b[38;5;241m.\u001b[39mlegend(loc\u001b[38;5;241m=\u001b[39m\u001b[38;5;124m\"\u001b[39m\u001b[38;5;124mbest\u001b[39m\u001b[38;5;124m\"\u001b[39m, title\u001b[38;5;241m=\u001b[39m\u001b[38;5;28mself\u001b[39m\u001b[38;5;241m.\u001b[39mhue_title)\n",
      "File \u001b[1;32m~\\anaconda3\\Lib\\site-packages\\matplotlib\\axes\\_axes.py:322\u001b[0m, in \u001b[0;36mAxes.legend\u001b[1;34m(self, *args, **kwargs)\u001b[0m\n\u001b[0;32m    204\u001b[0m \u001b[38;5;129m@_docstring\u001b[39m\u001b[38;5;241m.\u001b[39mdedent_interpd\n\u001b[0;32m    205\u001b[0m \u001b[38;5;28;01mdef\u001b[39;00m \u001b[38;5;21mlegend\u001b[39m(\u001b[38;5;28mself\u001b[39m, \u001b[38;5;241m*\u001b[39margs, \u001b[38;5;241m*\u001b[39m\u001b[38;5;241m*\u001b[39mkwargs):\n\u001b[0;32m    206\u001b[0m \u001b[38;5;250m    \u001b[39m\u001b[38;5;124;03m\"\"\"\u001b[39;00m\n\u001b[0;32m    207\u001b[0m \u001b[38;5;124;03m    Place a legend on the Axes.\u001b[39;00m\n\u001b[0;32m    208\u001b[0m \n\u001b[1;32m   (...)\u001b[0m\n\u001b[0;32m    320\u001b[0m \u001b[38;5;124;03m    .. plot:: gallery/text_labels_and_annotations/legend.py\u001b[39;00m\n\u001b[0;32m    321\u001b[0m \u001b[38;5;124;03m    \"\"\"\u001b[39;00m\n\u001b[1;32m--> 322\u001b[0m     handles, labels, kwargs \u001b[38;5;241m=\u001b[39m mlegend\u001b[38;5;241m.\u001b[39m_parse_legend_args([\u001b[38;5;28mself\u001b[39m], \u001b[38;5;241m*\u001b[39margs, \u001b[38;5;241m*\u001b[39m\u001b[38;5;241m*\u001b[39mkwargs)\n\u001b[0;32m    323\u001b[0m     \u001b[38;5;28mself\u001b[39m\u001b[38;5;241m.\u001b[39mlegend_ \u001b[38;5;241m=\u001b[39m mlegend\u001b[38;5;241m.\u001b[39mLegend(\u001b[38;5;28mself\u001b[39m, handles, labels, \u001b[38;5;241m*\u001b[39m\u001b[38;5;241m*\u001b[39mkwargs)\n\u001b[0;32m    324\u001b[0m     \u001b[38;5;28mself\u001b[39m\u001b[38;5;241m.\u001b[39mlegend_\u001b[38;5;241m.\u001b[39m_remove_method \u001b[38;5;241m=\u001b[39m \u001b[38;5;28mself\u001b[39m\u001b[38;5;241m.\u001b[39m_remove_legend\n",
      "File \u001b[1;32m~\\anaconda3\\Lib\\site-packages\\matplotlib\\legend.py:1361\u001b[0m, in \u001b[0;36m_parse_legend_args\u001b[1;34m(axs, handles, labels, *args, **kwargs)\u001b[0m\n\u001b[0;32m   1357\u001b[0m     handles \u001b[38;5;241m=\u001b[39m [handle \u001b[38;5;28;01mfor\u001b[39;00m handle, label\n\u001b[0;32m   1358\u001b[0m                \u001b[38;5;129;01min\u001b[39;00m \u001b[38;5;28mzip\u001b[39m(_get_legend_handles(axs, handlers), labels)]\n\u001b[0;32m   1360\u001b[0m \u001b[38;5;28;01melif\u001b[39;00m \u001b[38;5;28mlen\u001b[39m(args) \u001b[38;5;241m==\u001b[39m \u001b[38;5;241m0\u001b[39m:  \u001b[38;5;66;03m# 0 args: automatically detect labels and handles.\u001b[39;00m\n\u001b[1;32m-> 1361\u001b[0m     handles, labels \u001b[38;5;241m=\u001b[39m _get_legend_handles_labels(axs, handlers)\n\u001b[0;32m   1362\u001b[0m     \u001b[38;5;28;01mif\u001b[39;00m \u001b[38;5;129;01mnot\u001b[39;00m handles:\n\u001b[0;32m   1363\u001b[0m         log\u001b[38;5;241m.\u001b[39mwarning(\n\u001b[0;32m   1364\u001b[0m             \u001b[38;5;124m\"\u001b[39m\u001b[38;5;124mNo artists with labels found to put in legend.  Note that \u001b[39m\u001b[38;5;124m\"\u001b[39m\n\u001b[0;32m   1365\u001b[0m             \u001b[38;5;124m\"\u001b[39m\u001b[38;5;124martists whose label start with an underscore are ignored \u001b[39m\u001b[38;5;124m\"\u001b[39m\n\u001b[0;32m   1366\u001b[0m             \u001b[38;5;124m\"\u001b[39m\u001b[38;5;124mwhen legend() is called with no argument.\u001b[39m\u001b[38;5;124m\"\u001b[39m)\n",
      "File \u001b[1;32m~\\anaconda3\\Lib\\site-packages\\matplotlib\\legend.py:1291\u001b[0m, in \u001b[0;36m_get_legend_handles_labels\u001b[1;34m(axs, legend_handler_map)\u001b[0m\n\u001b[0;32m   1289\u001b[0m \u001b[38;5;28;01mfor\u001b[39;00m handle \u001b[38;5;129;01min\u001b[39;00m _get_legend_handles(axs, legend_handler_map):\n\u001b[0;32m   1290\u001b[0m     label \u001b[38;5;241m=\u001b[39m handle\u001b[38;5;241m.\u001b[39mget_label()\n\u001b[1;32m-> 1291\u001b[0m     \u001b[38;5;28;01mif\u001b[39;00m label \u001b[38;5;129;01mand\u001b[39;00m \u001b[38;5;129;01mnot\u001b[39;00m label\u001b[38;5;241m.\u001b[39mstartswith(\u001b[38;5;124m'\u001b[39m\u001b[38;5;124m_\u001b[39m\u001b[38;5;124m'\u001b[39m):\n\u001b[0;32m   1292\u001b[0m         handles\u001b[38;5;241m.\u001b[39mappend(handle)\n\u001b[0;32m   1293\u001b[0m         labels\u001b[38;5;241m.\u001b[39mappend(label)\n",
      "\u001b[1;31mAttributeError\u001b[0m: 'numpy.int64' object has no attribute 'startswith'"
     ]
    },
    {
     "data": {
      "image/png": "[encoded data removed]",
      "text/plain": [
       "<Figure size 640x480 with 1 Axes>"
      ]
     },
     "metadata": {},
     "output_type": "display_data"
    }
   ],
   "source": [
    "## What is your current occupation\n",
    "sns.countplot(x = \"What is your current occupation\", hue = \"Converted\", data = Lead_data_excl)\n",
    "plt.xticks(rotation = 90)\n",
    "plt.show()"
   ]
  },
  {
   "cell_type": "markdown",
   "id": "1918da88-4e17-4129-8ea2-8d838909e971",
   "metadata": {},
   "source": [
    "**Inference:**\n",
    "\n",
    "Working prefessionals have high conversion and the focus should be on them for more Lead_data. Most of the Lead_data are from Unemployed section, foucs should be increasing conversion to get Lead_data."
   ]
  },
  {
   "cell_type": "code",
   "execution_count": 52,
   "id": "e3dbe1ff-47bb-4f80-82c7-dc02087b2dbc",
   "metadata": {},
   "outputs": [
    {
     "ename": "AttributeError",
     "evalue": "'numpy.int64' object has no attribute 'startswith'",
     "output_type": "error",
     "traceback": [
      "\u001b[1;31m---------------------------------------------------------------------------\u001b[0m",
      "\u001b[1;31mAttributeError\u001b[0m                            Traceback (most recent call last)",
      "Cell \u001b[1;32mIn[52], line 2\u001b[0m\n\u001b[0;32m      1\u001b[0m \u001b[38;5;66;03m## Tags\u001b[39;00m\n\u001b[1;32m----> 2\u001b[0m sns\u001b[38;5;241m.\u001b[39mcountplot(x \u001b[38;5;241m=\u001b[39m \u001b[38;5;124m\"\u001b[39m\u001b[38;5;124mTags\u001b[39m\u001b[38;5;124m\"\u001b[39m, hue \u001b[38;5;241m=\u001b[39m \u001b[38;5;124m\"\u001b[39m\u001b[38;5;124mConverted\u001b[39m\u001b[38;5;124m\"\u001b[39m, data \u001b[38;5;241m=\u001b[39m Lead_data_excl)\n\u001b[0;32m      3\u001b[0m plt\u001b[38;5;241m.\u001b[39mxticks(rotation \u001b[38;5;241m=\u001b[39m \u001b[38;5;241m90\u001b[39m)\n\u001b[0;32m      4\u001b[0m plt\u001b[38;5;241m.\u001b[39mshow()\n",
      "File \u001b[1;32m~\\anaconda3\\Lib\\site-packages\\seaborn\\categorical.py:2955\u001b[0m, in \u001b[0;36mcountplot\u001b[1;34m(data, x, y, hue, order, hue_order, orient, color, palette, saturation, width, dodge, ax, **kwargs)\u001b[0m\n\u001b[0;32m   2952\u001b[0m \u001b[38;5;28;01mif\u001b[39;00m ax \u001b[38;5;129;01mis\u001b[39;00m \u001b[38;5;28;01mNone\u001b[39;00m:\n\u001b[0;32m   2953\u001b[0m     ax \u001b[38;5;241m=\u001b[39m plt\u001b[38;5;241m.\u001b[39mgca()\n\u001b[1;32m-> 2955\u001b[0m plotter\u001b[38;5;241m.\u001b[39mplot(ax, kwargs)\n\u001b[0;32m   2956\u001b[0m \u001b[38;5;28;01mreturn\u001b[39;00m ax\n",
      "File \u001b[1;32m~\\anaconda3\\Lib\\site-packages\\seaborn\\categorical.py:1587\u001b[0m, in \u001b[0;36m_BarPlotter.plot\u001b[1;34m(self, ax, bar_kws)\u001b[0m\n\u001b[0;32m   1585\u001b[0m \u001b[38;5;250m\u001b[39m\u001b[38;5;124;03m\"\"\"Make the plot.\"\"\"\u001b[39;00m\n\u001b[0;32m   1586\u001b[0m \u001b[38;5;28mself\u001b[39m\u001b[38;5;241m.\u001b[39mdraw_bars(ax, bar_kws)\n\u001b[1;32m-> 1587\u001b[0m \u001b[38;5;28mself\u001b[39m\u001b[38;5;241m.\u001b[39mannotate_axes(ax)\n\u001b[0;32m   1588\u001b[0m \u001b[38;5;28;01mif\u001b[39;00m \u001b[38;5;28mself\u001b[39m\u001b[38;5;241m.\u001b[39morient \u001b[38;5;241m==\u001b[39m \u001b[38;5;124m\"\u001b[39m\u001b[38;5;124mh\u001b[39m\u001b[38;5;124m\"\u001b[39m:\n\u001b[0;32m   1589\u001b[0m     ax\u001b[38;5;241m.\u001b[39minvert_yaxis()\n",
      "File \u001b[1;32m~\\anaconda3\\Lib\\site-packages\\seaborn\\categorical.py:767\u001b[0m, in \u001b[0;36m_CategoricalPlotter.annotate_axes\u001b[1;34m(self, ax)\u001b[0m\n\u001b[0;32m    764\u001b[0m     ax\u001b[38;5;241m.\u001b[39mset_ylim(\u001b[38;5;241m-\u001b[39m\u001b[38;5;241m.5\u001b[39m, \u001b[38;5;28mlen\u001b[39m(\u001b[38;5;28mself\u001b[39m\u001b[38;5;241m.\u001b[39mplot_data) \u001b[38;5;241m-\u001b[39m \u001b[38;5;241m.5\u001b[39m, auto\u001b[38;5;241m=\u001b[39m\u001b[38;5;28;01mNone\u001b[39;00m)\n\u001b[0;32m    766\u001b[0m \u001b[38;5;28;01mif\u001b[39;00m \u001b[38;5;28mself\u001b[39m\u001b[38;5;241m.\u001b[39mhue_names \u001b[38;5;129;01mis\u001b[39;00m \u001b[38;5;129;01mnot\u001b[39;00m \u001b[38;5;28;01mNone\u001b[39;00m:\n\u001b[1;32m--> 767\u001b[0m     ax\u001b[38;5;241m.\u001b[39mlegend(loc\u001b[38;5;241m=\u001b[39m\u001b[38;5;124m\"\u001b[39m\u001b[38;5;124mbest\u001b[39m\u001b[38;5;124m\"\u001b[39m, title\u001b[38;5;241m=\u001b[39m\u001b[38;5;28mself\u001b[39m\u001b[38;5;241m.\u001b[39mhue_title)\n",
      "File \u001b[1;32m~\\anaconda3\\Lib\\site-packages\\matplotlib\\axes\\_axes.py:322\u001b[0m, in \u001b[0;36mAxes.legend\u001b[1;34m(self, *args, **kwargs)\u001b[0m\n\u001b[0;32m    204\u001b[0m \u001b[38;5;129m@_docstring\u001b[39m\u001b[38;5;241m.\u001b[39mdedent_interpd\n\u001b[0;32m    205\u001b[0m \u001b[38;5;28;01mdef\u001b[39;00m \u001b[38;5;21mlegend\u001b[39m(\u001b[38;5;28mself\u001b[39m, \u001b[38;5;241m*\u001b[39margs, \u001b[38;5;241m*\u001b[39m\u001b[38;5;241m*\u001b[39mkwargs):\n\u001b[0;32m    206\u001b[0m \u001b[38;5;250m    \u001b[39m\u001b[38;5;124;03m\"\"\"\u001b[39;00m\n\u001b[0;32m    207\u001b[0m \u001b[38;5;124;03m    Place a legend on the Axes.\u001b[39;00m\n\u001b[0;32m    208\u001b[0m \n\u001b[1;32m   (...)\u001b[0m\n\u001b[0;32m    320\u001b[0m \u001b[38;5;124;03m    .. plot:: gallery/text_labels_and_annotations/legend.py\u001b[39;00m\n\u001b[0;32m    321\u001b[0m \u001b[38;5;124;03m    \"\"\"\u001b[39;00m\n\u001b[1;32m--> 322\u001b[0m     handles, labels, kwargs \u001b[38;5;241m=\u001b[39m mlegend\u001b[38;5;241m.\u001b[39m_parse_legend_args([\u001b[38;5;28mself\u001b[39m], \u001b[38;5;241m*\u001b[39margs, \u001b[38;5;241m*\u001b[39m\u001b[38;5;241m*\u001b[39mkwargs)\n\u001b[0;32m    323\u001b[0m     \u001b[38;5;28mself\u001b[39m\u001b[38;5;241m.\u001b[39mlegend_ \u001b[38;5;241m=\u001b[39m mlegend\u001b[38;5;241m.\u001b[39mLegend(\u001b[38;5;28mself\u001b[39m, handles, labels, \u001b[38;5;241m*\u001b[39m\u001b[38;5;241m*\u001b[39mkwargs)\n\u001b[0;32m    324\u001b[0m     \u001b[38;5;28mself\u001b[39m\u001b[38;5;241m.\u001b[39mlegend_\u001b[38;5;241m.\u001b[39m_remove_method \u001b[38;5;241m=\u001b[39m \u001b[38;5;28mself\u001b[39m\u001b[38;5;241m.\u001b[39m_remove_legend\n",
      "File \u001b[1;32m~\\anaconda3\\Lib\\site-packages\\matplotlib\\legend.py:1361\u001b[0m, in \u001b[0;36m_parse_legend_args\u001b[1;34m(axs, handles, labels, *args, **kwargs)\u001b[0m\n\u001b[0;32m   1357\u001b[0m     handles \u001b[38;5;241m=\u001b[39m [handle \u001b[38;5;28;01mfor\u001b[39;00m handle, label\n\u001b[0;32m   1358\u001b[0m                \u001b[38;5;129;01min\u001b[39;00m \u001b[38;5;28mzip\u001b[39m(_get_legend_handles(axs, handlers), labels)]\n\u001b[0;32m   1360\u001b[0m \u001b[38;5;28;01melif\u001b[39;00m \u001b[38;5;28mlen\u001b[39m(args) \u001b[38;5;241m==\u001b[39m \u001b[38;5;241m0\u001b[39m:  \u001b[38;5;66;03m# 0 args: automatically detect labels and handles.\u001b[39;00m\n\u001b[1;32m-> 1361\u001b[0m     handles, labels \u001b[38;5;241m=\u001b[39m _get_legend_handles_labels(axs, handlers)\n\u001b[0;32m   1362\u001b[0m     \u001b[38;5;28;01mif\u001b[39;00m \u001b[38;5;129;01mnot\u001b[39;00m handles:\n\u001b[0;32m   1363\u001b[0m         log\u001b[38;5;241m.\u001b[39mwarning(\n\u001b[0;32m   1364\u001b[0m             \u001b[38;5;124m\"\u001b[39m\u001b[38;5;124mNo artists with labels found to put in legend.  Note that \u001b[39m\u001b[38;5;124m\"\u001b[39m\n\u001b[0;32m   1365\u001b[0m             \u001b[38;5;124m\"\u001b[39m\u001b[38;5;124martists whose label start with an underscore are ignored \u001b[39m\u001b[38;5;124m\"\u001b[39m\n\u001b[0;32m   1366\u001b[0m             \u001b[38;5;124m\"\u001b[39m\u001b[38;5;124mwhen legend() is called with no argument.\u001b[39m\u001b[38;5;124m\"\u001b[39m)\n",
      "File \u001b[1;32m~\\anaconda3\\Lib\\site-packages\\matplotlib\\legend.py:1291\u001b[0m, in \u001b[0;36m_get_legend_handles_labels\u001b[1;34m(axs, legend_handler_map)\u001b[0m\n\u001b[0;32m   1289\u001b[0m \u001b[38;5;28;01mfor\u001b[39;00m handle \u001b[38;5;129;01min\u001b[39;00m _get_legend_handles(axs, legend_handler_map):\n\u001b[0;32m   1290\u001b[0m     label \u001b[38;5;241m=\u001b[39m handle\u001b[38;5;241m.\u001b[39mget_label()\n\u001b[1;32m-> 1291\u001b[0m     \u001b[38;5;28;01mif\u001b[39;00m label \u001b[38;5;129;01mand\u001b[39;00m \u001b[38;5;129;01mnot\u001b[39;00m label\u001b[38;5;241m.\u001b[39mstartswith(\u001b[38;5;124m'\u001b[39m\u001b[38;5;124m_\u001b[39m\u001b[38;5;124m'\u001b[39m):\n\u001b[0;32m   1292\u001b[0m         handles\u001b[38;5;241m.\u001b[39mappend(handle)\n\u001b[0;32m   1293\u001b[0m         labels\u001b[38;5;241m.\u001b[39mappend(label)\n",
      "\u001b[1;31mAttributeError\u001b[0m: 'numpy.int64' object has no attribute 'startswith'"
     ]
    },
    {
     "data": {
      "image/png": "[encoded data removed]",
      "text/plain": [
       "<Figure size 640x480 with 1 Axes>"
      ]
     },
     "metadata": {},
     "output_type": "display_data"
    }
   ],
   "source": [
    "## Tags\n",
    "sns.countplot(x = \"Tags\", hue = \"Converted\", data = Lead_data_excl)\n",
    "plt.xticks(rotation = 90)\n",
    "plt.show()"
   ]
  },
  {
   "cell_type": "markdown",
   "id": "c070225f-f91c-4157-bfb1-64bf34a43b24",
   "metadata": {},
   "source": [
    "**Inference:**\n",
    "\n",
    "'Will Revert after reading the email' have high conversion keeping focus should be on them for more Lead_data and most of the Lead_data are from 'Others' section, foucs should be increasing conversion from them"
   ]
  },
  {
   "cell_type": "code",
   "execution_count": 70,
   "id": "4fe74b0e-c81a-45c5-b850-b74ef46e704f",
   "metadata": {},
   "outputs": [
    {
     "ename": "AttributeError",
     "evalue": "'numpy.int64' object has no attribute 'startswith'",
     "output_type": "error",
     "traceback": [
      "\u001b[1;31m---------------------------------------------------------------------------\u001b[0m",
      "\u001b[1;31mAttributeError\u001b[0m                            Traceback (most recent call last)",
      "Cell \u001b[1;32mIn[70], line 2\u001b[0m\n\u001b[0;32m      1\u001b[0m \u001b[38;5;66;03m## A free copy of Mastering The Interview\u001b[39;00m\n\u001b[1;32m----> 2\u001b[0m sns\u001b[38;5;241m.\u001b[39mcountplot(x \u001b[38;5;241m=\u001b[39m \u001b[38;5;124m\"\u001b[39m\u001b[38;5;124mA free copy of Mastering The Interview\u001b[39m\u001b[38;5;124m\"\u001b[39m, hue \u001b[38;5;241m=\u001b[39m \u001b[38;5;124m\"\u001b[39m\u001b[38;5;124mConverted\u001b[39m\u001b[38;5;124m\"\u001b[39m, data \u001b[38;5;241m=\u001b[39m Lead_data_excl)\n\u001b[0;32m      3\u001b[0m plt\u001b[38;5;241m.\u001b[39mxticks(rotation \u001b[38;5;241m=\u001b[39m \u001b[38;5;241m90\u001b[39m)\n\u001b[0;32m      4\u001b[0m plt\u001b[38;5;241m.\u001b[39mshow()\n",
      "File \u001b[1;32m~\\anaconda3\\Lib\\site-packages\\seaborn\\categorical.py:2955\u001b[0m, in \u001b[0;36mcountplot\u001b[1;34m(data, x, y, hue, order, hue_order, orient, color, palette, saturation, width, dodge, ax, **kwargs)\u001b[0m\n\u001b[0;32m   2952\u001b[0m \u001b[38;5;28;01mif\u001b[39;00m ax \u001b[38;5;129;01mis\u001b[39;00m \u001b[38;5;28;01mNone\u001b[39;00m:\n\u001b[0;32m   2953\u001b[0m     ax \u001b[38;5;241m=\u001b[39m plt\u001b[38;5;241m.\u001b[39mgca()\n\u001b[1;32m-> 2955\u001b[0m plotter\u001b[38;5;241m.\u001b[39mplot(ax, kwargs)\n\u001b[0;32m   2956\u001b[0m \u001b[38;5;28;01mreturn\u001b[39;00m ax\n",
      "File \u001b[1;32m~\\anaconda3\\Lib\\site-packages\\seaborn\\categorical.py:1587\u001b[0m, in \u001b[0;36m_BarPlotter.plot\u001b[1;34m(self, ax, bar_kws)\u001b[0m\n\u001b[0;32m   1585\u001b[0m \u001b[38;5;250m\u001b[39m\u001b[38;5;124;03m\"\"\"Make the plot.\"\"\"\u001b[39;00m\n\u001b[0;32m   1586\u001b[0m \u001b[38;5;28mself\u001b[39m\u001b[38;5;241m.\u001b[39mdraw_bars(ax, bar_kws)\n\u001b[1;32m-> 1587\u001b[0m \u001b[38;5;28mself\u001b[39m\u001b[38;5;241m.\u001b[39mannotate_axes(ax)\n\u001b[0;32m   1588\u001b[0m \u001b[38;5;28;01mif\u001b[39;00m \u001b[38;5;28mself\u001b[39m\u001b[38;5;241m.\u001b[39morient \u001b[38;5;241m==\u001b[39m \u001b[38;5;124m\"\u001b[39m\u001b[38;5;124mh\u001b[39m\u001b[38;5;124m\"\u001b[39m:\n\u001b[0;32m   1589\u001b[0m     ax\u001b[38;5;241m.\u001b[39minvert_yaxis()\n",
      "File \u001b[1;32m~\\anaconda3\\Lib\\site-packages\\seaborn\\categorical.py:767\u001b[0m, in \u001b[0;36m_CategoricalPlotter.annotate_axes\u001b[1;34m(self, ax)\u001b[0m\n\u001b[0;32m    764\u001b[0m     ax\u001b[38;5;241m.\u001b[39mset_ylim(\u001b[38;5;241m-\u001b[39m\u001b[38;5;241m.5\u001b[39m, \u001b[38;5;28mlen\u001b[39m(\u001b[38;5;28mself\u001b[39m\u001b[38;5;241m.\u001b[39mplot_data) \u001b[38;5;241m-\u001b[39m \u001b[38;5;241m.5\u001b[39m, auto\u001b[38;5;241m=\u001b[39m\u001b[38;5;28;01mNone\u001b[39;00m)\n\u001b[0;32m    766\u001b[0m \u001b[38;5;28;01mif\u001b[39;00m \u001b[38;5;28mself\u001b[39m\u001b[38;5;241m.\u001b[39mhue_names \u001b[38;5;129;01mis\u001b[39;00m \u001b[38;5;129;01mnot\u001b[39;00m \u001b[38;5;28;01mNone\u001b[39;00m:\n\u001b[1;32m--> 767\u001b[0m     ax\u001b[38;5;241m.\u001b[39mlegend(loc\u001b[38;5;241m=\u001b[39m\u001b[38;5;124m\"\u001b[39m\u001b[38;5;124mbest\u001b[39m\u001b[38;5;124m\"\u001b[39m, title\u001b[38;5;241m=\u001b[39m\u001b[38;5;28mself\u001b[39m\u001b[38;5;241m.\u001b[39mhue_title)\n",
      "File \u001b[1;32m~\\anaconda3\\Lib\\site-packages\\matplotlib\\axes\\_axes.py:322\u001b[0m, in \u001b[0;36mAxes.legend\u001b[1;34m(self, *args, **kwargs)\u001b[0m\n\u001b[0;32m    204\u001b[0m \u001b[38;5;129m@_docstring\u001b[39m\u001b[38;5;241m.\u001b[39mdedent_interpd\n\u001b[0;32m    205\u001b[0m \u001b[38;5;28;01mdef\u001b[39;00m \u001b[38;5;21mlegend\u001b[39m(\u001b[38;5;28mself\u001b[39m, \u001b[38;5;241m*\u001b[39margs, \u001b[38;5;241m*\u001b[39m\u001b[38;5;241m*\u001b[39mkwargs):\n\u001b[0;32m    206\u001b[0m \u001b[38;5;250m    \u001b[39m\u001b[38;5;124;03m\"\"\"\u001b[39;00m\n\u001b[0;32m    207\u001b[0m \u001b[38;5;124;03m    Place a legend on the Axes.\u001b[39;00m\n\u001b[0;32m    208\u001b[0m \n\u001b[1;32m   (...)\u001b[0m\n\u001b[0;32m    320\u001b[0m \u001b[38;5;124;03m    .. plot:: gallery/text_labels_and_annotations/legend.py\u001b[39;00m\n\u001b[0;32m    321\u001b[0m \u001b[38;5;124;03m    \"\"\"\u001b[39;00m\n\u001b[1;32m--> 322\u001b[0m     handles, labels, kwargs \u001b[38;5;241m=\u001b[39m mlegend\u001b[38;5;241m.\u001b[39m_parse_legend_args([\u001b[38;5;28mself\u001b[39m], \u001b[38;5;241m*\u001b[39margs, \u001b[38;5;241m*\u001b[39m\u001b[38;5;241m*\u001b[39mkwargs)\n\u001b[0;32m    323\u001b[0m     \u001b[38;5;28mself\u001b[39m\u001b[38;5;241m.\u001b[39mlegend_ \u001b[38;5;241m=\u001b[39m mlegend\u001b[38;5;241m.\u001b[39mLegend(\u001b[38;5;28mself\u001b[39m, handles, labels, \u001b[38;5;241m*\u001b[39m\u001b[38;5;241m*\u001b[39mkwargs)\n\u001b[0;32m    324\u001b[0m     \u001b[38;5;28mself\u001b[39m\u001b[38;5;241m.\u001b[39mlegend_\u001b[38;5;241m.\u001b[39m_remove_method \u001b[38;5;241m=\u001b[39m \u001b[38;5;28mself\u001b[39m\u001b[38;5;241m.\u001b[39m_remove_legend\n",
      "File \u001b[1;32m~\\anaconda3\\Lib\\site-packages\\matplotlib\\legend.py:1361\u001b[0m, in \u001b[0;36m_parse_legend_args\u001b[1;34m(axs, handles, labels, *args, **kwargs)\u001b[0m\n\u001b[0;32m   1357\u001b[0m     handles \u001b[38;5;241m=\u001b[39m [handle \u001b[38;5;28;01mfor\u001b[39;00m handle, label\n\u001b[0;32m   1358\u001b[0m                \u001b[38;5;129;01min\u001b[39;00m \u001b[38;5;28mzip\u001b[39m(_get_legend_handles(axs, handlers), labels)]\n\u001b[0;32m   1360\u001b[0m \u001b[38;5;28;01melif\u001b[39;00m \u001b[38;5;28mlen\u001b[39m(args) \u001b[38;5;241m==\u001b[39m \u001b[38;5;241m0\u001b[39m:  \u001b[38;5;66;03m# 0 args: automatically detect labels and handles.\u001b[39;00m\n\u001b[1;32m-> 1361\u001b[0m     handles, labels \u001b[38;5;241m=\u001b[39m _get_legend_handles_labels(axs, handlers)\n\u001b[0;32m   1362\u001b[0m     \u001b[38;5;28;01mif\u001b[39;00m \u001b[38;5;129;01mnot\u001b[39;00m handles:\n\u001b[0;32m   1363\u001b[0m         log\u001b[38;5;241m.\u001b[39mwarning(\n\u001b[0;32m   1364\u001b[0m             \u001b[38;5;124m\"\u001b[39m\u001b[38;5;124mNo artists with labels found to put in legend.  Note that \u001b[39m\u001b[38;5;124m\"\u001b[39m\n\u001b[0;32m   1365\u001b[0m             \u001b[38;5;124m\"\u001b[39m\u001b[38;5;124martists whose label start with an underscore are ignored \u001b[39m\u001b[38;5;124m\"\u001b[39m\n\u001b[0;32m   1366\u001b[0m             \u001b[38;5;124m\"\u001b[39m\u001b[38;5;124mwhen legend() is called with no argument.\u001b[39m\u001b[38;5;124m\"\u001b[39m)\n",
      "File \u001b[1;32m~\\anaconda3\\Lib\\site-packages\\matplotlib\\legend.py:1291\u001b[0m, in \u001b[0;36m_get_legend_handles_labels\u001b[1;34m(axs, legend_handler_map)\u001b[0m\n\u001b[0;32m   1289\u001b[0m \u001b[38;5;28;01mfor\u001b[39;00m handle \u001b[38;5;129;01min\u001b[39;00m _get_legend_handles(axs, legend_handler_map):\n\u001b[0;32m   1290\u001b[0m     label \u001b[38;5;241m=\u001b[39m handle\u001b[38;5;241m.\u001b[39mget_label()\n\u001b[1;32m-> 1291\u001b[0m     \u001b[38;5;28;01mif\u001b[39;00m label \u001b[38;5;129;01mand\u001b[39;00m \u001b[38;5;129;01mnot\u001b[39;00m label\u001b[38;5;241m.\u001b[39mstartswith(\u001b[38;5;124m'\u001b[39m\u001b[38;5;124m_\u001b[39m\u001b[38;5;124m'\u001b[39m):\n\u001b[0;32m   1292\u001b[0m         handles\u001b[38;5;241m.\u001b[39mappend(handle)\n\u001b[0;32m   1293\u001b[0m         labels\u001b[38;5;241m.\u001b[39mappend(label)\n",
      "\u001b[1;31mAttributeError\u001b[0m: 'numpy.int64' object has no attribute 'startswith'"
     ]
    },
    {
     "data": {
      "image/png": "[encoded data removed]",
      "text/plain": [
       "<Figure size 640x480 with 1 Axes>"
      ]
     },
     "metadata": {},
     "output_type": "display_data"
    }
   ],
   "source": [
    "## A free copy of Mastering The Interview\n",
    "sns.countplot(x = \"A free copy of Mastering The Interview\", hue = \"Converted\", data = Lead_data_excl)\n",
    "plt.xticks(rotation = 90)\n",
    "plt.show()"
   ]
  },
  {
   "cell_type": "code",
   "execution_count": 71,
   "id": "fe43c6fa-b6ff-443d-b788-c6a4c4c6d336",
   "metadata": {},
   "outputs": [
    {
     "ename": "AttributeError",
     "evalue": "'numpy.int64' object has no attribute 'startswith'",
     "output_type": "error",
     "traceback": [
      "\u001b[1;31m---------------------------------------------------------------------------\u001b[0m",
      "\u001b[1;31mAttributeError\u001b[0m                            Traceback (most recent call last)",
      "Cell \u001b[1;32mIn[71], line 2\u001b[0m\n\u001b[0;32m      1\u001b[0m \u001b[38;5;66;03m## Last Notable Activity\u001b[39;00m\n\u001b[1;32m----> 2\u001b[0m sns\u001b[38;5;241m.\u001b[39mcountplot(x \u001b[38;5;241m=\u001b[39m \u001b[38;5;124m\"\u001b[39m\u001b[38;5;124mLast Notable Activity\u001b[39m\u001b[38;5;124m\"\u001b[39m, hue \u001b[38;5;241m=\u001b[39m \u001b[38;5;124m\"\u001b[39m\u001b[38;5;124mConverted\u001b[39m\u001b[38;5;124m\"\u001b[39m, data \u001b[38;5;241m=\u001b[39m Lead_data_excl)\n\u001b[0;32m      3\u001b[0m plt\u001b[38;5;241m.\u001b[39mxticks(rotation \u001b[38;5;241m=\u001b[39m \u001b[38;5;241m90\u001b[39m)\n\u001b[0;32m      4\u001b[0m plt\u001b[38;5;241m.\u001b[39mshow()\n",
      "File \u001b[1;32m~\\anaconda3\\Lib\\site-packages\\seaborn\\categorical.py:2955\u001b[0m, in \u001b[0;36mcountplot\u001b[1;34m(data, x, y, hue, order, hue_order, orient, color, palette, saturation, width, dodge, ax, **kwargs)\u001b[0m\n\u001b[0;32m   2952\u001b[0m \u001b[38;5;28;01mif\u001b[39;00m ax \u001b[38;5;129;01mis\u001b[39;00m \u001b[38;5;28;01mNone\u001b[39;00m:\n\u001b[0;32m   2953\u001b[0m     ax \u001b[38;5;241m=\u001b[39m plt\u001b[38;5;241m.\u001b[39mgca()\n\u001b[1;32m-> 2955\u001b[0m plotter\u001b[38;5;241m.\u001b[39mplot(ax, kwargs)\n\u001b[0;32m   2956\u001b[0m \u001b[38;5;28;01mreturn\u001b[39;00m ax\n",
      "File \u001b[1;32m~\\anaconda3\\Lib\\site-packages\\seaborn\\categorical.py:1587\u001b[0m, in \u001b[0;36m_BarPlotter.plot\u001b[1;34m(self, ax, bar_kws)\u001b[0m\n\u001b[0;32m   1585\u001b[0m \u001b[38;5;250m\u001b[39m\u001b[38;5;124;03m\"\"\"Make the plot.\"\"\"\u001b[39;00m\n\u001b[0;32m   1586\u001b[0m \u001b[38;5;28mself\u001b[39m\u001b[38;5;241m.\u001b[39mdraw_bars(ax, bar_kws)\n\u001b[1;32m-> 1587\u001b[0m \u001b[38;5;28mself\u001b[39m\u001b[38;5;241m.\u001b[39mannotate_axes(ax)\n\u001b[0;32m   1588\u001b[0m \u001b[38;5;28;01mif\u001b[39;00m \u001b[38;5;28mself\u001b[39m\u001b[38;5;241m.\u001b[39morient \u001b[38;5;241m==\u001b[39m \u001b[38;5;124m\"\u001b[39m\u001b[38;5;124mh\u001b[39m\u001b[38;5;124m\"\u001b[39m:\n\u001b[0;32m   1589\u001b[0m     ax\u001b[38;5;241m.\u001b[39minvert_yaxis()\n",
      "File \u001b[1;32m~\\anaconda3\\Lib\\site-packages\\seaborn\\categorical.py:767\u001b[0m, in \u001b[0;36m_CategoricalPlotter.annotate_axes\u001b[1;34m(self, ax)\u001b[0m\n\u001b[0;32m    764\u001b[0m     ax\u001b[38;5;241m.\u001b[39mset_ylim(\u001b[38;5;241m-\u001b[39m\u001b[38;5;241m.5\u001b[39m, \u001b[38;5;28mlen\u001b[39m(\u001b[38;5;28mself\u001b[39m\u001b[38;5;241m.\u001b[39mplot_data) \u001b[38;5;241m-\u001b[39m \u001b[38;5;241m.5\u001b[39m, auto\u001b[38;5;241m=\u001b[39m\u001b[38;5;28;01mNone\u001b[39;00m)\n\u001b[0;32m    766\u001b[0m \u001b[38;5;28;01mif\u001b[39;00m \u001b[38;5;28mself\u001b[39m\u001b[38;5;241m.\u001b[39mhue_names \u001b[38;5;129;01mis\u001b[39;00m \u001b[38;5;129;01mnot\u001b[39;00m \u001b[38;5;28;01mNone\u001b[39;00m:\n\u001b[1;32m--> 767\u001b[0m     ax\u001b[38;5;241m.\u001b[39mlegend(loc\u001b[38;5;241m=\u001b[39m\u001b[38;5;124m\"\u001b[39m\u001b[38;5;124mbest\u001b[39m\u001b[38;5;124m\"\u001b[39m, title\u001b[38;5;241m=\u001b[39m\u001b[38;5;28mself\u001b[39m\u001b[38;5;241m.\u001b[39mhue_title)\n",
      "File \u001b[1;32m~\\anaconda3\\Lib\\site-packages\\matplotlib\\axes\\_axes.py:322\u001b[0m, in \u001b[0;36mAxes.legend\u001b[1;34m(self, *args, **kwargs)\u001b[0m\n\u001b[0;32m    204\u001b[0m \u001b[38;5;129m@_docstring\u001b[39m\u001b[38;5;241m.\u001b[39mdedent_interpd\n\u001b[0;32m    205\u001b[0m \u001b[38;5;28;01mdef\u001b[39;00m \u001b[38;5;21mlegend\u001b[39m(\u001b[38;5;28mself\u001b[39m, \u001b[38;5;241m*\u001b[39margs, \u001b[38;5;241m*\u001b[39m\u001b[38;5;241m*\u001b[39mkwargs):\n\u001b[0;32m    206\u001b[0m \u001b[38;5;250m    \u001b[39m\u001b[38;5;124;03m\"\"\"\u001b[39;00m\n\u001b[0;32m    207\u001b[0m \u001b[38;5;124;03m    Place a legend on the Axes.\u001b[39;00m\n\u001b[0;32m    208\u001b[0m \n\u001b[1;32m   (...)\u001b[0m\n\u001b[0;32m    320\u001b[0m \u001b[38;5;124;03m    .. plot:: gallery/text_labels_and_annotations/legend.py\u001b[39;00m\n\u001b[0;32m    321\u001b[0m \u001b[38;5;124;03m    \"\"\"\u001b[39;00m\n\u001b[1;32m--> 322\u001b[0m     handles, labels, kwargs \u001b[38;5;241m=\u001b[39m mlegend\u001b[38;5;241m.\u001b[39m_parse_legend_args([\u001b[38;5;28mself\u001b[39m], \u001b[38;5;241m*\u001b[39margs, \u001b[38;5;241m*\u001b[39m\u001b[38;5;241m*\u001b[39mkwargs)\n\u001b[0;32m    323\u001b[0m     \u001b[38;5;28mself\u001b[39m\u001b[38;5;241m.\u001b[39mlegend_ \u001b[38;5;241m=\u001b[39m mlegend\u001b[38;5;241m.\u001b[39mLegend(\u001b[38;5;28mself\u001b[39m, handles, labels, \u001b[38;5;241m*\u001b[39m\u001b[38;5;241m*\u001b[39mkwargs)\n\u001b[0;32m    324\u001b[0m     \u001b[38;5;28mself\u001b[39m\u001b[38;5;241m.\u001b[39mlegend_\u001b[38;5;241m.\u001b[39m_remove_method \u001b[38;5;241m=\u001b[39m \u001b[38;5;28mself\u001b[39m\u001b[38;5;241m.\u001b[39m_remove_legend\n",
      "File \u001b[1;32m~\\anaconda3\\Lib\\site-packages\\matplotlib\\legend.py:1361\u001b[0m, in \u001b[0;36m_parse_legend_args\u001b[1;34m(axs, handles, labels, *args, **kwargs)\u001b[0m\n\u001b[0;32m   1357\u001b[0m     handles \u001b[38;5;241m=\u001b[39m [handle \u001b[38;5;28;01mfor\u001b[39;00m handle, label\n\u001b[0;32m   1358\u001b[0m                \u001b[38;5;129;01min\u001b[39;00m \u001b[38;5;28mzip\u001b[39m(_get_legend_handles(axs, handlers), labels)]\n\u001b[0;32m   1360\u001b[0m \u001b[38;5;28;01melif\u001b[39;00m \u001b[38;5;28mlen\u001b[39m(args) \u001b[38;5;241m==\u001b[39m \u001b[38;5;241m0\u001b[39m:  \u001b[38;5;66;03m# 0 args: automatically detect labels and handles.\u001b[39;00m\n\u001b[1;32m-> 1361\u001b[0m     handles, labels \u001b[38;5;241m=\u001b[39m _get_legend_handles_labels(axs, handlers)\n\u001b[0;32m   1362\u001b[0m     \u001b[38;5;28;01mif\u001b[39;00m \u001b[38;5;129;01mnot\u001b[39;00m handles:\n\u001b[0;32m   1363\u001b[0m         log\u001b[38;5;241m.\u001b[39mwarning(\n\u001b[0;32m   1364\u001b[0m             \u001b[38;5;124m\"\u001b[39m\u001b[38;5;124mNo artists with labels found to put in legend.  Note that \u001b[39m\u001b[38;5;124m\"\u001b[39m\n\u001b[0;32m   1365\u001b[0m             \u001b[38;5;124m\"\u001b[39m\u001b[38;5;124martists whose label start with an underscore are ignored \u001b[39m\u001b[38;5;124m\"\u001b[39m\n\u001b[0;32m   1366\u001b[0m             \u001b[38;5;124m\"\u001b[39m\u001b[38;5;124mwhen legend() is called with no argument.\u001b[39m\u001b[38;5;124m\"\u001b[39m)\n",
      "File \u001b[1;32m~\\anaconda3\\Lib\\site-packages\\matplotlib\\legend.py:1291\u001b[0m, in \u001b[0;36m_get_legend_handles_labels\u001b[1;34m(axs, legend_handler_map)\u001b[0m\n\u001b[0;32m   1289\u001b[0m \u001b[38;5;28;01mfor\u001b[39;00m handle \u001b[38;5;129;01min\u001b[39;00m _get_legend_handles(axs, legend_handler_map):\n\u001b[0;32m   1290\u001b[0m     label \u001b[38;5;241m=\u001b[39m handle\u001b[38;5;241m.\u001b[39mget_label()\n\u001b[1;32m-> 1291\u001b[0m     \u001b[38;5;28;01mif\u001b[39;00m label \u001b[38;5;129;01mand\u001b[39;00m \u001b[38;5;129;01mnot\u001b[39;00m label\u001b[38;5;241m.\u001b[39mstartswith(\u001b[38;5;124m'\u001b[39m\u001b[38;5;124m_\u001b[39m\u001b[38;5;124m'\u001b[39m):\n\u001b[0;32m   1292\u001b[0m         handles\u001b[38;5;241m.\u001b[39mappend(handle)\n\u001b[0;32m   1293\u001b[0m         labels\u001b[38;5;241m.\u001b[39mappend(label)\n",
      "\u001b[1;31mAttributeError\u001b[0m: 'numpy.int64' object has no attribute 'startswith'"
     ]
    },
    {
     "data": {
      "image/png": "[encoded data removed]",
      "text/plain": [
       "<Figure size 640x480 with 1 Axes>"
      ]
     },
     "metadata": {},
     "output_type": "display_data"
    }
   ],
   "source": [
    "## Last Notable Activity\n",
    "sns.countplot(x = \"Last Notable Activity\", hue = \"Converted\", data = Lead_data_excl)\n",
    "plt.xticks(rotation = 90)\n",
    "plt.show()"
   ]
  },
  {
   "cell_type": "code",
   "execution_count": null,
   "id": "3ab6ed56-47ab-4103-8ec7-84553664729b",
   "metadata": {},
   "outputs": [],
   "source": [
    "sns.pairplot(Lead_data, diag_kind='kde', hue='Converted')\n",
    "plt.show()"
   ]
  },
  {
   "cell_type": "markdown",
   "id": "b87c34cd-ccef-41e3-8c75-0d71d4a4c00a",
   "metadata": {},
   "source": [
    "**Inference:**\n",
    "\n",
    "More Lead_data are from those who have modified their account or opened email. focus should be on their conversion.SMS sent have high converison"
   ]
  },
  {
   "cell_type": "markdown",
   "id": "a49bba16-b59f-4a33-b22f-660696bc4a34",
   "metadata": {},
   "source": [
    "## Outlier treatment for Numerical columns TotalVisits,Total Time Spent on Website and Page Views Per Visit"
   ]
  },
  {
   "cell_type": "code",
   "execution_count": null,
   "id": "ce06577a-4f0e-4463-85c1-20ef1bc863c3",
   "metadata": {},
   "outputs": [],
   "source": [
    "Num_cols = Lead_data_excl[['TotalVisits', 'Total Time Spent on Website', 'Page Views Per Visit']]"
   ]
  },
  {
   "cell_type": "code",
   "execution_count": null,
   "id": "0dade1ff-74fc-4c5f-a25f-b7b10b3673ff",
   "metadata": {},
   "outputs": [],
   "source": [
    "# Checking outliers in all the numerical columns\n",
    "plt.figure(figsize=(10,10))\n",
    "\n",
    "for i in enumerate(Num_cols):\n",
    "    plt.subplot(3,3,i[0]+1)\n",
    "    sns.boxplot(Lead_data_excl[i[1]])\n",
    "    plt.title(\"Plot \"+str(i[0]+1)+\": \"+i[1])\n",
    "plt.subplots_adjust(wspace=1,hspace=0.2)\n",
    "    \n",
    "plt.show()"
   ]
  },
  {
   "cell_type": "code",
   "execution_count": null,
   "id": "91e7284d-1aca-4585-bf4a-e526dfac6612",
   "metadata": {},
   "outputs": [],
   "source": [
    "Q1=Num_cols.quantile(.25)\n",
    "Q3=Num_cols.quantile(.75)\n",
    "IQR=Q3-Q1\n",
    "print(IQR*1.5)"
   ]
  },
  {
   "cell_type": "markdown",
   "id": "73195bc5-49a3-4009-96e4-40ea5e811092",
   "metadata": {},
   "source": [
    "### Imputing the outliers in TotalVisits and Page Views Per Visit with 1.5*IQR"
   ]
  },
  {
   "cell_type": "code",
   "execution_count": null,
   "id": "f7601f52-8c2a-4876-bd5f-4f510d8e643b",
   "metadata": {},
   "outputs": [],
   "source": [
    "Lead_data_excl.loc[Lead_data_excl['TotalVisits'] > 11, 'TotalVisits'] = 6\n",
    "Lead_data_excl.loc[Lead_data_excl['Page Views Per Visit'] > 6, 'Page Views Per Visit'] = 3"
   ]
  },
  {
   "cell_type": "code",
   "execution_count": 61,
   "id": "389bdf0d-6df5-42a4-bd47-3e548e697418",
   "metadata": {},
   "outputs": [
    {
     "data": {
      "text/plain": [
       "(9240, 13)"
      ]
     },
     "execution_count": 61,
     "metadata": {},
     "output_type": "execute_result"
    }
   ],
   "source": [
    "Lead_data_excl.shape"
   ]
  },
  {
   "cell_type": "code",
   "execution_count": 62,
   "id": "6380d492-1416-4bf8-9dd3-04e1c3c2f5ff",
   "metadata": {},
   "outputs": [
    {
     "name": "stdout",
     "output_type": "stream",
     "text": [
      "<class 'pandas.core.frame.DataFrame'>\n",
      "RangeIndex: 9240 entries, 0 to 9239\n",
      "Data columns (total 13 columns):\n",
      " #   Column                                  Non-Null Count  Dtype  \n",
      "---  ------                                  --------------  -----  \n",
      " 0   Lead Origin                             9240 non-null   object \n",
      " 1   Lead Source                             9240 non-null   object \n",
      " 2   Converted                               9240 non-null   int64  \n",
      " 3   TotalVisits                             9240 non-null   float64\n",
      " 4   Total Time Spent on Website             9240 non-null   int64  \n",
      " 5   Page Views Per Visit                    9240 non-null   float64\n",
      " 6   Last Activity                           9240 non-null   object \n",
      " 7   Specialization                          9240 non-null   object \n",
      " 8   What is your current occupation         9240 non-null   object \n",
      " 9   Tags                                    9240 non-null   object \n",
      " 10  City                                    5571 non-null   object \n",
      " 11  A free copy of Mastering The Interview  9240 non-null   object \n",
      " 12  Last Notable Activity                   9240 non-null   object \n",
      "dtypes: float64(2), int64(2), object(9)\n",
      "memory usage: 938.6+ KB\n"
     ]
    }
   ],
   "source": [
    "Lead_data_excl.info()"
   ]
  },
  {
   "cell_type": "code",
   "execution_count": 63,
   "id": "6308342c-a555-4001-95da-46a33ac946e1",
   "metadata": {},
   "outputs": [
    {
     "data": {
      "text/html": [
       "<div>\n",
       "<style scoped>\n",
       "    .dataframe tbody tr th:only-of-type {\n",
       "        vertical-align: middle;\n",
       "    }\n",
       "\n",
       "    .dataframe tbody tr th {\n",
       "        vertical-align: top;\n",
       "    }\n",
       "\n",
       "    .dataframe thead th {\n",
       "        text-align: right;\n",
       "    }\n",
       "</style>\n",
       "<table border=\"1\" class=\"dataframe\">\n",
       "  <thead>\n",
       "    <tr style=\"text-align: right;\">\n",
       "      <th></th>\n",
       "      <th>Lead Origin</th>\n",
       "      <th>Lead Source</th>\n",
       "      <th>Converted</th>\n",
       "      <th>TotalVisits</th>\n",
       "      <th>Total Time Spent on Website</th>\n",
       "      <th>Page Views Per Visit</th>\n",
       "      <th>Last Activity</th>\n",
       "      <th>Specialization</th>\n",
       "      <th>What is your current occupation</th>\n",
       "      <th>Tags</th>\n",
       "      <th>City</th>\n",
       "      <th>A free copy of Mastering The Interview</th>\n",
       "      <th>Last Notable Activity</th>\n",
       "    </tr>\n",
       "  </thead>\n",
       "  <tbody>\n",
       "    <tr>\n",
       "      <th>0</th>\n",
       "      <td>API</td>\n",
       "      <td>Olark Chat</td>\n",
       "      <td>0</td>\n",
       "      <td>0.0</td>\n",
       "      <td>0</td>\n",
       "      <td>0.0</td>\n",
       "      <td>Page Visited on Website</td>\n",
       "      <td>Others</td>\n",
       "      <td>Unemployed</td>\n",
       "      <td>Interested in other courses</td>\n",
       "      <td>NaN</td>\n",
       "      <td>No</td>\n",
       "      <td>Modified</td>\n",
       "    </tr>\n",
       "    <tr>\n",
       "      <th>1</th>\n",
       "      <td>API</td>\n",
       "      <td>Organic Search</td>\n",
       "      <td>0</td>\n",
       "      <td>5.0</td>\n",
       "      <td>674</td>\n",
       "      <td>2.5</td>\n",
       "      <td>Email Opened</td>\n",
       "      <td>Others</td>\n",
       "      <td>Unemployed</td>\n",
       "      <td>Ringing</td>\n",
       "      <td>NaN</td>\n",
       "      <td>No</td>\n",
       "      <td>Email Opened</td>\n",
       "    </tr>\n",
       "    <tr>\n",
       "      <th>2</th>\n",
       "      <td>Landing Page Submission</td>\n",
       "      <td>Direct Traffic</td>\n",
       "      <td>1</td>\n",
       "      <td>2.0</td>\n",
       "      <td>1532</td>\n",
       "      <td>2.0</td>\n",
       "      <td>Email Opened</td>\n",
       "      <td>Business Administration</td>\n",
       "      <td>Student</td>\n",
       "      <td>Will revert after reading the email</td>\n",
       "      <td>Mumbai</td>\n",
       "      <td>Yes</td>\n",
       "      <td>Email Opened</td>\n",
       "    </tr>\n",
       "    <tr>\n",
       "      <th>3</th>\n",
       "      <td>Landing Page Submission</td>\n",
       "      <td>Direct Traffic</td>\n",
       "      <td>0</td>\n",
       "      <td>1.0</td>\n",
       "      <td>305</td>\n",
       "      <td>1.0</td>\n",
       "      <td>Others</td>\n",
       "      <td>Media and Advertising</td>\n",
       "      <td>Unemployed</td>\n",
       "      <td>Ringing</td>\n",
       "      <td>Mumbai</td>\n",
       "      <td>No</td>\n",
       "      <td>Modified</td>\n",
       "    </tr>\n",
       "    <tr>\n",
       "      <th>4</th>\n",
       "      <td>Landing Page Submission</td>\n",
       "      <td>Google</td>\n",
       "      <td>1</td>\n",
       "      <td>2.0</td>\n",
       "      <td>1428</td>\n",
       "      <td>1.0</td>\n",
       "      <td>Converted to Lead</td>\n",
       "      <td>Others</td>\n",
       "      <td>Unemployed</td>\n",
       "      <td>Will revert after reading the email</td>\n",
       "      <td>Mumbai</td>\n",
       "      <td>No</td>\n",
       "      <td>Modified</td>\n",
       "    </tr>\n",
       "  </tbody>\n",
       "</table>\n",
       "</div>"
      ],
      "text/plain": [
       "               Lead Origin     Lead Source  Converted  TotalVisits  \\\n",
       "0                      API      Olark Chat          0          0.0   \n",
       "1                      API  Organic Search          0          5.0   \n",
       "2  Landing Page Submission  Direct Traffic          1          2.0   \n",
       "3  Landing Page Submission  Direct Traffic          0          1.0   \n",
       "4  Landing Page Submission          Google          1          2.0   \n",
       "\n",
       "   Total Time Spent on Website  Page Views Per Visit            Last Activity  \\\n",
       "0                            0                   0.0  Page Visited on Website   \n",
       "1                          674                   2.5             Email Opened   \n",
       "2                         1532                   2.0             Email Opened   \n",
       "3                          305                   1.0                   Others   \n",
       "4                         1428                   1.0        Converted to Lead   \n",
       "\n",
       "            Specialization What is your current occupation  \\\n",
       "0                   Others                      Unemployed   \n",
       "1                   Others                      Unemployed   \n",
       "2  Business Administration                         Student   \n",
       "3    Media and Advertising                      Unemployed   \n",
       "4                   Others                      Unemployed   \n",
       "\n",
       "                                  Tags    City  \\\n",
       "0          Interested in other courses     NaN   \n",
       "1                              Ringing     NaN   \n",
       "2  Will revert after reading the email  Mumbai   \n",
       "3                              Ringing  Mumbai   \n",
       "4  Will revert after reading the email  Mumbai   \n",
       "\n",
       "  A free copy of Mastering The Interview Last Notable Activity  \n",
       "0                                     No              Modified  \n",
       "1                                     No          Email Opened  \n",
       "2                                    Yes          Email Opened  \n",
       "3                                     No              Modified  \n",
       "4                                     No              Modified  "
      ]
     },
     "execution_count": 63,
     "metadata": {},
     "output_type": "execute_result"
    }
   ],
   "source": [
    "Lead_data_excl.head()"
   ]
  },
  {
   "cell_type": "markdown",
   "id": "b2641453-859f-487d-b66a-bf567efe9c79",
   "metadata": {},
   "source": [
    "## Dummy creation"
   ]
  },
  {
   "cell_type": "code",
   "execution_count": 68,
   "id": "47e38b8c-0d06-4a19-b23c-1702631a2f7b",
   "metadata": {},
   "outputs": [
    {
     "data": {
      "text/plain": [
       "A free copy of Mastering The Interview\n",
       "0    6352\n",
       "1    2888\n",
       "Name: count, dtype: int64"
      ]
     },
     "execution_count": 68,
     "metadata": {},
     "output_type": "execute_result"
    }
   ],
   "source": [
    "Lead_data_excl['A free copy of Mastering The Interview'] = Lead_data_excl['A free copy of Mastering The Interview'].map({'No':0,'Yes':1})\n",
    "Lead_data_excl['A free copy of Mastering The Interview'].value_counts()"
   ]
  },
  {
   "cell_type": "code",
   "execution_count": 69,
   "id": "b33d12af-8be4-47d8-9804-24d43e736a33",
   "metadata": {},
   "outputs": [
    {
     "data": {
      "text/html": [
       "<div>\n",
       "<style scoped>\n",
       "    .dataframe tbody tr th:only-of-type {\n",
       "        vertical-align: middle;\n",
       "    }\n",
       "\n",
       "    .dataframe tbody tr th {\n",
       "        vertical-align: top;\n",
       "    }\n",
       "\n",
       "    .dataframe thead th {\n",
       "        text-align: right;\n",
       "    }\n",
       "</style>\n",
       "<table border=\"1\" class=\"dataframe\">\n",
       "  <thead>\n",
       "    <tr style=\"text-align: right;\">\n",
       "      <th></th>\n",
       "      <th>Converted</th>\n",
       "      <th>TotalVisits</th>\n",
       "      <th>Total Time Spent on Website</th>\n",
       "      <th>Page Views Per Visit</th>\n",
       "      <th>A free copy of Mastering The Interview</th>\n",
       "      <th>Lead Origin_Landing Page Submission</th>\n",
       "      <th>Lead Origin_Lead Add Form</th>\n",
       "      <th>Lead Origin_Lead Import</th>\n",
       "      <th>Lead Origin_Quick Add Form</th>\n",
       "      <th>Lead Source_Google</th>\n",
       "      <th>Lead Source_Olark Chat</th>\n",
       "      <th>Lead Source_Organic Search</th>\n",
       "      <th>Lead Source_Others</th>\n",
       "      <th>Lead Source_Reference</th>\n",
       "      <th>Lead Source_Referral Sites</th>\n",
       "      <th>Lead Source_Welingak Website</th>\n",
       "      <th>Last Activity_Email Bounced</th>\n",
       "      <th>Last Activity_Email Link Clicked</th>\n",
       "      <th>Last Activity_Email Opened</th>\n",
       "      <th>Last Activity_Form Submitted on Website</th>\n",
       "      <th>Last Activity_Olark Chat Conversation</th>\n",
       "      <th>Last Activity_Others</th>\n",
       "      <th>Last Activity_Page Visited on Website</th>\n",
       "      <th>Last Activity_SMS Sent</th>\n",
       "      <th>Specialization_Business Administration</th>\n",
       "      <th>Specialization_E-COMMERCE</th>\n",
       "      <th>Specialization_Finance Management</th>\n",
       "      <th>Specialization_Healthcare Management</th>\n",
       "      <th>Specialization_Hospitality Management</th>\n",
       "      <th>Specialization_Human Resource Management</th>\n",
       "      <th>Specialization_IT Projects Management</th>\n",
       "      <th>Specialization_International Business</th>\n",
       "      <th>Specialization_Marketing Management</th>\n",
       "      <th>Specialization_Media and Advertising</th>\n",
       "      <th>Specialization_Operations Management</th>\n",
       "      <th>Specialization_Others</th>\n",
       "      <th>Specialization_Retail Management</th>\n",
       "      <th>Specialization_Supply Chain Management</th>\n",
       "      <th>Specialization_Travel and Tourism</th>\n",
       "      <th>What is your current occupation_Housewife</th>\n",
       "      <th>What is your current occupation_Other</th>\n",
       "      <th>What is your current occupation_Student</th>\n",
       "      <th>What is your current occupation_Unemployed</th>\n",
       "      <th>What is your current occupation_Working Professional</th>\n",
       "      <th>Tags_Interested in other courses</th>\n",
       "      <th>Tags_Others</th>\n",
       "      <th>Tags_Ringing</th>\n",
       "      <th>Tags_Will revert after reading the email</th>\n",
       "      <th>City_Others</th>\n",
       "      <th>City_Thane &amp; Outskirts</th>\n",
       "      <th>Last Notable Activity_Email Opened</th>\n",
       "      <th>Last Notable Activity_Modified</th>\n",
       "      <th>Last Notable Activity_Olark Chat Conversation</th>\n",
       "      <th>Last Notable Activity_Others</th>\n",
       "      <th>Last Notable Activity_Page Visited on Website</th>\n",
       "      <th>Last Notable Activity_SMS Sent</th>\n",
       "    </tr>\n",
       "  </thead>\n",
       "  <tbody>\n",
       "    <tr>\n",
       "      <th>0</th>\n",
       "      <td>0</td>\n",
       "      <td>0.0</td>\n",
       "      <td>0</td>\n",
       "      <td>0.0</td>\n",
       "      <td>0</td>\n",
       "      <td>False</td>\n",
       "      <td>False</td>\n",
       "      <td>False</td>\n",
       "      <td>False</td>\n",
       "      <td>False</td>\n",
       "      <td>True</td>\n",
       "      <td>False</td>\n",
       "      <td>False</td>\n",
       "      <td>False</td>\n",
       "      <td>False</td>\n",
       "      <td>False</td>\n",
       "      <td>False</td>\n",
       "      <td>False</td>\n",
       "      <td>False</td>\n",
       "      <td>False</td>\n",
       "      <td>False</td>\n",
       "      <td>False</td>\n",
       "      <td>True</td>\n",
       "      <td>False</td>\n",
       "      <td>False</td>\n",
       "      <td>False</td>\n",
       "      <td>False</td>\n",
       "      <td>False</td>\n",
       "      <td>False</td>\n",
       "      <td>False</td>\n",
       "      <td>False</td>\n",
       "      <td>False</td>\n",
       "      <td>False</td>\n",
       "      <td>False</td>\n",
       "      <td>False</td>\n",
       "      <td>True</td>\n",
       "      <td>False</td>\n",
       "      <td>False</td>\n",
       "      <td>False</td>\n",
       "      <td>False</td>\n",
       "      <td>False</td>\n",
       "      <td>False</td>\n",
       "      <td>True</td>\n",
       "      <td>False</td>\n",
       "      <td>True</td>\n",
       "      <td>False</td>\n",
       "      <td>False</td>\n",
       "      <td>False</td>\n",
       "      <td>True</td>\n",
       "      <td>False</td>\n",
       "      <td>False</td>\n",
       "      <td>True</td>\n",
       "      <td>False</td>\n",
       "      <td>False</td>\n",
       "      <td>False</td>\n",
       "      <td>False</td>\n",
       "    </tr>\n",
       "    <tr>\n",
       "      <th>1</th>\n",
       "      <td>0</td>\n",
       "      <td>5.0</td>\n",
       "      <td>674</td>\n",
       "      <td>2.5</td>\n",
       "      <td>0</td>\n",
       "      <td>False</td>\n",
       "      <td>False</td>\n",
       "      <td>False</td>\n",
       "      <td>False</td>\n",
       "      <td>False</td>\n",
       "      <td>False</td>\n",
       "      <td>True</td>\n",
       "      <td>False</td>\n",
       "      <td>False</td>\n",
       "      <td>False</td>\n",
       "      <td>False</td>\n",
       "      <td>False</td>\n",
       "      <td>False</td>\n",
       "      <td>True</td>\n",
       "      <td>False</td>\n",
       "      <td>False</td>\n",
       "      <td>False</td>\n",
       "      <td>False</td>\n",
       "      <td>False</td>\n",
       "      <td>False</td>\n",
       "      <td>False</td>\n",
       "      <td>False</td>\n",
       "      <td>False</td>\n",
       "      <td>False</td>\n",
       "      <td>False</td>\n",
       "      <td>False</td>\n",
       "      <td>False</td>\n",
       "      <td>False</td>\n",
       "      <td>False</td>\n",
       "      <td>False</td>\n",
       "      <td>True</td>\n",
       "      <td>False</td>\n",
       "      <td>False</td>\n",
       "      <td>False</td>\n",
       "      <td>False</td>\n",
       "      <td>False</td>\n",
       "      <td>False</td>\n",
       "      <td>True</td>\n",
       "      <td>False</td>\n",
       "      <td>False</td>\n",
       "      <td>False</td>\n",
       "      <td>True</td>\n",
       "      <td>False</td>\n",
       "      <td>True</td>\n",
       "      <td>False</td>\n",
       "      <td>True</td>\n",
       "      <td>False</td>\n",
       "      <td>False</td>\n",
       "      <td>False</td>\n",
       "      <td>False</td>\n",
       "      <td>False</td>\n",
       "    </tr>\n",
       "    <tr>\n",
       "      <th>2</th>\n",
       "      <td>1</td>\n",
       "      <td>2.0</td>\n",
       "      <td>1532</td>\n",
       "      <td>2.0</td>\n",
       "      <td>1</td>\n",
       "      <td>True</td>\n",
       "      <td>False</td>\n",
       "      <td>False</td>\n",
       "      <td>False</td>\n",
       "      <td>False</td>\n",
       "      <td>False</td>\n",
       "      <td>False</td>\n",
       "      <td>False</td>\n",
       "      <td>False</td>\n",
       "      <td>False</td>\n",
       "      <td>False</td>\n",
       "      <td>False</td>\n",
       "      <td>False</td>\n",
       "      <td>True</td>\n",
       "      <td>False</td>\n",
       "      <td>False</td>\n",
       "      <td>False</td>\n",
       "      <td>False</td>\n",
       "      <td>False</td>\n",
       "      <td>True</td>\n",
       "      <td>False</td>\n",
       "      <td>False</td>\n",
       "      <td>False</td>\n",
       "      <td>False</td>\n",
       "      <td>False</td>\n",
       "      <td>False</td>\n",
       "      <td>False</td>\n",
       "      <td>False</td>\n",
       "      <td>False</td>\n",
       "      <td>False</td>\n",
       "      <td>False</td>\n",
       "      <td>False</td>\n",
       "      <td>False</td>\n",
       "      <td>False</td>\n",
       "      <td>False</td>\n",
       "      <td>False</td>\n",
       "      <td>True</td>\n",
       "      <td>False</td>\n",
       "      <td>False</td>\n",
       "      <td>False</td>\n",
       "      <td>False</td>\n",
       "      <td>False</td>\n",
       "      <td>True</td>\n",
       "      <td>False</td>\n",
       "      <td>False</td>\n",
       "      <td>True</td>\n",
       "      <td>False</td>\n",
       "      <td>False</td>\n",
       "      <td>False</td>\n",
       "      <td>False</td>\n",
       "      <td>False</td>\n",
       "    </tr>\n",
       "    <tr>\n",
       "      <th>3</th>\n",
       "      <td>0</td>\n",
       "      <td>1.0</td>\n",
       "      <td>305</td>\n",
       "      <td>1.0</td>\n",
       "      <td>0</td>\n",
       "      <td>True</td>\n",
       "      <td>False</td>\n",
       "      <td>False</td>\n",
       "      <td>False</td>\n",
       "      <td>False</td>\n",
       "      <td>False</td>\n",
       "      <td>False</td>\n",
       "      <td>False</td>\n",
       "      <td>False</td>\n",
       "      <td>False</td>\n",
       "      <td>False</td>\n",
       "      <td>False</td>\n",
       "      <td>False</td>\n",
       "      <td>False</td>\n",
       "      <td>False</td>\n",
       "      <td>False</td>\n",
       "      <td>True</td>\n",
       "      <td>False</td>\n",
       "      <td>False</td>\n",
       "      <td>False</td>\n",
       "      <td>False</td>\n",
       "      <td>False</td>\n",
       "      <td>False</td>\n",
       "      <td>False</td>\n",
       "      <td>False</td>\n",
       "      <td>False</td>\n",
       "      <td>False</td>\n",
       "      <td>False</td>\n",
       "      <td>True</td>\n",
       "      <td>False</td>\n",
       "      <td>False</td>\n",
       "      <td>False</td>\n",
       "      <td>False</td>\n",
       "      <td>False</td>\n",
       "      <td>False</td>\n",
       "      <td>False</td>\n",
       "      <td>False</td>\n",
       "      <td>True</td>\n",
       "      <td>False</td>\n",
       "      <td>False</td>\n",
       "      <td>False</td>\n",
       "      <td>True</td>\n",
       "      <td>False</td>\n",
       "      <td>False</td>\n",
       "      <td>False</td>\n",
       "      <td>False</td>\n",
       "      <td>True</td>\n",
       "      <td>False</td>\n",
       "      <td>False</td>\n",
       "      <td>False</td>\n",
       "      <td>False</td>\n",
       "    </tr>\n",
       "    <tr>\n",
       "      <th>4</th>\n",
       "      <td>1</td>\n",
       "      <td>2.0</td>\n",
       "      <td>1428</td>\n",
       "      <td>1.0</td>\n",
       "      <td>0</td>\n",
       "      <td>True</td>\n",
       "      <td>False</td>\n",
       "      <td>False</td>\n",
       "      <td>False</td>\n",
       "      <td>True</td>\n",
       "      <td>False</td>\n",
       "      <td>False</td>\n",
       "      <td>False</td>\n",
       "      <td>False</td>\n",
       "      <td>False</td>\n",
       "      <td>False</td>\n",
       "      <td>False</td>\n",
       "      <td>False</td>\n",
       "      <td>False</td>\n",
       "      <td>False</td>\n",
       "      <td>False</td>\n",
       "      <td>False</td>\n",
       "      <td>False</td>\n",
       "      <td>False</td>\n",
       "      <td>False</td>\n",
       "      <td>False</td>\n",
       "      <td>False</td>\n",
       "      <td>False</td>\n",
       "      <td>False</td>\n",
       "      <td>False</td>\n",
       "      <td>False</td>\n",
       "      <td>False</td>\n",
       "      <td>False</td>\n",
       "      <td>False</td>\n",
       "      <td>False</td>\n",
       "      <td>True</td>\n",
       "      <td>False</td>\n",
       "      <td>False</td>\n",
       "      <td>False</td>\n",
       "      <td>False</td>\n",
       "      <td>False</td>\n",
       "      <td>False</td>\n",
       "      <td>True</td>\n",
       "      <td>False</td>\n",
       "      <td>False</td>\n",
       "      <td>False</td>\n",
       "      <td>False</td>\n",
       "      <td>True</td>\n",
       "      <td>False</td>\n",
       "      <td>False</td>\n",
       "      <td>False</td>\n",
       "      <td>True</td>\n",
       "      <td>False</td>\n",
       "      <td>False</td>\n",
       "      <td>False</td>\n",
       "      <td>False</td>\n",
       "    </tr>\n",
       "  </tbody>\n",
       "</table>\n",
       "</div>"
      ],
      "text/plain": [
       "   Converted  TotalVisits  Total Time Spent on Website  Page Views Per Visit  \\\n",
       "0          0          0.0                            0                   0.0   \n",
       "1          0          5.0                          674                   2.5   \n",
       "2          1          2.0                         1532                   2.0   \n",
       "3          0          1.0                          305                   1.0   \n",
       "4          1          2.0                         1428                   1.0   \n",
       "\n",
       "   A free copy of Mastering The Interview  \\\n",
       "0                                       0   \n",
       "1                                       0   \n",
       "2                                       1   \n",
       "3                                       0   \n",
       "4                                       0   \n",
       "\n",
       "   Lead Origin_Landing Page Submission  Lead Origin_Lead Add Form  \\\n",
       "0                                False                      False   \n",
       "1                                False                      False   \n",
       "2                                 True                      False   \n",
       "3                                 True                      False   \n",
       "4                                 True                      False   \n",
       "\n",
       "   Lead Origin_Lead Import  Lead Origin_Quick Add Form  Lead Source_Google  \\\n",
       "0                    False                       False               False   \n",
       "1                    False                       False               False   \n",
       "2                    False                       False               False   \n",
       "3                    False                       False               False   \n",
       "4                    False                       False                True   \n",
       "\n",
       "   Lead Source_Olark Chat  Lead Source_Organic Search  Lead Source_Others  \\\n",
       "0                    True                       False               False   \n",
       "1                   False                        True               False   \n",
       "2                   False                       False               False   \n",
       "3                   False                       False               False   \n",
       "4                   False                       False               False   \n",
       "\n",
       "   Lead Source_Reference  Lead Source_Referral Sites  \\\n",
       "0                  False                       False   \n",
       "1                  False                       False   \n",
       "2                  False                       False   \n",
       "3                  False                       False   \n",
       "4                  False                       False   \n",
       "\n",
       "   Lead Source_Welingak Website  Last Activity_Email Bounced  \\\n",
       "0                         False                        False   \n",
       "1                         False                        False   \n",
       "2                         False                        False   \n",
       "3                         False                        False   \n",
       "4                         False                        False   \n",
       "\n",
       "   Last Activity_Email Link Clicked  Last Activity_Email Opened  \\\n",
       "0                             False                       False   \n",
       "1                             False                        True   \n",
       "2                             False                        True   \n",
       "3                             False                       False   \n",
       "4                             False                       False   \n",
       "\n",
       "   Last Activity_Form Submitted on Website  \\\n",
       "0                                    False   \n",
       "1                                    False   \n",
       "2                                    False   \n",
       "3                                    False   \n",
       "4                                    False   \n",
       "\n",
       "   Last Activity_Olark Chat Conversation  Last Activity_Others  \\\n",
       "0                                  False                 False   \n",
       "1                                  False                 False   \n",
       "2                                  False                 False   \n",
       "3                                  False                  True   \n",
       "4                                  False                 False   \n",
       "\n",
       "   Last Activity_Page Visited on Website  Last Activity_SMS Sent  \\\n",
       "0                                   True                   False   \n",
       "1                                  False                   False   \n",
       "2                                  False                   False   \n",
       "3                                  False                   False   \n",
       "4                                  False                   False   \n",
       "\n",
       "   Specialization_Business Administration  Specialization_E-COMMERCE  \\\n",
       "0                                   False                      False   \n",
       "1                                   False                      False   \n",
       "2                                    True                      False   \n",
       "3                                   False                      False   \n",
       "4                                   False                      False   \n",
       "\n",
       "   Specialization_Finance Management  Specialization_Healthcare Management  \\\n",
       "0                              False                                 False   \n",
       "1                              False                                 False   \n",
       "2                              False                                 False   \n",
       "3                              False                                 False   \n",
       "4                              False                                 False   \n",
       "\n",
       "   Specialization_Hospitality Management  \\\n",
       "0                                  False   \n",
       "1                                  False   \n",
       "2                                  False   \n",
       "3                                  False   \n",
       "4                                  False   \n",
       "\n",
       "   Specialization_Human Resource Management  \\\n",
       "0                                     False   \n",
       "1                                     False   \n",
       "2                                     False   \n",
       "3                                     False   \n",
       "4                                     False   \n",
       "\n",
       "   Specialization_IT Projects Management  \\\n",
       "0                                  False   \n",
       "1                                  False   \n",
       "2                                  False   \n",
       "3                                  False   \n",
       "4                                  False   \n",
       "\n",
       "   Specialization_International Business  Specialization_Marketing Management  \\\n",
       "0                                  False                                False   \n",
       "1                                  False                                False   \n",
       "2                                  False                                False   \n",
       "3                                  False                                False   \n",
       "4                                  False                                False   \n",
       "\n",
       "   Specialization_Media and Advertising  Specialization_Operations Management  \\\n",
       "0                                 False                                 False   \n",
       "1                                 False                                 False   \n",
       "2                                 False                                 False   \n",
       "3                                  True                                 False   \n",
       "4                                 False                                 False   \n",
       "\n",
       "   Specialization_Others  Specialization_Retail Management  \\\n",
       "0                   True                             False   \n",
       "1                   True                             False   \n",
       "2                  False                             False   \n",
       "3                  False                             False   \n",
       "4                   True                             False   \n",
       "\n",
       "   Specialization_Supply Chain Management  Specialization_Travel and Tourism  \\\n",
       "0                                   False                              False   \n",
       "1                                   False                              False   \n",
       "2                                   False                              False   \n",
       "3                                   False                              False   \n",
       "4                                   False                              False   \n",
       "\n",
       "   What is your current occupation_Housewife  \\\n",
       "0                                      False   \n",
       "1                                      False   \n",
       "2                                      False   \n",
       "3                                      False   \n",
       "4                                      False   \n",
       "\n",
       "   What is your current occupation_Other  \\\n",
       "0                                  False   \n",
       "1                                  False   \n",
       "2                                  False   \n",
       "3                                  False   \n",
       "4                                  False   \n",
       "\n",
       "   What is your current occupation_Student  \\\n",
       "0                                    False   \n",
       "1                                    False   \n",
       "2                                     True   \n",
       "3                                    False   \n",
       "4                                    False   \n",
       "\n",
       "   What is your current occupation_Unemployed  \\\n",
       "0                                        True   \n",
       "1                                        True   \n",
       "2                                       False   \n",
       "3                                        True   \n",
       "4                                        True   \n",
       "\n",
       "   What is your current occupation_Working Professional  \\\n",
       "0                                              False      \n",
       "1                                              False      \n",
       "2                                              False      \n",
       "3                                              False      \n",
       "4                                              False      \n",
       "\n",
       "   Tags_Interested in other courses  Tags_Others  Tags_Ringing  \\\n",
       "0                              True        False         False   \n",
       "1                             False        False          True   \n",
       "2                             False        False         False   \n",
       "3                             False        False          True   \n",
       "4                             False        False         False   \n",
       "\n",
       "   Tags_Will revert after reading the email  City_Others  \\\n",
       "0                                     False         True   \n",
       "1                                     False         True   \n",
       "2                                      True        False   \n",
       "3                                     False        False   \n",
       "4                                      True        False   \n",
       "\n",
       "   City_Thane & Outskirts  Last Notable Activity_Email Opened  \\\n",
       "0                   False                               False   \n",
       "1                   False                                True   \n",
       "2                   False                                True   \n",
       "3                   False                               False   \n",
       "4                   False                               False   \n",
       "\n",
       "   Last Notable Activity_Modified  \\\n",
       "0                            True   \n",
       "1                           False   \n",
       "2                           False   \n",
       "3                            True   \n",
       "4                            True   \n",
       "\n",
       "   Last Notable Activity_Olark Chat Conversation  \\\n",
       "0                                          False   \n",
       "1                                          False   \n",
       "2                                          False   \n",
       "3                                          False   \n",
       "4                                          False   \n",
       "\n",
       "   Last Notable Activity_Others  \\\n",
       "0                         False   \n",
       "1                         False   \n",
       "2                         False   \n",
       "3                         False   \n",
       "4                         False   \n",
       "\n",
       "   Last Notable Activity_Page Visited on Website  \\\n",
       "0                                          False   \n",
       "1                                          False   \n",
       "2                                          False   \n",
       "3                                          False   \n",
       "4                                          False   \n",
       "\n",
       "   Last Notable Activity_SMS Sent  \n",
       "0                           False  \n",
       "1                           False  \n",
       "2                           False  \n",
       "3                           False  \n",
       "4                           False  "
      ]
     },
     "execution_count": 69,
     "metadata": {},
     "output_type": "execute_result"
    }
   ],
   "source": [
    "Lead_data_excl = pd.get_dummies(Lead_data_excl, drop_first=True)\n",
    "Lead_data_excl.head()"
   ]
  },
  {
   "cell_type": "code",
   "execution_count": 70,
   "id": "3f8e7595-1219-42e7-8970-414c84472988",
   "metadata": {},
   "outputs": [
    {
     "name": "stdout",
     "output_type": "stream",
     "text": [
      "<class 'pandas.core.frame.DataFrame'>\n",
      "RangeIndex: 9240 entries, 0 to 9239\n",
      "Data columns (total 56 columns):\n",
      " #   Column                                                Non-Null Count  Dtype  \n",
      "---  ------                                                --------------  -----  \n",
      " 0   Converted                                             9240 non-null   int64  \n",
      " 1   TotalVisits                                           9240 non-null   float64\n",
      " 2   Total Time Spent on Website                           9240 non-null   int64  \n",
      " 3   Page Views Per Visit                                  9240 non-null   float64\n",
      " 4   A free copy of Mastering The Interview                9240 non-null   int64  \n",
      " 5   Lead Origin_Landing Page Submission                   9240 non-null   bool   \n",
      " 6   Lead Origin_Lead Add Form                             9240 non-null   bool   \n",
      " 7   Lead Origin_Lead Import                               9240 non-null   bool   \n",
      " 8   Lead Origin_Quick Add Form                            9240 non-null   bool   \n",
      " 9   Lead Source_Google                                    9240 non-null   bool   \n",
      " 10  Lead Source_Olark Chat                                9240 non-null   bool   \n",
      " 11  Lead Source_Organic Search                            9240 non-null   bool   \n",
      " 12  Lead Source_Others                                    9240 non-null   bool   \n",
      " 13  Lead Source_Reference                                 9240 non-null   bool   \n",
      " 14  Lead Source_Referral Sites                            9240 non-null   bool   \n",
      " 15  Lead Source_Welingak Website                          9240 non-null   bool   \n",
      " 16  Last Activity_Email Bounced                           9240 non-null   bool   \n",
      " 17  Last Activity_Email Link Clicked                      9240 non-null   bool   \n",
      " 18  Last Activity_Email Opened                            9240 non-null   bool   \n",
      " 19  Last Activity_Form Submitted on Website               9240 non-null   bool   \n",
      " 20  Last Activity_Olark Chat Conversation                 9240 non-null   bool   \n",
      " 21  Last Activity_Others                                  9240 non-null   bool   \n",
      " 22  Last Activity_Page Visited on Website                 9240 non-null   bool   \n",
      " 23  Last Activity_SMS Sent                                9240 non-null   bool   \n",
      " 24  Specialization_Business Administration                9240 non-null   bool   \n",
      " 25  Specialization_E-COMMERCE                             9240 non-null   bool   \n",
      " 26  Specialization_Finance Management                     9240 non-null   bool   \n",
      " 27  Specialization_Healthcare Management                  9240 non-null   bool   \n",
      " 28  Specialization_Hospitality Management                 9240 non-null   bool   \n",
      " 29  Specialization_Human Resource Management              9240 non-null   bool   \n",
      " 30  Specialization_IT Projects Management                 9240 non-null   bool   \n",
      " 31  Specialization_International Business                 9240 non-null   bool   \n",
      " 32  Specialization_Marketing Management                   9240 non-null   bool   \n",
      " 33  Specialization_Media and Advertising                  9240 non-null   bool   \n",
      " 34  Specialization_Operations Management                  9240 non-null   bool   \n",
      " 35  Specialization_Others                                 9240 non-null   bool   \n",
      " 36  Specialization_Retail Management                      9240 non-null   bool   \n",
      " 37  Specialization_Supply Chain Management                9240 non-null   bool   \n",
      " 38  Specialization_Travel and Tourism                     9240 non-null   bool   \n",
      " 39  What is your current occupation_Housewife             9240 non-null   bool   \n",
      " 40  What is your current occupation_Other                 9240 non-null   bool   \n",
      " 41  What is your current occupation_Student               9240 non-null   bool   \n",
      " 42  What is your current occupation_Unemployed            9240 non-null   bool   \n",
      " 43  What is your current occupation_Working Professional  9240 non-null   bool   \n",
      " 44  Tags_Interested in other courses                      9240 non-null   bool   \n",
      " 45  Tags_Others                                           9240 non-null   bool   \n",
      " 46  Tags_Ringing                                          9240 non-null   bool   \n",
      " 47  Tags_Will revert after reading the email              9240 non-null   bool   \n",
      " 48  City_Others                                           9240 non-null   bool   \n",
      " 49  City_Thane & Outskirts                                9240 non-null   bool   \n",
      " 50  Last Notable Activity_Email Opened                    9240 non-null   bool   \n",
      " 51  Last Notable Activity_Modified                        9240 non-null   bool   \n",
      " 52  Last Notable Activity_Olark Chat Conversation         9240 non-null   bool   \n",
      " 53  Last Notable Activity_Others                          9240 non-null   bool   \n",
      " 54  Last Notable Activity_Page Visited on Website         9240 non-null   bool   \n",
      " 55  Last Notable Activity_SMS Sent                        9240 non-null   bool   \n",
      "dtypes: bool(51), float64(2), int64(3)\n",
      "memory usage: 821.3 KB\n"
     ]
    }
   ],
   "source": [
    "Lead_data_excl.info()"
   ]
  },
  {
   "cell_type": "markdown",
   "id": "b276669d-e42f-400d-a47f-99dd578ac488",
   "metadata": {},
   "source": [
    "## Train-Test Split"
   ]
  },
  {
   "cell_type": "code",
   "execution_count": 67,
   "id": "7ec738b2-4246-4881-94bd-1c97a803bfcd",
   "metadata": {},
   "outputs": [],
   "source": [
    "X=Lead_data_excl.drop('Converted',axis=1)\n",
    "y=Lead_data_excl.Converted\n",
    "\n",
    "X_train, X_test, y_train, y_test = train_test_split(X, y, train_size=0.7, test_size=0.3, random_state=100)"
   ]
  },
  {
   "cell_type": "markdown",
   "id": "1a44992f-637d-4873-b542-e38f50aa9fa1",
   "metadata": {},
   "source": [
    "### Scaling"
   ]
  },
  {
   "cell_type": "code",
   "execution_count": 68,
   "id": "bdb7c058-7d44-4588-8ea0-10feb1aaa2ff",
   "metadata": {},
   "outputs": [],
   "source": [
    "to_scale=['TotalVisits','Total Time Spent on Website']\n",
    "scaler = StandardScaler()\n",
    "X_train[to_scale]=scaler.fit_transform(X_train[to_scale])"
   ]
  },
  {
   "cell_type": "markdown",
   "id": "5548f769-4fab-4c1a-adf5-b87e02050bd9",
   "metadata": {},
   "source": [
    "## Model Building\n",
    "**Feature Selection using RFE**"
   ]
  },
  {
   "cell_type": "code",
   "execution_count": 69,
   "id": "60a7cc8c-94d7-43cb-a340-5d8a1c9af59a",
   "metadata": {},
   "outputs": [
    {
     "ename": "ValueError",
     "evalue": "could not convert string to float: 'API'",
     "output_type": "error",
     "traceback": [
      "\u001b[1;31m---------------------------------------------------------------------------\u001b[0m",
      "\u001b[1;31mValueError\u001b[0m                                Traceback (most recent call last)",
      "\u001b[1;32m~\\AppData\\Local\\Temp\\ipykernel_13040\\3269824478.py\u001b[0m in \u001b[0;36m?\u001b[1;34m()\u001b[0m\n\u001b[0;32m      1\u001b[0m \u001b[0mlogreg\u001b[0m\u001b[1;33m=\u001b[0m\u001b[0mLogisticRegression\u001b[0m\u001b[1;33m(\u001b[0m\u001b[1;33m)\u001b[0m\u001b[1;33m\u001b[0m\u001b[1;33m\u001b[0m\u001b[0m\n\u001b[1;32m----> 2\u001b[1;33m \u001b[0mrfe\u001b[0m\u001b[1;33m=\u001b[0m\u001b[0mRFE\u001b[0m\u001b[1;33m(\u001b[0m\u001b[0mlogreg\u001b[0m\u001b[1;33m,\u001b[0m\u001b[0mn_features_to_select\u001b[0m \u001b[1;33m=\u001b[0m\u001b[1;36m20\u001b[0m\u001b[1;33m)\u001b[0m\u001b[1;33m.\u001b[0m\u001b[0mfit\u001b[0m\u001b[1;33m(\u001b[0m\u001b[0mX_train\u001b[0m\u001b[1;33m,\u001b[0m\u001b[0my_train\u001b[0m\u001b[1;33m)\u001b[0m\u001b[1;33m\u001b[0m\u001b[1;33m\u001b[0m\u001b[0m\n\u001b[0m\u001b[0;32m      3\u001b[0m \u001b[0mlist\u001b[0m\u001b[1;33m(\u001b[0m\u001b[0mzip\u001b[0m\u001b[1;33m(\u001b[0m\u001b[0mX_train\u001b[0m\u001b[1;33m.\u001b[0m\u001b[0mcolumns\u001b[0m\u001b[1;33m,\u001b[0m \u001b[0mrfe\u001b[0m\u001b[1;33m.\u001b[0m\u001b[0msupport_\u001b[0m\u001b[1;33m,\u001b[0m \u001b[0mrfe\u001b[0m\u001b[1;33m.\u001b[0m\u001b[0mranking_\u001b[0m\u001b[1;33m)\u001b[0m\u001b[1;33m)\u001b[0m\u001b[1;33m\u001b[0m\u001b[1;33m\u001b[0m\u001b[0m\n",
      "\u001b[1;32m~\\anaconda3\\Lib\\site-packages\\sklearn\\feature_selection\\_rfe.py\u001b[0m in \u001b[0;36m?\u001b[1;34m(self, X, y, **fit_params)\u001b[0m\n\u001b[0;32m    247\u001b[0m         \u001b[0mself\u001b[0m \u001b[1;33m:\u001b[0m \u001b[0mobject\u001b[0m\u001b[1;33m\u001b[0m\u001b[1;33m\u001b[0m\u001b[0m\n\u001b[0;32m    248\u001b[0m             \u001b[0mFitted\u001b[0m \u001b[0mestimator\u001b[0m\u001b[1;33m.\u001b[0m\u001b[1;33m\u001b[0m\u001b[1;33m\u001b[0m\u001b[0m\n\u001b[0;32m    249\u001b[0m         \"\"\"\n\u001b[0;32m    250\u001b[0m         \u001b[0mself\u001b[0m\u001b[1;33m.\u001b[0m\u001b[0m_validate_params\u001b[0m\u001b[1;33m(\u001b[0m\u001b[1;33m)\u001b[0m\u001b[1;33m\u001b[0m\u001b[1;33m\u001b[0m\u001b[0m\n\u001b[1;32m--> 251\u001b[1;33m         \u001b[1;32mreturn\u001b[0m \u001b[0mself\u001b[0m\u001b[1;33m.\u001b[0m\u001b[0m_fit\u001b[0m\u001b[1;33m(\u001b[0m\u001b[0mX\u001b[0m\u001b[1;33m,\u001b[0m \u001b[0my\u001b[0m\u001b[1;33m,\u001b[0m \u001b[1;33m**\u001b[0m\u001b[0mfit_params\u001b[0m\u001b[1;33m)\u001b[0m\u001b[1;33m\u001b[0m\u001b[1;33m\u001b[0m\u001b[0m\n\u001b[0m",
      "\u001b[1;32m~\\anaconda3\\Lib\\site-packages\\sklearn\\feature_selection\\_rfe.py\u001b[0m in \u001b[0;36m?\u001b[1;34m(self, X, y, step_score, **fit_params)\u001b[0m\n\u001b[0;32m    256\u001b[0m         \u001b[1;31m# and is used when implementing RFECV\u001b[0m\u001b[1;33m\u001b[0m\u001b[1;33m\u001b[0m\u001b[0m\n\u001b[0;32m    257\u001b[0m         \u001b[1;31m# self.scores_ will not be calculated when calling _fit through fit\u001b[0m\u001b[1;33m\u001b[0m\u001b[1;33m\u001b[0m\u001b[0m\n\u001b[0;32m    258\u001b[0m \u001b[1;33m\u001b[0m\u001b[0m\n\u001b[0;32m    259\u001b[0m         \u001b[0mtags\u001b[0m \u001b[1;33m=\u001b[0m \u001b[0mself\u001b[0m\u001b[1;33m.\u001b[0m\u001b[0m_get_tags\u001b[0m\u001b[1;33m(\u001b[0m\u001b[1;33m)\u001b[0m\u001b[1;33m\u001b[0m\u001b[1;33m\u001b[0m\u001b[0m\n\u001b[1;32m--> 260\u001b[1;33m         X, y = self._validate_data(\n\u001b[0m\u001b[0;32m    261\u001b[0m             \u001b[0mX\u001b[0m\u001b[1;33m,\u001b[0m\u001b[1;33m\u001b[0m\u001b[1;33m\u001b[0m\u001b[0m\n\u001b[0;32m    262\u001b[0m             \u001b[0my\u001b[0m\u001b[1;33m,\u001b[0m\u001b[1;33m\u001b[0m\u001b[1;33m\u001b[0m\u001b[0m\n\u001b[0;32m    263\u001b[0m             \u001b[0maccept_sparse\u001b[0m\u001b[1;33m=\u001b[0m\u001b[1;34m\"csc\"\u001b[0m\u001b[1;33m,\u001b[0m\u001b[1;33m\u001b[0m\u001b[1;33m\u001b[0m\u001b[0m\n",
      "\u001b[1;32m~\\anaconda3\\Lib\\site-packages\\sklearn\\base.py\u001b[0m in \u001b[0;36m?\u001b[1;34m(self, X, y, reset, validate_separately, **check_params)\u001b[0m\n\u001b[0;32m    580\u001b[0m                 \u001b[1;32mif\u001b[0m \u001b[1;34m\"estimator\"\u001b[0m \u001b[1;32mnot\u001b[0m \u001b[1;32min\u001b[0m \u001b[0mcheck_y_params\u001b[0m\u001b[1;33m:\u001b[0m\u001b[1;33m\u001b[0m\u001b[1;33m\u001b[0m\u001b[0m\n\u001b[0;32m    581\u001b[0m                     \u001b[0mcheck_y_params\u001b[0m \u001b[1;33m=\u001b[0m \u001b[1;33m{\u001b[0m\u001b[1;33m**\u001b[0m\u001b[0mdefault_check_params\u001b[0m\u001b[1;33m,\u001b[0m \u001b[1;33m**\u001b[0m\u001b[0mcheck_y_params\u001b[0m\u001b[1;33m}\u001b[0m\u001b[1;33m\u001b[0m\u001b[1;33m\u001b[0m\u001b[0m\n\u001b[0;32m    582\u001b[0m                 \u001b[0my\u001b[0m \u001b[1;33m=\u001b[0m \u001b[0mcheck_array\u001b[0m\u001b[1;33m(\u001b[0m\u001b[0my\u001b[0m\u001b[1;33m,\u001b[0m \u001b[0minput_name\u001b[0m\u001b[1;33m=\u001b[0m\u001b[1;34m\"y\"\u001b[0m\u001b[1;33m,\u001b[0m \u001b[1;33m**\u001b[0m\u001b[0mcheck_y_params\u001b[0m\u001b[1;33m)\u001b[0m\u001b[1;33m\u001b[0m\u001b[1;33m\u001b[0m\u001b[0m\n\u001b[0;32m    583\u001b[0m             \u001b[1;32melse\u001b[0m\u001b[1;33m:\u001b[0m\u001b[1;33m\u001b[0m\u001b[1;33m\u001b[0m\u001b[0m\n\u001b[1;32m--> 584\u001b[1;33m                 \u001b[0mX\u001b[0m\u001b[1;33m,\u001b[0m \u001b[0my\u001b[0m \u001b[1;33m=\u001b[0m \u001b[0mcheck_X_y\u001b[0m\u001b[1;33m(\u001b[0m\u001b[0mX\u001b[0m\u001b[1;33m,\u001b[0m \u001b[0my\u001b[0m\u001b[1;33m,\u001b[0m \u001b[1;33m**\u001b[0m\u001b[0mcheck_params\u001b[0m\u001b[1;33m)\u001b[0m\u001b[1;33m\u001b[0m\u001b[1;33m\u001b[0m\u001b[0m\n\u001b[0m\u001b[0;32m    585\u001b[0m             \u001b[0mout\u001b[0m \u001b[1;33m=\u001b[0m \u001b[0mX\u001b[0m\u001b[1;33m,\u001b[0m \u001b[0my\u001b[0m\u001b[1;33m\u001b[0m\u001b[1;33m\u001b[0m\u001b[0m\n\u001b[0;32m    586\u001b[0m \u001b[1;33m\u001b[0m\u001b[0m\n\u001b[0;32m    587\u001b[0m         \u001b[1;32mif\u001b[0m \u001b[1;32mnot\u001b[0m \u001b[0mno_val_X\u001b[0m \u001b[1;32mand\u001b[0m \u001b[0mcheck_params\u001b[0m\u001b[1;33m.\u001b[0m\u001b[0mget\u001b[0m\u001b[1;33m(\u001b[0m\u001b[1;34m\"ensure_2d\"\u001b[0m\u001b[1;33m,\u001b[0m \u001b[1;32mTrue\u001b[0m\u001b[1;33m)\u001b[0m\u001b[1;33m:\u001b[0m\u001b[1;33m\u001b[0m\u001b[1;33m\u001b[0m\u001b[0m\n",
      "\u001b[1;32m~\\anaconda3\\Lib\\site-packages\\sklearn\\utils\\validation.py\u001b[0m in \u001b[0;36m?\u001b[1;34m(X, y, accept_sparse, accept_large_sparse, dtype, order, copy, force_all_finite, ensure_2d, allow_nd, multi_output, ensure_min_samples, ensure_min_features, y_numeric, estimator)\u001b[0m\n\u001b[0;32m   1102\u001b[0m         raise ValueError(\n\u001b[0;32m   1103\u001b[0m             \u001b[1;34mf\"{estimator_name} requires y to be passed, but the target y is None\"\u001b[0m\u001b[1;33m\u001b[0m\u001b[1;33m\u001b[0m\u001b[0m\n\u001b[0;32m   1104\u001b[0m         )\n\u001b[0;32m   1105\u001b[0m \u001b[1;33m\u001b[0m\u001b[0m\n\u001b[1;32m-> 1106\u001b[1;33m     X = check_array(\n\u001b[0m\u001b[0;32m   1107\u001b[0m         \u001b[0mX\u001b[0m\u001b[1;33m,\u001b[0m\u001b[1;33m\u001b[0m\u001b[1;33m\u001b[0m\u001b[0m\n\u001b[0;32m   1108\u001b[0m         \u001b[0maccept_sparse\u001b[0m\u001b[1;33m=\u001b[0m\u001b[0maccept_sparse\u001b[0m\u001b[1;33m,\u001b[0m\u001b[1;33m\u001b[0m\u001b[1;33m\u001b[0m\u001b[0m\n\u001b[0;32m   1109\u001b[0m         \u001b[0maccept_large_sparse\u001b[0m\u001b[1;33m=\u001b[0m\u001b[0maccept_large_sparse\u001b[0m\u001b[1;33m,\u001b[0m\u001b[1;33m\u001b[0m\u001b[1;33m\u001b[0m\u001b[0m\n",
      "\u001b[1;32m~\\anaconda3\\Lib\\site-packages\\sklearn\\utils\\validation.py\u001b[0m in \u001b[0;36m?\u001b[1;34m(array, accept_sparse, accept_large_sparse, dtype, order, copy, force_all_finite, ensure_2d, allow_nd, ensure_min_samples, ensure_min_features, estimator, input_name)\u001b[0m\n\u001b[0;32m    876\u001b[0m                         )\n\u001b[0;32m    877\u001b[0m                     \u001b[0marray\u001b[0m \u001b[1;33m=\u001b[0m \u001b[0mxp\u001b[0m\u001b[1;33m.\u001b[0m\u001b[0mastype\u001b[0m\u001b[1;33m(\u001b[0m\u001b[0marray\u001b[0m\u001b[1;33m,\u001b[0m \u001b[0mdtype\u001b[0m\u001b[1;33m,\u001b[0m \u001b[0mcopy\u001b[0m\u001b[1;33m=\u001b[0m\u001b[1;32mFalse\u001b[0m\u001b[1;33m)\u001b[0m\u001b[1;33m\u001b[0m\u001b[1;33m\u001b[0m\u001b[0m\n\u001b[0;32m    878\u001b[0m                 \u001b[1;32melse\u001b[0m\u001b[1;33m:\u001b[0m\u001b[1;33m\u001b[0m\u001b[1;33m\u001b[0m\u001b[0m\n\u001b[0;32m    879\u001b[0m                     \u001b[0marray\u001b[0m \u001b[1;33m=\u001b[0m \u001b[0m_asarray_with_order\u001b[0m\u001b[1;33m(\u001b[0m\u001b[0marray\u001b[0m\u001b[1;33m,\u001b[0m \u001b[0morder\u001b[0m\u001b[1;33m=\u001b[0m\u001b[0morder\u001b[0m\u001b[1;33m,\u001b[0m \u001b[0mdtype\u001b[0m\u001b[1;33m=\u001b[0m\u001b[0mdtype\u001b[0m\u001b[1;33m,\u001b[0m \u001b[0mxp\u001b[0m\u001b[1;33m=\u001b[0m\u001b[0mxp\u001b[0m\u001b[1;33m)\u001b[0m\u001b[1;33m\u001b[0m\u001b[1;33m\u001b[0m\u001b[0m\n\u001b[1;32m--> 880\u001b[1;33m             \u001b[1;32mexcept\u001b[0m \u001b[0mComplexWarning\u001b[0m \u001b[1;32mas\u001b[0m \u001b[0mcomplex_warning\u001b[0m\u001b[1;33m:\u001b[0m\u001b[1;33m\u001b[0m\u001b[1;33m\u001b[0m\u001b[0m\n\u001b[0m\u001b[0;32m    881\u001b[0m                 raise ValueError(\n\u001b[0;32m    882\u001b[0m                     \u001b[1;34m\"Complex data not supported\\n{}\\n\"\u001b[0m\u001b[1;33m.\u001b[0m\u001b[0mformat\u001b[0m\u001b[1;33m(\u001b[0m\u001b[0marray\u001b[0m\u001b[1;33m)\u001b[0m\u001b[1;33m\u001b[0m\u001b[1;33m\u001b[0m\u001b[0m\n\u001b[0;32m    883\u001b[0m                 ) from complex_warning\n",
      "\u001b[1;32m~\\anaconda3\\Lib\\site-packages\\sklearn\\utils\\_array_api.py\u001b[0m in \u001b[0;36m?\u001b[1;34m(array, dtype, order, copy, xp)\u001b[0m\n\u001b[0;32m    181\u001b[0m     \u001b[1;32mif\u001b[0m \u001b[0mxp\u001b[0m \u001b[1;32mis\u001b[0m \u001b[1;32mNone\u001b[0m\u001b[1;33m:\u001b[0m\u001b[1;33m\u001b[0m\u001b[1;33m\u001b[0m\u001b[0m\n\u001b[0;32m    182\u001b[0m         \u001b[0mxp\u001b[0m\u001b[1;33m,\u001b[0m \u001b[0m_\u001b[0m \u001b[1;33m=\u001b[0m \u001b[0mget_namespace\u001b[0m\u001b[1;33m(\u001b[0m\u001b[0marray\u001b[0m\u001b[1;33m)\u001b[0m\u001b[1;33m\u001b[0m\u001b[1;33m\u001b[0m\u001b[0m\n\u001b[0;32m    183\u001b[0m     \u001b[1;32mif\u001b[0m \u001b[0mxp\u001b[0m\u001b[1;33m.\u001b[0m\u001b[0m__name__\u001b[0m \u001b[1;32min\u001b[0m \u001b[1;33m{\u001b[0m\u001b[1;34m\"numpy\"\u001b[0m\u001b[1;33m,\u001b[0m \u001b[1;34m\"numpy.array_api\"\u001b[0m\u001b[1;33m}\u001b[0m\u001b[1;33m:\u001b[0m\u001b[1;33m\u001b[0m\u001b[1;33m\u001b[0m\u001b[0m\n\u001b[0;32m    184\u001b[0m         \u001b[1;31m# Use NumPy API to support order\u001b[0m\u001b[1;33m\u001b[0m\u001b[1;33m\u001b[0m\u001b[0m\n\u001b[1;32m--> 185\u001b[1;33m         \u001b[0marray\u001b[0m \u001b[1;33m=\u001b[0m \u001b[0mnumpy\u001b[0m\u001b[1;33m.\u001b[0m\u001b[0masarray\u001b[0m\u001b[1;33m(\u001b[0m\u001b[0marray\u001b[0m\u001b[1;33m,\u001b[0m \u001b[0morder\u001b[0m\u001b[1;33m=\u001b[0m\u001b[0morder\u001b[0m\u001b[1;33m,\u001b[0m \u001b[0mdtype\u001b[0m\u001b[1;33m=\u001b[0m\u001b[0mdtype\u001b[0m\u001b[1;33m)\u001b[0m\u001b[1;33m\u001b[0m\u001b[1;33m\u001b[0m\u001b[0m\n\u001b[0m\u001b[0;32m    186\u001b[0m         \u001b[1;32mreturn\u001b[0m \u001b[0mxp\u001b[0m\u001b[1;33m.\u001b[0m\u001b[0masarray\u001b[0m\u001b[1;33m(\u001b[0m\u001b[0marray\u001b[0m\u001b[1;33m,\u001b[0m \u001b[0mcopy\u001b[0m\u001b[1;33m=\u001b[0m\u001b[0mcopy\u001b[0m\u001b[1;33m)\u001b[0m\u001b[1;33m\u001b[0m\u001b[1;33m\u001b[0m\u001b[0m\n\u001b[0;32m    187\u001b[0m     \u001b[1;32melse\u001b[0m\u001b[1;33m:\u001b[0m\u001b[1;33m\u001b[0m\u001b[1;33m\u001b[0m\u001b[0m\n\u001b[0;32m    188\u001b[0m         \u001b[1;32mreturn\u001b[0m \u001b[0mxp\u001b[0m\u001b[1;33m.\u001b[0m\u001b[0masarray\u001b[0m\u001b[1;33m(\u001b[0m\u001b[0marray\u001b[0m\u001b[1;33m,\u001b[0m \u001b[0mdtype\u001b[0m\u001b[1;33m=\u001b[0m\u001b[0mdtype\u001b[0m\u001b[1;33m,\u001b[0m \u001b[0mcopy\u001b[0m\u001b[1;33m=\u001b[0m\u001b[0mcopy\u001b[0m\u001b[1;33m)\u001b[0m\u001b[1;33m\u001b[0m\u001b[1;33m\u001b[0m\u001b[0m\n",
      "\u001b[1;32m~\\anaconda3\\Lib\\site-packages\\pandas\\core\\generic.py\u001b[0m in \u001b[0;36m?\u001b[1;34m(self, dtype)\u001b[0m\n\u001b[0;32m   2082\u001b[0m     \u001b[1;32mdef\u001b[0m \u001b[0m__array__\u001b[0m\u001b[1;33m(\u001b[0m\u001b[0mself\u001b[0m\u001b[1;33m,\u001b[0m \u001b[0mdtype\u001b[0m\u001b[1;33m:\u001b[0m \u001b[0mnpt\u001b[0m\u001b[1;33m.\u001b[0m\u001b[0mDTypeLike\u001b[0m \u001b[1;33m|\u001b[0m \u001b[1;32mNone\u001b[0m \u001b[1;33m=\u001b[0m \u001b[1;32mNone\u001b[0m\u001b[1;33m)\u001b[0m \u001b[1;33m->\u001b[0m \u001b[0mnp\u001b[0m\u001b[1;33m.\u001b[0m\u001b[0mndarray\u001b[0m\u001b[1;33m:\u001b[0m\u001b[1;33m\u001b[0m\u001b[1;33m\u001b[0m\u001b[0m\n\u001b[0;32m   2083\u001b[0m         \u001b[0mvalues\u001b[0m \u001b[1;33m=\u001b[0m \u001b[0mself\u001b[0m\u001b[1;33m.\u001b[0m\u001b[0m_values\u001b[0m\u001b[1;33m\u001b[0m\u001b[1;33m\u001b[0m\u001b[0m\n\u001b[1;32m-> 2084\u001b[1;33m         \u001b[0marr\u001b[0m \u001b[1;33m=\u001b[0m \u001b[0mnp\u001b[0m\u001b[1;33m.\u001b[0m\u001b[0masarray\u001b[0m\u001b[1;33m(\u001b[0m\u001b[0mvalues\u001b[0m\u001b[1;33m,\u001b[0m \u001b[0mdtype\u001b[0m\u001b[1;33m=\u001b[0m\u001b[0mdtype\u001b[0m\u001b[1;33m)\u001b[0m\u001b[1;33m\u001b[0m\u001b[1;33m\u001b[0m\u001b[0m\n\u001b[0m\u001b[0;32m   2085\u001b[0m         if (\n\u001b[0;32m   2086\u001b[0m             \u001b[0mastype_is_view\u001b[0m\u001b[1;33m(\u001b[0m\u001b[0mvalues\u001b[0m\u001b[1;33m.\u001b[0m\u001b[0mdtype\u001b[0m\u001b[1;33m,\u001b[0m \u001b[0marr\u001b[0m\u001b[1;33m.\u001b[0m\u001b[0mdtype\u001b[0m\u001b[1;33m)\u001b[0m\u001b[1;33m\u001b[0m\u001b[1;33m\u001b[0m\u001b[0m\n\u001b[0;32m   2087\u001b[0m             \u001b[1;32mand\u001b[0m \u001b[0musing_copy_on_write\u001b[0m\u001b[1;33m(\u001b[0m\u001b[1;33m)\u001b[0m\u001b[1;33m\u001b[0m\u001b[1;33m\u001b[0m\u001b[0m\n",
      "\u001b[1;31mValueError\u001b[0m: could not convert string to float: 'API'"
     ]
    }
   ],
   "source": [
    "logreg=LogisticRegression()\n",
    "rfe=RFE(logreg,n_features_to_select =20).fit(X_train,y_train)\n",
    "list(zip(X_train.columns, rfe.support_, rfe.ranking_))"
   ]
  },
  {
   "cell_type": "code",
   "execution_count": 74,
   "id": "8eac207f-4a9c-4726-a4e8-141cdcbed281",
   "metadata": {},
   "outputs": [
    {
     "data": {
      "text/plain": [
       "Index(['Total Time Spent on Website', 'Lead Origin_Lead Add Form',\n",
       "       'Lead Source_Olark Chat', 'Lead Source_Reference',\n",
       "       'Lead Source_Welingak Website', 'Last Activity_Email Bounced',\n",
       "       'Last Activity_Email Opened', 'Last Activity_SMS Sent',\n",
       "       'Specialization_Hospitality Management',\n",
       "       'Specialization_International Business',\n",
       "       'Specialization_Travel and Tourism',\n",
       "       'What is your current occupation_Housewife',\n",
       "       'What is your current occupation_Other',\n",
       "       'What is your current occupation_Working Professional', 'Tags_Others',\n",
       "       'Tags_Ringing', 'Tags_Will revert after reading the email',\n",
       "       'Last Notable Activity_Email Opened', 'Last Notable Activity_Modified',\n",
       "       'Last Notable Activity_Others'],\n",
       "      dtype='object')"
      ]
     },
     "execution_count": 74,
     "metadata": {},
     "output_type": "execute_result"
    }
   ],
   "source": [
    "col=X_train.columns[rfe.support_]\n",
    "col"
   ]
  },
  {
   "cell_type": "markdown",
   "id": "4c3417e0-974e-4849-9278-1faa418ee1f3",
   "metadata": {},
   "source": [
    "**Model 1**"
   ]
  },
  {
   "cell_type": "code",
   "execution_count": 75,
   "id": "ecde8ae0-5111-4d76-be61-7803d4878143",
   "metadata": {},
   "outputs": [
    {
     "data": {
      "text/html": [
       "<table class=\"simpletable\">\n",
       "<caption>Generalized Linear Model Regression Results</caption>\n",
       "<tr>\n",
       "  <th>Dep. Variable:</th>       <td>Converted</td>    <th>  No. Observations:  </th>  <td>  6468</td> \n",
       "</tr>\n",
       "<tr>\n",
       "  <th>Model:</th>                  <td>GLM</td>       <th>  Df Residuals:      </th>  <td>  6447</td> \n",
       "</tr>\n",
       "<tr>\n",
       "  <th>Model Family:</th>        <td>Binomial</td>     <th>  Df Model:          </th>  <td>    20</td> \n",
       "</tr>\n",
       "<tr>\n",
       "  <th>Link Function:</th>         <td>Logit</td>      <th>  Scale:             </th> <td>  1.0000</td>\n",
       "</tr>\n",
       "<tr>\n",
       "  <th>Method:</th>                <td>IRLS</td>       <th>  Log-Likelihood:    </th> <td> -1607.6</td>\n",
       "</tr>\n",
       "<tr>\n",
       "  <th>Date:</th>            <td>Tue, 17 Sep 2024</td> <th>  Deviance:          </th> <td>  3215.2</td>\n",
       "</tr>\n",
       "<tr>\n",
       "  <th>Time:</th>                <td>12:17:17</td>     <th>  Pearson chi2:      </th> <td>1.07e+04</td>\n",
       "</tr>\n",
       "<tr>\n",
       "  <th>No. Iterations:</th>         <td>21</td>        <th>  Pseudo R-squ. (CS):</th>  <td>0.5649</td> \n",
       "</tr>\n",
       "<tr>\n",
       "  <th>Covariance Type:</th>     <td>nonrobust</td>    <th>                     </th>     <td> </td>   \n",
       "</tr>\n",
       "</table>\n",
       "<table class=\"simpletable\">\n",
       "<tr>\n",
       "                            <td></td>                              <th>coef</th>     <th>std err</th>      <th>z</th>      <th>P>|z|</th>  <th>[0.025</th>    <th>0.975]</th>  \n",
       "</tr>\n",
       "<tr>\n",
       "  <th>const</th>                                                <td>   -4.5192</td> <td>    0.329</td> <td>  -13.756</td> <td> 0.000</td> <td>   -5.163</td> <td>   -3.875</td>\n",
       "</tr>\n",
       "<tr>\n",
       "  <th>Total Time Spent on Website</th>                          <td>    1.1263</td> <td>    0.053</td> <td>   21.253</td> <td> 0.000</td> <td>    1.022</td> <td>    1.230</td>\n",
       "</tr>\n",
       "<tr>\n",
       "  <th>Lead Origin_Lead Add Form</th>                            <td>    1.8570</td> <td>    0.670</td> <td>    2.771</td> <td> 0.006</td> <td>    0.543</td> <td>    3.171</td>\n",
       "</tr>\n",
       "<tr>\n",
       "  <th>Lead Source_Olark Chat</th>                               <td>    1.2230</td> <td>    0.129</td> <td>    9.485</td> <td> 0.000</td> <td>    0.970</td> <td>    1.476</td>\n",
       "</tr>\n",
       "<tr>\n",
       "  <th>Lead Source_Reference</th>                                <td>    1.7282</td> <td>    0.714</td> <td>    2.422</td> <td> 0.015</td> <td>    0.330</td> <td>    3.127</td>\n",
       "</tr>\n",
       "<tr>\n",
       "  <th>Lead Source_Welingak Website</th>                         <td>    3.2255</td> <td>    0.982</td> <td>    3.284</td> <td> 0.001</td> <td>    1.300</td> <td>    5.151</td>\n",
       "</tr>\n",
       "<tr>\n",
       "  <th>Last Activity_Email Bounced</th>                          <td>   -1.2770</td> <td>    0.394</td> <td>   -3.239</td> <td> 0.001</td> <td>   -2.050</td> <td>   -0.504</td>\n",
       "</tr>\n",
       "<tr>\n",
       "  <th>Last Activity_Email Opened</th>                           <td>    1.3549</td> <td>    0.188</td> <td>    7.192</td> <td> 0.000</td> <td>    0.986</td> <td>    1.724</td>\n",
       "</tr>\n",
       "<tr>\n",
       "  <th>Last Activity_SMS Sent</th>                               <td>    1.7093</td> <td>    0.138</td> <td>   12.372</td> <td> 0.000</td> <td>    1.439</td> <td>    1.980</td>\n",
       "</tr>\n",
       "<tr>\n",
       "  <th>Specialization_Hospitality Management</th>                <td>   -0.8297</td> <td>    0.418</td> <td>   -1.987</td> <td> 0.047</td> <td>   -1.648</td> <td>   -0.011</td>\n",
       "</tr>\n",
       "<tr>\n",
       "  <th>Specialization_International Business</th>                <td>   -0.7825</td> <td>    0.361</td> <td>   -2.165</td> <td> 0.030</td> <td>   -1.491</td> <td>   -0.074</td>\n",
       "</tr>\n",
       "<tr>\n",
       "  <th>Specialization_Travel and Tourism</th>                    <td>   -0.7374</td> <td>    0.338</td> <td>   -2.179</td> <td> 0.029</td> <td>   -1.401</td> <td>   -0.074</td>\n",
       "</tr>\n",
       "<tr>\n",
       "  <th>What is your current occupation_Housewife</th>            <td>   21.1650</td> <td> 1.36e+04</td> <td>    0.002</td> <td> 0.999</td> <td>-2.66e+04</td> <td> 2.66e+04</td>\n",
       "</tr>\n",
       "<tr>\n",
       "  <th>What is your current occupation_Other</th>                <td>   -1.2809</td> <td>    0.103</td> <td>  -12.479</td> <td> 0.000</td> <td>   -1.482</td> <td>   -1.080</td>\n",
       "</tr>\n",
       "<tr>\n",
       "  <th>What is your current occupation_Working Professional</th> <td>    1.2940</td> <td>    0.270</td> <td>    4.795</td> <td> 0.000</td> <td>    0.765</td> <td>    1.823</td>\n",
       "</tr>\n",
       "<tr>\n",
       "  <th>Tags_Others</th>                                          <td>    3.3277</td> <td>    0.304</td> <td>   10.961</td> <td> 0.000</td> <td>    2.733</td> <td>    3.923</td>\n",
       "</tr>\n",
       "<tr>\n",
       "  <th>Tags_Ringing</th>                                         <td>   -0.6583</td> <td>    0.372</td> <td>   -1.769</td> <td> 0.077</td> <td>   -1.388</td> <td>    0.071</td>\n",
       "</tr>\n",
       "<tr>\n",
       "  <th>Tags_Will revert after reading the email</th>             <td>    6.6466</td> <td>    0.341</td> <td>   19.516</td> <td> 0.000</td> <td>    5.979</td> <td>    7.314</td>\n",
       "</tr>\n",
       "<tr>\n",
       "  <th>Last Notable Activity_Email Opened</th>                   <td>   -0.9838</td> <td>    0.220</td> <td>   -4.474</td> <td> 0.000</td> <td>   -1.415</td> <td>   -0.553</td>\n",
       "</tr>\n",
       "<tr>\n",
       "  <th>Last Notable Activity_Modified</th>                       <td>   -0.9617</td> <td>    0.136</td> <td>   -7.088</td> <td> 0.000</td> <td>   -1.228</td> <td>   -0.696</td>\n",
       "</tr>\n",
       "<tr>\n",
       "  <th>Last Notable Activity_Others</th>                         <td>    0.6295</td> <td>    0.385</td> <td>    1.635</td> <td> 0.102</td> <td>   -0.125</td> <td>    1.384</td>\n",
       "</tr>\n",
       "</table>"
      ],
      "text/latex": [
       "\\begin{center}\n",
       "\\begin{tabular}{lclc}\n",
       "\\toprule\n",
       "\\textbf{Dep. Variable:}                                        &    Converted     & \\textbf{  No. Observations:  } &     6468    \\\\\n",
       "\\textbf{Model:}                                                &       GLM        & \\textbf{  Df Residuals:      } &     6447    \\\\\n",
       "\\textbf{Model Family:}                                         &     Binomial     & \\textbf{  Df Model:          } &       20    \\\\\n",
       "\\textbf{Link Function:}                                        &      Logit       & \\textbf{  Scale:             } &    1.0000   \\\\\n",
       "\\textbf{Method:}                                               &       IRLS       & \\textbf{  Log-Likelihood:    } &   -1607.6   \\\\\n",
       "\\textbf{Date:}                                                 & Tue, 17 Sep 2024 & \\textbf{  Deviance:          } &    3215.2   \\\\\n",
       "\\textbf{Time:}                                                 &     12:17:17     & \\textbf{  Pearson chi2:      } &  1.07e+04   \\\\\n",
       "\\textbf{No. Iterations:}                                       &        21        & \\textbf{  Pseudo R-squ. (CS):} &   0.5649    \\\\\n",
       "\\textbf{Covariance Type:}                                      &    nonrobust     & \\textbf{                     } &             \\\\\n",
       "\\bottomrule\n",
       "\\end{tabular}\n",
       "\\begin{tabular}{lcccccc}\n",
       "                                                               & \\textbf{coef} & \\textbf{std err} & \\textbf{z} & \\textbf{P$> |$z$|$} & \\textbf{[0.025} & \\textbf{0.975]}  \\\\\n",
       "\\midrule\n",
       "\\textbf{const}                                                 &      -4.5192  &        0.329     &   -13.756  &         0.000        &       -5.163    &       -3.875     \\\\\n",
       "\\textbf{Total Time Spent on Website}                           &       1.1263  &        0.053     &    21.253  &         0.000        &        1.022    &        1.230     \\\\\n",
       "\\textbf{Lead Origin\\_Lead Add Form}                            &       1.8570  &        0.670     &     2.771  &         0.006        &        0.543    &        3.171     \\\\\n",
       "\\textbf{Lead Source\\_Olark Chat}                               &       1.2230  &        0.129     &     9.485  &         0.000        &        0.970    &        1.476     \\\\\n",
       "\\textbf{Lead Source\\_Reference}                                &       1.7282  &        0.714     &     2.422  &         0.015        &        0.330    &        3.127     \\\\\n",
       "\\textbf{Lead Source\\_Welingak Website}                         &       3.2255  &        0.982     &     3.284  &         0.001        &        1.300    &        5.151     \\\\\n",
       "\\textbf{Last Activity\\_Email Bounced}                          &      -1.2770  &        0.394     &    -3.239  &         0.001        &       -2.050    &       -0.504     \\\\\n",
       "\\textbf{Last Activity\\_Email Opened}                           &       1.3549  &        0.188     &     7.192  &         0.000        &        0.986    &        1.724     \\\\\n",
       "\\textbf{Last Activity\\_SMS Sent}                               &       1.7093  &        0.138     &    12.372  &         0.000        &        1.439    &        1.980     \\\\\n",
       "\\textbf{Specialization\\_Hospitality Management}                &      -0.8297  &        0.418     &    -1.987  &         0.047        &       -1.648    &       -0.011     \\\\\n",
       "\\textbf{Specialization\\_International Business}                &      -0.7825  &        0.361     &    -2.165  &         0.030        &       -1.491    &       -0.074     \\\\\n",
       "\\textbf{Specialization\\_Travel and Tourism}                    &      -0.7374  &        0.338     &    -2.179  &         0.029        &       -1.401    &       -0.074     \\\\\n",
       "\\textbf{What is your current occupation\\_Housewife}            &      21.1650  &     1.36e+04     &     0.002  &         0.999        &    -2.66e+04    &     2.66e+04     \\\\\n",
       "\\textbf{What is your current occupation\\_Other}                &      -1.2809  &        0.103     &   -12.479  &         0.000        &       -1.482    &       -1.080     \\\\\n",
       "\\textbf{What is your current occupation\\_Working Professional} &       1.2940  &        0.270     &     4.795  &         0.000        &        0.765    &        1.823     \\\\\n",
       "\\textbf{Tags\\_Others}                                          &       3.3277  &        0.304     &    10.961  &         0.000        &        2.733    &        3.923     \\\\\n",
       "\\textbf{Tags\\_Ringing}                                         &      -0.6583  &        0.372     &    -1.769  &         0.077        &       -1.388    &        0.071     \\\\\n",
       "\\textbf{Tags\\_Will revert after reading the email}             &       6.6466  &        0.341     &    19.516  &         0.000        &        5.979    &        7.314     \\\\\n",
       "\\textbf{Last Notable Activity\\_Email Opened}                   &      -0.9838  &        0.220     &    -4.474  &         0.000        &       -1.415    &       -0.553     \\\\\n",
       "\\textbf{Last Notable Activity\\_Modified}                       &      -0.9617  &        0.136     &    -7.088  &         0.000        &       -1.228    &       -0.696     \\\\\n",
       "\\textbf{Last Notable Activity\\_Others}                         &       0.6295  &        0.385     &     1.635  &         0.102        &       -0.125    &        1.384     \\\\\n",
       "\\bottomrule\n",
       "\\end{tabular}\n",
       "%\\caption{Generalized Linear Model Regression Results}\n",
       "\\end{center}"
      ],
      "text/plain": [
       "<class 'statsmodels.iolib.summary.Summary'>\n",
       "\"\"\"\n",
       "                 Generalized Linear Model Regression Results                  \n",
       "==============================================================================\n",
       "Dep. Variable:              Converted   No. Observations:                 6468\n",
       "Model:                            GLM   Df Residuals:                     6447\n",
       "Model Family:                Binomial   Df Model:                           20\n",
       "Link Function:                  Logit   Scale:                          1.0000\n",
       "Method:                          IRLS   Log-Likelihood:                -1607.6\n",
       "Date:                Tue, 17 Sep 2024   Deviance:                       3215.2\n",
       "Time:                        12:17:17   Pearson chi2:                 1.07e+04\n",
       "No. Iterations:                    21   Pseudo R-squ. (CS):             0.5649\n",
       "Covariance Type:            nonrobust                                         \n",
       "========================================================================================================================\n",
       "                                                           coef    std err          z      P>|z|      [0.025      0.975]\n",
       "------------------------------------------------------------------------------------------------------------------------\n",
       "const                                                   -4.5192      0.329    -13.756      0.000      -5.163      -3.875\n",
       "Total Time Spent on Website                              1.1263      0.053     21.253      0.000       1.022       1.230\n",
       "Lead Origin_Lead Add Form                                1.8570      0.670      2.771      0.006       0.543       3.171\n",
       "Lead Source_Olark Chat                                   1.2230      0.129      9.485      0.000       0.970       1.476\n",
       "Lead Source_Reference                                    1.7282      0.714      2.422      0.015       0.330       3.127\n",
       "Lead Source_Welingak Website                             3.2255      0.982      3.284      0.001       1.300       5.151\n",
       "Last Activity_Email Bounced                             -1.2770      0.394     -3.239      0.001      -2.050      -0.504\n",
       "Last Activity_Email Opened                               1.3549      0.188      7.192      0.000       0.986       1.724\n",
       "Last Activity_SMS Sent                                   1.7093      0.138     12.372      0.000       1.439       1.980\n",
       "Specialization_Hospitality Management                   -0.8297      0.418     -1.987      0.047      -1.648      -0.011\n",
       "Specialization_International Business                   -0.7825      0.361     -2.165      0.030      -1.491      -0.074\n",
       "Specialization_Travel and Tourism                       -0.7374      0.338     -2.179      0.029      -1.401      -0.074\n",
       "What is your current occupation_Housewife               21.1650   1.36e+04      0.002      0.999   -2.66e+04    2.66e+04\n",
       "What is your current occupation_Other                   -1.2809      0.103    -12.479      0.000      -1.482      -1.080\n",
       "What is your current occupation_Working Professional     1.2940      0.270      4.795      0.000       0.765       1.823\n",
       "Tags_Others                                              3.3277      0.304     10.961      0.000       2.733       3.923\n",
       "Tags_Ringing                                            -0.6583      0.372     -1.769      0.077      -1.388       0.071\n",
       "Tags_Will revert after reading the email                 6.6466      0.341     19.516      0.000       5.979       7.314\n",
       "Last Notable Activity_Email Opened                      -0.9838      0.220     -4.474      0.000      -1.415      -0.553\n",
       "Last Notable Activity_Modified                          -0.9617      0.136     -7.088      0.000      -1.228      -0.696\n",
       "Last Notable Activity_Others                             0.6295      0.385      1.635      0.102      -0.125       1.384\n",
       "========================================================================================================================\n",
       "\"\"\""
      ]
     },
     "execution_count": 75,
     "metadata": {},
     "output_type": "execute_result"
    }
   ],
   "source": [
    "X_train_1 = sm.add_constant(X_train[col])\n",
    "log_m1 = sm.GLM(y_train,X_train_1.astype(float),family=sm.families.Binomial())\n",
    "log_model_1 = log_m1.fit()\n",
    "log_model_1.summary()"
   ]
  },
  {
   "cell_type": "markdown",
   "id": "f2730153-35ff-46b8-a55a-4fb3ea1eb891",
   "metadata": {},
   "source": [
    "**Dropping 'What is your current occupation_Housewife' because of high p-Value and rebuilding model**"
   ]
  },
  {
   "cell_type": "code",
   "execution_count": 76,
   "id": "090c5985-7c98-4072-a429-52275b231a38",
   "metadata": {},
   "outputs": [
    {
     "data": {
      "text/html": [
       "<table class=\"simpletable\">\n",
       "<caption>Generalized Linear Model Regression Results</caption>\n",
       "<tr>\n",
       "  <th>Dep. Variable:</th>       <td>Converted</td>    <th>  No. Observations:  </th>  <td>  6468</td> \n",
       "</tr>\n",
       "<tr>\n",
       "  <th>Model:</th>                  <td>GLM</td>       <th>  Df Residuals:      </th>  <td>  6448</td> \n",
       "</tr>\n",
       "<tr>\n",
       "  <th>Model Family:</th>        <td>Binomial</td>     <th>  Df Model:          </th>  <td>    19</td> \n",
       "</tr>\n",
       "<tr>\n",
       "  <th>Link Function:</th>         <td>Logit</td>      <th>  Scale:             </th> <td>  1.0000</td>\n",
       "</tr>\n",
       "<tr>\n",
       "  <th>Method:</th>                <td>IRLS</td>       <th>  Log-Likelihood:    </th> <td> -1609.8</td>\n",
       "</tr>\n",
       "<tr>\n",
       "  <th>Date:</th>            <td>Tue, 17 Sep 2024</td> <th>  Deviance:          </th> <td>  3219.7</td>\n",
       "</tr>\n",
       "<tr>\n",
       "  <th>Time:</th>                <td>12:17:20</td>     <th>  Pearson chi2:      </th> <td>1.08e+04</td>\n",
       "</tr>\n",
       "<tr>\n",
       "  <th>No. Iterations:</th>          <td>7</td>        <th>  Pseudo R-squ. (CS):</th>  <td>0.5646</td> \n",
       "</tr>\n",
       "<tr>\n",
       "  <th>Covariance Type:</th>     <td>nonrobust</td>    <th>                     </th>     <td> </td>   \n",
       "</tr>\n",
       "</table>\n",
       "<table class=\"simpletable\">\n",
       "<tr>\n",
       "                            <td></td>                              <th>coef</th>     <th>std err</th>      <th>z</th>      <th>P>|z|</th>  <th>[0.025</th>    <th>0.975]</th>  \n",
       "</tr>\n",
       "<tr>\n",
       "  <th>const</th>                                                <td>   -4.5228</td> <td>    0.329</td> <td>  -13.765</td> <td> 0.000</td> <td>   -5.167</td> <td>   -3.879</td>\n",
       "</tr>\n",
       "<tr>\n",
       "  <th>Total Time Spent on Website</th>                          <td>    1.1270</td> <td>    0.053</td> <td>   21.264</td> <td> 0.000</td> <td>    1.023</td> <td>    1.231</td>\n",
       "</tr>\n",
       "<tr>\n",
       "  <th>Lead Origin_Lead Add Form</th>                            <td>    1.8517</td> <td>    0.670</td> <td>    2.763</td> <td> 0.006</td> <td>    0.538</td> <td>    3.165</td>\n",
       "</tr>\n",
       "<tr>\n",
       "  <th>Lead Source_Olark Chat</th>                               <td>    1.2196</td> <td>    0.129</td> <td>    9.461</td> <td> 0.000</td> <td>    0.967</td> <td>    1.472</td>\n",
       "</tr>\n",
       "<tr>\n",
       "  <th>Lead Source_Reference</th>                                <td>    1.7474</td> <td>    0.713</td> <td>    2.449</td> <td> 0.014</td> <td>    0.349</td> <td>    3.146</td>\n",
       "</tr>\n",
       "<tr>\n",
       "  <th>Lead Source_Welingak Website</th>                         <td>    3.2259</td> <td>    0.982</td> <td>    3.284</td> <td> 0.001</td> <td>    1.301</td> <td>    5.151</td>\n",
       "</tr>\n",
       "<tr>\n",
       "  <th>Last Activity_Email Bounced</th>                          <td>   -1.2800</td> <td>    0.395</td> <td>   -3.244</td> <td> 0.001</td> <td>   -2.053</td> <td>   -0.507</td>\n",
       "</tr>\n",
       "<tr>\n",
       "  <th>Last Activity_Email Opened</th>                           <td>    1.3681</td> <td>    0.188</td> <td>    7.287</td> <td> 0.000</td> <td>    1.000</td> <td>    1.736</td>\n",
       "</tr>\n",
       "<tr>\n",
       "  <th>Last Activity_SMS Sent</th>                               <td>    1.7077</td> <td>    0.138</td> <td>   12.357</td> <td> 0.000</td> <td>    1.437</td> <td>    1.979</td>\n",
       "</tr>\n",
       "<tr>\n",
       "  <th>Specialization_Hospitality Management</th>                <td>   -0.8370</td> <td>    0.418</td> <td>   -2.002</td> <td> 0.045</td> <td>   -1.657</td> <td>   -0.017</td>\n",
       "</tr>\n",
       "<tr>\n",
       "  <th>Specialization_International Business</th>                <td>   -0.7880</td> <td>    0.362</td> <td>   -2.178</td> <td> 0.029</td> <td>   -1.497</td> <td>   -0.079</td>\n",
       "</tr>\n",
       "<tr>\n",
       "  <th>Specialization_Travel and Tourism</th>                    <td>   -0.7421</td> <td>    0.339</td> <td>   -2.192</td> <td> 0.028</td> <td>   -1.406</td> <td>   -0.078</td>\n",
       "</tr>\n",
       "<tr>\n",
       "  <th>What is your current occupation_Other</th>                <td>   -1.2860</td> <td>    0.103</td> <td>  -12.535</td> <td> 0.000</td> <td>   -1.487</td> <td>   -1.085</td>\n",
       "</tr>\n",
       "<tr>\n",
       "  <th>What is your current occupation_Working Professional</th> <td>    1.2846</td> <td>    0.270</td> <td>    4.758</td> <td> 0.000</td> <td>    0.755</td> <td>    1.814</td>\n",
       "</tr>\n",
       "<tr>\n",
       "  <th>Tags_Others</th>                                          <td>    3.3354</td> <td>    0.304</td> <td>   10.986</td> <td> 0.000</td> <td>    2.740</td> <td>    3.930</td>\n",
       "</tr>\n",
       "<tr>\n",
       "  <th>Tags_Ringing</th>                                         <td>   -0.6563</td> <td>    0.372</td> <td>   -1.763</td> <td> 0.078</td> <td>   -1.386</td> <td>    0.073</td>\n",
       "</tr>\n",
       "<tr>\n",
       "  <th>Tags_Will revert after reading the email</th>             <td>    6.6593</td> <td>    0.341</td> <td>   19.552</td> <td> 0.000</td> <td>    5.992</td> <td>    7.327</td>\n",
       "</tr>\n",
       "<tr>\n",
       "  <th>Last Notable Activity_Email Opened</th>                   <td>   -0.9939</td> <td>    0.219</td> <td>   -4.531</td> <td> 0.000</td> <td>   -1.424</td> <td>   -0.564</td>\n",
       "</tr>\n",
       "<tr>\n",
       "  <th>Last Notable Activity_Modified</th>                       <td>   -0.9603</td> <td>    0.136</td> <td>   -7.076</td> <td> 0.000</td> <td>   -1.226</td> <td>   -0.694</td>\n",
       "</tr>\n",
       "<tr>\n",
       "  <th>Last Notable Activity_Others</th>                         <td>    0.6288</td> <td>    0.385</td> <td>    1.632</td> <td> 0.103</td> <td>   -0.126</td> <td>    1.384</td>\n",
       "</tr>\n",
       "</table>"
      ],
      "text/latex": [
       "\\begin{center}\n",
       "\\begin{tabular}{lclc}\n",
       "\\toprule\n",
       "\\textbf{Dep. Variable:}                                        &    Converted     & \\textbf{  No. Observations:  } &     6468    \\\\\n",
       "\\textbf{Model:}                                                &       GLM        & \\textbf{  Df Residuals:      } &     6448    \\\\\n",
       "\\textbf{Model Family:}                                         &     Binomial     & \\textbf{  Df Model:          } &       19    \\\\\n",
       "\\textbf{Link Function:}                                        &      Logit       & \\textbf{  Scale:             } &    1.0000   \\\\\n",
       "\\textbf{Method:}                                               &       IRLS       & \\textbf{  Log-Likelihood:    } &   -1609.8   \\\\\n",
       "\\textbf{Date:}                                                 & Tue, 17 Sep 2024 & \\textbf{  Deviance:          } &    3219.7   \\\\\n",
       "\\textbf{Time:}                                                 &     12:17:20     & \\textbf{  Pearson chi2:      } &  1.08e+04   \\\\\n",
       "\\textbf{No. Iterations:}                                       &        7         & \\textbf{  Pseudo R-squ. (CS):} &   0.5646    \\\\\n",
       "\\textbf{Covariance Type:}                                      &    nonrobust     & \\textbf{                     } &             \\\\\n",
       "\\bottomrule\n",
       "\\end{tabular}\n",
       "\\begin{tabular}{lcccccc}\n",
       "                                                               & \\textbf{coef} & \\textbf{std err} & \\textbf{z} & \\textbf{P$> |$z$|$} & \\textbf{[0.025} & \\textbf{0.975]}  \\\\\n",
       "\\midrule\n",
       "\\textbf{const}                                                 &      -4.5228  &        0.329     &   -13.765  &         0.000        &       -5.167    &       -3.879     \\\\\n",
       "\\textbf{Total Time Spent on Website}                           &       1.1270  &        0.053     &    21.264  &         0.000        &        1.023    &        1.231     \\\\\n",
       "\\textbf{Lead Origin\\_Lead Add Form}                            &       1.8517  &        0.670     &     2.763  &         0.006        &        0.538    &        3.165     \\\\\n",
       "\\textbf{Lead Source\\_Olark Chat}                               &       1.2196  &        0.129     &     9.461  &         0.000        &        0.967    &        1.472     \\\\\n",
       "\\textbf{Lead Source\\_Reference}                                &       1.7474  &        0.713     &     2.449  &         0.014        &        0.349    &        3.146     \\\\\n",
       "\\textbf{Lead Source\\_Welingak Website}                         &       3.2259  &        0.982     &     3.284  &         0.001        &        1.301    &        5.151     \\\\\n",
       "\\textbf{Last Activity\\_Email Bounced}                          &      -1.2800  &        0.395     &    -3.244  &         0.001        &       -2.053    &       -0.507     \\\\\n",
       "\\textbf{Last Activity\\_Email Opened}                           &       1.3681  &        0.188     &     7.287  &         0.000        &        1.000    &        1.736     \\\\\n",
       "\\textbf{Last Activity\\_SMS Sent}                               &       1.7077  &        0.138     &    12.357  &         0.000        &        1.437    &        1.979     \\\\\n",
       "\\textbf{Specialization\\_Hospitality Management}                &      -0.8370  &        0.418     &    -2.002  &         0.045        &       -1.657    &       -0.017     \\\\\n",
       "\\textbf{Specialization\\_International Business}                &      -0.7880  &        0.362     &    -2.178  &         0.029        &       -1.497    &       -0.079     \\\\\n",
       "\\textbf{Specialization\\_Travel and Tourism}                    &      -0.7421  &        0.339     &    -2.192  &         0.028        &       -1.406    &       -0.078     \\\\\n",
       "\\textbf{What is your current occupation\\_Other}                &      -1.2860  &        0.103     &   -12.535  &         0.000        &       -1.487    &       -1.085     \\\\\n",
       "\\textbf{What is your current occupation\\_Working Professional} &       1.2846  &        0.270     &     4.758  &         0.000        &        0.755    &        1.814     \\\\\n",
       "\\textbf{Tags\\_Others}                                          &       3.3354  &        0.304     &    10.986  &         0.000        &        2.740    &        3.930     \\\\\n",
       "\\textbf{Tags\\_Ringing}                                         &      -0.6563  &        0.372     &    -1.763  &         0.078        &       -1.386    &        0.073     \\\\\n",
       "\\textbf{Tags\\_Will revert after reading the email}             &       6.6593  &        0.341     &    19.552  &         0.000        &        5.992    &        7.327     \\\\\n",
       "\\textbf{Last Notable Activity\\_Email Opened}                   &      -0.9939  &        0.219     &    -4.531  &         0.000        &       -1.424    &       -0.564     \\\\\n",
       "\\textbf{Last Notable Activity\\_Modified}                       &      -0.9603  &        0.136     &    -7.076  &         0.000        &       -1.226    &       -0.694     \\\\\n",
       "\\textbf{Last Notable Activity\\_Others}                         &       0.6288  &        0.385     &     1.632  &         0.103        &       -0.126    &        1.384     \\\\\n",
       "\\bottomrule\n",
       "\\end{tabular}\n",
       "%\\caption{Generalized Linear Model Regression Results}\n",
       "\\end{center}"
      ],
      "text/plain": [
       "<class 'statsmodels.iolib.summary.Summary'>\n",
       "\"\"\"\n",
       "                 Generalized Linear Model Regression Results                  \n",
       "==============================================================================\n",
       "Dep. Variable:              Converted   No. Observations:                 6468\n",
       "Model:                            GLM   Df Residuals:                     6448\n",
       "Model Family:                Binomial   Df Model:                           19\n",
       "Link Function:                  Logit   Scale:                          1.0000\n",
       "Method:                          IRLS   Log-Likelihood:                -1609.8\n",
       "Date:                Tue, 17 Sep 2024   Deviance:                       3219.7\n",
       "Time:                        12:17:20   Pearson chi2:                 1.08e+04\n",
       "No. Iterations:                     7   Pseudo R-squ. (CS):             0.5646\n",
       "Covariance Type:            nonrobust                                         \n",
       "========================================================================================================================\n",
       "                                                           coef    std err          z      P>|z|      [0.025      0.975]\n",
       "------------------------------------------------------------------------------------------------------------------------\n",
       "const                                                   -4.5228      0.329    -13.765      0.000      -5.167      -3.879\n",
       "Total Time Spent on Website                              1.1270      0.053     21.264      0.000       1.023       1.231\n",
       "Lead Origin_Lead Add Form                                1.8517      0.670      2.763      0.006       0.538       3.165\n",
       "Lead Source_Olark Chat                                   1.2196      0.129      9.461      0.000       0.967       1.472\n",
       "Lead Source_Reference                                    1.7474      0.713      2.449      0.014       0.349       3.146\n",
       "Lead Source_Welingak Website                             3.2259      0.982      3.284      0.001       1.301       5.151\n",
       "Last Activity_Email Bounced                             -1.2800      0.395     -3.244      0.001      -2.053      -0.507\n",
       "Last Activity_Email Opened                               1.3681      0.188      7.287      0.000       1.000       1.736\n",
       "Last Activity_SMS Sent                                   1.7077      0.138     12.357      0.000       1.437       1.979\n",
       "Specialization_Hospitality Management                   -0.8370      0.418     -2.002      0.045      -1.657      -0.017\n",
       "Specialization_International Business                   -0.7880      0.362     -2.178      0.029      -1.497      -0.079\n",
       "Specialization_Travel and Tourism                       -0.7421      0.339     -2.192      0.028      -1.406      -0.078\n",
       "What is your current occupation_Other                   -1.2860      0.103    -12.535      0.000      -1.487      -1.085\n",
       "What is your current occupation_Working Professional     1.2846      0.270      4.758      0.000       0.755       1.814\n",
       "Tags_Others                                              3.3354      0.304     10.986      0.000       2.740       3.930\n",
       "Tags_Ringing                                            -0.6563      0.372     -1.763      0.078      -1.386       0.073\n",
       "Tags_Will revert after reading the email                 6.6593      0.341     19.552      0.000       5.992       7.327\n",
       "Last Notable Activity_Email Opened                      -0.9939      0.219     -4.531      0.000      -1.424      -0.564\n",
       "Last Notable Activity_Modified                          -0.9603      0.136     -7.076      0.000      -1.226      -0.694\n",
       "Last Notable Activity_Others                             0.6288      0.385      1.632      0.103      -0.126       1.384\n",
       "========================================================================================================================\n",
       "\"\"\""
      ]
     },
     "execution_count": 76,
     "metadata": {},
     "output_type": "execute_result"
    }
   ],
   "source": [
    "col = col.drop('What is your current occupation_Housewife', 1)\n",
    "\n",
    "X_train_2 = sm.add_constant(X_train[col])\n",
    "log_m2 = sm.GLM(y_train,X_train_2.astype(float),family=sm.families.Binomial())\n",
    "log_model_2 = log_m2.fit()\n",
    "log_model_2.summary()"
   ]
  },
  {
   "cell_type": "code",
   "execution_count": 77,
   "id": "40e799ca-e5f0-439d-af4c-7c8bacec546c",
   "metadata": {},
   "outputs": [
    {
     "data": {
      "text/html": [
       "<table class=\"simpletable\">\n",
       "<caption>Generalized Linear Model Regression Results</caption>\n",
       "<tr>\n",
       "  <th>Dep. Variable:</th>       <td>Converted</td>    <th>  No. Observations:  </th>  <td>  6468</td> \n",
       "</tr>\n",
       "<tr>\n",
       "  <th>Model:</th>                  <td>GLM</td>       <th>  Df Residuals:      </th>  <td>  6448</td> \n",
       "</tr>\n",
       "<tr>\n",
       "  <th>Model Family:</th>        <td>Binomial</td>     <th>  Df Model:          </th>  <td>    19</td> \n",
       "</tr>\n",
       "<tr>\n",
       "  <th>Link Function:</th>         <td>Logit</td>      <th>  Scale:             </th> <td>  1.0000</td>\n",
       "</tr>\n",
       "<tr>\n",
       "  <th>Method:</th>                <td>IRLS</td>       <th>  Log-Likelihood:    </th> <td> -1609.8</td>\n",
       "</tr>\n",
       "<tr>\n",
       "  <th>Date:</th>            <td>Tue, 17 Sep 2024</td> <th>  Deviance:          </th> <td>  3219.7</td>\n",
       "</tr>\n",
       "<tr>\n",
       "  <th>Time:</th>                <td>12:17:22</td>     <th>  Pearson chi2:      </th> <td>1.08e+04</td>\n",
       "</tr>\n",
       "<tr>\n",
       "  <th>No. Iterations:</th>          <td>7</td>        <th>  Pseudo R-squ. (CS):</th>  <td>0.5646</td> \n",
       "</tr>\n",
       "<tr>\n",
       "  <th>Covariance Type:</th>     <td>nonrobust</td>    <th>                     </th>     <td> </td>   \n",
       "</tr>\n",
       "</table>\n",
       "<table class=\"simpletable\">\n",
       "<tr>\n",
       "                            <td></td>                              <th>coef</th>     <th>std err</th>      <th>z</th>      <th>P>|z|</th>  <th>[0.025</th>    <th>0.975]</th>  \n",
       "</tr>\n",
       "<tr>\n",
       "  <th>const</th>                                                <td>   -4.5228</td> <td>    0.329</td> <td>  -13.765</td> <td> 0.000</td> <td>   -5.167</td> <td>   -3.879</td>\n",
       "</tr>\n",
       "<tr>\n",
       "  <th>Total Time Spent on Website</th>                          <td>    1.1270</td> <td>    0.053</td> <td>   21.264</td> <td> 0.000</td> <td>    1.023</td> <td>    1.231</td>\n",
       "</tr>\n",
       "<tr>\n",
       "  <th>Lead Origin_Lead Add Form</th>                            <td>    1.8517</td> <td>    0.670</td> <td>    2.763</td> <td> 0.006</td> <td>    0.538</td> <td>    3.165</td>\n",
       "</tr>\n",
       "<tr>\n",
       "  <th>Lead Source_Olark Chat</th>                               <td>    1.2196</td> <td>    0.129</td> <td>    9.461</td> <td> 0.000</td> <td>    0.967</td> <td>    1.472</td>\n",
       "</tr>\n",
       "<tr>\n",
       "  <th>Lead Source_Reference</th>                                <td>    1.7474</td> <td>    0.713</td> <td>    2.449</td> <td> 0.014</td> <td>    0.349</td> <td>    3.146</td>\n",
       "</tr>\n",
       "<tr>\n",
       "  <th>Lead Source_Welingak Website</th>                         <td>    3.2259</td> <td>    0.982</td> <td>    3.284</td> <td> 0.001</td> <td>    1.301</td> <td>    5.151</td>\n",
       "</tr>\n",
       "<tr>\n",
       "  <th>Last Activity_Email Bounced</th>                          <td>   -1.2800</td> <td>    0.395</td> <td>   -3.244</td> <td> 0.001</td> <td>   -2.053</td> <td>   -0.507</td>\n",
       "</tr>\n",
       "<tr>\n",
       "  <th>Last Activity_Email Opened</th>                           <td>    1.3681</td> <td>    0.188</td> <td>    7.287</td> <td> 0.000</td> <td>    1.000</td> <td>    1.736</td>\n",
       "</tr>\n",
       "<tr>\n",
       "  <th>Last Activity_SMS Sent</th>                               <td>    1.7077</td> <td>    0.138</td> <td>   12.357</td> <td> 0.000</td> <td>    1.437</td> <td>    1.979</td>\n",
       "</tr>\n",
       "<tr>\n",
       "  <th>Specialization_Hospitality Management</th>                <td>   -0.8370</td> <td>    0.418</td> <td>   -2.002</td> <td> 0.045</td> <td>   -1.657</td> <td>   -0.017</td>\n",
       "</tr>\n",
       "<tr>\n",
       "  <th>Specialization_International Business</th>                <td>   -0.7880</td> <td>    0.362</td> <td>   -2.178</td> <td> 0.029</td> <td>   -1.497</td> <td>   -0.079</td>\n",
       "</tr>\n",
       "<tr>\n",
       "  <th>Specialization_Travel and Tourism</th>                    <td>   -0.7421</td> <td>    0.339</td> <td>   -2.192</td> <td> 0.028</td> <td>   -1.406</td> <td>   -0.078</td>\n",
       "</tr>\n",
       "<tr>\n",
       "  <th>What is your current occupation_Other</th>                <td>   -1.2860</td> <td>    0.103</td> <td>  -12.535</td> <td> 0.000</td> <td>   -1.487</td> <td>   -1.085</td>\n",
       "</tr>\n",
       "<tr>\n",
       "  <th>What is your current occupation_Working Professional</th> <td>    1.2846</td> <td>    0.270</td> <td>    4.758</td> <td> 0.000</td> <td>    0.755</td> <td>    1.814</td>\n",
       "</tr>\n",
       "<tr>\n",
       "  <th>Tags_Others</th>                                          <td>    3.3354</td> <td>    0.304</td> <td>   10.986</td> <td> 0.000</td> <td>    2.740</td> <td>    3.930</td>\n",
       "</tr>\n",
       "<tr>\n",
       "  <th>Tags_Ringing</th>                                         <td>   -0.6563</td> <td>    0.372</td> <td>   -1.763</td> <td> 0.078</td> <td>   -1.386</td> <td>    0.073</td>\n",
       "</tr>\n",
       "<tr>\n",
       "  <th>Tags_Will revert after reading the email</th>             <td>    6.6593</td> <td>    0.341</td> <td>   19.552</td> <td> 0.000</td> <td>    5.992</td> <td>    7.327</td>\n",
       "</tr>\n",
       "<tr>\n",
       "  <th>Last Notable Activity_Email Opened</th>                   <td>   -0.9939</td> <td>    0.219</td> <td>   -4.531</td> <td> 0.000</td> <td>   -1.424</td> <td>   -0.564</td>\n",
       "</tr>\n",
       "<tr>\n",
       "  <th>Last Notable Activity_Modified</th>                       <td>   -0.9603</td> <td>    0.136</td> <td>   -7.076</td> <td> 0.000</td> <td>   -1.226</td> <td>   -0.694</td>\n",
       "</tr>\n",
       "<tr>\n",
       "  <th>Last Notable Activity_Others</th>                         <td>    0.6288</td> <td>    0.385</td> <td>    1.632</td> <td> 0.103</td> <td>   -0.126</td> <td>    1.384</td>\n",
       "</tr>\n",
       "</table>"
      ],
      "text/latex": [
       "\\begin{center}\n",
       "\\begin{tabular}{lclc}\n",
       "\\toprule\n",
       "\\textbf{Dep. Variable:}                                        &    Converted     & \\textbf{  No. Observations:  } &     6468    \\\\\n",
       "\\textbf{Model:}                                                &       GLM        & \\textbf{  Df Residuals:      } &     6448    \\\\\n",
       "\\textbf{Model Family:}                                         &     Binomial     & \\textbf{  Df Model:          } &       19    \\\\\n",
       "\\textbf{Link Function:}                                        &      Logit       & \\textbf{  Scale:             } &    1.0000   \\\\\n",
       "\\textbf{Method:}                                               &       IRLS       & \\textbf{  Log-Likelihood:    } &   -1609.8   \\\\\n",
       "\\textbf{Date:}                                                 & Tue, 17 Sep 2024 & \\textbf{  Deviance:          } &    3219.7   \\\\\n",
       "\\textbf{Time:}                                                 &     12:17:22     & \\textbf{  Pearson chi2:      } &  1.08e+04   \\\\\n",
       "\\textbf{No. Iterations:}                                       &        7         & \\textbf{  Pseudo R-squ. (CS):} &   0.5646    \\\\\n",
       "\\textbf{Covariance Type:}                                      &    nonrobust     & \\textbf{                     } &             \\\\\n",
       "\\bottomrule\n",
       "\\end{tabular}\n",
       "\\begin{tabular}{lcccccc}\n",
       "                                                               & \\textbf{coef} & \\textbf{std err} & \\textbf{z} & \\textbf{P$> |$z$|$} & \\textbf{[0.025} & \\textbf{0.975]}  \\\\\n",
       "\\midrule\n",
       "\\textbf{const}                                                 &      -4.5228  &        0.329     &   -13.765  &         0.000        &       -5.167    &       -3.879     \\\\\n",
       "\\textbf{Total Time Spent on Website}                           &       1.1270  &        0.053     &    21.264  &         0.000        &        1.023    &        1.231     \\\\\n",
       "\\textbf{Lead Origin\\_Lead Add Form}                            &       1.8517  &        0.670     &     2.763  &         0.006        &        0.538    &        3.165     \\\\\n",
       "\\textbf{Lead Source\\_Olark Chat}                               &       1.2196  &        0.129     &     9.461  &         0.000        &        0.967    &        1.472     \\\\\n",
       "\\textbf{Lead Source\\_Reference}                                &       1.7474  &        0.713     &     2.449  &         0.014        &        0.349    &        3.146     \\\\\n",
       "\\textbf{Lead Source\\_Welingak Website}                         &       3.2259  &        0.982     &     3.284  &         0.001        &        1.301    &        5.151     \\\\\n",
       "\\textbf{Last Activity\\_Email Bounced}                          &      -1.2800  &        0.395     &    -3.244  &         0.001        &       -2.053    &       -0.507     \\\\\n",
       "\\textbf{Last Activity\\_Email Opened}                           &       1.3681  &        0.188     &     7.287  &         0.000        &        1.000    &        1.736     \\\\\n",
       "\\textbf{Last Activity\\_SMS Sent}                               &       1.7077  &        0.138     &    12.357  &         0.000        &        1.437    &        1.979     \\\\\n",
       "\\textbf{Specialization\\_Hospitality Management}                &      -0.8370  &        0.418     &    -2.002  &         0.045        &       -1.657    &       -0.017     \\\\\n",
       "\\textbf{Specialization\\_International Business}                &      -0.7880  &        0.362     &    -2.178  &         0.029        &       -1.497    &       -0.079     \\\\\n",
       "\\textbf{Specialization\\_Travel and Tourism}                    &      -0.7421  &        0.339     &    -2.192  &         0.028        &       -1.406    &       -0.078     \\\\\n",
       "\\textbf{What is your current occupation\\_Other}                &      -1.2860  &        0.103     &   -12.535  &         0.000        &       -1.487    &       -1.085     \\\\\n",
       "\\textbf{What is your current occupation\\_Working Professional} &       1.2846  &        0.270     &     4.758  &         0.000        &        0.755    &        1.814     \\\\\n",
       "\\textbf{Tags\\_Others}                                          &       3.3354  &        0.304     &    10.986  &         0.000        &        2.740    &        3.930     \\\\\n",
       "\\textbf{Tags\\_Ringing}                                         &      -0.6563  &        0.372     &    -1.763  &         0.078        &       -1.386    &        0.073     \\\\\n",
       "\\textbf{Tags\\_Will revert after reading the email}             &       6.6593  &        0.341     &    19.552  &         0.000        &        5.992    &        7.327     \\\\\n",
       "\\textbf{Last Notable Activity\\_Email Opened}                   &      -0.9939  &        0.219     &    -4.531  &         0.000        &       -1.424    &       -0.564     \\\\\n",
       "\\textbf{Last Notable Activity\\_Modified}                       &      -0.9603  &        0.136     &    -7.076  &         0.000        &       -1.226    &       -0.694     \\\\\n",
       "\\textbf{Last Notable Activity\\_Others}                         &       0.6288  &        0.385     &     1.632  &         0.103        &       -0.126    &        1.384     \\\\\n",
       "\\bottomrule\n",
       "\\end{tabular}\n",
       "%\\caption{Generalized Linear Model Regression Results}\n",
       "\\end{center}"
      ],
      "text/plain": [
       "<class 'statsmodels.iolib.summary.Summary'>\n",
       "\"\"\"\n",
       "                 Generalized Linear Model Regression Results                  \n",
       "==============================================================================\n",
       "Dep. Variable:              Converted   No. Observations:                 6468\n",
       "Model:                            GLM   Df Residuals:                     6448\n",
       "Model Family:                Binomial   Df Model:                           19\n",
       "Link Function:                  Logit   Scale:                          1.0000\n",
       "Method:                          IRLS   Log-Likelihood:                -1609.8\n",
       "Date:                Tue, 17 Sep 2024   Deviance:                       3219.7\n",
       "Time:                        12:17:22   Pearson chi2:                 1.08e+04\n",
       "No. Iterations:                     7   Pseudo R-squ. (CS):             0.5646\n",
       "Covariance Type:            nonrobust                                         \n",
       "========================================================================================================================\n",
       "                                                           coef    std err          z      P>|z|      [0.025      0.975]\n",
       "------------------------------------------------------------------------------------------------------------------------\n",
       "const                                                   -4.5228      0.329    -13.765      0.000      -5.167      -3.879\n",
       "Total Time Spent on Website                              1.1270      0.053     21.264      0.000       1.023       1.231\n",
       "Lead Origin_Lead Add Form                                1.8517      0.670      2.763      0.006       0.538       3.165\n",
       "Lead Source_Olark Chat                                   1.2196      0.129      9.461      0.000       0.967       1.472\n",
       "Lead Source_Reference                                    1.7474      0.713      2.449      0.014       0.349       3.146\n",
       "Lead Source_Welingak Website                             3.2259      0.982      3.284      0.001       1.301       5.151\n",
       "Last Activity_Email Bounced                             -1.2800      0.395     -3.244      0.001      -2.053      -0.507\n",
       "Last Activity_Email Opened                               1.3681      0.188      7.287      0.000       1.000       1.736\n",
       "Last Activity_SMS Sent                                   1.7077      0.138     12.357      0.000       1.437       1.979\n",
       "Specialization_Hospitality Management                   -0.8370      0.418     -2.002      0.045      -1.657      -0.017\n",
       "Specialization_International Business                   -0.7880      0.362     -2.178      0.029      -1.497      -0.079\n",
       "Specialization_Travel and Tourism                       -0.7421      0.339     -2.192      0.028      -1.406      -0.078\n",
       "What is your current occupation_Other                   -1.2860      0.103    -12.535      0.000      -1.487      -1.085\n",
       "What is your current occupation_Working Professional     1.2846      0.270      4.758      0.000       0.755       1.814\n",
       "Tags_Others                                              3.3354      0.304     10.986      0.000       2.740       3.930\n",
       "Tags_Ringing                                            -0.6563      0.372     -1.763      0.078      -1.386       0.073\n",
       "Tags_Will revert after reading the email                 6.6593      0.341     19.552      0.000       5.992       7.327\n",
       "Last Notable Activity_Email Opened                      -0.9939      0.219     -4.531      0.000      -1.424      -0.564\n",
       "Last Notable Activity_Modified                          -0.9603      0.136     -7.076      0.000      -1.226      -0.694\n",
       "Last Notable Activity_Others                             0.6288      0.385      1.632      0.103      -0.126       1.384\n",
       "========================================================================================================================\n",
       "\"\"\""
      ]
     },
     "execution_count": 77,
     "metadata": {},
     "output_type": "execute_result"
    }
   ],
   "source": [
    "\n",
    "X_train_3 = sm.add_constant(X_train[col])\n",
    "log_m3 = sm.GLM(y_train,X_train_3.astype(float),family=sm.families.Binomial())\n",
    "log_model_3 = log_m3.fit()\n",
    "log_model_3.summary()"
   ]
  },
  {
   "cell_type": "code",
   "execution_count": 78,
   "id": "8e7403de-9eab-4566-be23-d810cbebd9b5",
   "metadata": {},
   "outputs": [
    {
     "data": {
      "text/html": [
       "<table class=\"simpletable\">\n",
       "<caption>Generalized Linear Model Regression Results</caption>\n",
       "<tr>\n",
       "  <th>Dep. Variable:</th>       <td>Converted</td>    <th>  No. Observations:  </th>  <td>  6468</td> \n",
       "</tr>\n",
       "<tr>\n",
       "  <th>Model:</th>                  <td>GLM</td>       <th>  Df Residuals:      </th>  <td>  6449</td> \n",
       "</tr>\n",
       "<tr>\n",
       "  <th>Model Family:</th>        <td>Binomial</td>     <th>  Df Model:          </th>  <td>    18</td> \n",
       "</tr>\n",
       "<tr>\n",
       "  <th>Link Function:</th>         <td>Logit</td>      <th>  Scale:             </th> <td>  1.0000</td>\n",
       "</tr>\n",
       "<tr>\n",
       "  <th>Method:</th>                <td>IRLS</td>       <th>  Log-Likelihood:    </th> <td> -1611.3</td>\n",
       "</tr>\n",
       "<tr>\n",
       "  <th>Date:</th>            <td>Tue, 17 Sep 2024</td> <th>  Deviance:          </th> <td>  3222.6</td>\n",
       "</tr>\n",
       "<tr>\n",
       "  <th>Time:</th>                <td>12:17:23</td>     <th>  Pearson chi2:      </th> <td>1.05e+04</td>\n",
       "</tr>\n",
       "<tr>\n",
       "  <th>No. Iterations:</th>          <td>7</td>        <th>  Pseudo R-squ. (CS):</th>  <td>0.5644</td> \n",
       "</tr>\n",
       "<tr>\n",
       "  <th>Covariance Type:</th>     <td>nonrobust</td>    <th>                     </th>     <td> </td>   \n",
       "</tr>\n",
       "</table>\n",
       "<table class=\"simpletable\">\n",
       "<tr>\n",
       "                            <td></td>                              <th>coef</th>     <th>std err</th>      <th>z</th>      <th>P>|z|</th>  <th>[0.025</th>    <th>0.975]</th>  \n",
       "</tr>\n",
       "<tr>\n",
       "  <th>const</th>                                                <td>   -4.9773</td> <td>    0.229</td> <td>  -21.727</td> <td> 0.000</td> <td>   -5.426</td> <td>   -4.528</td>\n",
       "</tr>\n",
       "<tr>\n",
       "  <th>Total Time Spent on Website</th>                          <td>    1.1258</td> <td>    0.053</td> <td>   21.251</td> <td> 0.000</td> <td>    1.022</td> <td>    1.230</td>\n",
       "</tr>\n",
       "<tr>\n",
       "  <th>Lead Origin_Lead Add Form</th>                            <td>    1.8443</td> <td>    0.667</td> <td>    2.766</td> <td> 0.006</td> <td>    0.537</td> <td>    3.151</td>\n",
       "</tr>\n",
       "<tr>\n",
       "  <th>Lead Source_Olark Chat</th>                               <td>    1.2226</td> <td>    0.129</td> <td>    9.490</td> <td> 0.000</td> <td>    0.970</td> <td>    1.475</td>\n",
       "</tr>\n",
       "<tr>\n",
       "  <th>Lead Source_Reference</th>                                <td>    1.7236</td> <td>    0.709</td> <td>    2.430</td> <td> 0.015</td> <td>    0.333</td> <td>    3.114</td>\n",
       "</tr>\n",
       "<tr>\n",
       "  <th>Lead Source_Welingak Website</th>                         <td>    3.2326</td> <td>    0.980</td> <td>    3.299</td> <td> 0.001</td> <td>    1.312</td> <td>    5.153</td>\n",
       "</tr>\n",
       "<tr>\n",
       "  <th>Last Activity_Email Bounced</th>                          <td>   -1.2805</td> <td>    0.394</td> <td>   -3.248</td> <td> 0.001</td> <td>   -2.053</td> <td>   -0.508</td>\n",
       "</tr>\n",
       "<tr>\n",
       "  <th>Last Activity_Email Opened</th>                           <td>    1.3753</td> <td>    0.188</td> <td>    7.304</td> <td> 0.000</td> <td>    1.006</td> <td>    1.744</td>\n",
       "</tr>\n",
       "<tr>\n",
       "  <th>Last Activity_SMS Sent</th>                               <td>    1.6899</td> <td>    0.138</td> <td>   12.261</td> <td> 0.000</td> <td>    1.420</td> <td>    1.960</td>\n",
       "</tr>\n",
       "<tr>\n",
       "  <th>Specialization_Hospitality Management</th>                <td>   -0.8078</td> <td>    0.419</td> <td>   -1.930</td> <td> 0.054</td> <td>   -1.628</td> <td>    0.012</td>\n",
       "</tr>\n",
       "<tr>\n",
       "  <th>Specialization_International Business</th>                <td>   -0.7825</td> <td>    0.362</td> <td>   -2.165</td> <td> 0.030</td> <td>   -1.491</td> <td>   -0.074</td>\n",
       "</tr>\n",
       "<tr>\n",
       "  <th>Specialization_Travel and Tourism</th>                    <td>   -0.7375</td> <td>    0.339</td> <td>   -2.179</td> <td> 0.029</td> <td>   -1.401</td> <td>   -0.074</td>\n",
       "</tr>\n",
       "<tr>\n",
       "  <th>What is your current occupation_Other</th>                <td>   -1.2860</td> <td>    0.102</td> <td>  -12.551</td> <td> 0.000</td> <td>   -1.487</td> <td>   -1.085</td>\n",
       "</tr>\n",
       "<tr>\n",
       "  <th>What is your current occupation_Working Professional</th> <td>    1.3070</td> <td>    0.273</td> <td>    4.794</td> <td> 0.000</td> <td>    0.773</td> <td>    1.841</td>\n",
       "</tr>\n",
       "<tr>\n",
       "  <th>Tags_Others</th>                                          <td>    3.7872</td> <td>    0.193</td> <td>   19.591</td> <td> 0.000</td> <td>    3.408</td> <td>    4.166</td>\n",
       "</tr>\n",
       "<tr>\n",
       "  <th>Tags_Will revert after reading the email</th>             <td>    7.1058</td> <td>    0.251</td> <td>   28.320</td> <td> 0.000</td> <td>    6.614</td> <td>    7.598</td>\n",
       "</tr>\n",
       "<tr>\n",
       "  <th>Last Notable Activity_Email Opened</th>                   <td>   -0.9928</td> <td>    0.220</td> <td>   -4.516</td> <td> 0.000</td> <td>   -1.424</td> <td>   -0.562</td>\n",
       "</tr>\n",
       "<tr>\n",
       "  <th>Last Notable Activity_Modified</th>                       <td>   -0.9464</td> <td>    0.135</td> <td>   -6.987</td> <td> 0.000</td> <td>   -1.212</td> <td>   -0.681</td>\n",
       "</tr>\n",
       "<tr>\n",
       "  <th>Last Notable Activity_Others</th>                         <td>    0.6358</td> <td>    0.385</td> <td>    1.651</td> <td> 0.099</td> <td>   -0.119</td> <td>    1.391</td>\n",
       "</tr>\n",
       "</table>"
      ],
      "text/latex": [
       "\\begin{center}\n",
       "\\begin{tabular}{lclc}\n",
       "\\toprule\n",
       "\\textbf{Dep. Variable:}                                        &    Converted     & \\textbf{  No. Observations:  } &     6468    \\\\\n",
       "\\textbf{Model:}                                                &       GLM        & \\textbf{  Df Residuals:      } &     6449    \\\\\n",
       "\\textbf{Model Family:}                                         &     Binomial     & \\textbf{  Df Model:          } &       18    \\\\\n",
       "\\textbf{Link Function:}                                        &      Logit       & \\textbf{  Scale:             } &    1.0000   \\\\\n",
       "\\textbf{Method:}                                               &       IRLS       & \\textbf{  Log-Likelihood:    } &   -1611.3   \\\\\n",
       "\\textbf{Date:}                                                 & Tue, 17 Sep 2024 & \\textbf{  Deviance:          } &    3222.6   \\\\\n",
       "\\textbf{Time:}                                                 &     12:17:23     & \\textbf{  Pearson chi2:      } &  1.05e+04   \\\\\n",
       "\\textbf{No. Iterations:}                                       &        7         & \\textbf{  Pseudo R-squ. (CS):} &   0.5644    \\\\\n",
       "\\textbf{Covariance Type:}                                      &    nonrobust     & \\textbf{                     } &             \\\\\n",
       "\\bottomrule\n",
       "\\end{tabular}\n",
       "\\begin{tabular}{lcccccc}\n",
       "                                                               & \\textbf{coef} & \\textbf{std err} & \\textbf{z} & \\textbf{P$> |$z$|$} & \\textbf{[0.025} & \\textbf{0.975]}  \\\\\n",
       "\\midrule\n",
       "\\textbf{const}                                                 &      -4.9773  &        0.229     &   -21.727  &         0.000        &       -5.426    &       -4.528     \\\\\n",
       "\\textbf{Total Time Spent on Website}                           &       1.1258  &        0.053     &    21.251  &         0.000        &        1.022    &        1.230     \\\\\n",
       "\\textbf{Lead Origin\\_Lead Add Form}                            &       1.8443  &        0.667     &     2.766  &         0.006        &        0.537    &        3.151     \\\\\n",
       "\\textbf{Lead Source\\_Olark Chat}                               &       1.2226  &        0.129     &     9.490  &         0.000        &        0.970    &        1.475     \\\\\n",
       "\\textbf{Lead Source\\_Reference}                                &       1.7236  &        0.709     &     2.430  &         0.015        &        0.333    &        3.114     \\\\\n",
       "\\textbf{Lead Source\\_Welingak Website}                         &       3.2326  &        0.980     &     3.299  &         0.001        &        1.312    &        5.153     \\\\\n",
       "\\textbf{Last Activity\\_Email Bounced}                          &      -1.2805  &        0.394     &    -3.248  &         0.001        &       -2.053    &       -0.508     \\\\\n",
       "\\textbf{Last Activity\\_Email Opened}                           &       1.3753  &        0.188     &     7.304  &         0.000        &        1.006    &        1.744     \\\\\n",
       "\\textbf{Last Activity\\_SMS Sent}                               &       1.6899  &        0.138     &    12.261  &         0.000        &        1.420    &        1.960     \\\\\n",
       "\\textbf{Specialization\\_Hospitality Management}                &      -0.8078  &        0.419     &    -1.930  &         0.054        &       -1.628    &        0.012     \\\\\n",
       "\\textbf{Specialization\\_International Business}                &      -0.7825  &        0.362     &    -2.165  &         0.030        &       -1.491    &       -0.074     \\\\\n",
       "\\textbf{Specialization\\_Travel and Tourism}                    &      -0.7375  &        0.339     &    -2.179  &         0.029        &       -1.401    &       -0.074     \\\\\n",
       "\\textbf{What is your current occupation\\_Other}                &      -1.2860  &        0.102     &   -12.551  &         0.000        &       -1.487    &       -1.085     \\\\\n",
       "\\textbf{What is your current occupation\\_Working Professional} &       1.3070  &        0.273     &     4.794  &         0.000        &        0.773    &        1.841     \\\\\n",
       "\\textbf{Tags\\_Others}                                          &       3.7872  &        0.193     &    19.591  &         0.000        &        3.408    &        4.166     \\\\\n",
       "\\textbf{Tags\\_Will revert after reading the email}             &       7.1058  &        0.251     &    28.320  &         0.000        &        6.614    &        7.598     \\\\\n",
       "\\textbf{Last Notable Activity\\_Email Opened}                   &      -0.9928  &        0.220     &    -4.516  &         0.000        &       -1.424    &       -0.562     \\\\\n",
       "\\textbf{Last Notable Activity\\_Modified}                       &      -0.9464  &        0.135     &    -6.987  &         0.000        &       -1.212    &       -0.681     \\\\\n",
       "\\textbf{Last Notable Activity\\_Others}                         &       0.6358  &        0.385     &     1.651  &         0.099        &       -0.119    &        1.391     \\\\\n",
       "\\bottomrule\n",
       "\\end{tabular}\n",
       "%\\caption{Generalized Linear Model Regression Results}\n",
       "\\end{center}"
      ],
      "text/plain": [
       "<class 'statsmodels.iolib.summary.Summary'>\n",
       "\"\"\"\n",
       "                 Generalized Linear Model Regression Results                  \n",
       "==============================================================================\n",
       "Dep. Variable:              Converted   No. Observations:                 6468\n",
       "Model:                            GLM   Df Residuals:                     6449\n",
       "Model Family:                Binomial   Df Model:                           18\n",
       "Link Function:                  Logit   Scale:                          1.0000\n",
       "Method:                          IRLS   Log-Likelihood:                -1611.3\n",
       "Date:                Tue, 17 Sep 2024   Deviance:                       3222.6\n",
       "Time:                        12:17:23   Pearson chi2:                 1.05e+04\n",
       "No. Iterations:                     7   Pseudo R-squ. (CS):             0.5644\n",
       "Covariance Type:            nonrobust                                         \n",
       "========================================================================================================================\n",
       "                                                           coef    std err          z      P>|z|      [0.025      0.975]\n",
       "------------------------------------------------------------------------------------------------------------------------\n",
       "const                                                   -4.9773      0.229    -21.727      0.000      -5.426      -4.528\n",
       "Total Time Spent on Website                              1.1258      0.053     21.251      0.000       1.022       1.230\n",
       "Lead Origin_Lead Add Form                                1.8443      0.667      2.766      0.006       0.537       3.151\n",
       "Lead Source_Olark Chat                                   1.2226      0.129      9.490      0.000       0.970       1.475\n",
       "Lead Source_Reference                                    1.7236      0.709      2.430      0.015       0.333       3.114\n",
       "Lead Source_Welingak Website                             3.2326      0.980      3.299      0.001       1.312       5.153\n",
       "Last Activity_Email Bounced                             -1.2805      0.394     -3.248      0.001      -2.053      -0.508\n",
       "Last Activity_Email Opened                               1.3753      0.188      7.304      0.000       1.006       1.744\n",
       "Last Activity_SMS Sent                                   1.6899      0.138     12.261      0.000       1.420       1.960\n",
       "Specialization_Hospitality Management                   -0.8078      0.419     -1.930      0.054      -1.628       0.012\n",
       "Specialization_International Business                   -0.7825      0.362     -2.165      0.030      -1.491      -0.074\n",
       "Specialization_Travel and Tourism                       -0.7375      0.339     -2.179      0.029      -1.401      -0.074\n",
       "What is your current occupation_Other                   -1.2860      0.102    -12.551      0.000      -1.487      -1.085\n",
       "What is your current occupation_Working Professional     1.3070      0.273      4.794      0.000       0.773       1.841\n",
       "Tags_Others                                              3.7872      0.193     19.591      0.000       3.408       4.166\n",
       "Tags_Will revert after reading the email                 7.1058      0.251     28.320      0.000       6.614       7.598\n",
       "Last Notable Activity_Email Opened                      -0.9928      0.220     -4.516      0.000      -1.424      -0.562\n",
       "Last Notable Activity_Modified                          -0.9464      0.135     -6.987      0.000      -1.212      -0.681\n",
       "Last Notable Activity_Others                             0.6358      0.385      1.651      0.099      -0.119       1.391\n",
       "========================================================================================================================\n",
       "\"\"\""
      ]
     },
     "execution_count": 78,
     "metadata": {},
     "output_type": "execute_result"
    }
   ],
   "source": [
    "#Dropping 'Tags_Ringing' because of high p-Value and rebuilding model\n",
    "col = col.drop('Tags_Ringing', 1)\n",
    "\n",
    "X_train_4 = sm.add_constant(X_train[col])\n",
    "log_m4 = sm.GLM(y_train,X_train_4.astype(float),family=sm.families.Binomial())\n",
    "log_model_4 = log_m4.fit()\n",
    "log_model_4.summary()"
   ]
  },
  {
   "cell_type": "code",
   "execution_count": 79,
   "id": "c0b692a9-f939-4fc1-8412-dfb24b127a93",
   "metadata": {},
   "outputs": [
    {
     "data": {
      "text/html": [
       "<table class=\"simpletable\">\n",
       "<caption>Generalized Linear Model Regression Results</caption>\n",
       "<tr>\n",
       "  <th>Dep. Variable:</th>       <td>Converted</td>    <th>  No. Observations:  </th>  <td>  6468</td> \n",
       "</tr>\n",
       "<tr>\n",
       "  <th>Model:</th>                  <td>GLM</td>       <th>  Df Residuals:      </th>  <td>  6450</td> \n",
       "</tr>\n",
       "<tr>\n",
       "  <th>Model Family:</th>        <td>Binomial</td>     <th>  Df Model:          </th>  <td>    17</td> \n",
       "</tr>\n",
       "<tr>\n",
       "  <th>Link Function:</th>         <td>Logit</td>      <th>  Scale:             </th> <td>  1.0000</td>\n",
       "</tr>\n",
       "<tr>\n",
       "  <th>Method:</th>                <td>IRLS</td>       <th>  Log-Likelihood:    </th> <td> -1613.3</td>\n",
       "</tr>\n",
       "<tr>\n",
       "  <th>Date:</th>            <td>Tue, 17 Sep 2024</td> <th>  Deviance:          </th> <td>  3226.5</td>\n",
       "</tr>\n",
       "<tr>\n",
       "  <th>Time:</th>                <td>12:17:27</td>     <th>  Pearson chi2:      </th> <td>1.04e+04</td>\n",
       "</tr>\n",
       "<tr>\n",
       "  <th>No. Iterations:</th>          <td>7</td>        <th>  Pseudo R-squ. (CS):</th>  <td>0.5642</td> \n",
       "</tr>\n",
       "<tr>\n",
       "  <th>Covariance Type:</th>     <td>nonrobust</td>    <th>                     </th>     <td> </td>   \n",
       "</tr>\n",
       "</table>\n",
       "<table class=\"simpletable\">\n",
       "<tr>\n",
       "                            <td></td>                              <th>coef</th>     <th>std err</th>      <th>z</th>      <th>P>|z|</th>  <th>[0.025</th>    <th>0.975]</th>  \n",
       "</tr>\n",
       "<tr>\n",
       "  <th>const</th>                                                <td>   -4.9912</td> <td>    0.229</td> <td>  -21.790</td> <td> 0.000</td> <td>   -5.440</td> <td>   -4.542</td>\n",
       "</tr>\n",
       "<tr>\n",
       "  <th>Total Time Spent on Website</th>                          <td>    1.1216</td> <td>    0.053</td> <td>   21.226</td> <td> 0.000</td> <td>    1.018</td> <td>    1.225</td>\n",
       "</tr>\n",
       "<tr>\n",
       "  <th>Lead Origin_Lead Add Form</th>                            <td>    1.8592</td> <td>    0.667</td> <td>    2.785</td> <td> 0.005</td> <td>    0.551</td> <td>    3.167</td>\n",
       "</tr>\n",
       "<tr>\n",
       "  <th>Lead Source_Olark Chat</th>                               <td>    1.2293</td> <td>    0.129</td> <td>    9.546</td> <td> 0.000</td> <td>    0.977</td> <td>    1.482</td>\n",
       "</tr>\n",
       "<tr>\n",
       "  <th>Lead Source_Reference</th>                                <td>    1.6739</td> <td>    0.709</td> <td>    2.360</td> <td> 0.018</td> <td>    0.284</td> <td>    3.064</td>\n",
       "</tr>\n",
       "<tr>\n",
       "  <th>Lead Source_Welingak Website</th>                         <td>    3.2248</td> <td>    0.980</td> <td>    3.289</td> <td> 0.001</td> <td>    1.303</td> <td>    5.146</td>\n",
       "</tr>\n",
       "<tr>\n",
       "  <th>Last Activity_Email Bounced</th>                          <td>   -1.3130</td> <td>    0.394</td> <td>   -3.334</td> <td> 0.001</td> <td>   -2.085</td> <td>   -0.541</td>\n",
       "</tr>\n",
       "<tr>\n",
       "  <th>Last Activity_Email Opened</th>                           <td>    1.3715</td> <td>    0.188</td> <td>    7.281</td> <td> 0.000</td> <td>    1.002</td> <td>    1.741</td>\n",
       "</tr>\n",
       "<tr>\n",
       "  <th>Last Activity_SMS Sent</th>                               <td>    1.6865</td> <td>    0.138</td> <td>   12.252</td> <td> 0.000</td> <td>    1.417</td> <td>    1.956</td>\n",
       "</tr>\n",
       "<tr>\n",
       "  <th>Specialization_International Business</th>                <td>   -0.7681</td> <td>    0.361</td> <td>   -2.128</td> <td> 0.033</td> <td>   -1.476</td> <td>   -0.061</td>\n",
       "</tr>\n",
       "<tr>\n",
       "  <th>Specialization_Travel and Tourism</th>                    <td>   -0.7245</td> <td>    0.338</td> <td>   -2.142</td> <td> 0.032</td> <td>   -1.387</td> <td>   -0.062</td>\n",
       "</tr>\n",
       "<tr>\n",
       "  <th>What is your current occupation_Other</th>                <td>   -1.2879</td> <td>    0.102</td> <td>  -12.574</td> <td> 0.000</td> <td>   -1.489</td> <td>   -1.087</td>\n",
       "</tr>\n",
       "<tr>\n",
       "  <th>What is your current occupation_Working Professional</th> <td>    1.3096</td> <td>    0.272</td> <td>    4.819</td> <td> 0.000</td> <td>    0.777</td> <td>    1.842</td>\n",
       "</tr>\n",
       "<tr>\n",
       "  <th>Tags_Others</th>                                          <td>    3.7960</td> <td>    0.193</td> <td>   19.626</td> <td> 0.000</td> <td>    3.417</td> <td>    4.175</td>\n",
       "</tr>\n",
       "<tr>\n",
       "  <th>Tags_Will revert after reading the email</th>             <td>    7.1067</td> <td>    0.251</td> <td>   28.351</td> <td> 0.000</td> <td>    6.615</td> <td>    7.598</td>\n",
       "</tr>\n",
       "<tr>\n",
       "  <th>Last Notable Activity_Email Opened</th>                   <td>   -0.9917</td> <td>    0.220</td> <td>   -4.511</td> <td> 0.000</td> <td>   -1.423</td> <td>   -0.561</td>\n",
       "</tr>\n",
       "<tr>\n",
       "  <th>Last Notable Activity_Modified</th>                       <td>   -0.9493</td> <td>    0.135</td> <td>   -7.016</td> <td> 0.000</td> <td>   -1.215</td> <td>   -0.684</td>\n",
       "</tr>\n",
       "<tr>\n",
       "  <th>Last Notable Activity_Others</th>                         <td>    0.6349</td> <td>    0.386</td> <td>    1.645</td> <td> 0.100</td> <td>   -0.122</td> <td>    1.391</td>\n",
       "</tr>\n",
       "</table>"
      ],
      "text/latex": [
       "\\begin{center}\n",
       "\\begin{tabular}{lclc}\n",
       "\\toprule\n",
       "\\textbf{Dep. Variable:}                                        &    Converted     & \\textbf{  No. Observations:  } &     6468    \\\\\n",
       "\\textbf{Model:}                                                &       GLM        & \\textbf{  Df Residuals:      } &     6450    \\\\\n",
       "\\textbf{Model Family:}                                         &     Binomial     & \\textbf{  Df Model:          } &       17    \\\\\n",
       "\\textbf{Link Function:}                                        &      Logit       & \\textbf{  Scale:             } &    1.0000   \\\\\n",
       "\\textbf{Method:}                                               &       IRLS       & \\textbf{  Log-Likelihood:    } &   -1613.3   \\\\\n",
       "\\textbf{Date:}                                                 & Tue, 17 Sep 2024 & \\textbf{  Deviance:          } &    3226.5   \\\\\n",
       "\\textbf{Time:}                                                 &     12:17:27     & \\textbf{  Pearson chi2:      } &  1.04e+04   \\\\\n",
       "\\textbf{No. Iterations:}                                       &        7         & \\textbf{  Pseudo R-squ. (CS):} &   0.5642    \\\\\n",
       "\\textbf{Covariance Type:}                                      &    nonrobust     & \\textbf{                     } &             \\\\\n",
       "\\bottomrule\n",
       "\\end{tabular}\n",
       "\\begin{tabular}{lcccccc}\n",
       "                                                               & \\textbf{coef} & \\textbf{std err} & \\textbf{z} & \\textbf{P$> |$z$|$} & \\textbf{[0.025} & \\textbf{0.975]}  \\\\\n",
       "\\midrule\n",
       "\\textbf{const}                                                 &      -4.9912  &        0.229     &   -21.790  &         0.000        &       -5.440    &       -4.542     \\\\\n",
       "\\textbf{Total Time Spent on Website}                           &       1.1216  &        0.053     &    21.226  &         0.000        &        1.018    &        1.225     \\\\\n",
       "\\textbf{Lead Origin\\_Lead Add Form}                            &       1.8592  &        0.667     &     2.785  &         0.005        &        0.551    &        3.167     \\\\\n",
       "\\textbf{Lead Source\\_Olark Chat}                               &       1.2293  &        0.129     &     9.546  &         0.000        &        0.977    &        1.482     \\\\\n",
       "\\textbf{Lead Source\\_Reference}                                &       1.6739  &        0.709     &     2.360  &         0.018        &        0.284    &        3.064     \\\\\n",
       "\\textbf{Lead Source\\_Welingak Website}                         &       3.2248  &        0.980     &     3.289  &         0.001        &        1.303    &        5.146     \\\\\n",
       "\\textbf{Last Activity\\_Email Bounced}                          &      -1.3130  &        0.394     &    -3.334  &         0.001        &       -2.085    &       -0.541     \\\\\n",
       "\\textbf{Last Activity\\_Email Opened}                           &       1.3715  &        0.188     &     7.281  &         0.000        &        1.002    &        1.741     \\\\\n",
       "\\textbf{Last Activity\\_SMS Sent}                               &       1.6865  &        0.138     &    12.252  &         0.000        &        1.417    &        1.956     \\\\\n",
       "\\textbf{Specialization\\_International Business}                &      -0.7681  &        0.361     &    -2.128  &         0.033        &       -1.476    &       -0.061     \\\\\n",
       "\\textbf{Specialization\\_Travel and Tourism}                    &      -0.7245  &        0.338     &    -2.142  &         0.032        &       -1.387    &       -0.062     \\\\\n",
       "\\textbf{What is your current occupation\\_Other}                &      -1.2879  &        0.102     &   -12.574  &         0.000        &       -1.489    &       -1.087     \\\\\n",
       "\\textbf{What is your current occupation\\_Working Professional} &       1.3096  &        0.272     &     4.819  &         0.000        &        0.777    &        1.842     \\\\\n",
       "\\textbf{Tags\\_Others}                                          &       3.7960  &        0.193     &    19.626  &         0.000        &        3.417    &        4.175     \\\\\n",
       "\\textbf{Tags\\_Will revert after reading the email}             &       7.1067  &        0.251     &    28.351  &         0.000        &        6.615    &        7.598     \\\\\n",
       "\\textbf{Last Notable Activity\\_Email Opened}                   &      -0.9917  &        0.220     &    -4.511  &         0.000        &       -1.423    &       -0.561     \\\\\n",
       "\\textbf{Last Notable Activity\\_Modified}                       &      -0.9493  &        0.135     &    -7.016  &         0.000        &       -1.215    &       -0.684     \\\\\n",
       "\\textbf{Last Notable Activity\\_Others}                         &       0.6349  &        0.386     &     1.645  &         0.100        &       -0.122    &        1.391     \\\\\n",
       "\\bottomrule\n",
       "\\end{tabular}\n",
       "%\\caption{Generalized Linear Model Regression Results}\n",
       "\\end{center}"
      ],
      "text/plain": [
       "<class 'statsmodels.iolib.summary.Summary'>\n",
       "\"\"\"\n",
       "                 Generalized Linear Model Regression Results                  \n",
       "==============================================================================\n",
       "Dep. Variable:              Converted   No. Observations:                 6468\n",
       "Model:                            GLM   Df Residuals:                     6450\n",
       "Model Family:                Binomial   Df Model:                           17\n",
       "Link Function:                  Logit   Scale:                          1.0000\n",
       "Method:                          IRLS   Log-Likelihood:                -1613.3\n",
       "Date:                Tue, 17 Sep 2024   Deviance:                       3226.5\n",
       "Time:                        12:17:27   Pearson chi2:                 1.04e+04\n",
       "No. Iterations:                     7   Pseudo R-squ. (CS):             0.5642\n",
       "Covariance Type:            nonrobust                                         \n",
       "========================================================================================================================\n",
       "                                                           coef    std err          z      P>|z|      [0.025      0.975]\n",
       "------------------------------------------------------------------------------------------------------------------------\n",
       "const                                                   -4.9912      0.229    -21.790      0.000      -5.440      -4.542\n",
       "Total Time Spent on Website                              1.1216      0.053     21.226      0.000       1.018       1.225\n",
       "Lead Origin_Lead Add Form                                1.8592      0.667      2.785      0.005       0.551       3.167\n",
       "Lead Source_Olark Chat                                   1.2293      0.129      9.546      0.000       0.977       1.482\n",
       "Lead Source_Reference                                    1.6739      0.709      2.360      0.018       0.284       3.064\n",
       "Lead Source_Welingak Website                             3.2248      0.980      3.289      0.001       1.303       5.146\n",
       "Last Activity_Email Bounced                             -1.3130      0.394     -3.334      0.001      -2.085      -0.541\n",
       "Last Activity_Email Opened                               1.3715      0.188      7.281      0.000       1.002       1.741\n",
       "Last Activity_SMS Sent                                   1.6865      0.138     12.252      0.000       1.417       1.956\n",
       "Specialization_International Business                   -0.7681      0.361     -2.128      0.033      -1.476      -0.061\n",
       "Specialization_Travel and Tourism                       -0.7245      0.338     -2.142      0.032      -1.387      -0.062\n",
       "What is your current occupation_Other                   -1.2879      0.102    -12.574      0.000      -1.489      -1.087\n",
       "What is your current occupation_Working Professional     1.3096      0.272      4.819      0.000       0.777       1.842\n",
       "Tags_Others                                              3.7960      0.193     19.626      0.000       3.417       4.175\n",
       "Tags_Will revert after reading the email                 7.1067      0.251     28.351      0.000       6.615       7.598\n",
       "Last Notable Activity_Email Opened                      -0.9917      0.220     -4.511      0.000      -1.423      -0.561\n",
       "Last Notable Activity_Modified                          -0.9493      0.135     -7.016      0.000      -1.215      -0.684\n",
       "Last Notable Activity_Others                             0.6349      0.386      1.645      0.100      -0.122       1.391\n",
       "========================================================================================================================\n",
       "\"\"\""
      ]
     },
     "execution_count": 79,
     "metadata": {},
     "output_type": "execute_result"
    }
   ],
   "source": [
    "#Dropping 'Specialization_Hospitality Management' because of high p-Value and rebuilding model\n",
    "col = col.drop('Specialization_Hospitality Management', 1)\n",
    "\n",
    "X_train_5 = sm.add_constant(X_train[col])\n",
    "log_m5 = sm.GLM(y_train,X_train_5.astype(float),family=sm.families.Binomial())\n",
    "log_model_5 = log_m5.fit()\n",
    "log_model_5.summary()"
   ]
  },
  {
   "cell_type": "markdown",
   "id": "e04ea846-ddc4-4c3a-a415-eb8154c41446",
   "metadata": {},
   "source": [
    "**Checking VIF**"
   ]
  },
  {
   "cell_type": "code",
   "execution_count": 80,
   "id": "abcab683-0970-454e-8600-5e75cb08cbbf",
   "metadata": {},
   "outputs": [
    {
     "name": "stdout",
     "output_type": "stream",
     "text": [
      "                                             Features    VIF\n",
      "1                           Lead Origin_Lead Add Form  15.97\n",
      "3                               Lead Source_Reference  12.95\n",
      "14                 Last Notable Activity_Email Opened   7.38\n",
      "6                          Last Activity_Email Opened   7.22\n",
      "12                                        Tags_Others   3.91\n",
      "4                        Lead Source_Welingak Website   3.81\n",
      "10              What is your current occupation_Other   2.31\n",
      "13           Tags_Will revert after reading the email   2.27\n",
      "15                     Last Notable Activity_Modified   2.06\n",
      "7                              Last Activity_SMS Sent   1.76\n",
      "2                              Lead Source_Olark Chat   1.53\n",
      "0                         Total Time Spent on Website   1.34\n",
      "11  What is your current occupation_Working Profes...   1.33\n",
      "5                         Last Activity_Email Bounced   1.19\n",
      "16                       Last Notable Activity_Others   1.12\n",
      "9                   Specialization_Travel and Tourism   1.03\n",
      "8               Specialization_International Business   1.02\n"
     ]
    }
   ],
   "source": [
    "# Create a dataframe that will contain the names of all the feature variables and their respective VIFs\n",
    "vif = pd.DataFrame()\n",
    "vif['Features'] = X_train[col].columns\n",
    "vif['VIF'] = [variance_inflation_factor(X_train[col].astype(float), i) for i in range(X_train[col].shape[1])]\n",
    "vif['VIF'] = round(vif['VIF'], 2)\n",
    "vif = vif.sort_values(by = \"VIF\", ascending = False)\n",
    "vif\n",
    "#vif = [variance_inflation_factor(ck, i) for i in range(ck.shape[1])]\n",
    "print(vif)"
   ]
  },
  {
   "cell_type": "code",
   "execution_count": 81,
   "id": "50897001-ea09-4b13-9e17-9c32940bedcc",
   "metadata": {},
   "outputs": [
    {
     "data": {
      "text/html": [
       "<table class=\"simpletable\">\n",
       "<caption>Generalized Linear Model Regression Results</caption>\n",
       "<tr>\n",
       "  <th>Dep. Variable:</th>       <td>Converted</td>    <th>  No. Observations:  </th>  <td>  6468</td> \n",
       "</tr>\n",
       "<tr>\n",
       "  <th>Model:</th>                  <td>GLM</td>       <th>  Df Residuals:      </th>  <td>  6451</td> \n",
       "</tr>\n",
       "<tr>\n",
       "  <th>Model Family:</th>        <td>Binomial</td>     <th>  Df Model:          </th>  <td>    16</td> \n",
       "</tr>\n",
       "<tr>\n",
       "  <th>Link Function:</th>         <td>Logit</td>      <th>  Scale:             </th> <td>  1.0000</td>\n",
       "</tr>\n",
       "<tr>\n",
       "  <th>Method:</th>                <td>IRLS</td>       <th>  Log-Likelihood:    </th> <td> -1615.8</td>\n",
       "</tr>\n",
       "<tr>\n",
       "  <th>Date:</th>            <td>Tue, 17 Sep 2024</td> <th>  Deviance:          </th> <td>  3231.5</td>\n",
       "</tr>\n",
       "<tr>\n",
       "  <th>Time:</th>                <td>12:17:30</td>     <th>  Pearson chi2:      </th> <td>1.00e+04</td>\n",
       "</tr>\n",
       "<tr>\n",
       "  <th>No. Iterations:</th>          <td>7</td>        <th>  Pseudo R-squ. (CS):</th>  <td>0.5638</td> \n",
       "</tr>\n",
       "<tr>\n",
       "  <th>Covariance Type:</th>     <td>nonrobust</td>    <th>                     </th>     <td> </td>   \n",
       "</tr>\n",
       "</table>\n",
       "<table class=\"simpletable\">\n",
       "<tr>\n",
       "                            <td></td>                              <th>coef</th>     <th>std err</th>      <th>z</th>      <th>P>|z|</th>  <th>[0.025</th>    <th>0.975]</th>  \n",
       "</tr>\n",
       "<tr>\n",
       "  <th>const</th>                                                <td>   -4.9706</td> <td>    0.228</td> <td>  -21.801</td> <td> 0.000</td> <td>   -5.417</td> <td>   -4.524</td>\n",
       "</tr>\n",
       "<tr>\n",
       "  <th>Total Time Spent on Website</th>                          <td>    1.1196</td> <td>    0.053</td> <td>   21.211</td> <td> 0.000</td> <td>    1.016</td> <td>    1.223</td>\n",
       "</tr>\n",
       "<tr>\n",
       "  <th>Lead Origin_Lead Add Form</th>                            <td>    3.3623</td> <td>    0.248</td> <td>   13.569</td> <td> 0.000</td> <td>    2.877</td> <td>    3.848</td>\n",
       "</tr>\n",
       "<tr>\n",
       "  <th>Lead Source_Olark Chat</th>                               <td>    1.2240</td> <td>    0.129</td> <td>    9.503</td> <td> 0.000</td> <td>    0.972</td> <td>    1.476</td>\n",
       "</tr>\n",
       "<tr>\n",
       "  <th>Lead Source_Welingak Website</th>                         <td>    1.7237</td> <td>    0.760</td> <td>    2.269</td> <td> 0.023</td> <td>    0.235</td> <td>    3.212</td>\n",
       "</tr>\n",
       "<tr>\n",
       "  <th>Last Activity_Email Bounced</th>                          <td>   -1.4146</td> <td>    0.395</td> <td>   -3.580</td> <td> 0.000</td> <td>   -2.189</td> <td>   -0.640</td>\n",
       "</tr>\n",
       "<tr>\n",
       "  <th>Last Activity_Email Opened</th>                           <td>    1.3721</td> <td>    0.188</td> <td>    7.303</td> <td> 0.000</td> <td>    1.004</td> <td>    1.740</td>\n",
       "</tr>\n",
       "<tr>\n",
       "  <th>Last Activity_SMS Sent</th>                               <td>    1.6774</td> <td>    0.137</td> <td>   12.210</td> <td> 0.000</td> <td>    1.408</td> <td>    1.947</td>\n",
       "</tr>\n",
       "<tr>\n",
       "  <th>Specialization_International Business</th>                <td>   -0.7588</td> <td>    0.360</td> <td>   -2.110</td> <td> 0.035</td> <td>   -1.464</td> <td>   -0.054</td>\n",
       "</tr>\n",
       "<tr>\n",
       "  <th>Specialization_Travel and Tourism</th>                    <td>   -0.7224</td> <td>    0.338</td> <td>   -2.136</td> <td> 0.033</td> <td>   -1.385</td> <td>   -0.059</td>\n",
       "</tr>\n",
       "<tr>\n",
       "  <th>What is your current occupation_Other</th>                <td>   -1.2857</td> <td>    0.102</td> <td>  -12.557</td> <td> 0.000</td> <td>   -1.486</td> <td>   -1.085</td>\n",
       "</tr>\n",
       "<tr>\n",
       "  <th>What is your current occupation_Working Professional</th> <td>    1.3419</td> <td>    0.271</td> <td>    4.958</td> <td> 0.000</td> <td>    0.811</td> <td>    1.872</td>\n",
       "</tr>\n",
       "<tr>\n",
       "  <th>Tags_Others</th>                                          <td>    3.7815</td> <td>    0.193</td> <td>   19.637</td> <td> 0.000</td> <td>    3.404</td> <td>    4.159</td>\n",
       "</tr>\n",
       "<tr>\n",
       "  <th>Tags_Will revert after reading the email</th>             <td>    7.0868</td> <td>    0.250</td> <td>   28.361</td> <td> 0.000</td> <td>    6.597</td> <td>    7.577</td>\n",
       "</tr>\n",
       "<tr>\n",
       "  <th>Last Notable Activity_Email Opened</th>                   <td>   -0.9973</td> <td>    0.219</td> <td>   -4.544</td> <td> 0.000</td> <td>   -1.427</td> <td>   -0.567</td>\n",
       "</tr>\n",
       "<tr>\n",
       "  <th>Last Notable Activity_Modified</th>                       <td>   -0.9529</td> <td>    0.135</td> <td>   -7.046</td> <td> 0.000</td> <td>   -1.218</td> <td>   -0.688</td>\n",
       "</tr>\n",
       "<tr>\n",
       "  <th>Last Notable Activity_Others</th>                         <td>    0.6596</td> <td>    0.387</td> <td>    1.704</td> <td> 0.088</td> <td>   -0.099</td> <td>    1.418</td>\n",
       "</tr>\n",
       "</table>"
      ],
      "text/latex": [
       "\\begin{center}\n",
       "\\begin{tabular}{lclc}\n",
       "\\toprule\n",
       "\\textbf{Dep. Variable:}                                        &    Converted     & \\textbf{  No. Observations:  } &     6468    \\\\\n",
       "\\textbf{Model:}                                                &       GLM        & \\textbf{  Df Residuals:      } &     6451    \\\\\n",
       "\\textbf{Model Family:}                                         &     Binomial     & \\textbf{  Df Model:          } &       16    \\\\\n",
       "\\textbf{Link Function:}                                        &      Logit       & \\textbf{  Scale:             } &    1.0000   \\\\\n",
       "\\textbf{Method:}                                               &       IRLS       & \\textbf{  Log-Likelihood:    } &   -1615.8   \\\\\n",
       "\\textbf{Date:}                                                 & Tue, 17 Sep 2024 & \\textbf{  Deviance:          } &    3231.5   \\\\\n",
       "\\textbf{Time:}                                                 &     12:17:30     & \\textbf{  Pearson chi2:      } &  1.00e+04   \\\\\n",
       "\\textbf{No. Iterations:}                                       &        7         & \\textbf{  Pseudo R-squ. (CS):} &   0.5638    \\\\\n",
       "\\textbf{Covariance Type:}                                      &    nonrobust     & \\textbf{                     } &             \\\\\n",
       "\\bottomrule\n",
       "\\end{tabular}\n",
       "\\begin{tabular}{lcccccc}\n",
       "                                                               & \\textbf{coef} & \\textbf{std err} & \\textbf{z} & \\textbf{P$> |$z$|$} & \\textbf{[0.025} & \\textbf{0.975]}  \\\\\n",
       "\\midrule\n",
       "\\textbf{const}                                                 &      -4.9706  &        0.228     &   -21.801  &         0.000        &       -5.417    &       -4.524     \\\\\n",
       "\\textbf{Total Time Spent on Website}                           &       1.1196  &        0.053     &    21.211  &         0.000        &        1.016    &        1.223     \\\\\n",
       "\\textbf{Lead Origin\\_Lead Add Form}                            &       3.3623  &        0.248     &    13.569  &         0.000        &        2.877    &        3.848     \\\\\n",
       "\\textbf{Lead Source\\_Olark Chat}                               &       1.2240  &        0.129     &     9.503  &         0.000        &        0.972    &        1.476     \\\\\n",
       "\\textbf{Lead Source\\_Welingak Website}                         &       1.7237  &        0.760     &     2.269  &         0.023        &        0.235    &        3.212     \\\\\n",
       "\\textbf{Last Activity\\_Email Bounced}                          &      -1.4146  &        0.395     &    -3.580  &         0.000        &       -2.189    &       -0.640     \\\\\n",
       "\\textbf{Last Activity\\_Email Opened}                           &       1.3721  &        0.188     &     7.303  &         0.000        &        1.004    &        1.740     \\\\\n",
       "\\textbf{Last Activity\\_SMS Sent}                               &       1.6774  &        0.137     &    12.210  &         0.000        &        1.408    &        1.947     \\\\\n",
       "\\textbf{Specialization\\_International Business}                &      -0.7588  &        0.360     &    -2.110  &         0.035        &       -1.464    &       -0.054     \\\\\n",
       "\\textbf{Specialization\\_Travel and Tourism}                    &      -0.7224  &        0.338     &    -2.136  &         0.033        &       -1.385    &       -0.059     \\\\\n",
       "\\textbf{What is your current occupation\\_Other}                &      -1.2857  &        0.102     &   -12.557  &         0.000        &       -1.486    &       -1.085     \\\\\n",
       "\\textbf{What is your current occupation\\_Working Professional} &       1.3419  &        0.271     &     4.958  &         0.000        &        0.811    &        1.872     \\\\\n",
       "\\textbf{Tags\\_Others}                                          &       3.7815  &        0.193     &    19.637  &         0.000        &        3.404    &        4.159     \\\\\n",
       "\\textbf{Tags\\_Will revert after reading the email}             &       7.0868  &        0.250     &    28.361  &         0.000        &        6.597    &        7.577     \\\\\n",
       "\\textbf{Last Notable Activity\\_Email Opened}                   &      -0.9973  &        0.219     &    -4.544  &         0.000        &       -1.427    &       -0.567     \\\\\n",
       "\\textbf{Last Notable Activity\\_Modified}                       &      -0.9529  &        0.135     &    -7.046  &         0.000        &       -1.218    &       -0.688     \\\\\n",
       "\\textbf{Last Notable Activity\\_Others}                         &       0.6596  &        0.387     &     1.704  &         0.088        &       -0.099    &        1.418     \\\\\n",
       "\\bottomrule\n",
       "\\end{tabular}\n",
       "%\\caption{Generalized Linear Model Regression Results}\n",
       "\\end{center}"
      ],
      "text/plain": [
       "<class 'statsmodels.iolib.summary.Summary'>\n",
       "\"\"\"\n",
       "                 Generalized Linear Model Regression Results                  \n",
       "==============================================================================\n",
       "Dep. Variable:              Converted   No. Observations:                 6468\n",
       "Model:                            GLM   Df Residuals:                     6451\n",
       "Model Family:                Binomial   Df Model:                           16\n",
       "Link Function:                  Logit   Scale:                          1.0000\n",
       "Method:                          IRLS   Log-Likelihood:                -1615.8\n",
       "Date:                Tue, 17 Sep 2024   Deviance:                       3231.5\n",
       "Time:                        12:17:30   Pearson chi2:                 1.00e+04\n",
       "No. Iterations:                     7   Pseudo R-squ. (CS):             0.5638\n",
       "Covariance Type:            nonrobust                                         \n",
       "========================================================================================================================\n",
       "                                                           coef    std err          z      P>|z|      [0.025      0.975]\n",
       "------------------------------------------------------------------------------------------------------------------------\n",
       "const                                                   -4.9706      0.228    -21.801      0.000      -5.417      -4.524\n",
       "Total Time Spent on Website                              1.1196      0.053     21.211      0.000       1.016       1.223\n",
       "Lead Origin_Lead Add Form                                3.3623      0.248     13.569      0.000       2.877       3.848\n",
       "Lead Source_Olark Chat                                   1.2240      0.129      9.503      0.000       0.972       1.476\n",
       "Lead Source_Welingak Website                             1.7237      0.760      2.269      0.023       0.235       3.212\n",
       "Last Activity_Email Bounced                             -1.4146      0.395     -3.580      0.000      -2.189      -0.640\n",
       "Last Activity_Email Opened                               1.3721      0.188      7.303      0.000       1.004       1.740\n",
       "Last Activity_SMS Sent                                   1.6774      0.137     12.210      0.000       1.408       1.947\n",
       "Specialization_International Business                   -0.7588      0.360     -2.110      0.035      -1.464      -0.054\n",
       "Specialization_Travel and Tourism                       -0.7224      0.338     -2.136      0.033      -1.385      -0.059\n",
       "What is your current occupation_Other                   -1.2857      0.102    -12.557      0.000      -1.486      -1.085\n",
       "What is your current occupation_Working Professional     1.3419      0.271      4.958      0.000       0.811       1.872\n",
       "Tags_Others                                              3.7815      0.193     19.637      0.000       3.404       4.159\n",
       "Tags_Will revert after reading the email                 7.0868      0.250     28.361      0.000       6.597       7.577\n",
       "Last Notable Activity_Email Opened                      -0.9973      0.219     -4.544      0.000      -1.427      -0.567\n",
       "Last Notable Activity_Modified                          -0.9529      0.135     -7.046      0.000      -1.218      -0.688\n",
       "Last Notable Activity_Others                             0.6596      0.387      1.704      0.088      -0.099       1.418\n",
       "========================================================================================================================\n",
       "\"\"\""
      ]
     },
     "execution_count": 81,
     "metadata": {},
     "output_type": "execute_result"
    }
   ],
   "source": [
    "#Dropping 'Lead Source_Reference' because of high VIF\n",
    "col = col.drop('Lead Source_Reference', 1)\n",
    "\n",
    "X_train_6 = sm.add_constant(X_train[col])\n",
    "log_m6 = sm.GLM(y_train,X_train_6.astype(float),family=sm.families.Binomial())\n",
    "log_model_6 = log_m6.fit()\n",
    "log_model_6.summary()"
   ]
  },
  {
   "cell_type": "code",
   "execution_count": 82,
   "id": "0ceca0b3-1995-46d0-980f-17c3c329cca1",
   "metadata": {},
   "outputs": [
    {
     "data": {
      "text/html": [
       "<div>\n",
       "<style scoped>\n",
       "    .dataframe tbody tr th:only-of-type {\n",
       "        vertical-align: middle;\n",
       "    }\n",
       "\n",
       "    .dataframe tbody tr th {\n",
       "        vertical-align: top;\n",
       "    }\n",
       "\n",
       "    .dataframe thead th {\n",
       "        text-align: right;\n",
       "    }\n",
       "</style>\n",
       "<table border=\"1\" class=\"dataframe\">\n",
       "  <thead>\n",
       "    <tr style=\"text-align: right;\">\n",
       "      <th></th>\n",
       "      <th>Features</th>\n",
       "      <th>VIF</th>\n",
       "    </tr>\n",
       "  </thead>\n",
       "  <tbody>\n",
       "    <tr>\n",
       "      <th>13</th>\n",
       "      <td>Last Notable Activity_Email Opened</td>\n",
       "      <td>7.38</td>\n",
       "    </tr>\n",
       "    <tr>\n",
       "      <th>5</th>\n",
       "      <td>Last Activity_Email Opened</td>\n",
       "      <td>7.22</td>\n",
       "    </tr>\n",
       "    <tr>\n",
       "      <th>11</th>\n",
       "      <td>Tags_Others</td>\n",
       "      <td>3.91</td>\n",
       "    </tr>\n",
       "    <tr>\n",
       "      <th>9</th>\n",
       "      <td>What is your current occupation_Other</td>\n",
       "      <td>2.31</td>\n",
       "    </tr>\n",
       "    <tr>\n",
       "      <th>12</th>\n",
       "      <td>Tags_Will revert after reading the email</td>\n",
       "      <td>2.27</td>\n",
       "    </tr>\n",
       "    <tr>\n",
       "      <th>14</th>\n",
       "      <td>Last Notable Activity_Modified</td>\n",
       "      <td>2.05</td>\n",
       "    </tr>\n",
       "    <tr>\n",
       "      <th>6</th>\n",
       "      <td>Last Activity_SMS Sent</td>\n",
       "      <td>1.76</td>\n",
       "    </tr>\n",
       "    <tr>\n",
       "      <th>1</th>\n",
       "      <td>Lead Origin_Lead Add Form</td>\n",
       "      <td>1.57</td>\n",
       "    </tr>\n",
       "    <tr>\n",
       "      <th>2</th>\n",
       "      <td>Lead Source_Olark Chat</td>\n",
       "      <td>1.53</td>\n",
       "    </tr>\n",
       "    <tr>\n",
       "      <th>0</th>\n",
       "      <td>Total Time Spent on Website</td>\n",
       "      <td>1.34</td>\n",
       "    </tr>\n",
       "    <tr>\n",
       "      <th>10</th>\n",
       "      <td>What is your current occupation_Working Profes...</td>\n",
       "      <td>1.32</td>\n",
       "    </tr>\n",
       "    <tr>\n",
       "      <th>3</th>\n",
       "      <td>Lead Source_Welingak Website</td>\n",
       "      <td>1.27</td>\n",
       "    </tr>\n",
       "    <tr>\n",
       "      <th>4</th>\n",
       "      <td>Last Activity_Email Bounced</td>\n",
       "      <td>1.19</td>\n",
       "    </tr>\n",
       "    <tr>\n",
       "      <th>15</th>\n",
       "      <td>Last Notable Activity_Others</td>\n",
       "      <td>1.12</td>\n",
       "    </tr>\n",
       "    <tr>\n",
       "      <th>8</th>\n",
       "      <td>Specialization_Travel and Tourism</td>\n",
       "      <td>1.03</td>\n",
       "    </tr>\n",
       "    <tr>\n",
       "      <th>7</th>\n",
       "      <td>Specialization_International Business</td>\n",
       "      <td>1.02</td>\n",
       "    </tr>\n",
       "  </tbody>\n",
       "</table>\n",
       "</div>"
      ],
      "text/plain": [
       "                                             Features   VIF\n",
       "13                 Last Notable Activity_Email Opened  7.38\n",
       "5                          Last Activity_Email Opened  7.22\n",
       "11                                        Tags_Others  3.91\n",
       "9               What is your current occupation_Other  2.31\n",
       "12           Tags_Will revert after reading the email  2.27\n",
       "14                     Last Notable Activity_Modified  2.05\n",
       "6                              Last Activity_SMS Sent  1.76\n",
       "1                           Lead Origin_Lead Add Form  1.57\n",
       "2                              Lead Source_Olark Chat  1.53\n",
       "0                         Total Time Spent on Website  1.34\n",
       "10  What is your current occupation_Working Profes...  1.32\n",
       "3                        Lead Source_Welingak Website  1.27\n",
       "4                         Last Activity_Email Bounced  1.19\n",
       "15                       Last Notable Activity_Others  1.12\n",
       "8                   Specialization_Travel and Tourism  1.03\n",
       "7               Specialization_International Business  1.02"
      ]
     },
     "execution_count": 82,
     "metadata": {},
     "output_type": "execute_result"
    }
   ],
   "source": [
    "# Create a dataframe that will contain the names of all the feature variables and their respective VIFs\n",
    "vif = pd.DataFrame()\n",
    "vif['Features'] = X_train[col].columns\n",
    "vif['VIF'] = [variance_inflation_factor(X_train[col].astype(float), i) for i in range(X_train[col].shape[1])]\n",
    "vif['VIF'] = round(vif['VIF'], 2)\n",
    "vif = vif.sort_values(by = \"VIF\", ascending = False)\n",
    "vif"
   ]
  },
  {
   "cell_type": "code",
   "execution_count": 83,
   "id": "f118b3ad-694b-4ec9-9157-8a80f6337984",
   "metadata": {},
   "outputs": [
    {
     "data": {
      "text/html": [
       "<table class=\"simpletable\">\n",
       "<caption>Generalized Linear Model Regression Results</caption>\n",
       "<tr>\n",
       "  <th>Dep. Variable:</th>       <td>Converted</td>    <th>  No. Observations:  </th>  <td>  6468</td> \n",
       "</tr>\n",
       "<tr>\n",
       "  <th>Model:</th>                  <td>GLM</td>       <th>  Df Residuals:      </th>  <td>  6452</td> \n",
       "</tr>\n",
       "<tr>\n",
       "  <th>Model Family:</th>        <td>Binomial</td>     <th>  Df Model:          </th>  <td>    15</td> \n",
       "</tr>\n",
       "<tr>\n",
       "  <th>Link Function:</th>         <td>Logit</td>      <th>  Scale:             </th> <td>  1.0000</td>\n",
       "</tr>\n",
       "<tr>\n",
       "  <th>Method:</th>                <td>IRLS</td>       <th>  Log-Likelihood:    </th> <td> -1625.9</td>\n",
       "</tr>\n",
       "<tr>\n",
       "  <th>Date:</th>            <td>Tue, 17 Sep 2024</td> <th>  Deviance:          </th> <td>  3251.9</td>\n",
       "</tr>\n",
       "<tr>\n",
       "  <th>Time:</th>                <td>12:17:32</td>     <th>  Pearson chi2:      </th> <td>9.83e+03</td>\n",
       "</tr>\n",
       "<tr>\n",
       "  <th>No. Iterations:</th>          <td>7</td>        <th>  Pseudo R-squ. (CS):</th>  <td>0.5625</td> \n",
       "</tr>\n",
       "<tr>\n",
       "  <th>Covariance Type:</th>     <td>nonrobust</td>    <th>                     </th>     <td> </td>   \n",
       "</tr>\n",
       "</table>\n",
       "<table class=\"simpletable\">\n",
       "<tr>\n",
       "                            <td></td>                              <th>coef</th>     <th>std err</th>      <th>z</th>      <th>P>|z|</th>  <th>[0.025</th>    <th>0.975]</th>  \n",
       "</tr>\n",
       "<tr>\n",
       "  <th>const</th>                                                <td>   -5.2095</td> <td>    0.224</td> <td>  -23.297</td> <td> 0.000</td> <td>   -5.648</td> <td>   -4.771</td>\n",
       "</tr>\n",
       "<tr>\n",
       "  <th>Total Time Spent on Website</th>                          <td>    1.1262</td> <td>    0.053</td> <td>   21.388</td> <td> 0.000</td> <td>    1.023</td> <td>    1.229</td>\n",
       "</tr>\n",
       "<tr>\n",
       "  <th>Lead Origin_Lead Add Form</th>                            <td>    3.4050</td> <td>    0.248</td> <td>   13.718</td> <td> 0.000</td> <td>    2.919</td> <td>    3.892</td>\n",
       "</tr>\n",
       "<tr>\n",
       "  <th>Lead Source_Olark Chat</th>                               <td>    1.2484</td> <td>    0.128</td> <td>    9.718</td> <td> 0.000</td> <td>    0.997</td> <td>    1.500</td>\n",
       "</tr>\n",
       "<tr>\n",
       "  <th>Lead Source_Welingak Website</th>                         <td>    1.6550</td> <td>    0.760</td> <td>    2.179</td> <td> 0.029</td> <td>    0.166</td> <td>    3.144</td>\n",
       "</tr>\n",
       "<tr>\n",
       "  <th>Last Activity_Email Bounced</th>                          <td>   -1.5161</td> <td>    0.394</td> <td>   -3.850</td> <td> 0.000</td> <td>   -2.288</td> <td>   -0.744</td>\n",
       "</tr>\n",
       "<tr>\n",
       "  <th>Last Activity_Email Opened</th>                           <td>    0.7428</td> <td>    0.130</td> <td>    5.708</td> <td> 0.000</td> <td>    0.488</td> <td>    0.998</td>\n",
       "</tr>\n",
       "<tr>\n",
       "  <th>Last Activity_SMS Sent</th>                               <td>    1.8284</td> <td>    0.134</td> <td>   13.648</td> <td> 0.000</td> <td>    1.566</td> <td>    2.091</td>\n",
       "</tr>\n",
       "<tr>\n",
       "  <th>Specialization_International Business</th>                <td>   -0.7502</td> <td>    0.357</td> <td>   -2.099</td> <td> 0.036</td> <td>   -1.451</td> <td>   -0.050</td>\n",
       "</tr>\n",
       "<tr>\n",
       "  <th>Specialization_Travel and Tourism</th>                    <td>   -0.7244</td> <td>    0.336</td> <td>   -2.153</td> <td> 0.031</td> <td>   -1.384</td> <td>   -0.065</td>\n",
       "</tr>\n",
       "<tr>\n",
       "  <th>What is your current occupation_Other</th>                <td>   -1.3215</td> <td>    0.102</td> <td>  -12.974</td> <td> 0.000</td> <td>   -1.521</td> <td>   -1.122</td>\n",
       "</tr>\n",
       "<tr>\n",
       "  <th>What is your current occupation_Working Professional</th> <td>    1.3469</td> <td>    0.271</td> <td>    4.967</td> <td> 0.000</td> <td>    0.815</td> <td>    1.878</td>\n",
       "</tr>\n",
       "<tr>\n",
       "  <th>Tags_Others</th>                                          <td>    3.7886</td> <td>    0.192</td> <td>   19.713</td> <td> 0.000</td> <td>    3.412</td> <td>    4.165</td>\n",
       "</tr>\n",
       "<tr>\n",
       "  <th>Tags_Will revert after reading the email</th>             <td>    7.0467</td> <td>    0.249</td> <td>   28.329</td> <td> 0.000</td> <td>    6.559</td> <td>    7.534</td>\n",
       "</tr>\n",
       "<tr>\n",
       "  <th>Last Notable Activity_Modified</th>                       <td>   -0.5885</td> <td>    0.108</td> <td>   -5.438</td> <td> 0.000</td> <td>   -0.801</td> <td>   -0.376</td>\n",
       "</tr>\n",
       "<tr>\n",
       "  <th>Last Notable Activity_Others</th>                         <td>    0.9401</td> <td>    0.382</td> <td>    2.459</td> <td> 0.014</td> <td>    0.191</td> <td>    1.689</td>\n",
       "</tr>\n",
       "</table>"
      ],
      "text/latex": [
       "\\begin{center}\n",
       "\\begin{tabular}{lclc}\n",
       "\\toprule\n",
       "\\textbf{Dep. Variable:}                                        &    Converted     & \\textbf{  No. Observations:  } &     6468    \\\\\n",
       "\\textbf{Model:}                                                &       GLM        & \\textbf{  Df Residuals:      } &     6452    \\\\\n",
       "\\textbf{Model Family:}                                         &     Binomial     & \\textbf{  Df Model:          } &       15    \\\\\n",
       "\\textbf{Link Function:}                                        &      Logit       & \\textbf{  Scale:             } &    1.0000   \\\\\n",
       "\\textbf{Method:}                                               &       IRLS       & \\textbf{  Log-Likelihood:    } &   -1625.9   \\\\\n",
       "\\textbf{Date:}                                                 & Tue, 17 Sep 2024 & \\textbf{  Deviance:          } &    3251.9   \\\\\n",
       "\\textbf{Time:}                                                 &     12:17:32     & \\textbf{  Pearson chi2:      } &  9.83e+03   \\\\\n",
       "\\textbf{No. Iterations:}                                       &        7         & \\textbf{  Pseudo R-squ. (CS):} &   0.5625    \\\\\n",
       "\\textbf{Covariance Type:}                                      &    nonrobust     & \\textbf{                     } &             \\\\\n",
       "\\bottomrule\n",
       "\\end{tabular}\n",
       "\\begin{tabular}{lcccccc}\n",
       "                                                               & \\textbf{coef} & \\textbf{std err} & \\textbf{z} & \\textbf{P$> |$z$|$} & \\textbf{[0.025} & \\textbf{0.975]}  \\\\\n",
       "\\midrule\n",
       "\\textbf{const}                                                 &      -5.2095  &        0.224     &   -23.297  &         0.000        &       -5.648    &       -4.771     \\\\\n",
       "\\textbf{Total Time Spent on Website}                           &       1.1262  &        0.053     &    21.388  &         0.000        &        1.023    &        1.229     \\\\\n",
       "\\textbf{Lead Origin\\_Lead Add Form}                            &       3.4050  &        0.248     &    13.718  &         0.000        &        2.919    &        3.892     \\\\\n",
       "\\textbf{Lead Source\\_Olark Chat}                               &       1.2484  &        0.128     &     9.718  &         0.000        &        0.997    &        1.500     \\\\\n",
       "\\textbf{Lead Source\\_Welingak Website}                         &       1.6550  &        0.760     &     2.179  &         0.029        &        0.166    &        3.144     \\\\\n",
       "\\textbf{Last Activity\\_Email Bounced}                          &      -1.5161  &        0.394     &    -3.850  &         0.000        &       -2.288    &       -0.744     \\\\\n",
       "\\textbf{Last Activity\\_Email Opened}                           &       0.7428  &        0.130     &     5.708  &         0.000        &        0.488    &        0.998     \\\\\n",
       "\\textbf{Last Activity\\_SMS Sent}                               &       1.8284  &        0.134     &    13.648  &         0.000        &        1.566    &        2.091     \\\\\n",
       "\\textbf{Specialization\\_International Business}                &      -0.7502  &        0.357     &    -2.099  &         0.036        &       -1.451    &       -0.050     \\\\\n",
       "\\textbf{Specialization\\_Travel and Tourism}                    &      -0.7244  &        0.336     &    -2.153  &         0.031        &       -1.384    &       -0.065     \\\\\n",
       "\\textbf{What is your current occupation\\_Other}                &      -1.3215  &        0.102     &   -12.974  &         0.000        &       -1.521    &       -1.122     \\\\\n",
       "\\textbf{What is your current occupation\\_Working Professional} &       1.3469  &        0.271     &     4.967  &         0.000        &        0.815    &        1.878     \\\\\n",
       "\\textbf{Tags\\_Others}                                          &       3.7886  &        0.192     &    19.713  &         0.000        &        3.412    &        4.165     \\\\\n",
       "\\textbf{Tags\\_Will revert after reading the email}             &       7.0467  &        0.249     &    28.329  &         0.000        &        6.559    &        7.534     \\\\\n",
       "\\textbf{Last Notable Activity\\_Modified}                       &      -0.5885  &        0.108     &    -5.438  &         0.000        &       -0.801    &       -0.376     \\\\\n",
       "\\textbf{Last Notable Activity\\_Others}                         &       0.9401  &        0.382     &     2.459  &         0.014        &        0.191    &        1.689     \\\\\n",
       "\\bottomrule\n",
       "\\end{tabular}\n",
       "%\\caption{Generalized Linear Model Regression Results}\n",
       "\\end{center}"
      ],
      "text/plain": [
       "<class 'statsmodels.iolib.summary.Summary'>\n",
       "\"\"\"\n",
       "                 Generalized Linear Model Regression Results                  \n",
       "==============================================================================\n",
       "Dep. Variable:              Converted   No. Observations:                 6468\n",
       "Model:                            GLM   Df Residuals:                     6452\n",
       "Model Family:                Binomial   Df Model:                           15\n",
       "Link Function:                  Logit   Scale:                          1.0000\n",
       "Method:                          IRLS   Log-Likelihood:                -1625.9\n",
       "Date:                Tue, 17 Sep 2024   Deviance:                       3251.9\n",
       "Time:                        12:17:32   Pearson chi2:                 9.83e+03\n",
       "No. Iterations:                     7   Pseudo R-squ. (CS):             0.5625\n",
       "Covariance Type:            nonrobust                                         \n",
       "========================================================================================================================\n",
       "                                                           coef    std err          z      P>|z|      [0.025      0.975]\n",
       "------------------------------------------------------------------------------------------------------------------------\n",
       "const                                                   -5.2095      0.224    -23.297      0.000      -5.648      -4.771\n",
       "Total Time Spent on Website                              1.1262      0.053     21.388      0.000       1.023       1.229\n",
       "Lead Origin_Lead Add Form                                3.4050      0.248     13.718      0.000       2.919       3.892\n",
       "Lead Source_Olark Chat                                   1.2484      0.128      9.718      0.000       0.997       1.500\n",
       "Lead Source_Welingak Website                             1.6550      0.760      2.179      0.029       0.166       3.144\n",
       "Last Activity_Email Bounced                             -1.5161      0.394     -3.850      0.000      -2.288      -0.744\n",
       "Last Activity_Email Opened                               0.7428      0.130      5.708      0.000       0.488       0.998\n",
       "Last Activity_SMS Sent                                   1.8284      0.134     13.648      0.000       1.566       2.091\n",
       "Specialization_International Business                   -0.7502      0.357     -2.099      0.036      -1.451      -0.050\n",
       "Specialization_Travel and Tourism                       -0.7244      0.336     -2.153      0.031      -1.384      -0.065\n",
       "What is your current occupation_Other                   -1.3215      0.102    -12.974      0.000      -1.521      -1.122\n",
       "What is your current occupation_Working Professional     1.3469      0.271      4.967      0.000       0.815       1.878\n",
       "Tags_Others                                              3.7886      0.192     19.713      0.000       3.412       4.165\n",
       "Tags_Will revert after reading the email                 7.0467      0.249     28.329      0.000       6.559       7.534\n",
       "Last Notable Activity_Modified                          -0.5885      0.108     -5.438      0.000      -0.801      -0.376\n",
       "Last Notable Activity_Others                             0.9401      0.382      2.459      0.014       0.191       1.689\n",
       "========================================================================================================================\n",
       "\"\"\""
      ]
     },
     "execution_count": 83,
     "metadata": {},
     "output_type": "execute_result"
    }
   ],
   "source": [
    "#Dropping 'Last Notable Activity_Email Opened' because of high VIF\n",
    "col = col.drop('Last Notable Activity_Email Opened', 1)\n",
    "\n",
    "X_train_7 = sm.add_constant(X_train[col])\n",
    "log_m7 = sm.GLM(y_train,X_train_7.astype(float),family=sm.families.Binomial())\n",
    "log_model_7 = log_m7.fit()\n",
    "log_model_7.summary()"
   ]
  },
  {
   "cell_type": "code",
   "execution_count": 84,
   "id": "a0343b75-820a-4d17-b452-f4a70c19132a",
   "metadata": {},
   "outputs": [
    {
     "data": {
      "text/html": [
       "<div>\n",
       "<style scoped>\n",
       "    .dataframe tbody tr th:only-of-type {\n",
       "        vertical-align: middle;\n",
       "    }\n",
       "\n",
       "    .dataframe tbody tr th {\n",
       "        vertical-align: top;\n",
       "    }\n",
       "\n",
       "    .dataframe thead th {\n",
       "        text-align: right;\n",
       "    }\n",
       "</style>\n",
       "<table border=\"1\" class=\"dataframe\">\n",
       "  <thead>\n",
       "    <tr style=\"text-align: right;\">\n",
       "      <th></th>\n",
       "      <th>Features</th>\n",
       "      <th>VIF</th>\n",
       "    </tr>\n",
       "  </thead>\n",
       "  <tbody>\n",
       "    <tr>\n",
       "      <th>11</th>\n",
       "      <td>Tags_Others</td>\n",
       "      <td>3.82</td>\n",
       "    </tr>\n",
       "    <tr>\n",
       "      <th>9</th>\n",
       "      <td>What is your current occupation_Other</td>\n",
       "      <td>2.31</td>\n",
       "    </tr>\n",
       "    <tr>\n",
       "      <th>12</th>\n",
       "      <td>Tags_Will revert after reading the email</td>\n",
       "      <td>2.21</td>\n",
       "    </tr>\n",
       "    <tr>\n",
       "      <th>6</th>\n",
       "      <td>Last Activity_SMS Sent</td>\n",
       "      <td>1.75</td>\n",
       "    </tr>\n",
       "    <tr>\n",
       "      <th>5</th>\n",
       "      <td>Last Activity_Email Opened</td>\n",
       "      <td>1.65</td>\n",
       "    </tr>\n",
       "    <tr>\n",
       "      <th>13</th>\n",
       "      <td>Last Notable Activity_Modified</td>\n",
       "      <td>1.61</td>\n",
       "    </tr>\n",
       "    <tr>\n",
       "      <th>1</th>\n",
       "      <td>Lead Origin_Lead Add Form</td>\n",
       "      <td>1.57</td>\n",
       "    </tr>\n",
       "    <tr>\n",
       "      <th>2</th>\n",
       "      <td>Lead Source_Olark Chat</td>\n",
       "      <td>1.53</td>\n",
       "    </tr>\n",
       "    <tr>\n",
       "      <th>0</th>\n",
       "      <td>Total Time Spent on Website</td>\n",
       "      <td>1.34</td>\n",
       "    </tr>\n",
       "    <tr>\n",
       "      <th>10</th>\n",
       "      <td>What is your current occupation_Working Profes...</td>\n",
       "      <td>1.32</td>\n",
       "    </tr>\n",
       "    <tr>\n",
       "      <th>3</th>\n",
       "      <td>Lead Source_Welingak Website</td>\n",
       "      <td>1.27</td>\n",
       "    </tr>\n",
       "    <tr>\n",
       "      <th>4</th>\n",
       "      <td>Last Activity_Email Bounced</td>\n",
       "      <td>1.17</td>\n",
       "    </tr>\n",
       "    <tr>\n",
       "      <th>14</th>\n",
       "      <td>Last Notable Activity_Others</td>\n",
       "      <td>1.11</td>\n",
       "    </tr>\n",
       "    <tr>\n",
       "      <th>8</th>\n",
       "      <td>Specialization_Travel and Tourism</td>\n",
       "      <td>1.03</td>\n",
       "    </tr>\n",
       "    <tr>\n",
       "      <th>7</th>\n",
       "      <td>Specialization_International Business</td>\n",
       "      <td>1.02</td>\n",
       "    </tr>\n",
       "  </tbody>\n",
       "</table>\n",
       "</div>"
      ],
      "text/plain": [
       "                                             Features   VIF\n",
       "11                                        Tags_Others  3.82\n",
       "9               What is your current occupation_Other  2.31\n",
       "12           Tags_Will revert after reading the email  2.21\n",
       "6                              Last Activity_SMS Sent  1.75\n",
       "5                          Last Activity_Email Opened  1.65\n",
       "13                     Last Notable Activity_Modified  1.61\n",
       "1                           Lead Origin_Lead Add Form  1.57\n",
       "2                              Lead Source_Olark Chat  1.53\n",
       "0                         Total Time Spent on Website  1.34\n",
       "10  What is your current occupation_Working Profes...  1.32\n",
       "3                        Lead Source_Welingak Website  1.27\n",
       "4                         Last Activity_Email Bounced  1.17\n",
       "14                       Last Notable Activity_Others  1.11\n",
       "8                   Specialization_Travel and Tourism  1.03\n",
       "7               Specialization_International Business  1.02"
      ]
     },
     "execution_count": 84,
     "metadata": {},
     "output_type": "execute_result"
    }
   ],
   "source": [
    "# Create a dataframe that will contain the names of all the feature variables and their respective VIFs\n",
    "vif = pd.DataFrame()\n",
    "vif['Features'] = X_train[col].columns\n",
    "vif['VIF'] = [variance_inflation_factor(X_train[col].astype(float), i) for i in range(X_train[col].shape[1])]\n",
    "vif['VIF'] = round(vif['VIF'], 2)\n",
    "vif = vif.sort_values(by = \"VIF\", ascending = False)\n",
    "vif"
   ]
  },
  {
   "cell_type": "code",
   "execution_count": 85,
   "id": "15887bb3-cbc7-49ef-a188-68edf248c211",
   "metadata": {},
   "outputs": [
    {
     "data": {
      "text/html": [
       "<table class=\"simpletable\">\n",
       "<caption>Generalized Linear Model Regression Results</caption>\n",
       "<tr>\n",
       "  <th>Dep. Variable:</th>       <td>Converted</td>    <th>  No. Observations:  </th>  <td>  6468</td> \n",
       "</tr>\n",
       "<tr>\n",
       "  <th>Model:</th>                  <td>GLM</td>       <th>  Df Residuals:      </th>  <td>  6453</td> \n",
       "</tr>\n",
       "<tr>\n",
       "  <th>Model Family:</th>        <td>Binomial</td>     <th>  Df Model:          </th>  <td>    14</td> \n",
       "</tr>\n",
       "<tr>\n",
       "  <th>Link Function:</th>         <td>Logit</td>      <th>  Scale:             </th> <td>  1.0000</td>\n",
       "</tr>\n",
       "<tr>\n",
       "  <th>Method:</th>                <td>IRLS</td>       <th>  Log-Likelihood:    </th> <td> -1995.7</td>\n",
       "</tr>\n",
       "<tr>\n",
       "  <th>Date:</th>            <td>Tue, 17 Sep 2024</td> <th>  Deviance:          </th> <td>  3991.4</td>\n",
       "</tr>\n",
       "<tr>\n",
       "  <th>Time:</th>                <td>12:17:34</td>     <th>  Pearson chi2:      </th> <td>9.06e+03</td>\n",
       "</tr>\n",
       "<tr>\n",
       "  <th>No. Iterations:</th>          <td>7</td>        <th>  Pseudo R-squ. (CS):</th>  <td>0.5095</td> \n",
       "</tr>\n",
       "<tr>\n",
       "  <th>Covariance Type:</th>     <td>nonrobust</td>    <th>                     </th>     <td> </td>   \n",
       "</tr>\n",
       "</table>\n",
       "<table class=\"simpletable\">\n",
       "<tr>\n",
       "                            <td></td>                              <th>coef</th>     <th>std err</th>      <th>z</th>      <th>P>|z|</th>  <th>[0.025</th>    <th>0.975]</th>  \n",
       "</tr>\n",
       "<tr>\n",
       "  <th>const</th>                                                <td>   -2.4230</td> <td>    0.125</td> <td>  -19.312</td> <td> 0.000</td> <td>   -2.669</td> <td>   -2.177</td>\n",
       "</tr>\n",
       "<tr>\n",
       "  <th>Total Time Spent on Website</th>                          <td>    1.0451</td> <td>    0.045</td> <td>   23.151</td> <td> 0.000</td> <td>    0.957</td> <td>    1.134</td>\n",
       "</tr>\n",
       "<tr>\n",
       "  <th>Lead Origin_Lead Add Form</th>                            <td>    3.4597</td> <td>    0.212</td> <td>   16.298</td> <td> 0.000</td> <td>    3.044</td> <td>    3.876</td>\n",
       "</tr>\n",
       "<tr>\n",
       "  <th>Lead Source_Olark Chat</th>                               <td>    1.2909</td> <td>    0.118</td> <td>   10.974</td> <td> 0.000</td> <td>    1.060</td> <td>    1.522</td>\n",
       "</tr>\n",
       "<tr>\n",
       "  <th>Lead Source_Welingak Website</th>                         <td>    2.5693</td> <td>    0.747</td> <td>    3.438</td> <td> 0.001</td> <td>    1.105</td> <td>    4.034</td>\n",
       "</tr>\n",
       "<tr>\n",
       "  <th>Last Activity_Email Bounced</th>                          <td>   -1.3134</td> <td>    0.383</td> <td>   -3.433</td> <td> 0.001</td> <td>   -2.063</td> <td>   -0.564</td>\n",
       "</tr>\n",
       "<tr>\n",
       "  <th>Last Activity_Email Opened</th>                           <td>    0.6462</td> <td>    0.121</td> <td>    5.356</td> <td> 0.000</td> <td>    0.410</td> <td>    0.883</td>\n",
       "</tr>\n",
       "<tr>\n",
       "  <th>Last Activity_SMS Sent</th>                               <td>    1.6432</td> <td>    0.123</td> <td>   13.396</td> <td> 0.000</td> <td>    1.403</td> <td>    1.884</td>\n",
       "</tr>\n",
       "<tr>\n",
       "  <th>Specialization_International Business</th>                <td>   -0.5897</td> <td>    0.330</td> <td>   -1.788</td> <td> 0.074</td> <td>   -1.236</td> <td>    0.057</td>\n",
       "</tr>\n",
       "<tr>\n",
       "  <th>Specialization_Travel and Tourism</th>                    <td>   -0.4654</td> <td>    0.323</td> <td>   -1.440</td> <td> 0.150</td> <td>   -1.099</td> <td>    0.168</td>\n",
       "</tr>\n",
       "<tr>\n",
       "  <th>What is your current occupation_Other</th>                <td>   -0.2883</td> <td>    0.093</td> <td>   -3.108</td> <td> 0.002</td> <td>   -0.470</td> <td>   -0.107</td>\n",
       "</tr>\n",
       "<tr>\n",
       "  <th>What is your current occupation_Working Professional</th> <td>    1.6040</td> <td>    0.239</td> <td>    6.718</td> <td> 0.000</td> <td>    1.136</td> <td>    2.072</td>\n",
       "</tr>\n",
       "<tr>\n",
       "  <th>Tags_Will revert after reading the email</th>             <td>    4.2307</td> <td>    0.170</td> <td>   24.854</td> <td> 0.000</td> <td>    3.897</td> <td>    4.564</td>\n",
       "</tr>\n",
       "<tr>\n",
       "  <th>Last Notable Activity_Modified</th>                       <td>   -0.4300</td> <td>    0.100</td> <td>   -4.313</td> <td> 0.000</td> <td>   -0.625</td> <td>   -0.235</td>\n",
       "</tr>\n",
       "<tr>\n",
       "  <th>Last Notable Activity_Others</th>                         <td>    0.9984</td> <td>    0.370</td> <td>    2.696</td> <td> 0.007</td> <td>    0.273</td> <td>    1.724</td>\n",
       "</tr>\n",
       "</table>"
      ],
      "text/latex": [
       "\\begin{center}\n",
       "\\begin{tabular}{lclc}\n",
       "\\toprule\n",
       "\\textbf{Dep. Variable:}                                        &    Converted     & \\textbf{  No. Observations:  } &     6468    \\\\\n",
       "\\textbf{Model:}                                                &       GLM        & \\textbf{  Df Residuals:      } &     6453    \\\\\n",
       "\\textbf{Model Family:}                                         &     Binomial     & \\textbf{  Df Model:          } &       14    \\\\\n",
       "\\textbf{Link Function:}                                        &      Logit       & \\textbf{  Scale:             } &    1.0000   \\\\\n",
       "\\textbf{Method:}                                               &       IRLS       & \\textbf{  Log-Likelihood:    } &   -1995.7   \\\\\n",
       "\\textbf{Date:}                                                 & Tue, 17 Sep 2024 & \\textbf{  Deviance:          } &    3991.4   \\\\\n",
       "\\textbf{Time:}                                                 &     12:17:34     & \\textbf{  Pearson chi2:      } &  9.06e+03   \\\\\n",
       "\\textbf{No. Iterations:}                                       &        7         & \\textbf{  Pseudo R-squ. (CS):} &   0.5095    \\\\\n",
       "\\textbf{Covariance Type:}                                      &    nonrobust     & \\textbf{                     } &             \\\\\n",
       "\\bottomrule\n",
       "\\end{tabular}\n",
       "\\begin{tabular}{lcccccc}\n",
       "                                                               & \\textbf{coef} & \\textbf{std err} & \\textbf{z} & \\textbf{P$> |$z$|$} & \\textbf{[0.025} & \\textbf{0.975]}  \\\\\n",
       "\\midrule\n",
       "\\textbf{const}                                                 &      -2.4230  &        0.125     &   -19.312  &         0.000        &       -2.669    &       -2.177     \\\\\n",
       "\\textbf{Total Time Spent on Website}                           &       1.0451  &        0.045     &    23.151  &         0.000        &        0.957    &        1.134     \\\\\n",
       "\\textbf{Lead Origin\\_Lead Add Form}                            &       3.4597  &        0.212     &    16.298  &         0.000        &        3.044    &        3.876     \\\\\n",
       "\\textbf{Lead Source\\_Olark Chat}                               &       1.2909  &        0.118     &    10.974  &         0.000        &        1.060    &        1.522     \\\\\n",
       "\\textbf{Lead Source\\_Welingak Website}                         &       2.5693  &        0.747     &     3.438  &         0.001        &        1.105    &        4.034     \\\\\n",
       "\\textbf{Last Activity\\_Email Bounced}                          &      -1.3134  &        0.383     &    -3.433  &         0.001        &       -2.063    &       -0.564     \\\\\n",
       "\\textbf{Last Activity\\_Email Opened}                           &       0.6462  &        0.121     &     5.356  &         0.000        &        0.410    &        0.883     \\\\\n",
       "\\textbf{Last Activity\\_SMS Sent}                               &       1.6432  &        0.123     &    13.396  &         0.000        &        1.403    &        1.884     \\\\\n",
       "\\textbf{Specialization\\_International Business}                &      -0.5897  &        0.330     &    -1.788  &         0.074        &       -1.236    &        0.057     \\\\\n",
       "\\textbf{Specialization\\_Travel and Tourism}                    &      -0.4654  &        0.323     &    -1.440  &         0.150        &       -1.099    &        0.168     \\\\\n",
       "\\textbf{What is your current occupation\\_Other}                &      -0.2883  &        0.093     &    -3.108  &         0.002        &       -0.470    &       -0.107     \\\\\n",
       "\\textbf{What is your current occupation\\_Working Professional} &       1.6040  &        0.239     &     6.718  &         0.000        &        1.136    &        2.072     \\\\\n",
       "\\textbf{Tags\\_Will revert after reading the email}             &       4.2307  &        0.170     &    24.854  &         0.000        &        3.897    &        4.564     \\\\\n",
       "\\textbf{Last Notable Activity\\_Modified}                       &      -0.4300  &        0.100     &    -4.313  &         0.000        &       -0.625    &       -0.235     \\\\\n",
       "\\textbf{Last Notable Activity\\_Others}                         &       0.9984  &        0.370     &     2.696  &         0.007        &        0.273    &        1.724     \\\\\n",
       "\\bottomrule\n",
       "\\end{tabular}\n",
       "%\\caption{Generalized Linear Model Regression Results}\n",
       "\\end{center}"
      ],
      "text/plain": [
       "<class 'statsmodels.iolib.summary.Summary'>\n",
       "\"\"\"\n",
       "                 Generalized Linear Model Regression Results                  \n",
       "==============================================================================\n",
       "Dep. Variable:              Converted   No. Observations:                 6468\n",
       "Model:                            GLM   Df Residuals:                     6453\n",
       "Model Family:                Binomial   Df Model:                           14\n",
       "Link Function:                  Logit   Scale:                          1.0000\n",
       "Method:                          IRLS   Log-Likelihood:                -1995.7\n",
       "Date:                Tue, 17 Sep 2024   Deviance:                       3991.4\n",
       "Time:                        12:17:34   Pearson chi2:                 9.06e+03\n",
       "No. Iterations:                     7   Pseudo R-squ. (CS):             0.5095\n",
       "Covariance Type:            nonrobust                                         \n",
       "========================================================================================================================\n",
       "                                                           coef    std err          z      P>|z|      [0.025      0.975]\n",
       "------------------------------------------------------------------------------------------------------------------------\n",
       "const                                                   -2.4230      0.125    -19.312      0.000      -2.669      -2.177\n",
       "Total Time Spent on Website                              1.0451      0.045     23.151      0.000       0.957       1.134\n",
       "Lead Origin_Lead Add Form                                3.4597      0.212     16.298      0.000       3.044       3.876\n",
       "Lead Source_Olark Chat                                   1.2909      0.118     10.974      0.000       1.060       1.522\n",
       "Lead Source_Welingak Website                             2.5693      0.747      3.438      0.001       1.105       4.034\n",
       "Last Activity_Email Bounced                             -1.3134      0.383     -3.433      0.001      -2.063      -0.564\n",
       "Last Activity_Email Opened                               0.6462      0.121      5.356      0.000       0.410       0.883\n",
       "Last Activity_SMS Sent                                   1.6432      0.123     13.396      0.000       1.403       1.884\n",
       "Specialization_International Business                   -0.5897      0.330     -1.788      0.074      -1.236       0.057\n",
       "Specialization_Travel and Tourism                       -0.4654      0.323     -1.440      0.150      -1.099       0.168\n",
       "What is your current occupation_Other                   -0.2883      0.093     -3.108      0.002      -0.470      -0.107\n",
       "What is your current occupation_Working Professional     1.6040      0.239      6.718      0.000       1.136       2.072\n",
       "Tags_Will revert after reading the email                 4.2307      0.170     24.854      0.000       3.897       4.564\n",
       "Last Notable Activity_Modified                          -0.4300      0.100     -4.313      0.000      -0.625      -0.235\n",
       "Last Notable Activity_Others                             0.9984      0.370      2.696      0.007       0.273       1.724\n",
       "========================================================================================================================\n",
       "\"\"\""
      ]
     },
     "execution_count": 85,
     "metadata": {},
     "output_type": "execute_result"
    }
   ],
   "source": [
    "#Dropping 'Tags_Others' because of high VIF\n",
    "col = col.drop('Tags_Others', 1)\n",
    "\n",
    "X_train_8 = sm.add_constant(X_train[col])\n",
    "log_m8 = sm.GLM(y_train,X_train_8.astype(float),family=sm.families.Binomial())\n",
    "log_model_8 = log_m8.fit()\n",
    "log_model_8.summary()"
   ]
  },
  {
   "cell_type": "code",
   "execution_count": 86,
   "id": "df0381db-59f1-4566-8d9c-86cd3a5fb505",
   "metadata": {},
   "outputs": [
    {
     "data": {
      "text/html": [
       "<table class=\"simpletable\">\n",
       "<caption>Generalized Linear Model Regression Results</caption>\n",
       "<tr>\n",
       "  <th>Dep. Variable:</th>       <td>Converted</td>    <th>  No. Observations:  </th>  <td>  6468</td> \n",
       "</tr>\n",
       "<tr>\n",
       "  <th>Model:</th>                  <td>GLM</td>       <th>  Df Residuals:      </th>  <td>  6454</td> \n",
       "</tr>\n",
       "<tr>\n",
       "  <th>Model Family:</th>        <td>Binomial</td>     <th>  Df Model:          </th>  <td>    13</td> \n",
       "</tr>\n",
       "<tr>\n",
       "  <th>Link Function:</th>         <td>Logit</td>      <th>  Scale:             </th> <td>  1.0000</td>\n",
       "</tr>\n",
       "<tr>\n",
       "  <th>Method:</th>                <td>IRLS</td>       <th>  Log-Likelihood:    </th> <td> -1996.8</td>\n",
       "</tr>\n",
       "<tr>\n",
       "  <th>Date:</th>            <td>Tue, 17 Sep 2024</td> <th>  Deviance:          </th> <td>  3993.6</td>\n",
       "</tr>\n",
       "<tr>\n",
       "  <th>Time:</th>                <td>12:17:34</td>     <th>  Pearson chi2:      </th> <td>9.01e+03</td>\n",
       "</tr>\n",
       "<tr>\n",
       "  <th>No. Iterations:</th>          <td>7</td>        <th>  Pseudo R-squ. (CS):</th>  <td>0.5093</td> \n",
       "</tr>\n",
       "<tr>\n",
       "  <th>Covariance Type:</th>     <td>nonrobust</td>    <th>                     </th>     <td> </td>   \n",
       "</tr>\n",
       "</table>\n",
       "<table class=\"simpletable\">\n",
       "<tr>\n",
       "                            <td></td>                              <th>coef</th>     <th>std err</th>      <th>z</th>      <th>P>|z|</th>  <th>[0.025</th>    <th>0.975]</th>  \n",
       "</tr>\n",
       "<tr>\n",
       "  <th>const</th>                                                <td>   -2.4304</td> <td>    0.125</td> <td>  -19.391</td> <td> 0.000</td> <td>   -2.676</td> <td>   -2.185</td>\n",
       "</tr>\n",
       "<tr>\n",
       "  <th>Total Time Spent on Website</th>                          <td>    1.0457</td> <td>    0.045</td> <td>   23.171</td> <td> 0.000</td> <td>    0.957</td> <td>    1.134</td>\n",
       "</tr>\n",
       "<tr>\n",
       "  <th>Lead Origin_Lead Add Form</th>                            <td>    3.4716</td> <td>    0.212</td> <td>   16.362</td> <td> 0.000</td> <td>    3.056</td> <td>    3.887</td>\n",
       "</tr>\n",
       "<tr>\n",
       "  <th>Lead Source_Olark Chat</th>                               <td>    1.3009</td> <td>    0.118</td> <td>   11.071</td> <td> 0.000</td> <td>    1.071</td> <td>    1.531</td>\n",
       "</tr>\n",
       "<tr>\n",
       "  <th>Lead Source_Welingak Website</th>                         <td>    2.5681</td> <td>    0.747</td> <td>    3.436</td> <td> 0.001</td> <td>    1.103</td> <td>    4.033</td>\n",
       "</tr>\n",
       "<tr>\n",
       "  <th>Last Activity_Email Bounced</th>                          <td>   -1.3276</td> <td>    0.381</td> <td>   -3.480</td> <td> 0.001</td> <td>   -2.075</td> <td>   -0.580</td>\n",
       "</tr>\n",
       "<tr>\n",
       "  <th>Last Activity_Email Opened</th>                           <td>    0.6469</td> <td>    0.121</td> <td>    5.363</td> <td> 0.000</td> <td>    0.410</td> <td>    0.883</td>\n",
       "</tr>\n",
       "<tr>\n",
       "  <th>Last Activity_SMS Sent</th>                               <td>    1.6406</td> <td>    0.123</td> <td>   13.384</td> <td> 0.000</td> <td>    1.400</td> <td>    1.881</td>\n",
       "</tr>\n",
       "<tr>\n",
       "  <th>Specialization_International Business</th>                <td>   -0.5790</td> <td>    0.330</td> <td>   -1.757</td> <td> 0.079</td> <td>   -1.225</td> <td>    0.067</td>\n",
       "</tr>\n",
       "<tr>\n",
       "  <th>What is your current occupation_Other</th>                <td>   -0.2901</td> <td>    0.093</td> <td>   -3.128</td> <td> 0.002</td> <td>   -0.472</td> <td>   -0.108</td>\n",
       "</tr>\n",
       "<tr>\n",
       "  <th>What is your current occupation_Working Professional</th> <td>    1.6004</td> <td>    0.239</td> <td>    6.706</td> <td> 0.000</td> <td>    1.133</td> <td>    2.068</td>\n",
       "</tr>\n",
       "<tr>\n",
       "  <th>Tags_Will revert after reading the email</th>             <td>    4.2199</td> <td>    0.170</td> <td>   24.851</td> <td> 0.000</td> <td>    3.887</td> <td>    4.553</td>\n",
       "</tr>\n",
       "<tr>\n",
       "  <th>Last Notable Activity_Modified</th>                       <td>   -0.4349</td> <td>    0.100</td> <td>   -4.367</td> <td> 0.000</td> <td>   -0.630</td> <td>   -0.240</td>\n",
       "</tr>\n",
       "<tr>\n",
       "  <th>Last Notable Activity_Others</th>                         <td>    1.0024</td> <td>    0.370</td> <td>    2.708</td> <td> 0.007</td> <td>    0.277</td> <td>    1.728</td>\n",
       "</tr>\n",
       "</table>"
      ],
      "text/latex": [
       "\\begin{center}\n",
       "\\begin{tabular}{lclc}\n",
       "\\toprule\n",
       "\\textbf{Dep. Variable:}                                        &    Converted     & \\textbf{  No. Observations:  } &     6468    \\\\\n",
       "\\textbf{Model:}                                                &       GLM        & \\textbf{  Df Residuals:      } &     6454    \\\\\n",
       "\\textbf{Model Family:}                                         &     Binomial     & \\textbf{  Df Model:          } &       13    \\\\\n",
       "\\textbf{Link Function:}                                        &      Logit       & \\textbf{  Scale:             } &    1.0000   \\\\\n",
       "\\textbf{Method:}                                               &       IRLS       & \\textbf{  Log-Likelihood:    } &   -1996.8   \\\\\n",
       "\\textbf{Date:}                                                 & Tue, 17 Sep 2024 & \\textbf{  Deviance:          } &    3993.6   \\\\\n",
       "\\textbf{Time:}                                                 &     12:17:34     & \\textbf{  Pearson chi2:      } &  9.01e+03   \\\\\n",
       "\\textbf{No. Iterations:}                                       &        7         & \\textbf{  Pseudo R-squ. (CS):} &   0.5093    \\\\\n",
       "\\textbf{Covariance Type:}                                      &    nonrobust     & \\textbf{                     } &             \\\\\n",
       "\\bottomrule\n",
       "\\end{tabular}\n",
       "\\begin{tabular}{lcccccc}\n",
       "                                                               & \\textbf{coef} & \\textbf{std err} & \\textbf{z} & \\textbf{P$> |$z$|$} & \\textbf{[0.025} & \\textbf{0.975]}  \\\\\n",
       "\\midrule\n",
       "\\textbf{const}                                                 &      -2.4304  &        0.125     &   -19.391  &         0.000        &       -2.676    &       -2.185     \\\\\n",
       "\\textbf{Total Time Spent on Website}                           &       1.0457  &        0.045     &    23.171  &         0.000        &        0.957    &        1.134     \\\\\n",
       "\\textbf{Lead Origin\\_Lead Add Form}                            &       3.4716  &        0.212     &    16.362  &         0.000        &        3.056    &        3.887     \\\\\n",
       "\\textbf{Lead Source\\_Olark Chat}                               &       1.3009  &        0.118     &    11.071  &         0.000        &        1.071    &        1.531     \\\\\n",
       "\\textbf{Lead Source\\_Welingak Website}                         &       2.5681  &        0.747     &     3.436  &         0.001        &        1.103    &        4.033     \\\\\n",
       "\\textbf{Last Activity\\_Email Bounced}                          &      -1.3276  &        0.381     &    -3.480  &         0.001        &       -2.075    &       -0.580     \\\\\n",
       "\\textbf{Last Activity\\_Email Opened}                           &       0.6469  &        0.121     &     5.363  &         0.000        &        0.410    &        0.883     \\\\\n",
       "\\textbf{Last Activity\\_SMS Sent}                               &       1.6406  &        0.123     &    13.384  &         0.000        &        1.400    &        1.881     \\\\\n",
       "\\textbf{Specialization\\_International Business}                &      -0.5790  &        0.330     &    -1.757  &         0.079        &       -1.225    &        0.067     \\\\\n",
       "\\textbf{What is your current occupation\\_Other}                &      -0.2901  &        0.093     &    -3.128  &         0.002        &       -0.472    &       -0.108     \\\\\n",
       "\\textbf{What is your current occupation\\_Working Professional} &       1.6004  &        0.239     &     6.706  &         0.000        &        1.133    &        2.068     \\\\\n",
       "\\textbf{Tags\\_Will revert after reading the email}             &       4.2199  &        0.170     &    24.851  &         0.000        &        3.887    &        4.553     \\\\\n",
       "\\textbf{Last Notable Activity\\_Modified}                       &      -0.4349  &        0.100     &    -4.367  &         0.000        &       -0.630    &       -0.240     \\\\\n",
       "\\textbf{Last Notable Activity\\_Others}                         &       1.0024  &        0.370     &     2.708  &         0.007        &        0.277    &        1.728     \\\\\n",
       "\\bottomrule\n",
       "\\end{tabular}\n",
       "%\\caption{Generalized Linear Model Regression Results}\n",
       "\\end{center}"
      ],
      "text/plain": [
       "<class 'statsmodels.iolib.summary.Summary'>\n",
       "\"\"\"\n",
       "                 Generalized Linear Model Regression Results                  \n",
       "==============================================================================\n",
       "Dep. Variable:              Converted   No. Observations:                 6468\n",
       "Model:                            GLM   Df Residuals:                     6454\n",
       "Model Family:                Binomial   Df Model:                           13\n",
       "Link Function:                  Logit   Scale:                          1.0000\n",
       "Method:                          IRLS   Log-Likelihood:                -1996.8\n",
       "Date:                Tue, 17 Sep 2024   Deviance:                       3993.6\n",
       "Time:                        12:17:34   Pearson chi2:                 9.01e+03\n",
       "No. Iterations:                     7   Pseudo R-squ. (CS):             0.5093\n",
       "Covariance Type:            nonrobust                                         \n",
       "========================================================================================================================\n",
       "                                                           coef    std err          z      P>|z|      [0.025      0.975]\n",
       "------------------------------------------------------------------------------------------------------------------------\n",
       "const                                                   -2.4304      0.125    -19.391      0.000      -2.676      -2.185\n",
       "Total Time Spent on Website                              1.0457      0.045     23.171      0.000       0.957       1.134\n",
       "Lead Origin_Lead Add Form                                3.4716      0.212     16.362      0.000       3.056       3.887\n",
       "Lead Source_Olark Chat                                   1.3009      0.118     11.071      0.000       1.071       1.531\n",
       "Lead Source_Welingak Website                             2.5681      0.747      3.436      0.001       1.103       4.033\n",
       "Last Activity_Email Bounced                             -1.3276      0.381     -3.480      0.001      -2.075      -0.580\n",
       "Last Activity_Email Opened                               0.6469      0.121      5.363      0.000       0.410       0.883\n",
       "Last Activity_SMS Sent                                   1.6406      0.123     13.384      0.000       1.400       1.881\n",
       "Specialization_International Business                   -0.5790      0.330     -1.757      0.079      -1.225       0.067\n",
       "What is your current occupation_Other                   -0.2901      0.093     -3.128      0.002      -0.472      -0.108\n",
       "What is your current occupation_Working Professional     1.6004      0.239      6.706      0.000       1.133       2.068\n",
       "Tags_Will revert after reading the email                 4.2199      0.170     24.851      0.000       3.887       4.553\n",
       "Last Notable Activity_Modified                          -0.4349      0.100     -4.367      0.000      -0.630      -0.240\n",
       "Last Notable Activity_Others                             1.0024      0.370      2.708      0.007       0.277       1.728\n",
       "========================================================================================================================\n",
       "\"\"\""
      ]
     },
     "execution_count": 86,
     "metadata": {},
     "output_type": "execute_result"
    }
   ],
   "source": [
    "#Dropping 'Specialization_Travel and Tourism' because of high p-Value and rebuilding model\n",
    "col = col.drop('Specialization_Travel and Tourism', 1)\n",
    "\n",
    "X_train_9 = sm.add_constant(X_train[col])\n",
    "log_m9 = sm.GLM(y_train,X_train_9.astype(float),family=sm.families.Binomial())\n",
    "log_model_9 = log_m9.fit()\n",
    "log_model_9.summary()"
   ]
  },
  {
   "cell_type": "code",
   "execution_count": 87,
   "id": "78dc2847-eaeb-462f-b326-5705585161e3",
   "metadata": {},
   "outputs": [
    {
     "data": {
      "text/html": [
       "<table class=\"simpletable\">\n",
       "<caption>Generalized Linear Model Regression Results</caption>\n",
       "<tr>\n",
       "  <th>Dep. Variable:</th>       <td>Converted</td>    <th>  No. Observations:  </th>  <td>  6468</td> \n",
       "</tr>\n",
       "<tr>\n",
       "  <th>Model:</th>                  <td>GLM</td>       <th>  Df Residuals:      </th>  <td>  6455</td> \n",
       "</tr>\n",
       "<tr>\n",
       "  <th>Model Family:</th>        <td>Binomial</td>     <th>  Df Model:          </th>  <td>    12</td> \n",
       "</tr>\n",
       "<tr>\n",
       "  <th>Link Function:</th>         <td>Logit</td>      <th>  Scale:             </th> <td>  1.0000</td>\n",
       "</tr>\n",
       "<tr>\n",
       "  <th>Method:</th>                <td>IRLS</td>       <th>  Log-Likelihood:    </th> <td> -1998.4</td>\n",
       "</tr>\n",
       "<tr>\n",
       "  <th>Date:</th>            <td>Tue, 17 Sep 2024</td> <th>  Deviance:          </th> <td>  3996.8</td>\n",
       "</tr>\n",
       "<tr>\n",
       "  <th>Time:</th>                <td>12:17:36</td>     <th>  Pearson chi2:      </th> <td>8.97e+03</td>\n",
       "</tr>\n",
       "<tr>\n",
       "  <th>No. Iterations:</th>          <td>7</td>        <th>  Pseudo R-squ. (CS):</th>  <td>0.5091</td> \n",
       "</tr>\n",
       "<tr>\n",
       "  <th>Covariance Type:</th>     <td>nonrobust</td>    <th>                     </th>     <td> </td>   \n",
       "</tr>\n",
       "</table>\n",
       "<table class=\"simpletable\">\n",
       "<tr>\n",
       "                            <td></td>                              <th>coef</th>     <th>std err</th>      <th>z</th>      <th>P>|z|</th>  <th>[0.025</th>    <th>0.975]</th>  \n",
       "</tr>\n",
       "<tr>\n",
       "  <th>const</th>                                                <td>   -2.4404</td> <td>    0.125</td> <td>  -19.497</td> <td> 0.000</td> <td>   -2.686</td> <td>   -2.195</td>\n",
       "</tr>\n",
       "<tr>\n",
       "  <th>Total Time Spent on Website</th>                          <td>    1.0460</td> <td>    0.045</td> <td>   23.189</td> <td> 0.000</td> <td>    0.958</td> <td>    1.134</td>\n",
       "</tr>\n",
       "<tr>\n",
       "  <th>Lead Origin_Lead Add Form</th>                            <td>    3.4757</td> <td>    0.212</td> <td>   16.394</td> <td> 0.000</td> <td>    3.060</td> <td>    3.891</td>\n",
       "</tr>\n",
       "<tr>\n",
       "  <th>Lead Source_Olark Chat</th>                               <td>    1.3117</td> <td>    0.117</td> <td>   11.174</td> <td> 0.000</td> <td>    1.082</td> <td>    1.542</td>\n",
       "</tr>\n",
       "<tr>\n",
       "  <th>Lead Source_Welingak Website</th>                         <td>    2.5769</td> <td>    0.747</td> <td>    3.448</td> <td> 0.001</td> <td>    1.112</td> <td>    4.042</td>\n",
       "</tr>\n",
       "<tr>\n",
       "  <th>Last Activity_Email Bounced</th>                          <td>   -1.3334</td> <td>    0.383</td> <td>   -3.485</td> <td> 0.000</td> <td>   -2.083</td> <td>   -0.583</td>\n",
       "</tr>\n",
       "<tr>\n",
       "  <th>Last Activity_Email Opened</th>                           <td>    0.6436</td> <td>    0.121</td> <td>    5.339</td> <td> 0.000</td> <td>    0.407</td> <td>    0.880</td>\n",
       "</tr>\n",
       "<tr>\n",
       "  <th>Last Activity_SMS Sent</th>                               <td>    1.6376</td> <td>    0.122</td> <td>   13.372</td> <td> 0.000</td> <td>    1.398</td> <td>    1.878</td>\n",
       "</tr>\n",
       "<tr>\n",
       "  <th>What is your current occupation_Other</th>                <td>   -0.2896</td> <td>    0.093</td> <td>   -3.124</td> <td> 0.002</td> <td>   -0.471</td> <td>   -0.108</td>\n",
       "</tr>\n",
       "<tr>\n",
       "  <th>What is your current occupation_Working Professional</th> <td>    1.6036</td> <td>    0.238</td> <td>    6.729</td> <td> 0.000</td> <td>    1.137</td> <td>    2.071</td>\n",
       "</tr>\n",
       "<tr>\n",
       "  <th>Tags_Will revert after reading the email</th>             <td>    4.2151</td> <td>    0.170</td> <td>   24.832</td> <td> 0.000</td> <td>    3.882</td> <td>    4.548</td>\n",
       "</tr>\n",
       "<tr>\n",
       "  <th>Last Notable Activity_Modified</th>                       <td>   -0.4341</td> <td>    0.100</td> <td>   -4.360</td> <td> 0.000</td> <td>   -0.629</td> <td>   -0.239</td>\n",
       "</tr>\n",
       "<tr>\n",
       "  <th>Last Notable Activity_Others</th>                         <td>    0.9874</td> <td>    0.371</td> <td>    2.660</td> <td> 0.008</td> <td>    0.260</td> <td>    1.715</td>\n",
       "</tr>\n",
       "</table>"
      ],
      "text/latex": [
       "\\begin{center}\n",
       "\\begin{tabular}{lclc}\n",
       "\\toprule\n",
       "\\textbf{Dep. Variable:}                                        &    Converted     & \\textbf{  No. Observations:  } &     6468    \\\\\n",
       "\\textbf{Model:}                                                &       GLM        & \\textbf{  Df Residuals:      } &     6455    \\\\\n",
       "\\textbf{Model Family:}                                         &     Binomial     & \\textbf{  Df Model:          } &       12    \\\\\n",
       "\\textbf{Link Function:}                                        &      Logit       & \\textbf{  Scale:             } &    1.0000   \\\\\n",
       "\\textbf{Method:}                                               &       IRLS       & \\textbf{  Log-Likelihood:    } &   -1998.4   \\\\\n",
       "\\textbf{Date:}                                                 & Tue, 17 Sep 2024 & \\textbf{  Deviance:          } &    3996.8   \\\\\n",
       "\\textbf{Time:}                                                 &     12:17:36     & \\textbf{  Pearson chi2:      } &  8.97e+03   \\\\\n",
       "\\textbf{No. Iterations:}                                       &        7         & \\textbf{  Pseudo R-squ. (CS):} &   0.5091    \\\\\n",
       "\\textbf{Covariance Type:}                                      &    nonrobust     & \\textbf{                     } &             \\\\\n",
       "\\bottomrule\n",
       "\\end{tabular}\n",
       "\\begin{tabular}{lcccccc}\n",
       "                                                               & \\textbf{coef} & \\textbf{std err} & \\textbf{z} & \\textbf{P$> |$z$|$} & \\textbf{[0.025} & \\textbf{0.975]}  \\\\\n",
       "\\midrule\n",
       "\\textbf{const}                                                 &      -2.4404  &        0.125     &   -19.497  &         0.000        &       -2.686    &       -2.195     \\\\\n",
       "\\textbf{Total Time Spent on Website}                           &       1.0460  &        0.045     &    23.189  &         0.000        &        0.958    &        1.134     \\\\\n",
       "\\textbf{Lead Origin\\_Lead Add Form}                            &       3.4757  &        0.212     &    16.394  &         0.000        &        3.060    &        3.891     \\\\\n",
       "\\textbf{Lead Source\\_Olark Chat}                               &       1.3117  &        0.117     &    11.174  &         0.000        &        1.082    &        1.542     \\\\\n",
       "\\textbf{Lead Source\\_Welingak Website}                         &       2.5769  &        0.747     &     3.448  &         0.001        &        1.112    &        4.042     \\\\\n",
       "\\textbf{Last Activity\\_Email Bounced}                          &      -1.3334  &        0.383     &    -3.485  &         0.000        &       -2.083    &       -0.583     \\\\\n",
       "\\textbf{Last Activity\\_Email Opened}                           &       0.6436  &        0.121     &     5.339  &         0.000        &        0.407    &        0.880     \\\\\n",
       "\\textbf{Last Activity\\_SMS Sent}                               &       1.6376  &        0.122     &    13.372  &         0.000        &        1.398    &        1.878     \\\\\n",
       "\\textbf{What is your current occupation\\_Other}                &      -0.2896  &        0.093     &    -3.124  &         0.002        &       -0.471    &       -0.108     \\\\\n",
       "\\textbf{What is your current occupation\\_Working Professional} &       1.6036  &        0.238     &     6.729  &         0.000        &        1.137    &        2.071     \\\\\n",
       "\\textbf{Tags\\_Will revert after reading the email}             &       4.2151  &        0.170     &    24.832  &         0.000        &        3.882    &        4.548     \\\\\n",
       "\\textbf{Last Notable Activity\\_Modified}                       &      -0.4341  &        0.100     &    -4.360  &         0.000        &       -0.629    &       -0.239     \\\\\n",
       "\\textbf{Last Notable Activity\\_Others}                         &       0.9874  &        0.371     &     2.660  &         0.008        &        0.260    &        1.715     \\\\\n",
       "\\bottomrule\n",
       "\\end{tabular}\n",
       "%\\caption{Generalized Linear Model Regression Results}\n",
       "\\end{center}"
      ],
      "text/plain": [
       "<class 'statsmodels.iolib.summary.Summary'>\n",
       "\"\"\"\n",
       "                 Generalized Linear Model Regression Results                  \n",
       "==============================================================================\n",
       "Dep. Variable:              Converted   No. Observations:                 6468\n",
       "Model:                            GLM   Df Residuals:                     6455\n",
       "Model Family:                Binomial   Df Model:                           12\n",
       "Link Function:                  Logit   Scale:                          1.0000\n",
       "Method:                          IRLS   Log-Likelihood:                -1998.4\n",
       "Date:                Tue, 17 Sep 2024   Deviance:                       3996.8\n",
       "Time:                        12:17:36   Pearson chi2:                 8.97e+03\n",
       "No. Iterations:                     7   Pseudo R-squ. (CS):             0.5091\n",
       "Covariance Type:            nonrobust                                         \n",
       "========================================================================================================================\n",
       "                                                           coef    std err          z      P>|z|      [0.025      0.975]\n",
       "------------------------------------------------------------------------------------------------------------------------\n",
       "const                                                   -2.4404      0.125    -19.497      0.000      -2.686      -2.195\n",
       "Total Time Spent on Website                              1.0460      0.045     23.189      0.000       0.958       1.134\n",
       "Lead Origin_Lead Add Form                                3.4757      0.212     16.394      0.000       3.060       3.891\n",
       "Lead Source_Olark Chat                                   1.3117      0.117     11.174      0.000       1.082       1.542\n",
       "Lead Source_Welingak Website                             2.5769      0.747      3.448      0.001       1.112       4.042\n",
       "Last Activity_Email Bounced                             -1.3334      0.383     -3.485      0.000      -2.083      -0.583\n",
       "Last Activity_Email Opened                               0.6436      0.121      5.339      0.000       0.407       0.880\n",
       "Last Activity_SMS Sent                                   1.6376      0.122     13.372      0.000       1.398       1.878\n",
       "What is your current occupation_Other                   -0.2896      0.093     -3.124      0.002      -0.471      -0.108\n",
       "What is your current occupation_Working Professional     1.6036      0.238      6.729      0.000       1.137       2.071\n",
       "Tags_Will revert after reading the email                 4.2151      0.170     24.832      0.000       3.882       4.548\n",
       "Last Notable Activity_Modified                          -0.4341      0.100     -4.360      0.000      -0.629      -0.239\n",
       "Last Notable Activity_Others                             0.9874      0.371      2.660      0.008       0.260       1.715\n",
       "========================================================================================================================\n",
       "\"\"\""
      ]
     },
     "execution_count": 87,
     "metadata": {},
     "output_type": "execute_result"
    }
   ],
   "source": [
    "#Dropping 'Specialization_International Business' because of high p-Value and rebuilding model\n",
    "col = col.drop('Specialization_International Business', 1)\n",
    "\n",
    "X_train_10 = sm.add_constant(X_train[col])\n",
    "log_m10 = sm.GLM(y_train,X_train_10.astype(float),family=sm.families.Binomial())\n",
    "log_model_10 = log_m10.fit()\n",
    "log_model_10.summary()"
   ]
  },
  {
   "cell_type": "code",
   "execution_count": 88,
   "id": "c389e482-aeeb-4b7d-becf-4f986d3ded0e",
   "metadata": {},
   "outputs": [
    {
     "data": {
      "text/html": [
       "<div>\n",
       "<style scoped>\n",
       "    .dataframe tbody tr th:only-of-type {\n",
       "        vertical-align: middle;\n",
       "    }\n",
       "\n",
       "    .dataframe tbody tr th {\n",
       "        vertical-align: top;\n",
       "    }\n",
       "\n",
       "    .dataframe thead th {\n",
       "        text-align: right;\n",
       "    }\n",
       "</style>\n",
       "<table border=\"1\" class=\"dataframe\">\n",
       "  <thead>\n",
       "    <tr style=\"text-align: right;\">\n",
       "      <th></th>\n",
       "      <th>Features</th>\n",
       "      <th>VIF</th>\n",
       "    </tr>\n",
       "  </thead>\n",
       "  <tbody>\n",
       "    <tr>\n",
       "      <th>9</th>\n",
       "      <td>Tags_Will revert after reading the email</td>\n",
       "      <td>1.83</td>\n",
       "    </tr>\n",
       "    <tr>\n",
       "      <th>7</th>\n",
       "      <td>What is your current occupation_Other</td>\n",
       "      <td>1.58</td>\n",
       "    </tr>\n",
       "    <tr>\n",
       "      <th>1</th>\n",
       "      <td>Lead Origin_Lead Add Form</td>\n",
       "      <td>1.52</td>\n",
       "    </tr>\n",
       "    <tr>\n",
       "      <th>2</th>\n",
       "      <td>Lead Source_Olark Chat</td>\n",
       "      <td>1.47</td>\n",
       "    </tr>\n",
       "    <tr>\n",
       "      <th>6</th>\n",
       "      <td>Last Activity_SMS Sent</td>\n",
       "      <td>1.45</td>\n",
       "    </tr>\n",
       "    <tr>\n",
       "      <th>10</th>\n",
       "      <td>Last Notable Activity_Modified</td>\n",
       "      <td>1.43</td>\n",
       "    </tr>\n",
       "    <tr>\n",
       "      <th>5</th>\n",
       "      <td>Last Activity_Email Opened</td>\n",
       "      <td>1.32</td>\n",
       "    </tr>\n",
       "    <tr>\n",
       "      <th>0</th>\n",
       "      <td>Total Time Spent on Website</td>\n",
       "      <td>1.31</td>\n",
       "    </tr>\n",
       "    <tr>\n",
       "      <th>8</th>\n",
       "      <td>What is your current occupation_Working Profes...</td>\n",
       "      <td>1.31</td>\n",
       "    </tr>\n",
       "    <tr>\n",
       "      <th>3</th>\n",
       "      <td>Lead Source_Welingak Website</td>\n",
       "      <td>1.26</td>\n",
       "    </tr>\n",
       "    <tr>\n",
       "      <th>4</th>\n",
       "      <td>Last Activity_Email Bounced</td>\n",
       "      <td>1.16</td>\n",
       "    </tr>\n",
       "    <tr>\n",
       "      <th>11</th>\n",
       "      <td>Last Notable Activity_Others</td>\n",
       "      <td>1.09</td>\n",
       "    </tr>\n",
       "  </tbody>\n",
       "</table>\n",
       "</div>"
      ],
      "text/plain": [
       "                                             Features   VIF\n",
       "9            Tags_Will revert after reading the email  1.83\n",
       "7               What is your current occupation_Other  1.58\n",
       "1                           Lead Origin_Lead Add Form  1.52\n",
       "2                              Lead Source_Olark Chat  1.47\n",
       "6                              Last Activity_SMS Sent  1.45\n",
       "10                     Last Notable Activity_Modified  1.43\n",
       "5                          Last Activity_Email Opened  1.32\n",
       "0                         Total Time Spent on Website  1.31\n",
       "8   What is your current occupation_Working Profes...  1.31\n",
       "3                        Lead Source_Welingak Website  1.26\n",
       "4                         Last Activity_Email Bounced  1.16\n",
       "11                       Last Notable Activity_Others  1.09"
      ]
     },
     "execution_count": 88,
     "metadata": {},
     "output_type": "execute_result"
    }
   ],
   "source": [
    "#P-Value is under control, lets check VIF\n",
    "# Create a dataframe that will contain the names of all the feature variables and their respective VIFs\n",
    "vif = pd.DataFrame()\n",
    "vif['Features'] = X_train[col].columns\n",
    "vif['VIF'] = [variance_inflation_factor(X_train[col].astype(float), i) for i in range(X_train[col].shape[1])]\n",
    "vif['VIF'] = round(vif['VIF'], 2)\n",
    "vif = vif.sort_values(by = \"VIF\", ascending = False)\n",
    "vif"
   ]
  },
  {
   "cell_type": "markdown",
   "id": "cd6f9a7b-56cd-4f65-9a16-38c4e9c279ba",
   "metadata": {},
   "source": [
    "**VIF is also under control as none have more than 5 VIF value**\n",
    "\n",
    "## Probability prediction"
   ]
  },
  {
   "cell_type": "code",
   "execution_count": 89,
   "id": "35d9e8a8-255a-4389-8e20-1f271e8a9d8e",
   "metadata": {},
   "outputs": [
    {
     "data": {
      "text/plain": [
       "array([0.19604169, 0.14296916, 0.22999366, 0.65139744, 0.13642089,\n",
       "       0.99905604, 0.07174211, 0.87339289, 0.07375561, 0.99583803])"
      ]
     },
     "execution_count": 89,
     "metadata": {},
     "output_type": "execute_result"
    }
   ],
   "source": [
    "y_train_pred = log_model_10.predict(X_train_10.astype(float)).values.reshape(-1)\n",
    "y_train_pred[:10]"
   ]
  },
  {
   "cell_type": "code",
   "execution_count": 90,
   "id": "17a1ce7a-754b-4263-80fa-f40cd5758161",
   "metadata": {},
   "outputs": [
    {
     "data": {
      "text/plain": [
       "array([0.19604169, 0.14296916, 0.22999366, ..., 0.19604169, 0.03405439,\n",
       "       0.10575149])"
      ]
     },
     "execution_count": 90,
     "metadata": {},
     "output_type": "execute_result"
    }
   ],
   "source": [
    "y_train_pred"
   ]
  },
  {
   "cell_type": "code",
   "execution_count": 91,
   "id": "fe948eba-67ab-400f-ba57-f3f248c7535b",
   "metadata": {},
   "outputs": [
    {
     "data": {
      "text/plain": [
       "1871    0\n",
       "6795    0\n",
       "3516    0\n",
       "8105    0\n",
       "3934    0\n",
       "       ..\n",
       "350     1\n",
       "79      1\n",
       "8039    1\n",
       "6936    0\n",
       "5640    0\n",
       "Name: Converted, Length: 6468, dtype: int64"
      ]
     },
     "execution_count": 91,
     "metadata": {},
     "output_type": "execute_result"
    }
   ],
   "source": [
    "y_train"
   ]
  },
  {
   "cell_type": "code",
   "execution_count": 92,
   "id": "e3ef4f78-607c-4f3a-a749-1d6b66671dce",
   "metadata": {},
   "outputs": [
    {
     "data": {
      "text/html": [
       "<div>\n",
       "<style scoped>\n",
       "    .dataframe tbody tr th:only-of-type {\n",
       "        vertical-align: middle;\n",
       "    }\n",
       "\n",
       "    .dataframe tbody tr th {\n",
       "        vertical-align: top;\n",
       "    }\n",
       "\n",
       "    .dataframe thead th {\n",
       "        text-align: right;\n",
       "    }\n",
       "</style>\n",
       "<table border=\"1\" class=\"dataframe\">\n",
       "  <thead>\n",
       "    <tr style=\"text-align: right;\">\n",
       "      <th></th>\n",
       "      <th>Converted_Ind</th>\n",
       "      <th>Converted_Prob</th>\n",
       "      <th>Prospect_Id</th>\n",
       "    </tr>\n",
       "  </thead>\n",
       "  <tbody>\n",
       "    <tr>\n",
       "      <th>0</th>\n",
       "      <td>0</td>\n",
       "      <td>0.196042</td>\n",
       "      <td>1871</td>\n",
       "    </tr>\n",
       "    <tr>\n",
       "      <th>1</th>\n",
       "      <td>0</td>\n",
       "      <td>0.142969</td>\n",
       "      <td>6795</td>\n",
       "    </tr>\n",
       "    <tr>\n",
       "      <th>2</th>\n",
       "      <td>0</td>\n",
       "      <td>0.229994</td>\n",
       "      <td>3516</td>\n",
       "    </tr>\n",
       "    <tr>\n",
       "      <th>3</th>\n",
       "      <td>0</td>\n",
       "      <td>0.651397</td>\n",
       "      <td>8105</td>\n",
       "    </tr>\n",
       "    <tr>\n",
       "      <th>4</th>\n",
       "      <td>0</td>\n",
       "      <td>0.136421</td>\n",
       "      <td>3934</td>\n",
       "    </tr>\n",
       "  </tbody>\n",
       "</table>\n",
       "</div>"
      ],
      "text/plain": [
       "   Converted_Ind  Converted_Prob  Prospect_Id\n",
       "0              0        0.196042         1871\n",
       "1              0        0.142969         6795\n",
       "2              0        0.229994         3516\n",
       "3              0        0.651397         8105\n",
       "4              0        0.136421         3934"
      ]
     },
     "execution_count": 92,
     "metadata": {},
     "output_type": "execute_result"
    }
   ],
   "source": [
    "y_train_pred_final = pd.DataFrame({'Converted_Ind':y_train.values, 'Converted_Prob': y_train_pred})\n",
    "y_train_pred_final['Prospect_Id'] = y_train.index\n",
    "y_train_pred_final.head()"
   ]
  },
  {
   "cell_type": "code",
   "execution_count": 93,
   "id": "08da8c27-0c89-4fbd-8c8b-d7a1bea17420",
   "metadata": {},
   "outputs": [
    {
     "data": {
      "text/html": [
       "<div>\n",
       "<style scoped>\n",
       "    .dataframe tbody tr th:only-of-type {\n",
       "        vertical-align: middle;\n",
       "    }\n",
       "\n",
       "    .dataframe tbody tr th {\n",
       "        vertical-align: top;\n",
       "    }\n",
       "\n",
       "    .dataframe thead th {\n",
       "        text-align: right;\n",
       "    }\n",
       "</style>\n",
       "<table border=\"1\" class=\"dataframe\">\n",
       "  <thead>\n",
       "    <tr style=\"text-align: right;\">\n",
       "      <th></th>\n",
       "      <th>Converted_Ind</th>\n",
       "      <th>Converted_Prob</th>\n",
       "      <th>Prospect_Id</th>\n",
       "      <th>Predicted</th>\n",
       "    </tr>\n",
       "  </thead>\n",
       "  <tbody>\n",
       "    <tr>\n",
       "      <th>0</th>\n",
       "      <td>0</td>\n",
       "      <td>0.196042</td>\n",
       "      <td>1871</td>\n",
       "      <td>0</td>\n",
       "    </tr>\n",
       "    <tr>\n",
       "      <th>1</th>\n",
       "      <td>0</td>\n",
       "      <td>0.142969</td>\n",
       "      <td>6795</td>\n",
       "      <td>0</td>\n",
       "    </tr>\n",
       "    <tr>\n",
       "      <th>2</th>\n",
       "      <td>0</td>\n",
       "      <td>0.229994</td>\n",
       "      <td>3516</td>\n",
       "      <td>0</td>\n",
       "    </tr>\n",
       "    <tr>\n",
       "      <th>3</th>\n",
       "      <td>0</td>\n",
       "      <td>0.651397</td>\n",
       "      <td>8105</td>\n",
       "      <td>1</td>\n",
       "    </tr>\n",
       "    <tr>\n",
       "      <th>4</th>\n",
       "      <td>0</td>\n",
       "      <td>0.136421</td>\n",
       "      <td>3934</td>\n",
       "      <td>0</td>\n",
       "    </tr>\n",
       "  </tbody>\n",
       "</table>\n",
       "</div>"
      ],
      "text/plain": [
       "   Converted_Ind  Converted_Prob  Prospect_Id  Predicted\n",
       "0              0        0.196042         1871          0\n",
       "1              0        0.142969         6795          0\n",
       "2              0        0.229994         3516          0\n",
       "3              0        0.651397         8105          1\n",
       "4              0        0.136421         3934          0"
      ]
     },
     "execution_count": 93,
     "metadata": {},
     "output_type": "execute_result"
    }
   ],
   "source": [
    "y_train_pred_final['Predicted'] = y_train_pred_final.Converted_Prob.map(lambda x: 1 if x>0.5 else 0)\n",
    "y_train_pred_final.head()"
   ]
  },
  {
   "cell_type": "markdown",
   "id": "d0046557-b2ba-44d8-9f84-e8dbbb50725b",
   "metadata": {},
   "source": [
    "## Creating Confusion Matrix"
   ]
  },
  {
   "cell_type": "code",
   "execution_count": 94,
   "id": "92fa5483-8ac4-4dbc-b178-382d4a38da64",
   "metadata": {},
   "outputs": [
    {
     "data": {
      "text/plain": [
       "array([[3746,  256],\n",
       "       [ 615, 1851]], dtype=int64)"
      ]
     },
     "execution_count": 94,
     "metadata": {},
     "output_type": "execute_result"
    }
   ],
   "source": [
    "confusion = confusion_matrix(y_train_pred_final.Converted_Ind, y_train_pred_final.Predicted )\n",
    "confusion"
   ]
  },
  {
   "cell_type": "code",
   "execution_count": 95,
   "id": "0b598bd2-0a73-40ce-9227-2a9ea283abe9",
   "metadata": {},
   "outputs": [
    {
     "data": {
      "text/plain": [
       "0.8653370439084724"
      ]
     },
     "execution_count": 95,
     "metadata": {},
     "output_type": "execute_result"
    }
   ],
   "source": [
    "# Let's check the overall accuracy.\n",
    "accuracy_score(y_train_pred_final.Converted_Ind, y_train_pred_final.Predicted)"
   ]
  },
  {
   "cell_type": "code",
   "execution_count": 96,
   "id": "c4d3ec7e-1eac-4b8d-b862-a066df8c8ce4",
   "metadata": {},
   "outputs": [
    {
     "name": "stdout",
     "output_type": "stream",
     "text": [
      "              precision    recall  f1-score   support\n",
      "\n",
      "           0       0.86      0.94      0.90      4002\n",
      "           1       0.88      0.75      0.81      2466\n",
      "\n",
      "    accuracy                           0.87      6468\n",
      "   macro avg       0.87      0.84      0.85      6468\n",
      "weighted avg       0.87      0.87      0.86      6468\n",
      "\n"
     ]
    }
   ],
   "source": [
    "print(classification_report( y_train_pred_final.Converted_Ind, y_train_pred_final.Predicted ))"
   ]
  },
  {
   "cell_type": "code",
   "execution_count": 97,
   "id": "e511cdf5-1b82-421f-8a8f-b43290ca9931",
   "metadata": {},
   "outputs": [],
   "source": [
    "#Metrics beyond Accuracy\n",
    "TP = confusion[1,1] # true positive \n",
    "TN = confusion[0,0] # true negatives\n",
    "FP = confusion[0,1] # false positives\n",
    "FN = confusion[1,0] # false negatives"
   ]
  },
  {
   "cell_type": "code",
   "execution_count": 98,
   "id": "7ecaf2c4-05c6-46ad-a271-bf1c4aa2faba",
   "metadata": {},
   "outputs": [
    {
     "data": {
      "text/plain": [
       "0.7506082725060828"
      ]
     },
     "execution_count": 98,
     "metadata": {},
     "output_type": "execute_result"
    }
   ],
   "source": [
    "# Let's see the sensitivity/recall of our logistic regression model -- True Positive Rate\n",
    "TP / float(TP+FN)"
   ]
  },
  {
   "cell_type": "code",
   "execution_count": 99,
   "id": "5afc644a-e1e7-4896-aa1f-8c80ba8cdf2b",
   "metadata": {},
   "outputs": [
    {
     "data": {
      "text/plain": [
       "0.936031984007996"
      ]
     },
     "execution_count": 99,
     "metadata": {},
     "output_type": "execute_result"
    }
   ],
   "source": [
    "# Let us calculate specificity\n",
    "TN / float(TN+FP)"
   ]
  },
  {
   "cell_type": "code",
   "execution_count": 100,
   "id": "13545d85-b2ae-4f71-b031-5a02ec106a07",
   "metadata": {},
   "outputs": [
    {
     "name": "stdout",
     "output_type": "stream",
     "text": [
      "0.063968015992004\n"
     ]
    }
   ],
   "source": [
    "# Calculate false postive rate - predicting converted when customer does have not converted -- 1-Specificity\n",
    "print(FP/ float(TN+FP))"
   ]
  },
  {
   "cell_type": "code",
   "execution_count": 101,
   "id": "3e4ab58f-450c-46f0-91eb-b232277fd56b",
   "metadata": {},
   "outputs": [
    {
     "name": "stdout",
     "output_type": "stream",
     "text": [
      "0.878500237304224\n"
     ]
    }
   ],
   "source": [
    "# positive predictive value - Precision\n",
    "print (TP / float(TP+FP))"
   ]
  },
  {
   "cell_type": "code",
   "execution_count": 102,
   "id": "85d32c50-3c98-4358-8421-741b7a60033c",
   "metadata": {},
   "outputs": [
    {
     "name": "stdout",
     "output_type": "stream",
     "text": [
      "0.8589772987846824\n"
     ]
    }
   ],
   "source": [
    "# Negative predictive value - Precision\n",
    "print (TN / float(TN+ FN))"
   ]
  },
  {
   "cell_type": "markdown",
   "id": "b747a9cc-37a4-41f7-ae54-57c4b5a98857",
   "metadata": {},
   "source": [
    "## Plotting ROC Curve\n",
    "\n",
    "An ROC curve demonstrates several things:\n",
    "It shows the tradeoff between sensitivity and specificity (any increase in sensitivity will be accompanied by a decrease in specificity).\n",
    "The closer the curve follows to the left-hand border and then the top border of the ROC space, the more accurate the test.\n",
    "The closer the curve comes to the 45-degree diagonal of the ROC space, the less accurate the test."
   ]
  },
  {
   "cell_type": "code",
   "execution_count": 103,
   "id": "9b40b5b7-da2e-4720-ab1c-691f6bd4c65b",
   "metadata": {},
   "outputs": [],
   "source": [
    "def draw_roc( actual, probs ):\n",
    "    fpr, tpr, thresholds = roc_curve( actual, probs,\n",
    "                                              drop_intermediate = False )\n",
    "    auc_score = roc_auc_score( actual, probs )\n",
    "    plt.figure(figsize=(5, 5))\n",
    "    plt.plot( fpr, tpr, label='ROC curve (area = %0.2f)' % auc_score )\n",
    "    plt.plot([0, 1], [0, 1], 'k--')\n",
    "    plt.xlim([0.0, 1.0])\n",
    "    plt.ylim([0.0, 1.05])\n",
    "    plt.xlabel('False Positive Rate or [1 - True Negative Rate]')\n",
    "    plt.ylabel('True Positive Rate')\n",
    "    plt.title('Receiver operating characteristic example')\n",
    "    plt.legend(loc=\"lower right\")\n",
    "    plt.show()\n",
    "\n",
    "    return None"
   ]
  },
  {
   "cell_type": "code",
   "execution_count": 104,
   "id": "3a7d7565-f09e-4f04-a85d-1ff5d239efe6",
   "metadata": {},
   "outputs": [],
   "source": [
    "fpr, tpr, thresholds = roc_curve( y_train_pred_final.Converted_Ind, y_train_pred_final.Converted_Prob, drop_intermediate = False )"
   ]
  },
  {
   "cell_type": "code",
   "execution_count": 105,
   "id": "f6a368fc-4555-4705-b616-b412f2785c23",
   "metadata": {},
   "outputs": [
    {
     "data": {
      "image/png": "[encoded data removed]",
      "text/plain": [
       "<Figure size 500x500 with 1 Axes>"
      ]
     },
     "metadata": {},
     "output_type": "display_data"
    }
   ],
   "source": [
    "draw_roc(y_train_pred_final.Converted_Ind, y_train_pred_final.Converted_Prob)"
   ]
  },
  {
   "cell_type": "markdown",
   "id": "9f064924-9700-4340-a26e-9d5c1b9ce99d",
   "metadata": {},
   "source": [
    "**Finding Optimal Cut-Off point**\n",
    "\n",
    "Optimal cutoff probability is that probability where we get balanced sensitivity and specificity"
   ]
  },
  {
   "cell_type": "code",
   "execution_count": 106,
   "id": "d7bc0d42-55a8-41e0-bc25-0dacb79d1058",
   "metadata": {},
   "outputs": [
    {
     "data": {
      "text/html": [
       "<div>\n",
       "<style scoped>\n",
       "    .dataframe tbody tr th:only-of-type {\n",
       "        vertical-align: middle;\n",
       "    }\n",
       "\n",
       "    .dataframe tbody tr th {\n",
       "        vertical-align: top;\n",
       "    }\n",
       "\n",
       "    .dataframe thead th {\n",
       "        text-align: right;\n",
       "    }\n",
       "</style>\n",
       "<table border=\"1\" class=\"dataframe\">\n",
       "  <thead>\n",
       "    <tr style=\"text-align: right;\">\n",
       "      <th></th>\n",
       "      <th>Converted_Ind</th>\n",
       "      <th>Converted_Prob</th>\n",
       "      <th>Prospect_Id</th>\n",
       "      <th>Predicted</th>\n",
       "      <th>0.0</th>\n",
       "      <th>0.1</th>\n",
       "      <th>0.2</th>\n",
       "      <th>0.3</th>\n",
       "      <th>0.4</th>\n",
       "      <th>0.5</th>\n",
       "      <th>0.6</th>\n",
       "      <th>0.7</th>\n",
       "      <th>0.8</th>\n",
       "      <th>0.9</th>\n",
       "    </tr>\n",
       "  </thead>\n",
       "  <tbody>\n",
       "    <tr>\n",
       "      <th>0</th>\n",
       "      <td>0</td>\n",
       "      <td>0.196042</td>\n",
       "      <td>1871</td>\n",
       "      <td>0</td>\n",
       "      <td>1</td>\n",
       "      <td>1</td>\n",
       "      <td>0</td>\n",
       "      <td>0</td>\n",
       "      <td>0</td>\n",
       "      <td>0</td>\n",
       "      <td>0</td>\n",
       "      <td>0</td>\n",
       "      <td>0</td>\n",
       "      <td>0</td>\n",
       "    </tr>\n",
       "    <tr>\n",
       "      <th>1</th>\n",
       "      <td>0</td>\n",
       "      <td>0.142969</td>\n",
       "      <td>6795</td>\n",
       "      <td>0</td>\n",
       "      <td>1</td>\n",
       "      <td>1</td>\n",
       "      <td>0</td>\n",
       "      <td>0</td>\n",
       "      <td>0</td>\n",
       "      <td>0</td>\n",
       "      <td>0</td>\n",
       "      <td>0</td>\n",
       "      <td>0</td>\n",
       "      <td>0</td>\n",
       "    </tr>\n",
       "    <tr>\n",
       "      <th>2</th>\n",
       "      <td>0</td>\n",
       "      <td>0.229994</td>\n",
       "      <td>3516</td>\n",
       "      <td>0</td>\n",
       "      <td>1</td>\n",
       "      <td>1</td>\n",
       "      <td>1</td>\n",
       "      <td>0</td>\n",
       "      <td>0</td>\n",
       "      <td>0</td>\n",
       "      <td>0</td>\n",
       "      <td>0</td>\n",
       "      <td>0</td>\n",
       "      <td>0</td>\n",
       "    </tr>\n",
       "    <tr>\n",
       "      <th>3</th>\n",
       "      <td>0</td>\n",
       "      <td>0.651397</td>\n",
       "      <td>8105</td>\n",
       "      <td>1</td>\n",
       "      <td>1</td>\n",
       "      <td>1</td>\n",
       "      <td>1</td>\n",
       "      <td>1</td>\n",
       "      <td>1</td>\n",
       "      <td>1</td>\n",
       "      <td>1</td>\n",
       "      <td>0</td>\n",
       "      <td>0</td>\n",
       "      <td>0</td>\n",
       "    </tr>\n",
       "    <tr>\n",
       "      <th>4</th>\n",
       "      <td>0</td>\n",
       "      <td>0.136421</td>\n",
       "      <td>3934</td>\n",
       "      <td>0</td>\n",
       "      <td>1</td>\n",
       "      <td>1</td>\n",
       "      <td>0</td>\n",
       "      <td>0</td>\n",
       "      <td>0</td>\n",
       "      <td>0</td>\n",
       "      <td>0</td>\n",
       "      <td>0</td>\n",
       "      <td>0</td>\n",
       "      <td>0</td>\n",
       "    </tr>\n",
       "  </tbody>\n",
       "</table>\n",
       "</div>"
      ],
      "text/plain": [
       "   Converted_Ind  Converted_Prob  Prospect_Id  Predicted  0.0  0.1  0.2  0.3  \\\n",
       "0              0        0.196042         1871          0    1    1    0    0   \n",
       "1              0        0.142969         6795          0    1    1    0    0   \n",
       "2              0        0.229994         3516          0    1    1    1    0   \n",
       "3              0        0.651397         8105          1    1    1    1    1   \n",
       "4              0        0.136421         3934          0    1    1    0    0   \n",
       "\n",
       "   0.4  0.5  0.6  0.7  0.8  0.9  \n",
       "0    0    0    0    0    0    0  \n",
       "1    0    0    0    0    0    0  \n",
       "2    0    0    0    0    0    0  \n",
       "3    1    1    1    0    0    0  \n",
       "4    0    0    0    0    0    0  "
      ]
     },
     "execution_count": 106,
     "metadata": {},
     "output_type": "execute_result"
    }
   ],
   "source": [
    "# Let's create columns with different probability cutoffs \n",
    "numbers = [float(x)/10 for x in range(10)]\n",
    "for i in numbers:\n",
    "    y_train_pred_final[i]= y_train_pred_final.Converted_Prob.map(lambda x: 1 if x > i else 0)\n",
    "y_train_pred_final.head()"
   ]
  },
  {
   "cell_type": "code",
   "execution_count": 107,
   "id": "f1dc3a2b-c32c-4e79-b5e5-9435247ca8c7",
   "metadata": {},
   "outputs": [
    {
     "name": "stdout",
     "output_type": "stream",
     "text": [
      "     prob  accuracy     sensi     speci\n",
      "0.0   0.0  0.381262  1.000000  0.000000\n",
      "0.1   0.1  0.716914  0.968775  0.561719\n",
      "0.2   0.2  0.835189  0.895377  0.798101\n",
      "0.3   0.3  0.863636  0.848743  0.872814\n",
      "0.4   0.4  0.864409  0.787105  0.912044\n",
      "0.5   0.5  0.865337  0.750608  0.936032\n",
      "0.6   0.6  0.861008  0.706002  0.956522\n",
      "0.7   0.7  0.854360  0.666667  0.970015\n",
      "0.8   0.8  0.845547  0.625304  0.981259\n",
      "0.9   0.9  0.834261  0.578264  0.992004\n"
     ]
    }
   ],
   "source": [
    "# Now let's calculate accuracy sensitivity and specificity for various probability cutoffs.\n",
    "cutoff_df = pd.DataFrame( columns = ['prob','accuracy','sensi','speci'])\n",
    "\n",
    "num = [0.0,0.1,0.2,0.3,0.4,0.5,0.6,0.7,0.8,0.9]\n",
    "for i in num:\n",
    "    cm1 = confusion_matrix(y_train_pred_final.Converted_Ind, y_train_pred_final[i] )\n",
    "    total1=sum(sum(cm1))\n",
    "    accuracy = (cm1[0,0]+cm1[1,1])/total1\n",
    "    speci = cm1[0,0]/(cm1[0,0]+cm1[0,1])\n",
    "    sensi = cm1[1,1]/(cm1[1,0]+cm1[1,1])\n",
    "    cutoff_df.loc[i] =[ i ,accuracy,sensi,speci]\n",
    "print(cutoff_df)"
   ]
  },
  {
   "cell_type": "code",
   "execution_count": 108,
   "id": "78a490bb-099e-4aa7-960e-5a494335a6ad",
   "metadata": {},
   "outputs": [
    {
     "data": {
      "image/png": "[encoded data removed]",
      "text/plain": [
       "<Figure size 640x480 with 1 Axes>"
      ]
     },
     "metadata": {},
     "output_type": "display_data"
    }
   ],
   "source": [
    "# Let's plot accuracy sensitivity and specificity for various probabilities.\n",
    "sns.set_style(\"whitegrid\")\n",
    "sns.set_context(\"paper\")\n",
    "cutoff_df.plot.line(x='prob', y=['accuracy','sensi','speci'])\n",
    "plt.xticks(np.arange(0,1,step=0.05),size=8)\n",
    "plt.yticks(size=12)\n",
    "plt.show()"
   ]
  },
  {
   "cell_type": "markdown",
   "id": "7e0d68cd-d8b4-488e-9187-1cdf71cd357c",
   "metadata": {},
   "source": [
    "From the curve above, 0.28 is the optimum point to take it as a cutoff probability."
   ]
  },
  {
   "cell_type": "code",
   "execution_count": 109,
   "id": "1fe099ec-0c95-4634-bf8d-a1b1a18874a3",
   "metadata": {},
   "outputs": [
    {
     "data": {
      "text/html": [
       "<div>\n",
       "<style scoped>\n",
       "    .dataframe tbody tr th:only-of-type {\n",
       "        vertical-align: middle;\n",
       "    }\n",
       "\n",
       "    .dataframe tbody tr th {\n",
       "        vertical-align: top;\n",
       "    }\n",
       "\n",
       "    .dataframe thead th {\n",
       "        text-align: right;\n",
       "    }\n",
       "</style>\n",
       "<table border=\"1\" class=\"dataframe\">\n",
       "  <thead>\n",
       "    <tr style=\"text-align: right;\">\n",
       "      <th></th>\n",
       "      <th>Converted_Ind</th>\n",
       "      <th>Converted_Prob</th>\n",
       "      <th>Prospect_Id</th>\n",
       "      <th>Predicted</th>\n",
       "      <th>0.0</th>\n",
       "      <th>0.1</th>\n",
       "      <th>0.2</th>\n",
       "      <th>0.3</th>\n",
       "      <th>0.4</th>\n",
       "      <th>0.5</th>\n",
       "      <th>0.6</th>\n",
       "      <th>0.7</th>\n",
       "      <th>0.8</th>\n",
       "      <th>0.9</th>\n",
       "      <th>final_predicted</th>\n",
       "    </tr>\n",
       "  </thead>\n",
       "  <tbody>\n",
       "    <tr>\n",
       "      <th>0</th>\n",
       "      <td>0</td>\n",
       "      <td>0.196042</td>\n",
       "      <td>1871</td>\n",
       "      <td>0</td>\n",
       "      <td>1</td>\n",
       "      <td>1</td>\n",
       "      <td>0</td>\n",
       "      <td>0</td>\n",
       "      <td>0</td>\n",
       "      <td>0</td>\n",
       "      <td>0</td>\n",
       "      <td>0</td>\n",
       "      <td>0</td>\n",
       "      <td>0</td>\n",
       "      <td>0</td>\n",
       "    </tr>\n",
       "    <tr>\n",
       "      <th>1</th>\n",
       "      <td>0</td>\n",
       "      <td>0.142969</td>\n",
       "      <td>6795</td>\n",
       "      <td>0</td>\n",
       "      <td>1</td>\n",
       "      <td>1</td>\n",
       "      <td>0</td>\n",
       "      <td>0</td>\n",
       "      <td>0</td>\n",
       "      <td>0</td>\n",
       "      <td>0</td>\n",
       "      <td>0</td>\n",
       "      <td>0</td>\n",
       "      <td>0</td>\n",
       "      <td>0</td>\n",
       "    </tr>\n",
       "    <tr>\n",
       "      <th>2</th>\n",
       "      <td>0</td>\n",
       "      <td>0.229994</td>\n",
       "      <td>3516</td>\n",
       "      <td>0</td>\n",
       "      <td>1</td>\n",
       "      <td>1</td>\n",
       "      <td>1</td>\n",
       "      <td>0</td>\n",
       "      <td>0</td>\n",
       "      <td>0</td>\n",
       "      <td>0</td>\n",
       "      <td>0</td>\n",
       "      <td>0</td>\n",
       "      <td>0</td>\n",
       "      <td>0</td>\n",
       "    </tr>\n",
       "    <tr>\n",
       "      <th>3</th>\n",
       "      <td>0</td>\n",
       "      <td>0.651397</td>\n",
       "      <td>8105</td>\n",
       "      <td>1</td>\n",
       "      <td>1</td>\n",
       "      <td>1</td>\n",
       "      <td>1</td>\n",
       "      <td>1</td>\n",
       "      <td>1</td>\n",
       "      <td>1</td>\n",
       "      <td>1</td>\n",
       "      <td>0</td>\n",
       "      <td>0</td>\n",
       "      <td>0</td>\n",
       "      <td>1</td>\n",
       "    </tr>\n",
       "    <tr>\n",
       "      <th>4</th>\n",
       "      <td>0</td>\n",
       "      <td>0.136421</td>\n",
       "      <td>3934</td>\n",
       "      <td>0</td>\n",
       "      <td>1</td>\n",
       "      <td>1</td>\n",
       "      <td>0</td>\n",
       "      <td>0</td>\n",
       "      <td>0</td>\n",
       "      <td>0</td>\n",
       "      <td>0</td>\n",
       "      <td>0</td>\n",
       "      <td>0</td>\n",
       "      <td>0</td>\n",
       "      <td>0</td>\n",
       "    </tr>\n",
       "  </tbody>\n",
       "</table>\n",
       "</div>"
      ],
      "text/plain": [
       "   Converted_Ind  Converted_Prob  Prospect_Id  Predicted  0.0  0.1  0.2  0.3  \\\n",
       "0              0        0.196042         1871          0    1    1    0    0   \n",
       "1              0        0.142969         6795          0    1    1    0    0   \n",
       "2              0        0.229994         3516          0    1    1    1    0   \n",
       "3              0        0.651397         8105          1    1    1    1    1   \n",
       "4              0        0.136421         3934          0    1    1    0    0   \n",
       "\n",
       "   0.4  0.5  0.6  0.7  0.8  0.9  final_predicted  \n",
       "0    0    0    0    0    0    0                0  \n",
       "1    0    0    0    0    0    0                0  \n",
       "2    0    0    0    0    0    0                0  \n",
       "3    1    1    1    0    0    0                1  \n",
       "4    0    0    0    0    0    0                0  "
      ]
     },
     "execution_count": 109,
     "metadata": {},
     "output_type": "execute_result"
    }
   ],
   "source": [
    "y_train_pred_final['final_predicted'] = y_train_pred_final.Converted_Prob.map( lambda x: 1 if x > 0.28 else 0)\n",
    "y_train_pred_final.head()"
   ]
  },
  {
   "cell_type": "code",
   "execution_count": 110,
   "id": "5d8e9f0e-2c03-44a5-afaa-a0cb1ac35462",
   "metadata": {},
   "outputs": [
    {
     "data": {
      "text/plain": [
       "0.8628633271490415"
      ]
     },
     "execution_count": 110,
     "metadata": {},
     "output_type": "execute_result"
    }
   ],
   "source": [
    "# Let's check the overall accuracy.\n",
    "accuracy_score(y_train_pred_final.Converted_Ind, y_train_pred_final.final_predicted)"
   ]
  },
  {
   "cell_type": "code",
   "execution_count": 111,
   "id": "03c31c42-99fe-43b7-8ef8-0dbcd1082800",
   "metadata": {},
   "outputs": [
    {
     "data": {
      "text/plain": [
       "array([[3463,  539],\n",
       "       [ 348, 2118]], dtype=int64)"
      ]
     },
     "execution_count": 111,
     "metadata": {},
     "output_type": "execute_result"
    }
   ],
   "source": [
    "confusion2 = confusion_matrix(y_train_pred_final.Converted_Ind, y_train_pred_final.final_predicted )\n",
    "confusion2"
   ]
  },
  {
   "cell_type": "code",
   "execution_count": 112,
   "id": "5c214319-490f-4f1f-b3d1-69bf4303aec8",
   "metadata": {},
   "outputs": [],
   "source": [
    "TP = confusion2[1,1] # true positive \n",
    "TN = confusion2[0,0] # true negatives\n",
    "FP = confusion2[0,1] # false positives\n",
    "FN = confusion2[1,0] # false negatives"
   ]
  },
  {
   "cell_type": "code",
   "execution_count": 113,
   "id": "d04d8786-5359-40d8-bc29-7ab1930a6e8c",
   "metadata": {},
   "outputs": [
    {
     "data": {
      "text/plain": [
       "0.8588807785888077"
      ]
     },
     "execution_count": 113,
     "metadata": {},
     "output_type": "execute_result"
    }
   ],
   "source": [
    "# Let's see the sensitivity of our logistic regression model\n",
    "TP / float(TP+FN)"
   ]
  },
  {
   "cell_type": "code",
   "execution_count": 114,
   "id": "51270e90-2ae9-4dda-8e22-0887895b885f",
   "metadata": {},
   "outputs": [
    {
     "data": {
      "text/plain": [
       "0.8653173413293354"
      ]
     },
     "execution_count": 114,
     "metadata": {},
     "output_type": "execute_result"
    }
   ],
   "source": [
    "# Let us calculate specificity\n",
    "TN / float(TN+FP)"
   ]
  },
  {
   "cell_type": "code",
   "execution_count": 115,
   "id": "eb7f4218-7044-4c5b-be3e-74cc5a815396",
   "metadata": {},
   "outputs": [
    {
     "name": "stdout",
     "output_type": "stream",
     "text": [
      "0.13468265867066467\n"
     ]
    }
   ],
   "source": [
    "# Calculate false postive rate - predicting churn when customer does not have churned\n",
    "print(FP/ float(TN+FP))"
   ]
  },
  {
   "cell_type": "code",
   "execution_count": 116,
   "id": "4b8dc19b-c4ab-4e16-843a-60fe0d3c6497",
   "metadata": {},
   "outputs": [
    {
     "name": "stdout",
     "output_type": "stream",
     "text": [
      "0.7971396311629657\n"
     ]
    }
   ],
   "source": [
    "# Positive predictive value \n",
    "print (TP / float(TP+FP))"
   ]
  },
  {
   "cell_type": "code",
   "execution_count": 117,
   "id": "6bb025e2-1026-447f-955f-7449933564d6",
   "metadata": {},
   "outputs": [
    {
     "name": "stdout",
     "output_type": "stream",
     "text": [
      "0.9086853844135397\n"
     ]
    }
   ],
   "source": [
    "# Negative predictive value\n",
    "print (TN / float(TN+ FN))"
   ]
  },
  {
   "cell_type": "markdown",
   "id": "88ef3765-aef4-4f8b-b77d-10b85c1fed66",
   "metadata": {},
   "source": [
    "## Precision and Recall"
   ]
  },
  {
   "cell_type": "code",
   "execution_count": 118,
   "id": "a59511fc-964b-4c2a-83f1-4e6270951c02",
   "metadata": {},
   "outputs": [
    {
     "data": {
      "text/plain": [
       "0.7971396311629657"
      ]
     },
     "execution_count": 118,
     "metadata": {},
     "output_type": "execute_result"
    }
   ],
   "source": [
    "## Precision - TP/TP+FP\n",
    "confusion2[1,1]/(confusion2[0,1]+confusion2[1,1])"
   ]
  },
  {
   "cell_type": "code",
   "execution_count": 119,
   "id": "7e7da179-ff70-4f77-99c4-832d36fda10b",
   "metadata": {},
   "outputs": [
    {
     "data": {
      "text/plain": [
       "0.8588807785888077"
      ]
     },
     "execution_count": 119,
     "metadata": {},
     "output_type": "execute_result"
    }
   ],
   "source": [
    "## Recall - TP/TP+FN\n",
    "confusion2[1,1]/(confusion2[1,0]+confusion2[1,1])"
   ]
  },
  {
   "cell_type": "code",
   "execution_count": 120,
   "id": "f97111e2-c36a-4d0b-af12-4129c6306e2f",
   "metadata": {},
   "outputs": [
    {
     "data": {
      "text/plain": [
       "0.7971396311629657"
      ]
     },
     "execution_count": 120,
     "metadata": {},
     "output_type": "execute_result"
    }
   ],
   "source": [
    "#Using Sklearn utility for Precision and recall\n",
    "precision_score(y_train_pred_final.Converted_Ind, y_train_pred_final.final_predicted)"
   ]
  },
  {
   "cell_type": "code",
   "execution_count": 121,
   "id": "79765779-f1d5-4729-9695-3ef2d64ed5af",
   "metadata": {},
   "outputs": [
    {
     "data": {
      "text/plain": [
       "0.8588807785888077"
      ]
     },
     "execution_count": 121,
     "metadata": {},
     "output_type": "execute_result"
    }
   ],
   "source": [
    "recall_score(y_train_pred_final.Converted_Ind, y_train_pred_final.final_predicted)"
   ]
  },
  {
   "cell_type": "markdown",
   "id": "ef38c96d-861c-42a4-a21c-c9bcda9b4151",
   "metadata": {},
   "source": [
    "Precision and Recall Tradeoff\n",
    "For our Business Problem, The appropriate Metrics to be use will be Recall and Precision.\n",
    "\n",
    "Because this will help us to identify the predicted CONVERTED is actual CONVERTED and\n",
    "Probability that an actual CONVERTED case is predicted correctly.\n",
    "So we will use the Precision-Recall trade off curve to identify the most optimised threshold."
   ]
  },
  {
   "cell_type": "code",
   "execution_count": 122,
   "id": "37788deb-4ac0-4354-8b4f-3961c4e92c85",
   "metadata": {},
   "outputs": [
    {
     "data": {
      "text/plain": [
       "(0       0\n",
       " 1       0\n",
       " 2       0\n",
       " 3       0\n",
       " 4       0\n",
       "        ..\n",
       " 6463    1\n",
       " 6464    1\n",
       " 6465    1\n",
       " 6466    0\n",
       " 6467    0\n",
       " Name: Converted_Ind, Length: 6468, dtype: int64,\n",
       " 0       0\n",
       " 1       0\n",
       " 2       0\n",
       " 3       1\n",
       " 4       0\n",
       "        ..\n",
       " 6463    1\n",
       " 6464    1\n",
       " 6465    0\n",
       " 6466    0\n",
       " 6467    0\n",
       " Name: Predicted, Length: 6468, dtype: int64)"
      ]
     },
     "execution_count": 122,
     "metadata": {},
     "output_type": "execute_result"
    }
   ],
   "source": [
    "y_train_pred_final.Converted_Ind, y_train_pred_final.Predicted"
   ]
  },
  {
   "cell_type": "code",
   "execution_count": 123,
   "id": "8caa6efd-9bb0-437a-8767-c678df16d983",
   "metadata": {},
   "outputs": [],
   "source": [
    "p, r, thresholds = precision_recall_curve(y_train_pred_final.Converted_Ind, y_train_pred_final.Converted_Prob)"
   ]
  },
  {
   "cell_type": "code",
   "execution_count": 124,
   "id": "66a7a070-8bec-4bf1-aeaa-27cab3cfa738",
   "metadata": {},
   "outputs": [
    {
     "data": {
      "image/png": "[encoded data removed]",
      "text/plain": [
       "<Figure size 800x500 with 1 Axes>"
      ]
     },
     "metadata": {},
     "output_type": "display_data"
    }
   ],
   "source": [
    "# Plotting the precision recall curve\n",
    "\n",
    "plt.figure(figsize=(8,5))\n",
    "sns.set_style(\"whitegrid\")\n",
    "sns.set_context(\"paper\")\n",
    "plt.plot(thresholds, p[:-1], \"g-\")\n",
    "plt.plot(thresholds, r[:-1], \"r-\")\n",
    "plt.xticks(np.arange(0,1,step=0.05),size=8)\n",
    "plt.yticks(size=12)\n",
    "plt.show()"
   ]
  },
  {
   "cell_type": "markdown",
   "id": "ce5f0b7b-5891-4437-a886-f9170655ab49",
   "metadata": {},
   "source": [
    "The precision and Recall seem to have trade-off at .33, hence .33 will be used as threshold on test data"
   ]
  },
  {
   "cell_type": "code",
   "execution_count": 125,
   "id": "8d7be8cf-6bfb-4aee-a5a7-d620c5ca843b",
   "metadata": {},
   "outputs": [
    {
     "data": {
      "text/html": [
       "<div>\n",
       "<style scoped>\n",
       "    .dataframe tbody tr th:only-of-type {\n",
       "        vertical-align: middle;\n",
       "    }\n",
       "\n",
       "    .dataframe tbody tr th {\n",
       "        vertical-align: top;\n",
       "    }\n",
       "\n",
       "    .dataframe thead th {\n",
       "        text-align: right;\n",
       "    }\n",
       "</style>\n",
       "<table border=\"1\" class=\"dataframe\">\n",
       "  <thead>\n",
       "    <tr style=\"text-align: right;\">\n",
       "      <th></th>\n",
       "      <th>Converted_Ind</th>\n",
       "      <th>Converted_Prob</th>\n",
       "      <th>Prospect_Id</th>\n",
       "      <th>Predicted</th>\n",
       "      <th>0.0</th>\n",
       "      <th>0.1</th>\n",
       "      <th>0.2</th>\n",
       "      <th>0.3</th>\n",
       "      <th>0.4</th>\n",
       "      <th>0.5</th>\n",
       "      <th>0.6</th>\n",
       "      <th>0.7</th>\n",
       "      <th>0.8</th>\n",
       "      <th>0.9</th>\n",
       "      <th>final_predicted</th>\n",
       "    </tr>\n",
       "  </thead>\n",
       "  <tbody>\n",
       "    <tr>\n",
       "      <th>0</th>\n",
       "      <td>0</td>\n",
       "      <td>0.196042</td>\n",
       "      <td>1871</td>\n",
       "      <td>0</td>\n",
       "      <td>1</td>\n",
       "      <td>1</td>\n",
       "      <td>0</td>\n",
       "      <td>0</td>\n",
       "      <td>0</td>\n",
       "      <td>0</td>\n",
       "      <td>0</td>\n",
       "      <td>0</td>\n",
       "      <td>0</td>\n",
       "      <td>0</td>\n",
       "      <td>0</td>\n",
       "    </tr>\n",
       "    <tr>\n",
       "      <th>1</th>\n",
       "      <td>0</td>\n",
       "      <td>0.142969</td>\n",
       "      <td>6795</td>\n",
       "      <td>0</td>\n",
       "      <td>1</td>\n",
       "      <td>1</td>\n",
       "      <td>0</td>\n",
       "      <td>0</td>\n",
       "      <td>0</td>\n",
       "      <td>0</td>\n",
       "      <td>0</td>\n",
       "      <td>0</td>\n",
       "      <td>0</td>\n",
       "      <td>0</td>\n",
       "      <td>0</td>\n",
       "    </tr>\n",
       "    <tr>\n",
       "      <th>2</th>\n",
       "      <td>0</td>\n",
       "      <td>0.229994</td>\n",
       "      <td>3516</td>\n",
       "      <td>0</td>\n",
       "      <td>1</td>\n",
       "      <td>1</td>\n",
       "      <td>1</td>\n",
       "      <td>0</td>\n",
       "      <td>0</td>\n",
       "      <td>0</td>\n",
       "      <td>0</td>\n",
       "      <td>0</td>\n",
       "      <td>0</td>\n",
       "      <td>0</td>\n",
       "      <td>0</td>\n",
       "    </tr>\n",
       "    <tr>\n",
       "      <th>3</th>\n",
       "      <td>0</td>\n",
       "      <td>0.651397</td>\n",
       "      <td>8105</td>\n",
       "      <td>1</td>\n",
       "      <td>1</td>\n",
       "      <td>1</td>\n",
       "      <td>1</td>\n",
       "      <td>1</td>\n",
       "      <td>1</td>\n",
       "      <td>1</td>\n",
       "      <td>1</td>\n",
       "      <td>0</td>\n",
       "      <td>0</td>\n",
       "      <td>0</td>\n",
       "      <td>1</td>\n",
       "    </tr>\n",
       "    <tr>\n",
       "      <th>4</th>\n",
       "      <td>0</td>\n",
       "      <td>0.136421</td>\n",
       "      <td>3934</td>\n",
       "      <td>0</td>\n",
       "      <td>1</td>\n",
       "      <td>1</td>\n",
       "      <td>0</td>\n",
       "      <td>0</td>\n",
       "      <td>0</td>\n",
       "      <td>0</td>\n",
       "      <td>0</td>\n",
       "      <td>0</td>\n",
       "      <td>0</td>\n",
       "      <td>0</td>\n",
       "      <td>0</td>\n",
       "    </tr>\n",
       "  </tbody>\n",
       "</table>\n",
       "</div>"
      ],
      "text/plain": [
       "   Converted_Ind  Converted_Prob  Prospect_Id  Predicted  0.0  0.1  0.2  0.3  \\\n",
       "0              0        0.196042         1871          0    1    1    0    0   \n",
       "1              0        0.142969         6795          0    1    1    0    0   \n",
       "2              0        0.229994         3516          0    1    1    1    0   \n",
       "3              0        0.651397         8105          1    1    1    1    1   \n",
       "4              0        0.136421         3934          0    1    1    0    0   \n",
       "\n",
       "   0.4  0.5  0.6  0.7  0.8  0.9  final_predicted  \n",
       "0    0    0    0    0    0    0                0  \n",
       "1    0    0    0    0    0    0                0  \n",
       "2    0    0    0    0    0    0                0  \n",
       "3    1    1    1    0    0    0                1  \n",
       "4    0    0    0    0    0    0                0  "
      ]
     },
     "execution_count": 125,
     "metadata": {},
     "output_type": "execute_result"
    }
   ],
   "source": [
    "y_train_pred_final['final_predicted'] = y_train_pred_final.Converted_Prob.map( lambda x: 1 if x > 0.33 else 0)\n",
    "\n",
    "y_train_pred_final.head()"
   ]
  },
  {
   "cell_type": "code",
   "execution_count": 126,
   "id": "70b24e46-8aac-4e04-8592-c0e509e84172",
   "metadata": {},
   "outputs": [
    {
     "data": {
      "text/plain": [
       "0.8647186147186147"
      ]
     },
     "execution_count": 126,
     "metadata": {},
     "output_type": "execute_result"
    }
   ],
   "source": [
    "# Let's check the overall accuracy.\n",
    "accuracy_score(y_train_pred_final.Converted_Ind, y_train_pred_final.final_predicted)"
   ]
  },
  {
   "cell_type": "code",
   "execution_count": 127,
   "id": "5ba6ab5a-c25f-439d-b151-217df282f7c3",
   "metadata": {},
   "outputs": [
    {
     "data": {
      "text/plain": [
       "array([[3531,  471],\n",
       "       [ 404, 2062]], dtype=int64)"
      ]
     },
     "execution_count": 127,
     "metadata": {},
     "output_type": "execute_result"
    }
   ],
   "source": [
    "confusion3 = confusion_matrix(y_train_pred_final.Converted_Ind, y_train_pred_final.final_predicted )\n",
    "confusion3"
   ]
  },
  {
   "cell_type": "code",
   "execution_count": 128,
   "id": "9b4915c1-cdaa-48b0-8453-9871fdd473bd",
   "metadata": {},
   "outputs": [],
   "source": [
    "TP = confusion3[1,1] # true positive \n",
    "TN = confusion3[0,0] # true negatives\n",
    "FP = confusion3[0,1] # false positives\n",
    "FN = confusion3[1,0] # false negatives"
   ]
  },
  {
   "cell_type": "code",
   "execution_count": 129,
   "id": "6494e1b0-a32d-4d06-9909-bd2763361eec",
   "metadata": {},
   "outputs": [
    {
     "data": {
      "text/plain": [
       "0.8361719383617194"
      ]
     },
     "execution_count": 129,
     "metadata": {},
     "output_type": "execute_result"
    }
   ],
   "source": [
    "# Let's see the sensitivity of our logistic regression model\n",
    "TP / float(TP+FN)"
   ]
  },
  {
   "cell_type": "code",
   "execution_count": 130,
   "id": "5318ff8e-9d96-4d83-9d15-a7b8817886b9",
   "metadata": {},
   "outputs": [
    {
     "data": {
      "text/plain": [
       "0.8823088455772113"
      ]
     },
     "execution_count": 130,
     "metadata": {},
     "output_type": "execute_result"
    }
   ],
   "source": [
    "# Let us calculate specificity\n",
    "TN / float(TN+FP)"
   ]
  },
  {
   "cell_type": "code",
   "execution_count": 131,
   "id": "d69e50f3-42e3-4ab7-a382-d533e141e2f2",
   "metadata": {},
   "outputs": [
    {
     "name": "stdout",
     "output_type": "stream",
     "text": [
      "0.1176911544227886\n"
     ]
    }
   ],
   "source": [
    "# Calculate false postive rate - predicting converted when customer have not\n",
    "print(FP/ float(TN+FP))"
   ]
  },
  {
   "cell_type": "code",
   "execution_count": 132,
   "id": "7899bcb7-b326-4fed-92b8-b97ecd4f63a1",
   "metadata": {},
   "outputs": [
    {
     "name": "stdout",
     "output_type": "stream",
     "text": [
      "0.8140544808527438\n"
     ]
    }
   ],
   "source": [
    "# Positive predictive value \n",
    "print (TP / float(TP+FP))"
   ]
  },
  {
   "cell_type": "code",
   "execution_count": 133,
   "id": "05f08435-b590-4998-b2ba-398bc1e96b54",
   "metadata": {},
   "outputs": [
    {
     "name": "stdout",
     "output_type": "stream",
     "text": [
      "0.8973316391359594\n"
     ]
    }
   ],
   "source": [
    "# Negative predictive value\n",
    "print (TN / float(TN+ FN))"
   ]
  },
  {
   "cell_type": "code",
   "execution_count": 134,
   "id": "34e300ad-6c52-4d09-a1a1-5c34d1a58f53",
   "metadata": {},
   "outputs": [
    {
     "data": {
      "text/plain": [
       "0.8140544808527438"
      ]
     },
     "execution_count": 134,
     "metadata": {},
     "output_type": "execute_result"
    }
   ],
   "source": [
    "precision_score(y_train_pred_final.Converted_Ind, y_train_pred_final.final_predicted)"
   ]
  },
  {
   "cell_type": "code",
   "execution_count": 135,
   "id": "4ff8512f-c314-496c-bff1-0f0cb42ae841",
   "metadata": {},
   "outputs": [
    {
     "data": {
      "text/plain": [
       "0.8361719383617194"
      ]
     },
     "execution_count": 135,
     "metadata": {},
     "output_type": "execute_result"
    }
   ],
   "source": [
    "recall_score(y_train_pred_final.Converted_Ind, y_train_pred_final.final_predicted)"
   ]
  },
  {
   "cell_type": "code",
   "execution_count": 136,
   "id": "4835a953-9e32-4bc1-aa39-f64964299fb3",
   "metadata": {},
   "outputs": [
    {
     "data": {
      "text/plain": [
       "0.8361719383617194"
      ]
     },
     "execution_count": 136,
     "metadata": {},
     "output_type": "execute_result"
    }
   ],
   "source": [
    "recall_score(y_train_pred_final.Converted_Ind, y_train_pred_final.final_predicted)"
   ]
  },
  {
   "cell_type": "markdown",
   "id": "a73bb2a5-85d4-4c1e-a5fc-466a103a1289",
   "metadata": {},
   "source": [
    "## Making Prediction on Test data"
   ]
  },
  {
   "cell_type": "code",
   "execution_count": 137,
   "id": "3944a39a-8632-492c-8929-90ec1e2e3483",
   "metadata": {},
   "outputs": [],
   "source": [
    "## Scaling\n",
    "#to_scale=['TotalVisits','Total Time Spent on Website']\n",
    "#X_test[to_scale]=standardscaler.transform(X_test[to_scale])\n",
    "#please check this once"
   ]
  },
  {
   "cell_type": "code",
   "execution_count": 138,
   "id": "be6468e6-1eb5-4c8e-bc7f-ab7865df1877",
   "metadata": {},
   "outputs": [
    {
     "name": "stdout",
     "output_type": "stream",
     "text": [
      "<class 'pandas.core.frame.DataFrame'>\n",
      "Index: 2772 entries, 4269 to 2960\n",
      "Data columns (total 13 columns):\n",
      " #   Column                                                Non-Null Count  Dtype  \n",
      "---  ------                                                --------------  -----  \n",
      " 0   const                                                 2772 non-null   float64\n",
      " 1   Total Time Spent on Website                           2772 non-null   int64  \n",
      " 2   Lead Origin_Lead Add Form                             2772 non-null   bool   \n",
      " 3   Lead Source_Olark Chat                                2772 non-null   bool   \n",
      " 4   Lead Source_Welingak Website                          2772 non-null   bool   \n",
      " 5   Last Activity_Email Bounced                           2772 non-null   bool   \n",
      " 6   Last Activity_Email Opened                            2772 non-null   bool   \n",
      " 7   Last Activity_SMS Sent                                2772 non-null   bool   \n",
      " 8   What is your current occupation_Other                 2772 non-null   bool   \n",
      " 9   What is your current occupation_Working Professional  2772 non-null   bool   \n",
      " 10  Tags_Will revert after reading the email              2772 non-null   bool   \n",
      " 11  Last Notable Activity_Modified                        2772 non-null   bool   \n",
      " 12  Last Notable Activity_Others                          2772 non-null   bool   \n",
      "dtypes: bool(11), float64(1), int64(1)\n",
      "memory usage: 94.7 KB\n"
     ]
    }
   ],
   "source": [
    "X_test = X_test[col]\n",
    "X_test_sm = sm.add_constant(X_test)\n",
    "X_test_sm.info()"
   ]
  },
  {
   "cell_type": "code",
   "execution_count": 139,
   "id": "5c1d7e08-0195-40a3-b78a-d98b682b1f5b",
   "metadata": {},
   "outputs": [
    {
     "data": {
      "text/plain": [
       "4269    1.000000\n",
       "2376    0.998981\n",
       "7766    1.000000\n",
       "9199    0.173235\n",
       "4359    0.997251\n",
       "9186    1.000000\n",
       "1631    1.000000\n",
       "8963    1.000000\n",
       "8007    1.000000\n",
       "5324    1.000000\n",
       "dtype: float64"
      ]
     },
     "execution_count": 139,
     "metadata": {},
     "output_type": "execute_result"
    }
   ],
   "source": [
    "# Predicting the final test model \n",
    "y_test_pred = log_model_10.predict(X_test_sm.astype(float))\n",
    "y_test_pred[:10]"
   ]
  },
  {
   "cell_type": "code",
   "execution_count": 140,
   "id": "1ba5dd05-79f0-42e0-b8e3-4a20bde657ae",
   "metadata": {},
   "outputs": [
    {
     "data": {
      "text/html": [
       "<div>\n",
       "<style scoped>\n",
       "    .dataframe tbody tr th:only-of-type {\n",
       "        vertical-align: middle;\n",
       "    }\n",
       "\n",
       "    .dataframe tbody tr th {\n",
       "        vertical-align: top;\n",
       "    }\n",
       "\n",
       "    .dataframe thead th {\n",
       "        text-align: right;\n",
       "    }\n",
       "</style>\n",
       "<table border=\"1\" class=\"dataframe\">\n",
       "  <thead>\n",
       "    <tr style=\"text-align: right;\">\n",
       "      <th></th>\n",
       "      <th>0</th>\n",
       "    </tr>\n",
       "  </thead>\n",
       "  <tbody>\n",
       "    <tr>\n",
       "      <th>4269</th>\n",
       "      <td>1.000000</td>\n",
       "    </tr>\n",
       "    <tr>\n",
       "      <th>2376</th>\n",
       "      <td>0.998981</td>\n",
       "    </tr>\n",
       "    <tr>\n",
       "      <th>7766</th>\n",
       "      <td>1.000000</td>\n",
       "    </tr>\n",
       "    <tr>\n",
       "      <th>9199</th>\n",
       "      <td>0.173235</td>\n",
       "    </tr>\n",
       "    <tr>\n",
       "      <th>4359</th>\n",
       "      <td>0.997251</td>\n",
       "    </tr>\n",
       "  </tbody>\n",
       "</table>\n",
       "</div>"
      ],
      "text/plain": [
       "             0\n",
       "4269  1.000000\n",
       "2376  0.998981\n",
       "7766  1.000000\n",
       "9199  0.173235\n",
       "4359  0.997251"
      ]
     },
     "execution_count": 140,
     "metadata": {},
     "output_type": "execute_result"
    }
   ],
   "source": [
    "# Converting y_pred to a dataframe which is an array\n",
    "y_pred_1 = pd.DataFrame(y_test_pred)\n",
    "y_pred_1.head()"
   ]
  },
  {
   "cell_type": "code",
   "execution_count": 141,
   "id": "501db20c-5ac8-4f71-bc16-52364e359ea6",
   "metadata": {},
   "outputs": [
    {
     "data": {
      "text/html": [
       "<div>\n",
       "<style scoped>\n",
       "    .dataframe tbody tr th:only-of-type {\n",
       "        vertical-align: middle;\n",
       "    }\n",
       "\n",
       "    .dataframe tbody tr th {\n",
       "        vertical-align: top;\n",
       "    }\n",
       "\n",
       "    .dataframe thead th {\n",
       "        text-align: right;\n",
       "    }\n",
       "</style>\n",
       "<table border=\"1\" class=\"dataframe\">\n",
       "  <thead>\n",
       "    <tr style=\"text-align: right;\">\n",
       "      <th></th>\n",
       "      <th>Converted</th>\n",
       "    </tr>\n",
       "  </thead>\n",
       "  <tbody>\n",
       "    <tr>\n",
       "      <th>4269</th>\n",
       "      <td>1</td>\n",
       "    </tr>\n",
       "    <tr>\n",
       "      <th>2376</th>\n",
       "      <td>1</td>\n",
       "    </tr>\n",
       "    <tr>\n",
       "      <th>7766</th>\n",
       "      <td>1</td>\n",
       "    </tr>\n",
       "    <tr>\n",
       "      <th>9199</th>\n",
       "      <td>0</td>\n",
       "    </tr>\n",
       "    <tr>\n",
       "      <th>4359</th>\n",
       "      <td>1</td>\n",
       "    </tr>\n",
       "  </tbody>\n",
       "</table>\n",
       "</div>"
      ],
      "text/plain": [
       "      Converted\n",
       "4269          1\n",
       "2376          1\n",
       "7766          1\n",
       "9199          0\n",
       "4359          1"
      ]
     },
     "execution_count": 141,
     "metadata": {},
     "output_type": "execute_result"
    }
   ],
   "source": [
    "# Converting y_test to dataframe\n",
    "y_test_df = pd.DataFrame(y_test)\n",
    "y_test_df.head()"
   ]
  },
  {
   "cell_type": "code",
   "execution_count": 142,
   "id": "d23404be-0a67-468c-8cf1-4939669cc532",
   "metadata": {},
   "outputs": [],
   "source": [
    "# Putting CustID to index\n",
    "y_test_df['Prospect_IND'] = y_test_df.index"
   ]
  },
  {
   "cell_type": "code",
   "execution_count": 143,
   "id": "2491390e-a33a-428c-9a86-03b9626e8658",
   "metadata": {},
   "outputs": [],
   "source": [
    "# Removing index for both dataframes to append them side by side \n",
    "y_pred_1.reset_index(drop=True, inplace=True)\n",
    "y_test_df.reset_index(drop=True, inplace=True)"
   ]
  },
  {
   "cell_type": "code",
   "execution_count": 144,
   "id": "4a327214-e4e9-4439-aec3-70df034aa8e6",
   "metadata": {},
   "outputs": [],
   "source": [
    "# Appending y_test_df and y_pred_1\n",
    "y_pred_final = pd.concat([y_test_df, y_pred_1],axis=1)"
   ]
  },
  {
   "cell_type": "code",
   "execution_count": 145,
   "id": "407d2640-746a-4107-93cc-18e2fd196653",
   "metadata": {},
   "outputs": [
    {
     "data": {
      "text/html": [
       "<div>\n",
       "<style scoped>\n",
       "    .dataframe tbody tr th:only-of-type {\n",
       "        vertical-align: middle;\n",
       "    }\n",
       "\n",
       "    .dataframe tbody tr th {\n",
       "        vertical-align: top;\n",
       "    }\n",
       "\n",
       "    .dataframe thead th {\n",
       "        text-align: right;\n",
       "    }\n",
       "</style>\n",
       "<table border=\"1\" class=\"dataframe\">\n",
       "  <thead>\n",
       "    <tr style=\"text-align: right;\">\n",
       "      <th></th>\n",
       "      <th>Converted</th>\n",
       "      <th>Prospect_IND</th>\n",
       "      <th>0</th>\n",
       "    </tr>\n",
       "  </thead>\n",
       "  <tbody>\n",
       "    <tr>\n",
       "      <th>0</th>\n",
       "      <td>1</td>\n",
       "      <td>4269</td>\n",
       "      <td>1.000000</td>\n",
       "    </tr>\n",
       "    <tr>\n",
       "      <th>1</th>\n",
       "      <td>1</td>\n",
       "      <td>2376</td>\n",
       "      <td>0.998981</td>\n",
       "    </tr>\n",
       "    <tr>\n",
       "      <th>2</th>\n",
       "      <td>1</td>\n",
       "      <td>7766</td>\n",
       "      <td>1.000000</td>\n",
       "    </tr>\n",
       "    <tr>\n",
       "      <th>3</th>\n",
       "      <td>0</td>\n",
       "      <td>9199</td>\n",
       "      <td>0.173235</td>\n",
       "    </tr>\n",
       "    <tr>\n",
       "      <th>4</th>\n",
       "      <td>1</td>\n",
       "      <td>4359</td>\n",
       "      <td>0.997251</td>\n",
       "    </tr>\n",
       "  </tbody>\n",
       "</table>\n",
       "</div>"
      ],
      "text/plain": [
       "   Converted  Prospect_IND         0\n",
       "0          1          4269  1.000000\n",
       "1          1          2376  0.998981\n",
       "2          1          7766  1.000000\n",
       "3          0          9199  0.173235\n",
       "4          1          4359  0.997251"
      ]
     },
     "execution_count": 145,
     "metadata": {},
     "output_type": "execute_result"
    }
   ],
   "source": [
    "y_pred_final.head()"
   ]
  },
  {
   "cell_type": "code",
   "execution_count": 146,
   "id": "66ad6114-a20e-46b3-90a7-fc169b588099",
   "metadata": {},
   "outputs": [],
   "source": [
    "# Renaming the column \n",
    "y_pred_final= y_pred_final.rename(columns={ 0 : 'Converted_Prob'})\n",
    "y_pred_final= y_pred_final.rename(columns={ 'Converted' : 'Converted_IND'})"
   ]
  },
  {
   "cell_type": "code",
   "execution_count": 147,
   "id": "2a097b02-2a76-4973-b459-bfdc56c9dc43",
   "metadata": {},
   "outputs": [
    {
     "data": {
      "text/html": [
       "<div>\n",
       "<style scoped>\n",
       "    .dataframe tbody tr th:only-of-type {\n",
       "        vertical-align: middle;\n",
       "    }\n",
       "\n",
       "    .dataframe tbody tr th {\n",
       "        vertical-align: top;\n",
       "    }\n",
       "\n",
       "    .dataframe thead th {\n",
       "        text-align: right;\n",
       "    }\n",
       "</style>\n",
       "<table border=\"1\" class=\"dataframe\">\n",
       "  <thead>\n",
       "    <tr style=\"text-align: right;\">\n",
       "      <th></th>\n",
       "      <th>Converted_IND</th>\n",
       "      <th>Prospect_IND</th>\n",
       "      <th>Converted_Prob</th>\n",
       "    </tr>\n",
       "  </thead>\n",
       "  <tbody>\n",
       "    <tr>\n",
       "      <th>0</th>\n",
       "      <td>1</td>\n",
       "      <td>4269</td>\n",
       "      <td>1.000000</td>\n",
       "    </tr>\n",
       "    <tr>\n",
       "      <th>1</th>\n",
       "      <td>1</td>\n",
       "      <td>2376</td>\n",
       "      <td>0.998981</td>\n",
       "    </tr>\n",
       "    <tr>\n",
       "      <th>2</th>\n",
       "      <td>1</td>\n",
       "      <td>7766</td>\n",
       "      <td>1.000000</td>\n",
       "    </tr>\n",
       "    <tr>\n",
       "      <th>3</th>\n",
       "      <td>0</td>\n",
       "      <td>9199</td>\n",
       "      <td>0.173235</td>\n",
       "    </tr>\n",
       "    <tr>\n",
       "      <th>4</th>\n",
       "      <td>1</td>\n",
       "      <td>4359</td>\n",
       "      <td>0.997251</td>\n",
       "    </tr>\n",
       "  </tbody>\n",
       "</table>\n",
       "</div>"
      ],
      "text/plain": [
       "   Converted_IND  Prospect_IND  Converted_Prob\n",
       "0              1          4269        1.000000\n",
       "1              1          2376        0.998981\n",
       "2              1          7766        1.000000\n",
       "3              0          9199        0.173235\n",
       "4              1          4359        0.997251"
      ]
     },
     "execution_count": 147,
     "metadata": {},
     "output_type": "execute_result"
    }
   ],
   "source": [
    "y_pred_final.head()"
   ]
  },
  {
   "cell_type": "code",
   "execution_count": 148,
   "id": "bba39f33-41cb-47f2-a277-b4cf86c206e3",
   "metadata": {},
   "outputs": [
    {
     "data": {
      "text/html": [
       "<div>\n",
       "<style scoped>\n",
       "    .dataframe tbody tr th:only-of-type {\n",
       "        vertical-align: middle;\n",
       "    }\n",
       "\n",
       "    .dataframe tbody tr th {\n",
       "        vertical-align: top;\n",
       "    }\n",
       "\n",
       "    .dataframe thead th {\n",
       "        text-align: right;\n",
       "    }\n",
       "</style>\n",
       "<table border=\"1\" class=\"dataframe\">\n",
       "  <thead>\n",
       "    <tr style=\"text-align: right;\">\n",
       "      <th></th>\n",
       "      <th>Converted_IND</th>\n",
       "      <th>Prospect_IND</th>\n",
       "      <th>Converted_Prob</th>\n",
       "      <th>final_predicted</th>\n",
       "    </tr>\n",
       "  </thead>\n",
       "  <tbody>\n",
       "    <tr>\n",
       "      <th>0</th>\n",
       "      <td>1</td>\n",
       "      <td>4269</td>\n",
       "      <td>1.000000</td>\n",
       "      <td>1</td>\n",
       "    </tr>\n",
       "    <tr>\n",
       "      <th>1</th>\n",
       "      <td>1</td>\n",
       "      <td>2376</td>\n",
       "      <td>0.998981</td>\n",
       "      <td>1</td>\n",
       "    </tr>\n",
       "    <tr>\n",
       "      <th>2</th>\n",
       "      <td>1</td>\n",
       "      <td>7766</td>\n",
       "      <td>1.000000</td>\n",
       "      <td>1</td>\n",
       "    </tr>\n",
       "    <tr>\n",
       "      <th>3</th>\n",
       "      <td>0</td>\n",
       "      <td>9199</td>\n",
       "      <td>0.173235</td>\n",
       "      <td>0</td>\n",
       "    </tr>\n",
       "    <tr>\n",
       "      <th>4</th>\n",
       "      <td>1</td>\n",
       "      <td>4359</td>\n",
       "      <td>0.997251</td>\n",
       "      <td>1</td>\n",
       "    </tr>\n",
       "  </tbody>\n",
       "</table>\n",
       "</div>"
      ],
      "text/plain": [
       "   Converted_IND  Prospect_IND  Converted_Prob  final_predicted\n",
       "0              1          4269        1.000000                1\n",
       "1              1          2376        0.998981                1\n",
       "2              1          7766        1.000000                1\n",
       "3              0          9199        0.173235                0\n",
       "4              1          4359        0.997251                1"
      ]
     },
     "execution_count": 148,
     "metadata": {},
     "output_type": "execute_result"
    }
   ],
   "source": [
    "y_pred_final['final_predicted'] = y_pred_final.Converted_Prob.map(lambda x: 1 if x > 0.33 else 0)\n",
    "y_pred_final.head()"
   ]
  },
  {
   "cell_type": "code",
   "execution_count": 149,
   "id": "b2e7739c-4593-4f70-9e0c-048436936d93",
   "metadata": {},
   "outputs": [
    {
     "data": {
      "text/plain": [
       "0.4981962481962482"
      ]
     },
     "execution_count": 149,
     "metadata": {},
     "output_type": "execute_result"
    }
   ],
   "source": [
    "# Let's check the overall accuracy.\n",
    "accuracy_score(y_pred_final.Converted_IND, y_pred_final.final_predicted)"
   ]
  },
  {
   "cell_type": "code",
   "execution_count": 150,
   "id": "003a2d48-4fb9-4aac-aafd-a733f6baef94",
   "metadata": {},
   "outputs": [
    {
     "data": {
      "text/plain": [
       "array([[ 304, 1373],\n",
       "       [  18, 1077]], dtype=int64)"
      ]
     },
     "execution_count": 150,
     "metadata": {},
     "output_type": "execute_result"
    }
   ],
   "source": [
    "confusion_final = confusion_matrix(y_pred_final.Converted_IND, y_pred_final.final_predicted )\n",
    "confusion_final"
   ]
  },
  {
   "cell_type": "code",
   "execution_count": 151,
   "id": "bead54ef-c0b5-4c70-9eeb-7203dba8ee8e",
   "metadata": {},
   "outputs": [],
   "source": [
    "TP = confusion_final[1,1] # true positive \n",
    "TN = confusion_final[0,0] # true negatives\n",
    "FP = confusion_final[0,1] # false positives\n",
    "FN = confusion_final[1,0] # false negatives"
   ]
  },
  {
   "cell_type": "code",
   "execution_count": 152,
   "id": "f4a0f16f-9869-48d1-9845-8d9f90d59d5a",
   "metadata": {},
   "outputs": [
    {
     "data": {
      "text/plain": [
       "0.9835616438356164"
      ]
     },
     "execution_count": 152,
     "metadata": {},
     "output_type": "execute_result"
    }
   ],
   "source": [
    "# Let's see the sensitivity of our logistic regression model\n",
    "TP / float(TP+FN)"
   ]
  },
  {
   "cell_type": "code",
   "execution_count": 153,
   "id": "749d591a-aeb0-49d4-af76-33bfb8a04e36",
   "metadata": {},
   "outputs": [
    {
     "data": {
      "text/plain": [
       "0.18127608825283245"
      ]
     },
     "execution_count": 153,
     "metadata": {},
     "output_type": "execute_result"
    }
   ],
   "source": [
    "# Let us calculate specificity\n",
    "TN / float(TN+FP)"
   ]
  },
  {
   "cell_type": "code",
   "execution_count": 154,
   "id": "76cb2780-b95b-41c2-a3a6-54578e7df852",
   "metadata": {},
   "outputs": [
    {
     "data": {
      "text/plain": [
       "0.4395918367346939"
      ]
     },
     "execution_count": 154,
     "metadata": {},
     "output_type": "execute_result"
    }
   ],
   "source": [
    "precision_score(y_pred_final.Converted_IND, y_pred_final.final_predicted)"
   ]
  },
  {
   "cell_type": "code",
   "execution_count": 155,
   "id": "dfa8c898-4da3-4a86-9767-27f6fcfff6d5",
   "metadata": {},
   "outputs": [
    {
     "data": {
      "text/plain": [
       "0.9835616438356164"
      ]
     },
     "execution_count": 155,
     "metadata": {},
     "output_type": "execute_result"
    }
   ],
   "source": [
    "recall_score(y_pred_final.Converted_IND, y_pred_final.final_predicted)"
   ]
  },
  {
   "cell_type": "code",
   "execution_count": 156,
   "id": "c547697a-fcdc-4ba5-a997-8375fe0ba1b6",
   "metadata": {},
   "outputs": [],
   "source": [
    "fpr, tpr, thresholds = roc_curve(y_pred_final.Converted_IND, y_pred_final.Converted_Prob, drop_intermediate=False)"
   ]
  },
  {
   "cell_type": "code",
   "execution_count": 157,
   "id": "825b3826-2361-43d7-910f-330ffdfef850",
   "metadata": {},
   "outputs": [
    {
     "data": {
      "image/png": "[encoded data removed]",
      "text/plain": [
       "<Figure size 500x500 with 1 Axes>"
      ]
     },
     "metadata": {},
     "output_type": "display_data"
    }
   ],
   "source": [
    "# Invoking the functio to draw ROC curve\n",
    "draw_roc( y_pred_final.Converted_IND, y_pred_final.Converted_Prob)"
   ]
  },
  {
   "cell_type": "markdown",
   "id": "9fc8978a-0916-4521-9fe2-99b944a18ecd",
   "metadata": {},
   "source": [
    "## Lead Scoring"
   ]
  },
  {
   "cell_type": "code",
   "execution_count": 158,
   "id": "11b26a80-d784-4410-94bc-3584a7b308cd",
   "metadata": {},
   "outputs": [
    {
     "data": {
      "text/html": [
       "<div>\n",
       "<style scoped>\n",
       "    .dataframe tbody tr th:only-of-type {\n",
       "        vertical-align: middle;\n",
       "    }\n",
       "\n",
       "    .dataframe tbody tr th {\n",
       "        vertical-align: top;\n",
       "    }\n",
       "\n",
       "    .dataframe thead th {\n",
       "        text-align: right;\n",
       "    }\n",
       "</style>\n",
       "<table border=\"1\" class=\"dataframe\">\n",
       "  <thead>\n",
       "    <tr style=\"text-align: right;\">\n",
       "      <th></th>\n",
       "      <th>Converted_IND</th>\n",
       "      <th>Prospect_IND</th>\n",
       "      <th>Converted_Prob</th>\n",
       "      <th>final_predicted</th>\n",
       "      <th>lead_score</th>\n",
       "    </tr>\n",
       "  </thead>\n",
       "  <tbody>\n",
       "    <tr>\n",
       "      <th>0</th>\n",
       "      <td>1</td>\n",
       "      <td>4269</td>\n",
       "      <td>1.000000</td>\n",
       "      <td>1</td>\n",
       "      <td>100</td>\n",
       "    </tr>\n",
       "    <tr>\n",
       "      <th>1732</th>\n",
       "      <td>0</td>\n",
       "      <td>8003</td>\n",
       "      <td>1.000000</td>\n",
       "      <td>1</td>\n",
       "      <td>100</td>\n",
       "    </tr>\n",
       "    <tr>\n",
       "      <th>1711</th>\n",
       "      <td>0</td>\n",
       "      <td>5105</td>\n",
       "      <td>1.000000</td>\n",
       "      <td>1</td>\n",
       "      <td>100</td>\n",
       "    </tr>\n",
       "    <tr>\n",
       "      <th>1712</th>\n",
       "      <td>0</td>\n",
       "      <td>4576</td>\n",
       "      <td>1.000000</td>\n",
       "      <td>1</td>\n",
       "      <td>100</td>\n",
       "    </tr>\n",
       "    <tr>\n",
       "      <th>1713</th>\n",
       "      <td>0</td>\n",
       "      <td>7946</td>\n",
       "      <td>1.000000</td>\n",
       "      <td>1</td>\n",
       "      <td>100</td>\n",
       "    </tr>\n",
       "    <tr>\n",
       "      <th>...</th>\n",
       "      <td>...</td>\n",
       "      <td>...</td>\n",
       "      <td>...</td>\n",
       "      <td>...</td>\n",
       "      <td>...</td>\n",
       "    </tr>\n",
       "    <tr>\n",
       "      <th>1133</th>\n",
       "      <td>0</td>\n",
       "      <td>625</td>\n",
       "      <td>0.039703</td>\n",
       "      <td>0</td>\n",
       "      <td>3</td>\n",
       "    </tr>\n",
       "    <tr>\n",
       "      <th>986</th>\n",
       "      <td>0</td>\n",
       "      <td>1233</td>\n",
       "      <td>0.039703</td>\n",
       "      <td>0</td>\n",
       "      <td>3</td>\n",
       "    </tr>\n",
       "    <tr>\n",
       "      <th>2250</th>\n",
       "      <td>0</td>\n",
       "      <td>8256</td>\n",
       "      <td>0.039703</td>\n",
       "      <td>0</td>\n",
       "      <td>3</td>\n",
       "    </tr>\n",
       "    <tr>\n",
       "      <th>615</th>\n",
       "      <td>1</td>\n",
       "      <td>2160</td>\n",
       "      <td>0.039703</td>\n",
       "      <td>0</td>\n",
       "      <td>3</td>\n",
       "    </tr>\n",
       "    <tr>\n",
       "      <th>2665</th>\n",
       "      <td>0</td>\n",
       "      <td>2707</td>\n",
       "      <td>0.039703</td>\n",
       "      <td>0</td>\n",
       "      <td>3</td>\n",
       "    </tr>\n",
       "  </tbody>\n",
       "</table>\n",
       "<p>2772 rows × 5 columns</p>\n",
       "</div>"
      ],
      "text/plain": [
       "      Converted_IND  Prospect_IND  Converted_Prob  final_predicted  lead_score\n",
       "0                 1          4269        1.000000                1         100\n",
       "1732              0          8003        1.000000                1         100\n",
       "1711              0          5105        1.000000                1         100\n",
       "1712              0          4576        1.000000                1         100\n",
       "1713              0          7946        1.000000                1         100\n",
       "...             ...           ...             ...              ...         ...\n",
       "1133              0           625        0.039703                0           3\n",
       "986               0          1233        0.039703                0           3\n",
       "2250              0          8256        0.039703                0           3\n",
       "615               1          2160        0.039703                0           3\n",
       "2665              0          2707        0.039703                0           3\n",
       "\n",
       "[2772 rows x 5 columns]"
      ]
     },
     "execution_count": 158,
     "metadata": {},
     "output_type": "execute_result"
    }
   ],
   "source": [
    "y_pred_final['lead_score']=(y_pred_final['Converted_Prob']*100).astype(\"int64\")\n",
    "y_pred_final.sort_values(by='lead_score',ascending=False)"
   ]
  },
  {
   "cell_type": "markdown",
   "id": "e7fe48fc-d66b-42b0-8893-b1dfa9ae46e1",
   "metadata": {},
   "source": [
    "### Using Decision Trees"
   ]
  },
  {
   "cell_type": "code",
   "execution_count": 159,
   "id": "7b6b48c5-ed1e-45e2-8b34-5e822b1cd0a0",
   "metadata": {},
   "outputs": [],
   "source": [
    "X_train, X_test, y_train, y_test = train_test_split(X, y, train_size=0.7, test_size=0.3, random_state=100)"
   ]
  },
  {
   "cell_type": "code",
   "execution_count": 160,
   "id": "6443636a-7c06-4497-9e99-987d35145ea3",
   "metadata": {},
   "outputs": [
    {
     "data": {
      "text/plain": [
       "((6468, 55), (2772, 55))"
      ]
     },
     "execution_count": 160,
     "metadata": {},
     "output_type": "execute_result"
    }
   ],
   "source": [
    "X_train.shape, X_test.shape"
   ]
  },
  {
   "cell_type": "code",
   "execution_count": 161,
   "id": "4c82c727-b581-4b5b-a72a-ae2491821e8d",
   "metadata": {},
   "outputs": [],
   "source": [
    "from sklearn.tree import DecisionTreeClassifier"
   ]
  },
  {
   "cell_type": "code",
   "execution_count": 162,
   "id": "689facb8-e5e7-44c7-b831-6ca36a597a59",
   "metadata": {},
   "outputs": [],
   "source": [
    "dt_base = DecisionTreeClassifier(random_state=42, max_depth=4)"
   ]
  },
  {
   "cell_type": "code",
   "execution_count": 163,
   "id": "d07366bd-18b5-4cb6-b1d6-65f04793199a",
   "metadata": {},
   "outputs": [
    {
     "data": {
      "text/html": [
       "<style>#sk-container-id-1 {color: black;background-color: white;}#sk-container-id-1 pre{padding: 0;}#sk-container-id-1 div.sk-toggleable {background-color: white;}#sk-container-id-1 label.sk-toggleable__label {cursor: pointer;display: block;width: 100%;margin-bottom: 0;padding: 0.3em;box-sizing: border-box;text-align: center;}#sk-container-id-1 label.sk-toggleable__label-arrow:before {content: \"▸\";float: left;margin-right: 0.25em;color: #696969;}#sk-container-id-1 label.sk-toggleable__label-arrow:hover:before {color: black;}#sk-container-id-1 div.sk-estimator:hover label.sk-toggleable__label-arrow:before {color: black;}#sk-container-id-1 div.sk-toggleable__content {max-height: 0;max-width: 0;overflow: hidden;text-align: left;background-color: #f0f8ff;}#sk-container-id-1 div.sk-toggleable__content pre {margin: 0.2em;color: black;border-radius: 0.25em;background-color: #f0f8ff;}#sk-container-id-1 input.sk-toggleable__control:checked~div.sk-toggleable__content {max-height: 200px;max-width: 100%;overflow: auto;}#sk-container-id-1 input.sk-toggleable__control:checked~label.sk-toggleable__label-arrow:before {content: \"▾\";}#sk-container-id-1 div.sk-estimator input.sk-toggleable__control:checked~label.sk-toggleable__label {background-color: #d4ebff;}#sk-container-id-1 div.sk-label input.sk-toggleable__control:checked~label.sk-toggleable__label {background-color: #d4ebff;}#sk-container-id-1 input.sk-hidden--visually {border: 0;clip: rect(1px 1px 1px 1px);clip: rect(1px, 1px, 1px, 1px);height: 1px;margin: -1px;overflow: hidden;padding: 0;position: absolute;width: 1px;}#sk-container-id-1 div.sk-estimator {font-family: monospace;background-color: #f0f8ff;border: 1px dotted black;border-radius: 0.25em;box-sizing: border-box;margin-bottom: 0.5em;}#sk-container-id-1 div.sk-estimator:hover {background-color: #d4ebff;}#sk-container-id-1 div.sk-parallel-item::after {content: \"\";width: 100%;border-bottom: 1px solid gray;flex-grow: 1;}#sk-container-id-1 div.sk-label:hover label.sk-toggleable__label {background-color: #d4ebff;}#sk-container-id-1 div.sk-serial::before {content: \"\";position: absolute;border-left: 1px solid gray;box-sizing: border-box;top: 0;bottom: 0;left: 50%;z-index: 0;}#sk-container-id-1 div.sk-serial {display: flex;flex-direction: column;align-items: center;background-color: white;padding-right: 0.2em;padding-left: 0.2em;position: relative;}#sk-container-id-1 div.sk-item {position: relative;z-index: 1;}#sk-container-id-1 div.sk-parallel {display: flex;align-items: stretch;justify-content: center;background-color: white;position: relative;}#sk-container-id-1 div.sk-item::before, #sk-container-id-1 div.sk-parallel-item::before {content: \"\";position: absolute;border-left: 1px solid gray;box-sizing: border-box;top: 0;bottom: 0;left: 50%;z-index: -1;}#sk-container-id-1 div.sk-parallel-item {display: flex;flex-direction: column;z-index: 1;position: relative;background-color: white;}#sk-container-id-1 div.sk-parallel-item:first-child::after {align-self: flex-end;width: 50%;}#sk-container-id-1 div.sk-parallel-item:last-child::after {align-self: flex-start;width: 50%;}#sk-container-id-1 div.sk-parallel-item:only-child::after {width: 0;}#sk-container-id-1 div.sk-dashed-wrapped {border: 1px dashed gray;margin: 0 0.4em 0.5em 0.4em;box-sizing: border-box;padding-bottom: 0.4em;background-color: white;}#sk-container-id-1 div.sk-label label {font-family: monospace;font-weight: bold;display: inline-block;line-height: 1.2em;}#sk-container-id-1 div.sk-label-container {text-align: center;}#sk-container-id-1 div.sk-container {/* jupyter's `normalize.less` sets `[hidden] { display: none; }` but bootstrap.min.css set `[hidden] { display: none !important; }` so we also need the `!important` here to be able to override the default hidden behavior on the sphinx rendered scikit-learn.org. See: https://github.com/scikit-learn/scikit-learn/issues/21755 */display: inline-block !important;position: relative;}#sk-container-id-1 div.sk-text-repr-fallback {display: none;}</style><div id=\"sk-container-id-1\" class=\"sk-top-container\"><div class=\"sk-text-repr-fallback\"><pre>DecisionTreeClassifier(max_depth=4, random_state=42)</pre><b>In a Jupyter environment, please rerun this cell to show the HTML representation or trust the notebook. <br />On GitHub, the HTML representation is unable to render, please try loading this page with nbviewer.org.</b></div><div class=\"sk-container\" hidden><div class=\"sk-item\"><div class=\"sk-estimator sk-toggleable\"><input class=\"sk-toggleable__control sk-hidden--visually\" id=\"sk-estimator-id-1\" type=\"checkbox\" checked><label for=\"sk-estimator-id-1\" class=\"sk-toggleable__label sk-toggleable__label-arrow\">DecisionTreeClassifier</label><div class=\"sk-toggleable__content\"><pre>DecisionTreeClassifier(max_depth=4, random_state=42)</pre></div></div></div></div></div>"
      ],
      "text/plain": [
       "DecisionTreeClassifier(max_depth=4, random_state=42)"
      ]
     },
     "execution_count": 163,
     "metadata": {},
     "output_type": "execute_result"
    }
   ],
   "source": [
    "dt_base.fit(X_train, y_train)"
   ]
  },
  {
   "cell_type": "code",
   "execution_count": 164,
   "id": "6d451035-9a4d-497d-9b45-579737338a61",
   "metadata": {},
   "outputs": [],
   "source": [
    "y_train_pred = dt_base.predict(X_train)\n",
    "y_test_pred = dt_base.predict(X_test)"
   ]
  },
  {
   "cell_type": "code",
   "execution_count": 165,
   "id": "7aa28252-0748-42e8-be43-e6b363c9920b",
   "metadata": {},
   "outputs": [],
   "source": [
    "from sklearn.metrics import classification_report"
   ]
  },
  {
   "cell_type": "code",
   "execution_count": 166,
   "id": "4c70b3e4-a0c2-478b-beba-530183beb4ea",
   "metadata": {},
   "outputs": [
    {
     "name": "stdout",
     "output_type": "stream",
     "text": [
      "              precision    recall  f1-score   support\n",
      "\n",
      "           0       0.91      0.88      0.90      1677\n",
      "           1       0.83      0.86      0.84      1095\n",
      "\n",
      "    accuracy                           0.88      2772\n",
      "   macro avg       0.87      0.87      0.87      2772\n",
      "weighted avg       0.88      0.88      0.88      2772\n",
      "\n"
     ]
    }
   ],
   "source": [
    "print(classification_report(y_test, y_test_pred))"
   ]
  },
  {
   "cell_type": "code",
   "execution_count": 167,
   "id": "97bbe211-dd4b-4da9-9bda-5e4af5015744",
   "metadata": {},
   "outputs": [],
   "source": [
    "from sklearn.metrics import RocCurveDisplay"
   ]
  },
  {
   "cell_type": "code",
   "execution_count": 168,
   "id": "1cbabb1b-5b41-4f22-b688-8a2d46feebe6",
   "metadata": {},
   "outputs": [
    {
     "data": {
      "image/png": "[encoded data removed]",
      "text/plain": [
       "<Figure size 640x480 with 1 Axes>"
      ]
     },
     "metadata": {},
     "output_type": "display_data"
    }
   ],
   "source": [
    "RocCurveDisplay.from_estimator(dt_base, X_train, y_train)\n",
    "plt.show()"
   ]
  },
  {
   "cell_type": "markdown",
   "id": "f32ecaa5-96e6-4326-9b9c-d5b1da47da5c",
   "metadata": {},
   "source": [
    "After running the model on the Test Data these are the figures we obtain: <br>\n",
    "Accuracy = 81.10% <br>\n",
    "Sensitivity = 77.08% <br>\n",
    "Specificity = 83.54% <br>\n",
    "Final Observation <br>\n",
    "Train Set: <br>\n",
    "Accuracy = 81.03% <br>\n",
    "Sensitivity = 77.17% <br>\n",
    "Specificity = 83.49% <br>\n",
    "Test Set: <br>\n",
    "Accuracy = 81.02% <br>\n",
    "Sensitivity = 76.31% <br>\n",
    "Specificity = 83.88% <br>"
   ]
  },
  {
   "cell_type": "code",
   "execution_count": null,
   "id": "650d105b-e39b-4780-85e8-01b8f6a7fe20",
   "metadata": {},
   "outputs": [],
   "source": []
  }
 ],
 "metadata": {
  "kernelspec": {
   "display_name": "Python 3 (ipykernel)",
   "language": "python",
   "name": "python3"
  },
  "language_info": {
   "codemirror_mode": {
    "name": "ipython",
    "version": 3
   },
   "file_extension": ".py",
   "mimetype": "text/x-python",
   "name": "python",
   "nbconvert_exporter": "python",
   "pygments_lexer": "ipython3",
   "version": "3.11.7"
  }
 },
 "nbformat": 4,
 "nbformat_minor": 5
}
